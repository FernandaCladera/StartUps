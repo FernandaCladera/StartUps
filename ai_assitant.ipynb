{
 "cells": [
  {
   "cell_type": "markdown",
   "id": "240dc948",
   "metadata": {},
   "source": [
    "# **AI Research Assistant**"
   ]
  },
  {
   "cell_type": "markdown",
   "id": "5828b425",
   "metadata": {},
   "source": [
    "AI assitant that discovers, filters, and analyzes web content using Crawö4AI's URL Seeder to:\n",
    "\n",
    "* Discover all available URLs without crawling them first.\n",
    "* Score and rank them by relevance using AI\n",
    "* Crawl only the most relevant content\n",
    "* Generate research insights with proper citations.\n",
    "\n",
    "**About the research assistant** :\n",
    "\n",
    "A smart research assistant that:\n",
    "\n",
    "1. Takes any research query (eg. Knowledge graphs)\n",
    "2. Discovers relevant articles from news sites\n",
    "3. Ranks them by relevance using BM25 scoring\n",
    "4. Crawls only the top-ranked articles\n",
    "5. Synthesizes findings into a comprehensive report\n",
    "   \n",
    "\n",
    "## Pipeline Overview\n",
    "\n",
    "User Query -> Query Enhancement -> URL Discovery -> Relevance Scoring -> Smart Crawling -> AI Synthesis. -> Research Report"
   ]
  },
  {
   "cell_type": "code",
   "execution_count": 1,
   "id": "c1a10af8",
   "metadata": {},
   "outputs": [
    {
     "name": "stdout",
     "output_type": "stream",
     "text": [
      "Environment ready :) All dependencies loaded successfully.\n"
     ]
    }
   ],
   "source": [
    "import asyncio\n",
    "import json\n",
    "import os\n",
    "from typing import List, Dict, Optional, Tuple\n",
    "from dataclasses import dataclass, asdict\n",
    "from datetime import datetime\n",
    "from pathlib import Path\n",
    "\n",
    "#Rich for beutiful console output\n",
    "from rich.console import Console\n",
    "from rich.panel import Panel\n",
    "from rich.table import Table\n",
    "from rich.progress import Progress, SpinnerColumn, TextColumn\n",
    "\n",
    "# Crawl4AI imports for intelligent crawling\n",
    "from crawl4ai import (\n",
    "    AsyncWebCrawler,\n",
    "    BrowserConfig,\n",
    "    CrawlerRunConfig,\n",
    "    AsyncUrlSeeder,\n",
    "    SeedingConfig,\n",
    "    AsyncLogger,\n",
    "    PruningContentFilter,\n",
    "    DefaultMarkdownGenerator\n",
    ")\n",
    "\n",
    "\n",
    "# LiteLLM for AI capabilities\n",
    "import litellm\n",
    "\n",
    "# Initialize Rich console for pretty outputs\n",
    "console=Console()\n",
    "\n",
    "print(\"Environment ready :) All dependencies loaded successfully.\")"
   ]
  },
  {
   "cell_type": "markdown",
   "id": "2d94a5dc",
   "metadata": {},
   "source": [
    "## Step 1: Configuration and Data Classes\n",
    "\n",
    "Here we define the research pipeline configuration. These dataclasses act as out control center, allowing us to fine-tune every aspect of the research process. Think of them as the settings panel for the research assistant, from discovery limits to AI model choices.\n"
   ]
  },
  {
   "cell_type": "code",
   "execution_count": 2,
   "id": "842fd207",
   "metadata": {},
   "outputs": [
    {
     "data": {
      "text/html": [
       "<pre style=\"white-space:pre;overflow-x:auto;line-height:normal;font-family:Menlo,'DejaVu Sans Mono',consolas,'Courier New',monospace\">╭─────────────────────────────────────────────────── Settings ────────────────────────────────────────────────────╮\n",
       "│ <span style=\"color: #008080; text-decoration-color: #008080; font-weight: bold\">Research Configuration</span>                                                                                          │\n",
       "│  Domain: www.bbc.com/sport                                                                                      │\n",
       "│  Max Discovery: 100                                                                                             │\n",
       "│  Max Crawl: 10                                                                                                  │\n",
       "│  AI Model: openai/gpt-4o-mini                                                                                   │\n",
       "╰─────────────────────────────────────────────────────────────────────────────────────────────────────────────────╯\n",
       "</pre>\n"
      ],
      "text/plain": [
       "╭─────────────────────────────────────────────────── Settings ────────────────────────────────────────────────────╮\n",
       "│ \u001b[1;36mResearch Configuration\u001b[0m                                                                                          │\n",
       "│  Domain: www.bbc.com/sport                                                                                      │\n",
       "│  Max Discovery: 100                                                                                             │\n",
       "│  Max Crawl: 10                                                                                                  │\n",
       "│  AI Model: openai/gpt-4o-mini                                                                                   │\n",
       "╰─────────────────────────────────────────────────────────────────────────────────────────────────────────────────╯\n"
      ]
     },
     "metadata": {},
     "output_type": "display_data"
    }
   ],
   "source": [
    "@dataclass\n",
    "class ResearchConfig:\n",
    "        \"\"\"\n",
    "        Configuration for the research pipeline\n",
    "        \n",
    "        This class controls every aspect of our research assistant:\n",
    "        - How many URLs to discover and crawl\n",
    "        - Which scoring methods to use\n",
    "        - Whether to use AI enhancement\n",
    "        - Output preferences\n",
    "        \"\"\"\n",
    "        \n",
    "        # Core Settings\n",
    "        domain: str= \"www.bbc.com/sport\"\n",
    "        max_urls_discovery: int =100    # Cast a wide net initially\n",
    "        max_urls_to_crawl: int=10       # But only crawl the best\n",
    "        top_k_urls: int=10              # Focus on top results\n",
    "        \n",
    "        # Scoring and filtering\n",
    "        score_threshold: float=0.3      # Minimum relevance score\n",
    "        scoring_method: str=\"bm25\"      # BM25 is great for relevance\n",
    "        \n",
    "        # AI and processing\n",
    "        use_llm_enhancement: bool=True  # Enhance queries with AI\n",
    "        llm_model: str=\"openai/gpt-4o-mini\" # Fast and capable\n",
    "        \n",
    "        # URL discovery options\n",
    "        extract_head_metada: bool = False   # Get titles, descriptions\n",
    "        live_check: bool= True              # Verify URLs are accessible\n",
    "        force_refresh: bool= True           # Bypass cache\n",
    "        \n",
    "        # Crawler settings\n",
    "        max_concurrent_crawls: int=5        # Parallel crawling\n",
    "        timeout: int = 30000                # 30 second timeout\n",
    "        headless: bool = True               # No browser window\n",
    "        \n",
    "        # Output settings\n",
    "        output_dir: Path = Path(\"research_results\")\n",
    "        verbose: bool=True\n",
    "\n",
    "@dataclass\n",
    "class ResearchQuery:\n",
    "    \"\"\"Container for research query and metadata \"\"\"\n",
    "    original_query: str\n",
    "    enhanced_query: Optional[str] = None\n",
    "    search_patterns: List[str] = None\n",
    "    timestamp: str = None\n",
    "    \n",
    "@dataclass\n",
    "class ResearchResult:\n",
    "    \"\"\"Container for research results\"\"\"\n",
    "    query: ResearchQuery\n",
    "    discovered_urls: List[Dict]\n",
    "    crawled_content: List[Dict]\n",
    "    synthesis: str\n",
    "    citations: List[Dict]\n",
    "    metadata: Dict\n",
    "\n",
    "# Create default configuration\n",
    "config= ResearchConfig()\n",
    "console.print(Panel(\n",
    "    f\"[bold cyan]Research Configuration[/bold cyan]\\n\"\n",
    "    f\" Domain: {config.domain}\\n\"\n",
    "    f\" Max Discovery: {config.max_urls_discovery}\\n\"\n",
    "    f\" Max Crawl: {config.max_urls_to_crawl}\\n\"\n",
    "    f\" AI Model: {config.llm_model}\",\n",
    "    title=\"Settings\"\n",
    "))\n",
    "\n",
    "    "
   ]
  },
  {
   "cell_type": "markdown",
   "id": "4e7733a6",
   "metadata": {},
   "source": [
    "## Step 2: Query Enhancement with AI\n",
    "\n",
    "Not all search queries are created equal. Here we use AI to transform simple queries into comprehensive search strategies. The LLM analyzes your query, extracts key concepts, and generates related terms - turning \"football news\" into a rich set of search patters."
   ]
  },
  {
   "cell_type": "code",
   "execution_count": 3,
   "id": "cf9c180d",
   "metadata": {},
   "outputs": [],
   "source": [
    "import os\n",
    "from dotenv import load_dotenv\n",
    "\n",
    "load_dotenv()\n",
    "\n",
    "os.environ['OPENAI_API_KEY'] = os.getenv(\"OPENAI_API_KEY\")"
   ]
  },
  {
   "cell_type": "code",
   "execution_count": 4,
   "id": "63c8f3ec",
   "metadata": {},
   "outputs": [
    {
     "data": {
      "text/html": [
       "<pre style=\"white-space:pre;overflow-x:auto;line-height:normal;font-family:Menlo,'DejaVu Sans Mono',consolas,'Courier New',monospace\">\n",
       "<span style=\"color: #008080; text-decoration-color: #008080\"> Enhancing query: 'knowledge graphs news...</span>\n",
       "</pre>\n"
      ],
      "text/plain": [
       "\n",
       "\u001b[36m Enhancing query: 'knowledge graphs news\u001b[0m\u001b[36m...\u001b[0m\n"
      ]
     },
     "metadata": {},
     "output_type": "display_data"
    },
    {
     "data": {
      "text/html": [
       "<pre style=\"white-space:pre;overflow-x:auto;line-height:normal;font-family:Menlo,'DejaVu Sans Mono',consolas,'Courier New',monospace\">╭─────────────────────────────────────────────── Query Enhancement ───────────────────────────────────────────────╮\n",
       "│ <span style=\"color: #008000; text-decoration-color: #008000\"> Enhanced Query:</span> latest advancements and applications of knowledge graphs in news and media                     │\n",
       "│ <span style=\"color: #7f7f7f; text-decoration-color: #7f7f7f\"> Key terms: knowledge graphs, semantic web, data integration, ontology, graph databases, machine learning, </span>     │\n",
       "│ <span style=\"color: #7f7f7f; text-decoration-color: #7f7f7f\">natural language processing</span>                                                                                     │\n",
       "╰─────────────────────────────────────────────────────────────────────────────────────────────────────────────────╯\n",
       "</pre>\n"
      ],
      "text/plain": [
       "╭─────────────────────────────────────────────── Query Enhancement ───────────────────────────────────────────────╮\n",
       "│ \u001b[32m Enhanced Query:\u001b[0m latest advancements and applications of knowledge graphs in news and media                     │\n",
       "│ \u001b[2m Key terms: knowledge graphs, semantic web, data integration, ontology, graph databases, machine learning, \u001b[0m     │\n",
       "│ \u001b[2mnatural language processing\u001b[0m                                                                                     │\n",
       "╰─────────────────────────────────────────────────────────────────────────────────────────────────────────────────╯\n"
      ]
     },
     "metadata": {},
     "output_type": "display_data"
    }
   ],
   "source": [
    "async def enhance_query_with_llm(query: str,config:ResearchConfig) -> ResearchQuery:\n",
    "    \"\"\"\n",
    "    Transform simple queries into comprehensive search strategies\n",
    "    Why enhance queries?\n",
    "    - User often use simple terms (\"football news\")\n",
    "    - But relevant content might use varied terminology\n",
    "    - AI helps capture all relevant variations    \n",
    "    \"\"\"\n",
    "    \n",
    "    console.print(f\"\\n[cyan] Enhancing query: '{query}...[/cyan]\")\n",
    "    try:\n",
    "        # Ask AI to analyze and expand the query\n",
    "        response = await litellm.acompletion(\n",
    "            model=config.llm_model,\n",
    "            messages=[{\n",
    "                \"role\":\"user\",\n",
    "                \"content\":f\"\"\"Given this research query: \"{query}\"\n",
    "                Extract:\n",
    "                1. Key terms and concepts (as a list)\n",
    "                2. Related search terms\n",
    "                3. A more specific/enhanced version of the query\n",
    "                \n",
    "                Return as JSON:\n",
    "                {{\n",
    "                    \"key_terms\":[\"term1\",\"term2\"],\n",
    "                    \"related_terms\": [\"related1\",\"related2\"],\n",
    "                    \"enhanced_query\": \"enhanced version of query\"\n",
    "                }}\n",
    "                \n",
    "               \"\"\"\n",
    "            }],\n",
    "            temperature=0.3, #Low termperature for consistency\n",
    "            response_format={\"type\":\"json_object\"}\n",
    "        )\n",
    "        \n",
    "        data=json.loads(response.choices[0].message.content)\n",
    "        \n",
    "        # Create search patterns from extracted terms\n",
    "        # These patterns help the URL seeder find relevant pages\n",
    "        \n",
    "        all_terms= data[\"key_terms\"] + data [\"related_terms\"]\n",
    "        #patterns = [f\"*{term.lower()}*\" for term in all_terms]\n",
    "        \n",
    "        result = ResearchQuery(\n",
    "            original_query=query,\n",
    "            enhanced_query=data[\"enhanced_query\"],\n",
    "            search_patterns= \"\", #patterns[:10], #Limit to 10 patterns\n",
    "            timestamp=datetime.now().isoformat()\n",
    "        )\n",
    "        \n",
    "        # Show the enhancement\n",
    "        console.print(Panel(\n",
    "            f\"[green] Enhanced Query:[/green] {result.enhanced_query}\\n\"\n",
    "            f\"[dim] Key terms: {', '.join(data['key_terms'])}[/dim]\",\n",
    "            title = \"Query Enhancement\"\n",
    "        ))\n",
    "    \n",
    "        return result\n",
    "\n",
    "    except Exception as e:\n",
    "        console.print(f\"[yellow] Enhancement failed, using original query: {e}[/yellow]\")\n",
    "        #Fallback to simple tokenization\n",
    "        words= query.lower().split()\n",
    "        patterns =[f\"*{word}*\" for word in words if len(word)>2]\n",
    "        \n",
    "        return ResearchQuery(\n",
    "            original_query=query,\n",
    "            enhanced_query=query,\n",
    "            search_patterns=patterns,\n",
    "            timestamp=datetime.now().isoformat()\n",
    "        )\n",
    "        \n",
    "# Example usage\n",
    "test_query= \"knowledge graphs news\"\n",
    "enhanced = await enhance_query_with_llm(test_query,config)"
   ]
  },
  {
   "cell_type": "markdown",
   "id": "6cdb71c0",
   "metadata": {},
   "source": [
    "### Step 3: Smart URL Discovery with AsyncUrlSeeder\n",
    "\n",
    "This is where the magic begins! Instead of crawling pages to find links, AsyncUrlSeeder discovers URLs from sitemaps and Common Crawl data. It's like having a map of the entire website before you start exploring. We'll discover hundreds of URLs in seconds, complete with metadata."
   ]
  },
  {
   "cell_type": "code",
   "execution_count": 11,
   "id": "6a7a0a5c",
   "metadata": {},
   "outputs": [
    {
     "data": {
      "text/html": [
       "<pre style=\"white-space:pre;overflow-x:auto;line-height:normal;font-family:Menlo,'DejaVu Sans Mono',consolas,'Courier New',monospace\">\n",
       "<span style=\"color: #008080; text-decoration-color: #008080\"> Discovering URLs from www.bbc.com/sport...</span>\n",
       "</pre>\n"
      ],
      "text/plain": [
       "\n",
       "\u001b[36m Discovering URLs from www.bbc.com/sport\u001b[0m\u001b[36m...\u001b[0m\n"
      ]
     },
     "metadata": {},
     "output_type": "display_data"
    },
    {
     "data": {
      "text/html": [
       "<pre style=\"white-space:pre;overflow-x:auto;line-height:normal;font-family:Menlo,'DejaVu Sans Mono',consolas,'Courier New',monospace\"><span style=\"color: #008080; text-decoration-color: #008080; font-weight: bold\">[</span><span style=\"color: #008080; text-decoration-color: #008080\">URL_SEED</span><span style=\"color: #008080; text-decoration-color: #008080; font-weight: bold\">]</span><span style=\"color: #008080; text-decoration-color: #008080\"> ℹ Loading latest CC index from cache: </span>\n",
       "<span style=\"color: #008080; text-decoration-color: #008080\">/Users/fernandacladeramelgar/.crawl4ai/seeder_cache/latest_cc_index.txt </span>\n",
       "</pre>\n"
      ],
      "text/plain": [
       "\u001b[1;36m[\u001b[0m\u001b[36mURL_SEED\u001b[0m\u001b[1;36m]\u001b[0m\u001b[36m ℹ Loading latest CC index from cache: \u001b[0m\n",
       "\u001b[36m/Users/fernandacladeramelgar/.crawl4ai/seeder_cache/\u001b[0m\u001b[36mlatest_cc_index.txt\u001b[0m\u001b[36m \u001b[0m\n"
      ]
     },
     "metadata": {},
     "output_type": "display_data"
    },
    {
     "data": {
      "text/html": [
       "<pre style=\"white-space:pre;overflow-x:auto;line-height:normal;font-family:Menlo,'DejaVu Sans Mono',consolas,'Courier New',monospace\"><span style=\"color: #008080; text-decoration-color: #008080; font-weight: bold\">[</span><span style=\"color: #008080; text-decoration-color: #008080\">URL_SEED</span><span style=\"color: #008080; text-decoration-color: #008080; font-weight: bold\">]</span><span style=\"color: #008080; text-decoration-color: #008080\"> ℹ Starting URL seeding for www.bbc.com/sport with </span><span style=\"color: #008080; text-decoration-color: #008080\">source</span><span style=\"color: #008080; text-decoration-color: #008080\">=</span><span style=\"color: #008080; text-decoration-color: #008080\">sitemap</span><span style=\"color: #008080; text-decoration-color: #008080\"> </span>\n",
       "</pre>\n"
      ],
      "text/plain": [
       "\u001b[1;36m[\u001b[0m\u001b[36mURL_SEED\u001b[0m\u001b[1;36m]\u001b[0m\u001b[36m ℹ Starting URL seeding for www.bbc.com/sport with \u001b[0m\u001b[36msource\u001b[0m\u001b[36m=\u001b[0m\u001b[36msitemap\u001b[0m\u001b[36m \u001b[0m\n"
      ]
     },
     "metadata": {},
     "output_type": "display_data"
    },
    {
     "data": {
      "text/html": [
       "<pre style=\"white-space:pre;overflow-x:auto;line-height:normal;font-family:Menlo,'DejaVu Sans Mono',consolas,'Courier New',monospace\"><span style=\"color: #808080; text-decoration-color: #808080; font-weight: bold\">[</span><span style=\"color: #808080; text-decoration-color: #808080\">URL_SEED</span><span style=\"color: #808080; text-decoration-color: #808080; font-weight: bold\">]</span><span style=\"color: #808080; text-decoration-color: #808080\"> ℹ Fetching from sitemaps... </span>\n",
       "</pre>\n"
      ],
      "text/plain": [
       "\u001b[1;90m[\u001b[0m\u001b[90mURL_SEED\u001b[0m\u001b[1;90m]\u001b[0m\u001b[90m ℹ Fetching from sitemaps\u001b[0m\u001b[90m...\u001b[0m\u001b[90m \u001b[0m\n"
      ]
     },
     "metadata": {},
     "output_type": "display_data"
    },
    {
     "data": {
      "text/html": [
       "<pre style=\"white-space:pre;overflow-x:auto;line-height:normal;font-family:Menlo,'DejaVu Sans Mono',consolas,'Courier New',monospace\"><span style=\"color: #008080; text-decoration-color: #008080; font-weight: bold\">[</span><span style=\"color: #008080; text-decoration-color: #008080\">URL_SEED</span><span style=\"color: #008080; text-decoration-color: #008080; font-weight: bold\">]</span><span style=\"color: #008080; text-decoration-color: #008080\"> ℹ Found sitemap at </span><span style=\"color: #008080; text-decoration-color: #008080; text-decoration: underline\">https://www.bbc.com/sport/sitemap.xml</span><span style=\"color: #008080; text-decoration-color: #008080\"> </span>\n",
       "</pre>\n"
      ],
      "text/plain": [
       "\u001b[1;36m[\u001b[0m\u001b[36mURL_SEED\u001b[0m\u001b[1;36m]\u001b[0m\u001b[36m ℹ Found sitemap at \u001b[0m\u001b[4;36mhttps://www.bbc.com/sport/sitemap.xml\u001b[0m\u001b[36m \u001b[0m\n"
      ]
     },
     "metadata": {},
     "output_type": "display_data"
    },
    {
     "data": {
      "text/html": [
       "<pre style=\"white-space:pre;overflow-x:auto;line-height:normal;font-family:Menlo,'DejaVu Sans Mono',consolas,'Courier New',monospace\"><span style=\"color: #808080; text-decoration-color: #808080; font-weight: bold\">[</span><span style=\"color: #808080; text-decoration-color: #808080\">URL_SEED</span><span style=\"color: #808080; text-decoration-color: #808080; font-weight: bold\">]</span><span style=\"color: #808080; text-decoration-color: #808080\"> ℹ Performing live check for </span><span style=\"color: #808080; text-decoration-color: #808080; text-decoration: underline\">https://www.bbc.com/sport</span><span style=\"color: #808080; text-decoration-color: #808080\"> </span>\n",
       "</pre>\n"
      ],
      "text/plain": [
       "\u001b[1;90m[\u001b[0m\u001b[90mURL_SEED\u001b[0m\u001b[1;90m]\u001b[0m\u001b[90m ℹ Performing live check for \u001b[0m\u001b[4;90mhttps://www.bbc.com/sport\u001b[0m\u001b[90m \u001b[0m\n"
      ]
     },
     "metadata": {},
     "output_type": "display_data"
    },
    {
     "data": {
      "text/html": [
       "<pre style=\"white-space:pre;overflow-x:auto;line-height:normal;font-family:Menlo,'DejaVu Sans Mono',consolas,'Courier New',monospace\"><span style=\"color: #808080; text-decoration-color: #808080; font-weight: bold\">[</span><span style=\"color: #808080; text-decoration-color: #808080\">URL_SEED</span><span style=\"color: #808080; text-decoration-color: #808080; font-weight: bold\">]</span><span style=\"color: #808080; text-decoration-color: #808080\"> ℹ Performing live check for </span><span style=\"color: #808080; text-decoration-color: #808080; text-decoration: underline\">https://www.bbc.com/sport/football</span><span style=\"color: #808080; text-decoration-color: #808080\"> </span>\n",
       "</pre>\n"
      ],
      "text/plain": [
       "\u001b[1;90m[\u001b[0m\u001b[90mURL_SEED\u001b[0m\u001b[1;90m]\u001b[0m\u001b[90m ℹ Performing live check for \u001b[0m\u001b[4;90mhttps://www.bbc.com/sport/football\u001b[0m\u001b[90m \u001b[0m\n"
      ]
     },
     "metadata": {},
     "output_type": "display_data"
    },
    {
     "data": {
      "text/html": [
       "<pre style=\"white-space:pre;overflow-x:auto;line-height:normal;font-family:Menlo,'DejaVu Sans Mono',consolas,'Courier New',monospace\"><span style=\"color: #808080; text-decoration-color: #808080; font-weight: bold\">[</span><span style=\"color: #808080; text-decoration-color: #808080\">URL_SEED</span><span style=\"color: #808080; text-decoration-color: #808080; font-weight: bold\">]</span><span style=\"color: #808080; text-decoration-color: #808080\"> ℹ Performing live check for </span><span style=\"color: #808080; text-decoration-color: #808080; text-decoration: underline\">https://www.bbc.com/sport/cricket</span><span style=\"color: #808080; text-decoration-color: #808080\"> </span>\n",
       "</pre>\n"
      ],
      "text/plain": [
       "\u001b[1;90m[\u001b[0m\u001b[90mURL_SEED\u001b[0m\u001b[1;90m]\u001b[0m\u001b[90m ℹ Performing live check for \u001b[0m\u001b[4;90mhttps://www.bbc.com/sport/cricket\u001b[0m\u001b[90m \u001b[0m\n"
      ]
     },
     "metadata": {},
     "output_type": "display_data"
    },
    {
     "data": {
      "text/html": [
       "<pre style=\"white-space:pre;overflow-x:auto;line-height:normal;font-family:Menlo,'DejaVu Sans Mono',consolas,'Courier New',monospace\"><span style=\"color: #808080; text-decoration-color: #808080; font-weight: bold\">[</span><span style=\"color: #808080; text-decoration-color: #808080\">URL_SEED</span><span style=\"color: #808080; text-decoration-color: #808080; font-weight: bold\">]</span><span style=\"color: #808080; text-decoration-color: #808080\"> ℹ Performing live check for </span><span style=\"color: #808080; text-decoration-color: #808080; text-decoration: underline\">https://www.bbc.com/sport/formula1</span><span style=\"color: #808080; text-decoration-color: #808080\"> </span>\n",
       "</pre>\n"
      ],
      "text/plain": [
       "\u001b[1;90m[\u001b[0m\u001b[90mURL_SEED\u001b[0m\u001b[1;90m]\u001b[0m\u001b[90m ℹ Performing live check for \u001b[0m\u001b[4;90mhttps://www.bbc.com/sport/formula1\u001b[0m\u001b[90m \u001b[0m\n"
      ]
     },
     "metadata": {},
     "output_type": "display_data"
    },
    {
     "data": {
      "text/html": [
       "<pre style=\"white-space:pre;overflow-x:auto;line-height:normal;font-family:Menlo,'DejaVu Sans Mono',consolas,'Courier New',monospace\"><span style=\"color: #808080; text-decoration-color: #808080; font-weight: bold\">[</span><span style=\"color: #808080; text-decoration-color: #808080\">URL_SEED</span><span style=\"color: #808080; text-decoration-color: #808080; font-weight: bold\">]</span><span style=\"color: #808080; text-decoration-color: #808080\"> ℹ Performing live check for </span><span style=\"color: #808080; text-decoration-color: #808080; text-decoration: underline\">https://www.bbc.com/sport/rugby-union</span><span style=\"color: #808080; text-decoration-color: #808080\"> </span>\n",
       "</pre>\n"
      ],
      "text/plain": [
       "\u001b[1;90m[\u001b[0m\u001b[90mURL_SEED\u001b[0m\u001b[1;90m]\u001b[0m\u001b[90m ℹ Performing live check for \u001b[0m\u001b[4;90mhttps://www.bbc.com/sport/rugby-union\u001b[0m\u001b[90m \u001b[0m\n"
      ]
     },
     "metadata": {},
     "output_type": "display_data"
    },
    {
     "data": {
      "text/html": [
       "<pre style=\"white-space:pre;overflow-x:auto;line-height:normal;font-family:Menlo,'DejaVu Sans Mono',consolas,'Courier New',monospace\"><span style=\"color: #808080; text-decoration-color: #808080; font-weight: bold\">[</span><span style=\"color: #808080; text-decoration-color: #808080\">URL_SEED</span><span style=\"color: #808080; text-decoration-color: #808080; font-weight: bold\">]</span><span style=\"color: #808080; text-decoration-color: #808080\"> ℹ Producer finished. </span>\n",
       "</pre>\n"
      ],
      "text/plain": [
       "\u001b[1;90m[\u001b[0m\u001b[90mURL_SEED\u001b[0m\u001b[1;90m]\u001b[0m\u001b[90m ℹ Producer finished. \u001b[0m\n"
      ]
     },
     "metadata": {},
     "output_type": "display_data"
    },
    {
     "data": {
      "text/html": [
       "<pre style=\"white-space:pre;overflow-x:auto;line-height:normal;font-family:Menlo,'DejaVu Sans Mono',consolas,'Courier New',monospace\"><span style=\"color: #008080; text-decoration-color: #008080; font-weight: bold\">[</span><span style=\"color: #008080; text-decoration-color: #008080\">URL_SEED</span><span style=\"color: #008080; text-decoration-color: #008080; font-weight: bold\">]</span><span style=\"color: #008080; text-decoration-color: #008080\"> ℹ LIVE CHECK VALID for </span><span style=\"color: #008080; text-decoration-color: #008080; text-decoration: underline\">https://www.bbc.com/sport</span><span style=\"color: #008080; text-decoration-color: #008080\"> </span>\n",
       "</pre>\n"
      ],
      "text/plain": [
       "\u001b[1;36m[\u001b[0m\u001b[36mURL_SEED\u001b[0m\u001b[1;36m]\u001b[0m\u001b[36m ℹ LIVE CHECK VALID for \u001b[0m\u001b[4;36mhttps://www.bbc.com/sport\u001b[0m\u001b[36m \u001b[0m\n"
      ]
     },
     "metadata": {},
     "output_type": "display_data"
    },
    {
     "data": {
      "text/html": [
       "<pre style=\"white-space:pre;overflow-x:auto;line-height:normal;font-family:Menlo,'DejaVu Sans Mono',consolas,'Courier New',monospace\"><span style=\"color: #008080; text-decoration-color: #008080; font-weight: bold\">[</span><span style=\"color: #008080; text-decoration-color: #008080\">URL_SEED</span><span style=\"color: #008080; text-decoration-color: #008080; font-weight: bold\">]</span><span style=\"color: #008080; text-decoration-color: #008080\"> ℹ LIVE CHECK VALID for </span><span style=\"color: #008080; text-decoration-color: #008080; text-decoration: underline\">https://www.bbc.com/sport/football</span><span style=\"color: #008080; text-decoration-color: #008080\"> </span>\n",
       "</pre>\n"
      ],
      "text/plain": [
       "\u001b[1;36m[\u001b[0m\u001b[36mURL_SEED\u001b[0m\u001b[1;36m]\u001b[0m\u001b[36m ℹ LIVE CHECK VALID for \u001b[0m\u001b[4;36mhttps://www.bbc.com/sport/football\u001b[0m\u001b[36m \u001b[0m\n"
      ]
     },
     "metadata": {},
     "output_type": "display_data"
    },
    {
     "data": {
      "text/html": [
       "<pre style=\"white-space:pre;overflow-x:auto;line-height:normal;font-family:Menlo,'DejaVu Sans Mono',consolas,'Courier New',monospace\"><span style=\"color: #008080; text-decoration-color: #008080; font-weight: bold\">[</span><span style=\"color: #008080; text-decoration-color: #008080\">URL_SEED</span><span style=\"color: #008080; text-decoration-color: #008080; font-weight: bold\">]</span><span style=\"color: #008080; text-decoration-color: #008080\"> ℹ LIVE CHECK VALID for </span><span style=\"color: #008080; text-decoration-color: #008080; text-decoration: underline\">https://www.bbc.com/sport/formula1</span><span style=\"color: #008080; text-decoration-color: #008080\"> </span>\n",
       "</pre>\n"
      ],
      "text/plain": [
       "\u001b[1;36m[\u001b[0m\u001b[36mURL_SEED\u001b[0m\u001b[1;36m]\u001b[0m\u001b[36m ℹ LIVE CHECK VALID for \u001b[0m\u001b[4;36mhttps://www.bbc.com/sport/formula1\u001b[0m\u001b[36m \u001b[0m\n"
      ]
     },
     "metadata": {},
     "output_type": "display_data"
    },
    {
     "data": {
      "text/html": [
       "<pre style=\"white-space:pre;overflow-x:auto;line-height:normal;font-family:Menlo,'DejaVu Sans Mono',consolas,'Courier New',monospace\"><span style=\"color: #808080; text-decoration-color: #808080; font-weight: bold\">[</span><span style=\"color: #808080; text-decoration-color: #808080\">URL_SEED</span><span style=\"color: #808080; text-decoration-color: #808080; font-weight: bold\">]</span><span style=\"color: #808080; text-decoration-color: #808080\"> ℹ Performing live check for </span><span style=\"color: #808080; text-decoration-color: #808080; text-decoration: underline\">https://www.bbc.com/sport/football/premier-league</span><span style=\"color: #808080; text-decoration-color: #808080\"> </span>\n",
       "</pre>\n"
      ],
      "text/plain": [
       "\u001b[1;90m[\u001b[0m\u001b[90mURL_SEED\u001b[0m\u001b[1;90m]\u001b[0m\u001b[90m ℹ Performing live check for \u001b[0m\u001b[4;90mhttps://www.bbc.com/sport/football/premier-league\u001b[0m\u001b[90m \u001b[0m\n"
      ]
     },
     "metadata": {},
     "output_type": "display_data"
    },
    {
     "data": {
      "text/html": [
       "<pre style=\"white-space:pre;overflow-x:auto;line-height:normal;font-family:Menlo,'DejaVu Sans Mono',consolas,'Courier New',monospace\"><span style=\"color: #008080; text-decoration-color: #008080; font-weight: bold\">[</span><span style=\"color: #008080; text-decoration-color: #008080\">URL_SEED</span><span style=\"color: #008080; text-decoration-color: #008080; font-weight: bold\">]</span><span style=\"color: #008080; text-decoration-color: #008080\"> ℹ LIVE CHECK VALID for </span><span style=\"color: #008080; text-decoration-color: #008080; text-decoration: underline\">https://www.bbc.com/sport/cricket</span><span style=\"color: #008080; text-decoration-color: #008080\"> </span>\n",
       "</pre>\n"
      ],
      "text/plain": [
       "\u001b[1;36m[\u001b[0m\u001b[36mURL_SEED\u001b[0m\u001b[1;36m]\u001b[0m\u001b[36m ℹ LIVE CHECK VALID for \u001b[0m\u001b[4;36mhttps://www.bbc.com/sport/cricket\u001b[0m\u001b[36m \u001b[0m\n"
      ]
     },
     "metadata": {},
     "output_type": "display_data"
    },
    {
     "data": {
      "text/html": [
       "<pre style=\"white-space:pre;overflow-x:auto;line-height:normal;font-family:Menlo,'DejaVu Sans Mono',consolas,'Courier New',monospace\"><span style=\"color: #008080; text-decoration-color: #008080; font-weight: bold\">[</span><span style=\"color: #008080; text-decoration-color: #008080\">URL_SEED</span><span style=\"color: #008080; text-decoration-color: #008080; font-weight: bold\">]</span><span style=\"color: #008080; text-decoration-color: #008080\"> ℹ LIVE CHECK VALID for </span><span style=\"color: #008080; text-decoration-color: #008080; text-decoration: underline\">https://www.bbc.com/sport/rugby-union</span><span style=\"color: #008080; text-decoration-color: #008080\"> </span>\n",
       "</pre>\n"
      ],
      "text/plain": [
       "\u001b[1;36m[\u001b[0m\u001b[36mURL_SEED\u001b[0m\u001b[1;36m]\u001b[0m\u001b[36m ℹ LIVE CHECK VALID for \u001b[0m\u001b[4;36mhttps://www.bbc.com/sport/rugby-union\u001b[0m\u001b[36m \u001b[0m\n"
      ]
     },
     "metadata": {},
     "output_type": "display_data"
    },
    {
     "data": {
      "text/html": [
       "<pre style=\"white-space:pre;overflow-x:auto;line-height:normal;font-family:Menlo,'DejaVu Sans Mono',consolas,'Courier New',monospace\"><span style=\"color: #808080; text-decoration-color: #808080; font-weight: bold\">[</span><span style=\"color: #808080; text-decoration-color: #808080\">URL_SEED</span><span style=\"color: #808080; text-decoration-color: #808080; font-weight: bold\">]</span><span style=\"color: #808080; text-decoration-color: #808080\"> ℹ Performing live check for </span><span style=\"color: #808080; text-decoration-color: #808080; text-decoration: underline\">https://www.bbc.com/sport/tennis</span><span style=\"color: #808080; text-decoration-color: #808080\"> </span>\n",
       "</pre>\n"
      ],
      "text/plain": [
       "\u001b[1;90m[\u001b[0m\u001b[90mURL_SEED\u001b[0m\u001b[1;90m]\u001b[0m\u001b[90m ℹ Performing live check for \u001b[0m\u001b[4;90mhttps://www.bbc.com/sport/tennis\u001b[0m\u001b[90m \u001b[0m\n"
      ]
     },
     "metadata": {},
     "output_type": "display_data"
    },
    {
     "data": {
      "text/html": [
       "<pre style=\"white-space:pre;overflow-x:auto;line-height:normal;font-family:Menlo,'DejaVu Sans Mono',consolas,'Courier New',monospace\"><span style=\"color: #808080; text-decoration-color: #808080; font-weight: bold\">[</span><span style=\"color: #808080; text-decoration-color: #808080\">URL_SEED</span><span style=\"color: #808080; text-decoration-color: #808080; font-weight: bold\">]</span><span style=\"color: #808080; text-decoration-color: #808080\"> ℹ Performing live check for </span><span style=\"color: #808080; text-decoration-color: #808080; text-decoration: underline\">https://www.bbc.com/sport/golf</span><span style=\"color: #808080; text-decoration-color: #808080\"> </span>\n",
       "</pre>\n"
      ],
      "text/plain": [
       "\u001b[1;90m[\u001b[0m\u001b[90mURL_SEED\u001b[0m\u001b[1;90m]\u001b[0m\u001b[90m ℹ Performing live check for \u001b[0m\u001b[4;90mhttps://www.bbc.com/sport/golf\u001b[0m\u001b[90m \u001b[0m\n"
      ]
     },
     "metadata": {},
     "output_type": "display_data"
    },
    {
     "data": {
      "text/html": [
       "<pre style=\"white-space:pre;overflow-x:auto;line-height:normal;font-family:Menlo,'DejaVu Sans Mono',consolas,'Courier New',monospace\"><span style=\"color: #808080; text-decoration-color: #808080; font-weight: bold\">[</span><span style=\"color: #808080; text-decoration-color: #808080\">URL_SEED</span><span style=\"color: #808080; text-decoration-color: #808080; font-weight: bold\">]</span><span style=\"color: #808080; text-decoration-color: #808080\"> ℹ Performing live check for </span><span style=\"color: #808080; text-decoration-color: #808080; text-decoration: underline\">https://www.bbc.com/sport/snooker</span><span style=\"color: #808080; text-decoration-color: #808080\"> </span>\n",
       "</pre>\n"
      ],
      "text/plain": [
       "\u001b[1;90m[\u001b[0m\u001b[90mURL_SEED\u001b[0m\u001b[1;90m]\u001b[0m\u001b[90m ℹ Performing live check for \u001b[0m\u001b[4;90mhttps://www.bbc.com/sport/snooker\u001b[0m\u001b[90m \u001b[0m\n"
      ]
     },
     "metadata": {},
     "output_type": "display_data"
    },
    {
     "data": {
      "text/html": [
       "<pre style=\"white-space:pre;overflow-x:auto;line-height:normal;font-family:Menlo,'DejaVu Sans Mono',consolas,'Courier New',monospace\"><span style=\"color: #808080; text-decoration-color: #808080; font-weight: bold\">[</span><span style=\"color: #808080; text-decoration-color: #808080\">URL_SEED</span><span style=\"color: #808080; text-decoration-color: #808080; font-weight: bold\">]</span><span style=\"color: #808080; text-decoration-color: #808080\"> ℹ Performing live check for </span><span style=\"color: #808080; text-decoration-color: #808080; text-decoration: underline\">https://www.bbc.com/sport/rugby-league</span><span style=\"color: #808080; text-decoration-color: #808080\"> </span>\n",
       "</pre>\n"
      ],
      "text/plain": [
       "\u001b[1;90m[\u001b[0m\u001b[90mURL_SEED\u001b[0m\u001b[1;90m]\u001b[0m\u001b[90m ℹ Performing live check for \u001b[0m\u001b[4;90mhttps://www.bbc.com/sport/rugby-league\u001b[0m\u001b[90m \u001b[0m\n"
      ]
     },
     "metadata": {},
     "output_type": "display_data"
    },
    {
     "data": {
      "text/html": [
       "<pre style=\"white-space:pre;overflow-x:auto;line-height:normal;font-family:Menlo,'DejaVu Sans Mono',consolas,'Courier New',monospace\"><span style=\"color: #008080; text-decoration-color: #008080; font-weight: bold\">[</span><span style=\"color: #008080; text-decoration-color: #008080\">URL_SEED</span><span style=\"color: #008080; text-decoration-color: #008080; font-weight: bold\">]</span><span style=\"color: #008080; text-decoration-color: #008080\"> ℹ LIVE CHECK VALID for </span><span style=\"color: #008080; text-decoration-color: #008080; text-decoration: underline\">https://www.bbc.com/sport/football/premier-league</span><span style=\"color: #008080; text-decoration-color: #008080\"> </span>\n",
       "</pre>\n"
      ],
      "text/plain": [
       "\u001b[1;36m[\u001b[0m\u001b[36mURL_SEED\u001b[0m\u001b[1;36m]\u001b[0m\u001b[36m ℹ LIVE CHECK VALID for \u001b[0m\u001b[4;36mhttps://www.bbc.com/sport/football/premier-league\u001b[0m\u001b[36m \u001b[0m\n"
      ]
     },
     "metadata": {},
     "output_type": "display_data"
    },
    {
     "data": {
      "text/html": [
       "<pre style=\"white-space:pre;overflow-x:auto;line-height:normal;font-family:Menlo,'DejaVu Sans Mono',consolas,'Courier New',monospace\"><span style=\"color: #008080; text-decoration-color: #008080; font-weight: bold\">[</span><span style=\"color: #008080; text-decoration-color: #008080\">URL_SEED</span><span style=\"color: #008080; text-decoration-color: #008080; font-weight: bold\">]</span><span style=\"color: #008080; text-decoration-color: #008080\"> ℹ LIVE CHECK VALID for </span><span style=\"color: #008080; text-decoration-color: #008080; text-decoration: underline\">https://www.bbc.com/sport/tennis</span><span style=\"color: #008080; text-decoration-color: #008080\"> </span>\n",
       "</pre>\n"
      ],
      "text/plain": [
       "\u001b[1;36m[\u001b[0m\u001b[36mURL_SEED\u001b[0m\u001b[1;36m]\u001b[0m\u001b[36m ℹ LIVE CHECK VALID for \u001b[0m\u001b[4;36mhttps://www.bbc.com/sport/tennis\u001b[0m\u001b[36m \u001b[0m\n"
      ]
     },
     "metadata": {},
     "output_type": "display_data"
    },
    {
     "data": {
      "text/html": [
       "<pre style=\"white-space:pre;overflow-x:auto;line-height:normal;font-family:Menlo,'DejaVu Sans Mono',consolas,'Courier New',monospace\"><span style=\"color: #008080; text-decoration-color: #008080; font-weight: bold\">[</span><span style=\"color: #008080; text-decoration-color: #008080\">URL_SEED</span><span style=\"color: #008080; text-decoration-color: #008080; font-weight: bold\">]</span><span style=\"color: #008080; text-decoration-color: #008080\"> ℹ LIVE CHECK VALID for </span><span style=\"color: #008080; text-decoration-color: #008080; text-decoration: underline\">https://www.bbc.com/sport/snooker</span><span style=\"color: #008080; text-decoration-color: #008080\"> </span>\n",
       "</pre>\n"
      ],
      "text/plain": [
       "\u001b[1;36m[\u001b[0m\u001b[36mURL_SEED\u001b[0m\u001b[1;36m]\u001b[0m\u001b[36m ℹ LIVE CHECK VALID for \u001b[0m\u001b[4;36mhttps://www.bbc.com/sport/snooker\u001b[0m\u001b[36m \u001b[0m\n"
      ]
     },
     "metadata": {},
     "output_type": "display_data"
    },
    {
     "data": {
      "text/html": [
       "<pre style=\"white-space:pre;overflow-x:auto;line-height:normal;font-family:Menlo,'DejaVu Sans Mono',consolas,'Courier New',monospace\"><span style=\"color: #808080; text-decoration-color: #808080; font-weight: bold\">[</span><span style=\"color: #808080; text-decoration-color: #808080\">URL_SEED</span><span style=\"color: #808080; text-decoration-color: #808080; font-weight: bold\">]</span><span style=\"color: #808080; text-decoration-color: #808080\"> ℹ Performing live check for </span><span style=\"color: #808080; text-decoration-color: #808080; text-decoration: underline\">https://www.bbc.com/sport/football/european</span><span style=\"color: #808080; text-decoration-color: #808080\"> </span>\n",
       "</pre>\n"
      ],
      "text/plain": [
       "\u001b[1;90m[\u001b[0m\u001b[90mURL_SEED\u001b[0m\u001b[1;90m]\u001b[0m\u001b[90m ℹ Performing live check for \u001b[0m\u001b[4;90mhttps://www.bbc.com/sport/football/european\u001b[0m\u001b[90m \u001b[0m\n"
      ]
     },
     "metadata": {},
     "output_type": "display_data"
    },
    {
     "data": {
      "text/html": [
       "<pre style=\"white-space:pre;overflow-x:auto;line-height:normal;font-family:Menlo,'DejaVu Sans Mono',consolas,'Courier New',monospace\"><span style=\"color: #008080; text-decoration-color: #008080; font-weight: bold\">[</span><span style=\"color: #008080; text-decoration-color: #008080\">URL_SEED</span><span style=\"color: #008080; text-decoration-color: #008080; font-weight: bold\">]</span><span style=\"color: #008080; text-decoration-color: #008080\"> ℹ LIVE CHECK VALID for </span><span style=\"color: #008080; text-decoration-color: #008080; text-decoration: underline\">https://www.bbc.com/sport/golf</span><span style=\"color: #008080; text-decoration-color: #008080\"> </span>\n",
       "</pre>\n"
      ],
      "text/plain": [
       "\u001b[1;36m[\u001b[0m\u001b[36mURL_SEED\u001b[0m\u001b[1;36m]\u001b[0m\u001b[36m ℹ LIVE CHECK VALID for \u001b[0m\u001b[4;36mhttps://www.bbc.com/sport/golf\u001b[0m\u001b[36m \u001b[0m\n"
      ]
     },
     "metadata": {},
     "output_type": "display_data"
    },
    {
     "data": {
      "text/html": [
       "<pre style=\"white-space:pre;overflow-x:auto;line-height:normal;font-family:Menlo,'DejaVu Sans Mono',consolas,'Courier New',monospace\"><span style=\"color: #808080; text-decoration-color: #808080; font-weight: bold\">[</span><span style=\"color: #808080; text-decoration-color: #808080\">URL_SEED</span><span style=\"color: #808080; text-decoration-color: #808080; font-weight: bold\">]</span><span style=\"color: #808080; text-decoration-color: #808080\"> ℹ Performing live check for </span><span style=\"color: #808080; text-decoration-color: #808080; text-decoration: underline\">https://www.bbc.com/sport/cycling</span><span style=\"color: #808080; text-decoration-color: #808080\"> </span>\n",
       "</pre>\n"
      ],
      "text/plain": [
       "\u001b[1;90m[\u001b[0m\u001b[90mURL_SEED\u001b[0m\u001b[1;90m]\u001b[0m\u001b[90m ℹ Performing live check for \u001b[0m\u001b[4;90mhttps://www.bbc.com/sport/cycling\u001b[0m\u001b[90m \u001b[0m\n"
      ]
     },
     "metadata": {},
     "output_type": "display_data"
    },
    {
     "data": {
      "text/html": [
       "<pre style=\"white-space:pre;overflow-x:auto;line-height:normal;font-family:Menlo,'DejaVu Sans Mono',consolas,'Courier New',monospace\"><span style=\"color: #808080; text-decoration-color: #808080; font-weight: bold\">[</span><span style=\"color: #808080; text-decoration-color: #808080\">URL_SEED</span><span style=\"color: #808080; text-decoration-color: #808080; font-weight: bold\">]</span><span style=\"color: #808080; text-decoration-color: #808080\"> ℹ Performing live check for </span><span style=\"color: #808080; text-decoration-color: #808080; text-decoration: underline\">https://www.bbc.com/sport/football/scottish</span><span style=\"color: #808080; text-decoration-color: #808080\"> </span>\n",
       "</pre>\n"
      ],
      "text/plain": [
       "\u001b[1;90m[\u001b[0m\u001b[90mURL_SEED\u001b[0m\u001b[1;90m]\u001b[0m\u001b[90m ℹ Performing live check for \u001b[0m\u001b[4;90mhttps://www.bbc.com/sport/football/scottish\u001b[0m\u001b[90m \u001b[0m\n"
      ]
     },
     "metadata": {},
     "output_type": "display_data"
    },
    {
     "data": {
      "text/html": [
       "<pre style=\"white-space:pre;overflow-x:auto;line-height:normal;font-family:Menlo,'DejaVu Sans Mono',consolas,'Courier New',monospace\"><span style=\"color: #008080; text-decoration-color: #008080; font-weight: bold\">[</span><span style=\"color: #008080; text-decoration-color: #008080\">URL_SEED</span><span style=\"color: #008080; text-decoration-color: #008080; font-weight: bold\">]</span><span style=\"color: #008080; text-decoration-color: #008080\"> ℹ LIVE CHECK VALID for </span><span style=\"color: #008080; text-decoration-color: #008080; text-decoration: underline\">https://www.bbc.com/sport/rugby-league</span><span style=\"color: #008080; text-decoration-color: #008080\"> </span>\n",
       "</pre>\n"
      ],
      "text/plain": [
       "\u001b[1;36m[\u001b[0m\u001b[36mURL_SEED\u001b[0m\u001b[1;36m]\u001b[0m\u001b[36m ℹ LIVE CHECK VALID for \u001b[0m\u001b[4;36mhttps://www.bbc.com/sport/rugby-league\u001b[0m\u001b[36m \u001b[0m\n"
      ]
     },
     "metadata": {},
     "output_type": "display_data"
    },
    {
     "data": {
      "text/html": [
       "<pre style=\"white-space:pre;overflow-x:auto;line-height:normal;font-family:Menlo,'DejaVu Sans Mono',consolas,'Courier New',monospace\"><span style=\"color: #808080; text-decoration-color: #808080; font-weight: bold\">[</span><span style=\"color: #808080; text-decoration-color: #808080\">URL_SEED</span><span style=\"color: #808080; text-decoration-color: #808080; font-weight: bold\">]</span><span style=\"color: #808080; text-decoration-color: #808080\"> ℹ Performing live check for </span><span style=\"color: #808080; text-decoration-color: #808080; text-decoration: underline\">https://www.bbc.com/sport/football/championship</span><span style=\"color: #808080; text-decoration-color: #808080\"> </span>\n",
       "</pre>\n"
      ],
      "text/plain": [
       "\u001b[1;90m[\u001b[0m\u001b[90mURL_SEED\u001b[0m\u001b[1;90m]\u001b[0m\u001b[90m ℹ Performing live check for \u001b[0m\u001b[4;90mhttps://www.bbc.com/sport/football/championship\u001b[0m\u001b[90m \u001b[0m\n"
      ]
     },
     "metadata": {},
     "output_type": "display_data"
    },
    {
     "data": {
      "text/html": [
       "<pre style=\"white-space:pre;overflow-x:auto;line-height:normal;font-family:Menlo,'DejaVu Sans Mono',consolas,'Courier New',monospace\"><span style=\"color: #808080; text-decoration-color: #808080; font-weight: bold\">[</span><span style=\"color: #808080; text-decoration-color: #808080\">URL_SEED</span><span style=\"color: #808080; text-decoration-color: #808080; font-weight: bold\">]</span><span style=\"color: #808080; text-decoration-color: #808080\"> ℹ Performing live check for </span><span style=\"color: #808080; text-decoration-color: #808080; text-decoration: underline\">https://www.bbc.com/sport/boxing</span><span style=\"color: #808080; text-decoration-color: #808080\"> </span>\n",
       "</pre>\n"
      ],
      "text/plain": [
       "\u001b[1;90m[\u001b[0m\u001b[90mURL_SEED\u001b[0m\u001b[1;90m]\u001b[0m\u001b[90m ℹ Performing live check for \u001b[0m\u001b[4;90mhttps://www.bbc.com/sport/boxing\u001b[0m\u001b[90m \u001b[0m\n"
      ]
     },
     "metadata": {},
     "output_type": "display_data"
    },
    {
     "data": {
      "text/html": [
       "<pre style=\"white-space:pre;overflow-x:auto;line-height:normal;font-family:Menlo,'DejaVu Sans Mono',consolas,'Courier New',monospace\"><span style=\"color: #008080; text-decoration-color: #008080; font-weight: bold\">[</span><span style=\"color: #008080; text-decoration-color: #008080\">URL_SEED</span><span style=\"color: #008080; text-decoration-color: #008080; font-weight: bold\">]</span><span style=\"color: #008080; text-decoration-color: #008080\"> ℹ LIVE CHECK VALID for </span><span style=\"color: #008080; text-decoration-color: #008080; text-decoration: underline\">https://www.bbc.com/sport/football/european</span><span style=\"color: #008080; text-decoration-color: #008080\"> </span>\n",
       "</pre>\n"
      ],
      "text/plain": [
       "\u001b[1;36m[\u001b[0m\u001b[36mURL_SEED\u001b[0m\u001b[1;36m]\u001b[0m\u001b[36m ℹ LIVE CHECK VALID for \u001b[0m\u001b[4;36mhttps://www.bbc.com/sport/football/european\u001b[0m\u001b[36m \u001b[0m\n"
      ]
     },
     "metadata": {},
     "output_type": "display_data"
    },
    {
     "data": {
      "text/html": [
       "<pre style=\"white-space:pre;overflow-x:auto;line-height:normal;font-family:Menlo,'DejaVu Sans Mono',consolas,'Courier New',monospace\"><span style=\"color: #008080; text-decoration-color: #008080; font-weight: bold\">[</span><span style=\"color: #008080; text-decoration-color: #008080\">URL_SEED</span><span style=\"color: #008080; text-decoration-color: #008080; font-weight: bold\">]</span><span style=\"color: #008080; text-decoration-color: #008080\"> ℹ LIVE CHECK VALID for </span><span style=\"color: #008080; text-decoration-color: #008080; text-decoration: underline\">https://www.bbc.com/sport/football/scottish</span><span style=\"color: #008080; text-decoration-color: #008080\"> </span>\n",
       "</pre>\n"
      ],
      "text/plain": [
       "\u001b[1;36m[\u001b[0m\u001b[36mURL_SEED\u001b[0m\u001b[1;36m]\u001b[0m\u001b[36m ℹ LIVE CHECK VALID for \u001b[0m\u001b[4;36mhttps://www.bbc.com/sport/football/scottish\u001b[0m\u001b[36m \u001b[0m\n"
      ]
     },
     "metadata": {},
     "output_type": "display_data"
    },
    {
     "data": {
      "text/html": [
       "<pre style=\"white-space:pre;overflow-x:auto;line-height:normal;font-family:Menlo,'DejaVu Sans Mono',consolas,'Courier New',monospace\"><span style=\"color: #008080; text-decoration-color: #008080; font-weight: bold\">[</span><span style=\"color: #008080; text-decoration-color: #008080\">URL_SEED</span><span style=\"color: #008080; text-decoration-color: #008080; font-weight: bold\">]</span><span style=\"color: #008080; text-decoration-color: #008080\"> ℹ LIVE CHECK VALID for </span><span style=\"color: #008080; text-decoration-color: #008080; text-decoration: underline\">https://www.bbc.com/sport/boxing</span><span style=\"color: #008080; text-decoration-color: #008080\"> </span>\n",
       "</pre>\n"
      ],
      "text/plain": [
       "\u001b[1;36m[\u001b[0m\u001b[36mURL_SEED\u001b[0m\u001b[1;36m]\u001b[0m\u001b[36m ℹ LIVE CHECK VALID for \u001b[0m\u001b[4;36mhttps://www.bbc.com/sport/boxing\u001b[0m\u001b[36m \u001b[0m\n"
      ]
     },
     "metadata": {},
     "output_type": "display_data"
    },
    {
     "data": {
      "text/html": [
       "<pre style=\"white-space:pre;overflow-x:auto;line-height:normal;font-family:Menlo,'DejaVu Sans Mono',consolas,'Courier New',monospace\"><span style=\"color: #008080; text-decoration-color: #008080; font-weight: bold\">[</span><span style=\"color: #008080; text-decoration-color: #008080\">URL_SEED</span><span style=\"color: #008080; text-decoration-color: #008080; font-weight: bold\">]</span><span style=\"color: #008080; text-decoration-color: #008080\"> ℹ LIVE CHECK VALID for </span><span style=\"color: #008080; text-decoration-color: #008080; text-decoration: underline\">https://www.bbc.com/sport/football/championship</span><span style=\"color: #008080; text-decoration-color: #008080\"> </span>\n",
       "</pre>\n"
      ],
      "text/plain": [
       "\u001b[1;36m[\u001b[0m\u001b[36mURL_SEED\u001b[0m\u001b[1;36m]\u001b[0m\u001b[36m ℹ LIVE CHECK VALID for \u001b[0m\u001b[4;36mhttps://www.bbc.com/sport/football/championship\u001b[0m\u001b[36m \u001b[0m\n"
      ]
     },
     "metadata": {},
     "output_type": "display_data"
    },
    {
     "data": {
      "text/html": [
       "<pre style=\"white-space:pre;overflow-x:auto;line-height:normal;font-family:Menlo,'DejaVu Sans Mono',consolas,'Courier New',monospace\"><span style=\"color: #008080; text-decoration-color: #008080; font-weight: bold\">[</span><span style=\"color: #008080; text-decoration-color: #008080\">URL_SEED</span><span style=\"color: #008080; text-decoration-color: #008080; font-weight: bold\">]</span><span style=\"color: #008080; text-decoration-color: #008080\"> ℹ LIVE CHECK VALID for </span><span style=\"color: #008080; text-decoration-color: #008080; text-decoration: underline\">https://www.bbc.com/sport/cycling</span><span style=\"color: #008080; text-decoration-color: #008080\"> </span>\n",
       "</pre>\n"
      ],
      "text/plain": [
       "\u001b[1;36m[\u001b[0m\u001b[36mURL_SEED\u001b[0m\u001b[1;36m]\u001b[0m\u001b[36m ℹ LIVE CHECK VALID for \u001b[0m\u001b[4;36mhttps://www.bbc.com/sport/cycling\u001b[0m\u001b[36m \u001b[0m\n"
      ]
     },
     "metadata": {},
     "output_type": "display_data"
    },
    {
     "data": {
      "text/html": [
       "<pre style=\"white-space:pre;overflow-x:auto;line-height:normal;font-family:Menlo,'DejaVu Sans Mono',consolas,'Courier New',monospace\"><span style=\"color: #808080; text-decoration-color: #808080; font-weight: bold\">[</span><span style=\"color: #808080; text-decoration-color: #808080\">URL_SEED</span><span style=\"color: #808080; text-decoration-color: #808080; font-weight: bold\">]</span><span style=\"color: #808080; text-decoration-color: #808080\"> ℹ Performing live check for </span><span style=\"color: #808080; text-decoration-color: #808080; text-decoration: underline\">https://www.bbc.com/sport/horse-racing</span><span style=\"color: #808080; text-decoration-color: #808080\"> </span>\n",
       "</pre>\n"
      ],
      "text/plain": [
       "\u001b[1;90m[\u001b[0m\u001b[90mURL_SEED\u001b[0m\u001b[1;90m]\u001b[0m\u001b[90m ℹ Performing live check for \u001b[0m\u001b[4;90mhttps://www.bbc.com/sport/horse-racing\u001b[0m\u001b[90m \u001b[0m\n"
      ]
     },
     "metadata": {},
     "output_type": "display_data"
    },
    {
     "data": {
      "text/html": [
       "<pre style=\"white-space:pre;overflow-x:auto;line-height:normal;font-family:Menlo,'DejaVu Sans Mono',consolas,'Courier New',monospace\"><span style=\"color: #808080; text-decoration-color: #808080; font-weight: bold\">[</span><span style=\"color: #808080; text-decoration-color: #808080\">URL_SEED</span><span style=\"color: #808080; text-decoration-color: #808080; font-weight: bold\">]</span><span style=\"color: #808080; text-decoration-color: #808080\"> ℹ Performing live check for </span><span style=\"color: #808080; text-decoration-color: #808080; text-decoration: underline\">https://www.bbc.com/sport/athletics</span><span style=\"color: #808080; text-decoration-color: #808080\"> </span>\n",
       "</pre>\n"
      ],
      "text/plain": [
       "\u001b[1;90m[\u001b[0m\u001b[90mURL_SEED\u001b[0m\u001b[1;90m]\u001b[0m\u001b[90m ℹ Performing live check for \u001b[0m\u001b[4;90mhttps://www.bbc.com/sport/athletics\u001b[0m\u001b[90m \u001b[0m\n"
      ]
     },
     "metadata": {},
     "output_type": "display_data"
    },
    {
     "data": {
      "text/html": [
       "<pre style=\"white-space:pre;overflow-x:auto;line-height:normal;font-family:Menlo,'DejaVu Sans Mono',consolas,'Courier New',monospace\"><span style=\"color: #808080; text-decoration-color: #808080; font-weight: bold\">[</span><span style=\"color: #808080; text-decoration-color: #808080\">URL_SEED</span><span style=\"color: #808080; text-decoration-color: #808080; font-weight: bold\">]</span><span style=\"color: #808080; text-decoration-color: #808080\"> ℹ Performing live check for </span><span style=\"color: #808080; text-decoration-color: #808080; text-decoration: underline\">https://www.bbc.com/sport/scotland</span><span style=\"color: #808080; text-decoration-color: #808080\"> </span>\n",
       "</pre>\n"
      ],
      "text/plain": [
       "\u001b[1;90m[\u001b[0m\u001b[90mURL_SEED\u001b[0m\u001b[1;90m]\u001b[0m\u001b[90m ℹ Performing live check for \u001b[0m\u001b[4;90mhttps://www.bbc.com/sport/scotland\u001b[0m\u001b[90m \u001b[0m\n"
      ]
     },
     "metadata": {},
     "output_type": "display_data"
    },
    {
     "data": {
      "text/html": [
       "<pre style=\"white-space:pre;overflow-x:auto;line-height:normal;font-family:Menlo,'DejaVu Sans Mono',consolas,'Courier New',monospace\"><span style=\"color: #808080; text-decoration-color: #808080; font-weight: bold\">[</span><span style=\"color: #808080; text-decoration-color: #808080\">URL_SEED</span><span style=\"color: #808080; text-decoration-color: #808080; font-weight: bold\">]</span><span style=\"color: #808080; text-decoration-color: #808080\"> ℹ Performing live check for </span><span style=\"color: #808080; text-decoration-color: #808080; text-decoration: underline\">https://www.bbc.com/sport/american-football</span><span style=\"color: #808080; text-decoration-color: #808080\"> </span>\n",
       "</pre>\n"
      ],
      "text/plain": [
       "\u001b[1;90m[\u001b[0m\u001b[90mURL_SEED\u001b[0m\u001b[1;90m]\u001b[0m\u001b[90m ℹ Performing live check for \u001b[0m\u001b[4;90mhttps://www.bbc.com/sport/american-football\u001b[0m\u001b[90m \u001b[0m\n"
      ]
     },
     "metadata": {},
     "output_type": "display_data"
    },
    {
     "data": {
      "text/html": [
       "<pre style=\"white-space:pre;overflow-x:auto;line-height:normal;font-family:Menlo,'DejaVu Sans Mono',consolas,'Courier New',monospace\"><span style=\"color: #808080; text-decoration-color: #808080; font-weight: bold\">[</span><span style=\"color: #808080; text-decoration-color: #808080\">URL_SEED</span><span style=\"color: #808080; text-decoration-color: #808080; font-weight: bold\">]</span><span style=\"color: #808080; text-decoration-color: #808080\"> ℹ Performing live check for </span><span style=\"color: #808080; text-decoration-color: #808080; text-decoration: underline\">https://www.bbc.com/sport/football/champions-league</span><span style=\"color: #808080; text-decoration-color: #808080\"> </span>\n",
       "</pre>\n"
      ],
      "text/plain": [
       "\u001b[1;90m[\u001b[0m\u001b[90mURL_SEED\u001b[0m\u001b[1;90m]\u001b[0m\u001b[90m ℹ Performing live check for \u001b[0m\u001b[4;90mhttps://www.bbc.com/sport/football/champions-league\u001b[0m\u001b[90m \u001b[0m\n"
      ]
     },
     "metadata": {},
     "output_type": "display_data"
    },
    {
     "data": {
      "text/html": [
       "<pre style=\"white-space:pre;overflow-x:auto;line-height:normal;font-family:Menlo,'DejaVu Sans Mono',consolas,'Courier New',monospace\"><span style=\"color: #008080; text-decoration-color: #008080; font-weight: bold\">[</span><span style=\"color: #008080; text-decoration-color: #008080\">URL_SEED</span><span style=\"color: #008080; text-decoration-color: #008080; font-weight: bold\">]</span><span style=\"color: #008080; text-decoration-color: #008080\"> ℹ LIVE CHECK VALID for </span><span style=\"color: #008080; text-decoration-color: #008080; text-decoration: underline\">https://www.bbc.com/sport/horse-racing</span><span style=\"color: #008080; text-decoration-color: #008080\"> </span>\n",
       "</pre>\n"
      ],
      "text/plain": [
       "\u001b[1;36m[\u001b[0m\u001b[36mURL_SEED\u001b[0m\u001b[1;36m]\u001b[0m\u001b[36m ℹ LIVE CHECK VALID for \u001b[0m\u001b[4;36mhttps://www.bbc.com/sport/horse-racing\u001b[0m\u001b[36m \u001b[0m\n"
      ]
     },
     "metadata": {},
     "output_type": "display_data"
    },
    {
     "data": {
      "text/html": [
       "<pre style=\"white-space:pre;overflow-x:auto;line-height:normal;font-family:Menlo,'DejaVu Sans Mono',consolas,'Courier New',monospace\"><span style=\"color: #008080; text-decoration-color: #008080; font-weight: bold\">[</span><span style=\"color: #008080; text-decoration-color: #008080\">URL_SEED</span><span style=\"color: #008080; text-decoration-color: #008080; font-weight: bold\">]</span><span style=\"color: #008080; text-decoration-color: #008080\"> ℹ LIVE CHECK VALID for </span><span style=\"color: #008080; text-decoration-color: #008080; text-decoration: underline\">https://www.bbc.com/sport/athletics</span><span style=\"color: #008080; text-decoration-color: #008080\"> </span>\n",
       "</pre>\n"
      ],
      "text/plain": [
       "\u001b[1;36m[\u001b[0m\u001b[36mURL_SEED\u001b[0m\u001b[1;36m]\u001b[0m\u001b[36m ℹ LIVE CHECK VALID for \u001b[0m\u001b[4;36mhttps://www.bbc.com/sport/athletics\u001b[0m\u001b[36m \u001b[0m\n"
      ]
     },
     "metadata": {},
     "output_type": "display_data"
    },
    {
     "data": {
      "text/html": [
       "<pre style=\"white-space:pre;overflow-x:auto;line-height:normal;font-family:Menlo,'DejaVu Sans Mono',consolas,'Courier New',monospace\"><span style=\"color: #008080; text-decoration-color: #008080; font-weight: bold\">[</span><span style=\"color: #008080; text-decoration-color: #008080\">URL_SEED</span><span style=\"color: #008080; text-decoration-color: #008080; font-weight: bold\">]</span><span style=\"color: #008080; text-decoration-color: #008080\"> ℹ LIVE CHECK VALID for </span><span style=\"color: #008080; text-decoration-color: #008080; text-decoration: underline\">https://www.bbc.com/sport/american-football</span><span style=\"color: #008080; text-decoration-color: #008080\"> </span>\n",
       "</pre>\n"
      ],
      "text/plain": [
       "\u001b[1;36m[\u001b[0m\u001b[36mURL_SEED\u001b[0m\u001b[1;36m]\u001b[0m\u001b[36m ℹ LIVE CHECK VALID for \u001b[0m\u001b[4;36mhttps://www.bbc.com/sport/american-football\u001b[0m\u001b[36m \u001b[0m\n"
      ]
     },
     "metadata": {},
     "output_type": "display_data"
    },
    {
     "data": {
      "text/html": [
       "<pre style=\"white-space:pre;overflow-x:auto;line-height:normal;font-family:Menlo,'DejaVu Sans Mono',consolas,'Courier New',monospace\"><span style=\"color: #008080; text-decoration-color: #008080; font-weight: bold\">[</span><span style=\"color: #008080; text-decoration-color: #008080\">URL_SEED</span><span style=\"color: #008080; text-decoration-color: #008080; font-weight: bold\">]</span><span style=\"color: #008080; text-decoration-color: #008080\"> ℹ LIVE CHECK VALID for </span><span style=\"color: #008080; text-decoration-color: #008080; text-decoration: underline\">https://www.bbc.com/sport/football/champions-league</span><span style=\"color: #008080; text-decoration-color: #008080\"> </span>\n",
       "</pre>\n"
      ],
      "text/plain": [
       "\u001b[1;36m[\u001b[0m\u001b[36mURL_SEED\u001b[0m\u001b[1;36m]\u001b[0m\u001b[36m ℹ LIVE CHECK VALID for \u001b[0m\u001b[4;36mhttps://www.bbc.com/sport/football/champions-league\u001b[0m\u001b[36m \u001b[0m\n"
      ]
     },
     "metadata": {},
     "output_type": "display_data"
    },
    {
     "data": {
      "text/html": [
       "<pre style=\"white-space:pre;overflow-x:auto;line-height:normal;font-family:Menlo,'DejaVu Sans Mono',consolas,'Courier New',monospace\"><span style=\"color: #008080; text-decoration-color: #008080; font-weight: bold\">[</span><span style=\"color: #008080; text-decoration-color: #008080\">URL_SEED</span><span style=\"color: #008080; text-decoration-color: #008080; font-weight: bold\">]</span><span style=\"color: #008080; text-decoration-color: #008080\"> ℹ LIVE CHECK VALID for </span><span style=\"color: #008080; text-decoration-color: #008080; text-decoration: underline\">https://www.bbc.com/sport/scotland</span><span style=\"color: #008080; text-decoration-color: #008080\"> </span>\n",
       "</pre>\n"
      ],
      "text/plain": [
       "\u001b[1;36m[\u001b[0m\u001b[36mURL_SEED\u001b[0m\u001b[1;36m]\u001b[0m\u001b[36m ℹ LIVE CHECK VALID for \u001b[0m\u001b[4;36mhttps://www.bbc.com/sport/scotland\u001b[0m\u001b[36m \u001b[0m\n"
      ]
     },
     "metadata": {},
     "output_type": "display_data"
    },
    {
     "data": {
      "text/html": [
       "<pre style=\"white-space:pre;overflow-x:auto;line-height:normal;font-family:Menlo,'DejaVu Sans Mono',consolas,'Courier New',monospace\"><span style=\"color: #808080; text-decoration-color: #808080; font-weight: bold\">[</span><span style=\"color: #808080; text-decoration-color: #808080\">URL_SEED</span><span style=\"color: #808080; text-decoration-color: #808080; font-weight: bold\">]</span><span style=\"color: #808080; text-decoration-color: #808080\"> ℹ Performing live check for </span><span style=\"color: #808080; text-decoration-color: #808080; text-decoration: underline\">https://www.bbc.com/sport/football/teams/liverpool</span><span style=\"color: #808080; text-decoration-color: #808080\"> </span>\n",
       "</pre>\n"
      ],
      "text/plain": [
       "\u001b[1;90m[\u001b[0m\u001b[90mURL_SEED\u001b[0m\u001b[1;90m]\u001b[0m\u001b[90m ℹ Performing live check for \u001b[0m\u001b[4;90mhttps://www.bbc.com/sport/football/teams/liverpool\u001b[0m\u001b[90m \u001b[0m\n"
      ]
     },
     "metadata": {},
     "output_type": "display_data"
    },
    {
     "data": {
      "text/html": [
       "<pre style=\"white-space:pre;overflow-x:auto;line-height:normal;font-family:Menlo,'DejaVu Sans Mono',consolas,'Courier New',monospace\"><span style=\"color: #808080; text-decoration-color: #808080; font-weight: bold\">[</span><span style=\"color: #808080; text-decoration-color: #808080\">URL_SEED</span><span style=\"color: #808080; text-decoration-color: #808080; font-weight: bold\">]</span><span style=\"color: #808080; text-decoration-color: #808080\"> ℹ Performing live check for </span><span style=\"color: #808080; text-decoration-color: #808080; text-decoration: underline\">https://www.bbc.com/sport/football/teams/manchester-united</span><span style=\"color: #808080; text-decoration-color: #808080\"> </span>\n",
       "</pre>\n"
      ],
      "text/plain": [
       "\u001b[1;90m[\u001b[0m\u001b[90mURL_SEED\u001b[0m\u001b[1;90m]\u001b[0m\u001b[90m ℹ Performing live check for \u001b[0m\u001b[4;90mhttps://www.bbc.com/sport/football/teams/manchester-united\u001b[0m\u001b[90m \u001b[0m\n"
      ]
     },
     "metadata": {},
     "output_type": "display_data"
    },
    {
     "data": {
      "text/html": [
       "<pre style=\"white-space:pre;overflow-x:auto;line-height:normal;font-family:Menlo,'DejaVu Sans Mono',consolas,'Courier New',monospace\"><span style=\"color: #808080; text-decoration-color: #808080; font-weight: bold\">[</span><span style=\"color: #808080; text-decoration-color: #808080\">URL_SEED</span><span style=\"color: #808080; text-decoration-color: #808080; font-weight: bold\">]</span><span style=\"color: #808080; text-decoration-color: #808080\"> ℹ Performing live check for </span><span style=\"color: #808080; text-decoration-color: #808080; text-decoration: underline\">https://www.bbc.com/sport/football/womens</span><span style=\"color: #808080; text-decoration-color: #808080\"> </span>\n",
       "</pre>\n"
      ],
      "text/plain": [
       "\u001b[1;90m[\u001b[0m\u001b[90mURL_SEED\u001b[0m\u001b[1;90m]\u001b[0m\u001b[90m ℹ Performing live check for \u001b[0m\u001b[4;90mhttps://www.bbc.com/sport/football/womens\u001b[0m\u001b[90m \u001b[0m\n"
      ]
     },
     "metadata": {},
     "output_type": "display_data"
    },
    {
     "data": {
      "text/html": [
       "<pre style=\"white-space:pre;overflow-x:auto;line-height:normal;font-family:Menlo,'DejaVu Sans Mono',consolas,'Courier New',monospace\"><span style=\"color: #808080; text-decoration-color: #808080; font-weight: bold\">[</span><span style=\"color: #808080; text-decoration-color: #808080\">URL_SEED</span><span style=\"color: #808080; text-decoration-color: #808080; font-weight: bold\">]</span><span style=\"color: #808080; text-decoration-color: #808080\"> ℹ Performing live check for </span><span style=\"color: #808080; text-decoration-color: #808080; text-decoration: underline\">https://www.bbc.com/sport/football/teams/arsenal</span><span style=\"color: #808080; text-decoration-color: #808080\"> </span>\n",
       "</pre>\n"
      ],
      "text/plain": [
       "\u001b[1;90m[\u001b[0m\u001b[90mURL_SEED\u001b[0m\u001b[1;90m]\u001b[0m\u001b[90m ℹ Performing live check for \u001b[0m\u001b[4;90mhttps://www.bbc.com/sport/football/teams/arsenal\u001b[0m\u001b[90m \u001b[0m\n"
      ]
     },
     "metadata": {},
     "output_type": "display_data"
    },
    {
     "data": {
      "text/html": [
       "<pre style=\"white-space:pre;overflow-x:auto;line-height:normal;font-family:Menlo,'DejaVu Sans Mono',consolas,'Courier New',monospace\"><span style=\"color: #808080; text-decoration-color: #808080; font-weight: bold\">[</span><span style=\"color: #808080; text-decoration-color: #808080\">URL_SEED</span><span style=\"color: #808080; text-decoration-color: #808080; font-weight: bold\">]</span><span style=\"color: #808080; text-decoration-color: #808080\"> ℹ Performing live check for </span><span style=\"color: #808080; text-decoration-color: #808080; text-decoration: underline\">https://www.bbc.com/sport/football/scottish-premiership</span><span style=\"color: #808080; text-decoration-color: #808080\"> </span>\n",
       "</pre>\n"
      ],
      "text/plain": [
       "\u001b[1;90m[\u001b[0m\u001b[90mURL_SEED\u001b[0m\u001b[1;90m]\u001b[0m\u001b[90m ℹ Performing live check for \u001b[0m\u001b[4;90mhttps://www.bbc.com/sport/football/scottish-premiership\u001b[0m\u001b[90m \u001b[0m\n"
      ]
     },
     "metadata": {},
     "output_type": "display_data"
    },
    {
     "data": {
      "text/html": [
       "<pre style=\"white-space:pre;overflow-x:auto;line-height:normal;font-family:Menlo,'DejaVu Sans Mono',consolas,'Courier New',monospace\"><span style=\"color: #008080; text-decoration-color: #008080; font-weight: bold\">[</span><span style=\"color: #008080; text-decoration-color: #008080\">URL_SEED</span><span style=\"color: #008080; text-decoration-color: #008080; font-weight: bold\">]</span><span style=\"color: #008080; text-decoration-color: #008080\"> ℹ LIVE CHECK VALID for </span><span style=\"color: #008080; text-decoration-color: #008080; text-decoration: underline\">https://www.bbc.com/sport/football/teams/liverpool</span><span style=\"color: #008080; text-decoration-color: #008080\"> </span>\n",
       "</pre>\n"
      ],
      "text/plain": [
       "\u001b[1;36m[\u001b[0m\u001b[36mURL_SEED\u001b[0m\u001b[1;36m]\u001b[0m\u001b[36m ℹ LIVE CHECK VALID for \u001b[0m\u001b[4;36mhttps://www.bbc.com/sport/football/teams/liverpool\u001b[0m\u001b[36m \u001b[0m\n"
      ]
     },
     "metadata": {},
     "output_type": "display_data"
    },
    {
     "data": {
      "text/html": [
       "<pre style=\"white-space:pre;overflow-x:auto;line-height:normal;font-family:Menlo,'DejaVu Sans Mono',consolas,'Courier New',monospace\"><span style=\"color: #808080; text-decoration-color: #808080; font-weight: bold\">[</span><span style=\"color: #808080; text-decoration-color: #808080\">URL_SEED</span><span style=\"color: #808080; text-decoration-color: #808080; font-weight: bold\">]</span><span style=\"color: #808080; text-decoration-color: #808080\"> ℹ Performing live check for </span><span style=\"color: #808080; text-decoration-color: #808080; text-decoration: underline\">https://www.bbc.com/sport/football/league-one</span><span style=\"color: #808080; text-decoration-color: #808080\"> </span>\n",
       "</pre>\n"
      ],
      "text/plain": [
       "\u001b[1;90m[\u001b[0m\u001b[90mURL_SEED\u001b[0m\u001b[1;90m]\u001b[0m\u001b[90m ℹ Performing live check for \u001b[0m\u001b[4;90mhttps://www.bbc.com/sport/football/league-one\u001b[0m\u001b[90m \u001b[0m\n"
      ]
     },
     "metadata": {},
     "output_type": "display_data"
    },
    {
     "data": {
      "text/html": [
       "<pre style=\"white-space:pre;overflow-x:auto;line-height:normal;font-family:Menlo,'DejaVu Sans Mono',consolas,'Courier New',monospace\"><span style=\"color: #008080; text-decoration-color: #008080; font-weight: bold\">[</span><span style=\"color: #008080; text-decoration-color: #008080\">URL_SEED</span><span style=\"color: #008080; text-decoration-color: #008080; font-weight: bold\">]</span><span style=\"color: #008080; text-decoration-color: #008080\"> ℹ LIVE CHECK VALID for </span><span style=\"color: #008080; text-decoration-color: #008080; text-decoration: underline\">https://www.bbc.com/sport/football/womens</span><span style=\"color: #008080; text-decoration-color: #008080\"> </span>\n",
       "</pre>\n"
      ],
      "text/plain": [
       "\u001b[1;36m[\u001b[0m\u001b[36mURL_SEED\u001b[0m\u001b[1;36m]\u001b[0m\u001b[36m ℹ LIVE CHECK VALID for \u001b[0m\u001b[4;36mhttps://www.bbc.com/sport/football/womens\u001b[0m\u001b[36m \u001b[0m\n"
      ]
     },
     "metadata": {},
     "output_type": "display_data"
    },
    {
     "data": {
      "text/html": [
       "<pre style=\"white-space:pre;overflow-x:auto;line-height:normal;font-family:Menlo,'DejaVu Sans Mono',consolas,'Courier New',monospace\"><span style=\"color: #008080; text-decoration-color: #008080; font-weight: bold\">[</span><span style=\"color: #008080; text-decoration-color: #008080\">URL_SEED</span><span style=\"color: #008080; text-decoration-color: #008080; font-weight: bold\">]</span><span style=\"color: #008080; text-decoration-color: #008080\"> ℹ LIVE CHECK VALID for </span><span style=\"color: #008080; text-decoration-color: #008080; text-decoration: underline\">https://www.bbc.com/sport/football/scottish-premiership</span><span style=\"color: #008080; text-decoration-color: #008080\"> </span>\n",
       "</pre>\n"
      ],
      "text/plain": [
       "\u001b[1;36m[\u001b[0m\u001b[36mURL_SEED\u001b[0m\u001b[1;36m]\u001b[0m\u001b[36m ℹ LIVE CHECK VALID for \u001b[0m\u001b[4;36mhttps://www.bbc.com/sport/football/scottish-premiership\u001b[0m\u001b[36m \u001b[0m\n"
      ]
     },
     "metadata": {},
     "output_type": "display_data"
    },
    {
     "data": {
      "text/html": [
       "<pre style=\"white-space:pre;overflow-x:auto;line-height:normal;font-family:Menlo,'DejaVu Sans Mono',consolas,'Courier New',monospace\"><span style=\"color: #008080; text-decoration-color: #008080; font-weight: bold\">[</span><span style=\"color: #008080; text-decoration-color: #008080\">URL_SEED</span><span style=\"color: #008080; text-decoration-color: #008080; font-weight: bold\">]</span><span style=\"color: #008080; text-decoration-color: #008080\"> ℹ LIVE CHECK VALID for </span><span style=\"color: #008080; text-decoration-color: #008080; text-decoration: underline\">https://www.bbc.com/sport/football/teams/manchester-united</span><span style=\"color: #008080; text-decoration-color: #008080\"> </span>\n",
       "</pre>\n"
      ],
      "text/plain": [
       "\u001b[1;36m[\u001b[0m\u001b[36mURL_SEED\u001b[0m\u001b[1;36m]\u001b[0m\u001b[36m ℹ LIVE CHECK VALID for \u001b[0m\u001b[4;36mhttps://www.bbc.com/sport/football/teams/manchester-united\u001b[0m\u001b[36m \u001b[0m\n"
      ]
     },
     "metadata": {},
     "output_type": "display_data"
    },
    {
     "data": {
      "text/html": [
       "<pre style=\"white-space:pre;overflow-x:auto;line-height:normal;font-family:Menlo,'DejaVu Sans Mono',consolas,'Courier New',monospace\"><span style=\"color: #008080; text-decoration-color: #008080; font-weight: bold\">[</span><span style=\"color: #008080; text-decoration-color: #008080\">URL_SEED</span><span style=\"color: #008080; text-decoration-color: #008080; font-weight: bold\">]</span><span style=\"color: #008080; text-decoration-color: #008080\"> ℹ LIVE CHECK VALID for </span><span style=\"color: #008080; text-decoration-color: #008080; text-decoration: underline\">https://www.bbc.com/sport/football/teams/arsenal</span><span style=\"color: #008080; text-decoration-color: #008080\"> </span>\n",
       "</pre>\n"
      ],
      "text/plain": [
       "\u001b[1;36m[\u001b[0m\u001b[36mURL_SEED\u001b[0m\u001b[1;36m]\u001b[0m\u001b[36m ℹ LIVE CHECK VALID for \u001b[0m\u001b[4;36mhttps://www.bbc.com/sport/football/teams/arsenal\u001b[0m\u001b[36m \u001b[0m\n"
      ]
     },
     "metadata": {},
     "output_type": "display_data"
    },
    {
     "data": {
      "text/html": [
       "<pre style=\"white-space:pre;overflow-x:auto;line-height:normal;font-family:Menlo,'DejaVu Sans Mono',consolas,'Courier New',monospace\"><span style=\"color: #808080; text-decoration-color: #808080; font-weight: bold\">[</span><span style=\"color: #808080; text-decoration-color: #808080\">URL_SEED</span><span style=\"color: #808080; text-decoration-color: #808080; font-weight: bold\">]</span><span style=\"color: #808080; text-decoration-color: #808080\"> ℹ Performing live check for </span><span style=\"color: #808080; text-decoration-color: #808080; text-decoration: underline\">https://www.bbc.com/sport/football/teams/tottenham-hotspur</span><span style=\"color: #808080; text-decoration-color: #808080\"> </span>\n",
       "</pre>\n"
      ],
      "text/plain": [
       "\u001b[1;90m[\u001b[0m\u001b[90mURL_SEED\u001b[0m\u001b[1;90m]\u001b[0m\u001b[90m ℹ Performing live check for \u001b[0m\u001b[4;90mhttps://www.bbc.com/sport/football/teams/tottenham-hotspur\u001b[0m\u001b[90m \u001b[0m\n"
      ]
     },
     "metadata": {},
     "output_type": "display_data"
    },
    {
     "data": {
      "text/html": [
       "<pre style=\"white-space:pre;overflow-x:auto;line-height:normal;font-family:Menlo,'DejaVu Sans Mono',consolas,'Courier New',monospace\"><span style=\"color: #808080; text-decoration-color: #808080; font-weight: bold\">[</span><span style=\"color: #808080; text-decoration-color: #808080\">URL_SEED</span><span style=\"color: #808080; text-decoration-color: #808080; font-weight: bold\">]</span><span style=\"color: #808080; text-decoration-color: #808080\"> ℹ Performing live check for </span><span style=\"color: #808080; text-decoration-color: #808080; text-decoration: underline\">https://www.bbc.com/sport/football/league-cup</span><span style=\"color: #808080; text-decoration-color: #808080\"> </span>\n",
       "</pre>\n"
      ],
      "text/plain": [
       "\u001b[1;90m[\u001b[0m\u001b[90mURL_SEED\u001b[0m\u001b[1;90m]\u001b[0m\u001b[90m ℹ Performing live check for \u001b[0m\u001b[4;90mhttps://www.bbc.com/sport/football/league-cup\u001b[0m\u001b[90m \u001b[0m\n"
      ]
     },
     "metadata": {},
     "output_type": "display_data"
    },
    {
     "data": {
      "text/html": [
       "<pre style=\"white-space:pre;overflow-x:auto;line-height:normal;font-family:Menlo,'DejaVu Sans Mono',consolas,'Courier New',monospace\"><span style=\"color: #808080; text-decoration-color: #808080; font-weight: bold\">[</span><span style=\"color: #808080; text-decoration-color: #808080\">URL_SEED</span><span style=\"color: #808080; text-decoration-color: #808080; font-weight: bold\">]</span><span style=\"color: #808080; text-decoration-color: #808080\"> ℹ Performing live check for </span><span style=\"color: #808080; text-decoration-color: #808080; text-decoration: underline\">https://www.bbc.com/sport/football/teams/aston-villa</span><span style=\"color: #808080; text-decoration-color: #808080\"> </span>\n",
       "</pre>\n"
      ],
      "text/plain": [
       "\u001b[1;90m[\u001b[0m\u001b[90mURL_SEED\u001b[0m\u001b[1;90m]\u001b[0m\u001b[90m ℹ Performing live check for \u001b[0m\u001b[4;90mhttps://www.bbc.com/sport/football/teams/aston-villa\u001b[0m\u001b[90m \u001b[0m\n"
      ]
     },
     "metadata": {},
     "output_type": "display_data"
    },
    {
     "data": {
      "text/html": [
       "<pre style=\"white-space:pre;overflow-x:auto;line-height:normal;font-family:Menlo,'DejaVu Sans Mono',consolas,'Courier New',monospace\"><span style=\"color: #808080; text-decoration-color: #808080; font-weight: bold\">[</span><span style=\"color: #808080; text-decoration-color: #808080\">URL_SEED</span><span style=\"color: #808080; text-decoration-color: #808080; font-weight: bold\">]</span><span style=\"color: #808080; text-decoration-color: #808080\"> ℹ Performing live check for </span><span style=\"color: #808080; text-decoration-color: #808080; text-decoration: underline\">https://www.bbc.com/sport/football/fa-cup</span><span style=\"color: #808080; text-decoration-color: #808080\"> </span>\n",
       "</pre>\n"
      ],
      "text/plain": [
       "\u001b[1;90m[\u001b[0m\u001b[90mURL_SEED\u001b[0m\u001b[1;90m]\u001b[0m\u001b[90m ℹ Performing live check for \u001b[0m\u001b[4;90mhttps://www.bbc.com/sport/football/fa-cup\u001b[0m\u001b[90m \u001b[0m\n"
      ]
     },
     "metadata": {},
     "output_type": "display_data"
    },
    {
     "data": {
      "text/html": [
       "<pre style=\"white-space:pre;overflow-x:auto;line-height:normal;font-family:Menlo,'DejaVu Sans Mono',consolas,'Courier New',monospace\"><span style=\"color: #008080; text-decoration-color: #008080; font-weight: bold\">[</span><span style=\"color: #008080; text-decoration-color: #008080\">URL_SEED</span><span style=\"color: #008080; text-decoration-color: #008080; font-weight: bold\">]</span><span style=\"color: #008080; text-decoration-color: #008080\"> ℹ LIVE CHECK VALID for </span><span style=\"color: #008080; text-decoration-color: #008080; text-decoration: underline\">https://www.bbc.com/sport/football/league-one</span><span style=\"color: #008080; text-decoration-color: #008080\"> </span>\n",
       "</pre>\n"
      ],
      "text/plain": [
       "\u001b[1;36m[\u001b[0m\u001b[36mURL_SEED\u001b[0m\u001b[1;36m]\u001b[0m\u001b[36m ℹ LIVE CHECK VALID for \u001b[0m\u001b[4;36mhttps://www.bbc.com/sport/football/league-one\u001b[0m\u001b[36m \u001b[0m\n"
      ]
     },
     "metadata": {},
     "output_type": "display_data"
    },
    {
     "data": {
      "text/html": [
       "<pre style=\"white-space:pre;overflow-x:auto;line-height:normal;font-family:Menlo,'DejaVu Sans Mono',consolas,'Courier New',monospace\"><span style=\"color: #808080; text-decoration-color: #808080; font-weight: bold\">[</span><span style=\"color: #808080; text-decoration-color: #808080\">URL_SEED</span><span style=\"color: #808080; text-decoration-color: #808080; font-weight: bold\">]</span><span style=\"color: #808080; text-decoration-color: #808080\"> ℹ Performing live check for </span><span style=\"color: #808080; text-decoration-color: #808080; text-decoration: underline\">https://www.bbc.com/sport/football/teams/chelsea</span><span style=\"color: #808080; text-decoration-color: #808080\"> </span>\n",
       "</pre>\n"
      ],
      "text/plain": [
       "\u001b[1;90m[\u001b[0m\u001b[90mURL_SEED\u001b[0m\u001b[1;90m]\u001b[0m\u001b[90m ℹ Performing live check for \u001b[0m\u001b[4;90mhttps://www.bbc.com/sport/football/teams/chelsea\u001b[0m\u001b[90m \u001b[0m\n"
      ]
     },
     "metadata": {},
     "output_type": "display_data"
    },
    {
     "data": {
      "text/html": [
       "<pre style=\"white-space:pre;overflow-x:auto;line-height:normal;font-family:Menlo,'DejaVu Sans Mono',consolas,'Courier New',monospace\"><span style=\"color: #008080; text-decoration-color: #008080; font-weight: bold\">[</span><span style=\"color: #008080; text-decoration-color: #008080\">URL_SEED</span><span style=\"color: #008080; text-decoration-color: #008080; font-weight: bold\">]</span><span style=\"color: #008080; text-decoration-color: #008080\"> ℹ LIVE CHECK VALID for </span><span style=\"color: #008080; text-decoration-color: #008080; text-decoration: underline\">https://www.bbc.com/sport/football/teams/tottenham-hotspur</span><span style=\"color: #008080; text-decoration-color: #008080\"> </span>\n",
       "</pre>\n"
      ],
      "text/plain": [
       "\u001b[1;36m[\u001b[0m\u001b[36mURL_SEED\u001b[0m\u001b[1;36m]\u001b[0m\u001b[36m ℹ LIVE CHECK VALID for \u001b[0m\u001b[4;36mhttps://www.bbc.com/sport/football/teams/tottenham-hotspur\u001b[0m\u001b[36m \u001b[0m\n"
      ]
     },
     "metadata": {},
     "output_type": "display_data"
    },
    {
     "data": {
      "text/html": [
       "<pre style=\"white-space:pre;overflow-x:auto;line-height:normal;font-family:Menlo,'DejaVu Sans Mono',consolas,'Courier New',monospace\"><span style=\"color: #008080; text-decoration-color: #008080; font-weight: bold\">[</span><span style=\"color: #008080; text-decoration-color: #008080\">URL_SEED</span><span style=\"color: #008080; text-decoration-color: #008080; font-weight: bold\">]</span><span style=\"color: #008080; text-decoration-color: #008080\"> ℹ LIVE CHECK VALID for </span><span style=\"color: #008080; text-decoration-color: #008080; text-decoration: underline\">https://www.bbc.com/sport/football/teams/aston-villa</span><span style=\"color: #008080; text-decoration-color: #008080\"> </span>\n",
       "</pre>\n"
      ],
      "text/plain": [
       "\u001b[1;36m[\u001b[0m\u001b[36mURL_SEED\u001b[0m\u001b[1;36m]\u001b[0m\u001b[36m ℹ LIVE CHECK VALID for \u001b[0m\u001b[4;36mhttps://www.bbc.com/sport/football/teams/aston-villa\u001b[0m\u001b[36m \u001b[0m\n"
      ]
     },
     "metadata": {},
     "output_type": "display_data"
    },
    {
     "data": {
      "text/html": [
       "<pre style=\"white-space:pre;overflow-x:auto;line-height:normal;font-family:Menlo,'DejaVu Sans Mono',consolas,'Courier New',monospace\"><span style=\"color: #008080; text-decoration-color: #008080; font-weight: bold\">[</span><span style=\"color: #008080; text-decoration-color: #008080\">URL_SEED</span><span style=\"color: #008080; text-decoration-color: #008080; font-weight: bold\">]</span><span style=\"color: #008080; text-decoration-color: #008080\"> ℹ LIVE CHECK VALID for </span><span style=\"color: #008080; text-decoration-color: #008080; text-decoration: underline\">https://www.bbc.com/sport/football/fa-cup</span><span style=\"color: #008080; text-decoration-color: #008080\"> </span>\n",
       "</pre>\n"
      ],
      "text/plain": [
       "\u001b[1;36m[\u001b[0m\u001b[36mURL_SEED\u001b[0m\u001b[1;36m]\u001b[0m\u001b[36m ℹ LIVE CHECK VALID for \u001b[0m\u001b[4;36mhttps://www.bbc.com/sport/football/fa-cup\u001b[0m\u001b[36m \u001b[0m\n"
      ]
     },
     "metadata": {},
     "output_type": "display_data"
    },
    {
     "data": {
      "text/html": [
       "<pre style=\"white-space:pre;overflow-x:auto;line-height:normal;font-family:Menlo,'DejaVu Sans Mono',consolas,'Courier New',monospace\"><span style=\"color: #008080; text-decoration-color: #008080; font-weight: bold\">[</span><span style=\"color: #008080; text-decoration-color: #008080\">URL_SEED</span><span style=\"color: #008080; text-decoration-color: #008080; font-weight: bold\">]</span><span style=\"color: #008080; text-decoration-color: #008080\"> ℹ LIVE CHECK VALID for </span><span style=\"color: #008080; text-decoration-color: #008080; text-decoration: underline\">https://www.bbc.com/sport/football/league-cup</span><span style=\"color: #008080; text-decoration-color: #008080\"> </span>\n",
       "</pre>\n"
      ],
      "text/plain": [
       "\u001b[1;36m[\u001b[0m\u001b[36mURL_SEED\u001b[0m\u001b[1;36m]\u001b[0m\u001b[36m ℹ LIVE CHECK VALID for \u001b[0m\u001b[4;36mhttps://www.bbc.com/sport/football/league-cup\u001b[0m\u001b[36m \u001b[0m\n"
      ]
     },
     "metadata": {},
     "output_type": "display_data"
    },
    {
     "data": {
      "text/html": [
       "<pre style=\"white-space:pre;overflow-x:auto;line-height:normal;font-family:Menlo,'DejaVu Sans Mono',consolas,'Courier New',monospace\"><span style=\"color: #808080; text-decoration-color: #808080; font-weight: bold\">[</span><span style=\"color: #808080; text-decoration-color: #808080\">URL_SEED</span><span style=\"color: #808080; text-decoration-color: #808080; font-weight: bold\">]</span><span style=\"color: #808080; text-decoration-color: #808080\"> ℹ Performing live check for </span><span style=\"color: #808080; text-decoration-color: #808080; text-decoration: underline\">https://www.bbc.com/sport/basketball</span><span style=\"color: #808080; text-decoration-color: #808080\"> </span>\n",
       "</pre>\n"
      ],
      "text/plain": [
       "\u001b[1;90m[\u001b[0m\u001b[90mURL_SEED\u001b[0m\u001b[1;90m]\u001b[0m\u001b[90m ℹ Performing live check for \u001b[0m\u001b[4;90mhttps://www.bbc.com/sport/basketball\u001b[0m\u001b[90m \u001b[0m\n"
      ]
     },
     "metadata": {},
     "output_type": "display_data"
    },
    {
     "data": {
      "text/html": [
       "<pre style=\"white-space:pre;overflow-x:auto;line-height:normal;font-family:Menlo,'DejaVu Sans Mono',consolas,'Courier New',monospace\"><span style=\"color: #008080; text-decoration-color: #008080; font-weight: bold\">[</span><span style=\"color: #008080; text-decoration-color: #008080\">URL_SEED</span><span style=\"color: #008080; text-decoration-color: #008080; font-weight: bold\">]</span><span style=\"color: #008080; text-decoration-color: #008080\"> ℹ LIVE CHECK VALID for </span><span style=\"color: #008080; text-decoration-color: #008080; text-decoration: underline\">https://www.bbc.com/sport/football/teams/chelsea</span><span style=\"color: #008080; text-decoration-color: #008080\"> </span>\n",
       "</pre>\n"
      ],
      "text/plain": [
       "\u001b[1;36m[\u001b[0m\u001b[36mURL_SEED\u001b[0m\u001b[1;36m]\u001b[0m\u001b[36m ℹ LIVE CHECK VALID for \u001b[0m\u001b[4;36mhttps://www.bbc.com/sport/football/teams/chelsea\u001b[0m\u001b[36m \u001b[0m\n"
      ]
     },
     "metadata": {},
     "output_type": "display_data"
    },
    {
     "data": {
      "text/html": [
       "<pre style=\"white-space:pre;overflow-x:auto;line-height:normal;font-family:Menlo,'DejaVu Sans Mono',consolas,'Courier New',monospace\"><span style=\"color: #808080; text-decoration-color: #808080; font-weight: bold\">[</span><span style=\"color: #808080; text-decoration-color: #808080\">URL_SEED</span><span style=\"color: #808080; text-decoration-color: #808080; font-weight: bold\">]</span><span style=\"color: #808080; text-decoration-color: #808080\"> ℹ Performing live check for </span><span style=\"color: #808080; text-decoration-color: #808080; text-decoration: underline\">https://www.bbc.com/sport/football/teams/everton</span><span style=\"color: #808080; text-decoration-color: #808080\"> </span>\n",
       "</pre>\n"
      ],
      "text/plain": [
       "\u001b[1;90m[\u001b[0m\u001b[90mURL_SEED\u001b[0m\u001b[1;90m]\u001b[0m\u001b[90m ℹ Performing live check for \u001b[0m\u001b[4;90mhttps://www.bbc.com/sport/football/teams/everton\u001b[0m\u001b[90m \u001b[0m\n"
      ]
     },
     "metadata": {},
     "output_type": "display_data"
    },
    {
     "data": {
      "text/html": [
       "<pre style=\"white-space:pre;overflow-x:auto;line-height:normal;font-family:Menlo,'DejaVu Sans Mono',consolas,'Courier New',monospace\"><span style=\"color: #808080; text-decoration-color: #808080; font-weight: bold\">[</span><span style=\"color: #808080; text-decoration-color: #808080\">URL_SEED</span><span style=\"color: #808080; text-decoration-color: #808080; font-weight: bold\">]</span><span style=\"color: #808080; text-decoration-color: #808080\"> ℹ Performing live check for </span><span style=\"color: #808080; text-decoration-color: #808080; text-decoration: underline\">https://www.bbc.com/sport/football/teams/england</span><span style=\"color: #808080; text-decoration-color: #808080\"> </span>\n",
       "</pre>\n"
      ],
      "text/plain": [
       "\u001b[1;90m[\u001b[0m\u001b[90mURL_SEED\u001b[0m\u001b[1;90m]\u001b[0m\u001b[90m ℹ Performing live check for \u001b[0m\u001b[4;90mhttps://www.bbc.com/sport/football/teams/england\u001b[0m\u001b[90m \u001b[0m\n"
      ]
     },
     "metadata": {},
     "output_type": "display_data"
    },
    {
     "data": {
      "text/html": [
       "<pre style=\"white-space:pre;overflow-x:auto;line-height:normal;font-family:Menlo,'DejaVu Sans Mono',consolas,'Courier New',monospace\"><span style=\"color: #808080; text-decoration-color: #808080; font-weight: bold\">[</span><span style=\"color: #808080; text-decoration-color: #808080\">URL_SEED</span><span style=\"color: #808080; text-decoration-color: #808080; font-weight: bold\">]</span><span style=\"color: #808080; text-decoration-color: #808080\"> ℹ Performing live check for </span><span style=\"color: #808080; text-decoration-color: #808080; text-decoration: underline\">https://www.bbc.com/sport/cricket/counties</span><span style=\"color: #808080; text-decoration-color: #808080\"> </span>\n",
       "</pre>\n"
      ],
      "text/plain": [
       "\u001b[1;90m[\u001b[0m\u001b[90mURL_SEED\u001b[0m\u001b[1;90m]\u001b[0m\u001b[90m ℹ Performing live check for \u001b[0m\u001b[4;90mhttps://www.bbc.com/sport/cricket/counties\u001b[0m\u001b[90m \u001b[0m\n"
      ]
     },
     "metadata": {},
     "output_type": "display_data"
    },
    {
     "data": {
      "text/html": [
       "<pre style=\"white-space:pre;overflow-x:auto;line-height:normal;font-family:Menlo,'DejaVu Sans Mono',consolas,'Courier New',monospace\"><span style=\"color: #808080; text-decoration-color: #808080; font-weight: bold\">[</span><span style=\"color: #808080; text-decoration-color: #808080\">URL_SEED</span><span style=\"color: #808080; text-decoration-color: #808080; font-weight: bold\">]</span><span style=\"color: #808080; text-decoration-color: #808080\"> ℹ Performing live check for </span><span style=\"color: #808080; text-decoration-color: #808080; text-decoration: underline\">https://www.bbc.com/sport/commonwealth-games</span><span style=\"color: #808080; text-decoration-color: #808080\"> </span>\n",
       "</pre>\n"
      ],
      "text/plain": [
       "\u001b[1;90m[\u001b[0m\u001b[90mURL_SEED\u001b[0m\u001b[1;90m]\u001b[0m\u001b[90m ℹ Performing live check for \u001b[0m\u001b[4;90mhttps://www.bbc.com/sport/commonwealth-games\u001b[0m\u001b[90m \u001b[0m\n"
      ]
     },
     "metadata": {},
     "output_type": "display_data"
    },
    {
     "data": {
      "text/html": [
       "<pre style=\"white-space:pre;overflow-x:auto;line-height:normal;font-family:Menlo,'DejaVu Sans Mono',consolas,'Courier New',monospace\"><span style=\"color: #008080; text-decoration-color: #008080; font-weight: bold\">[</span><span style=\"color: #008080; text-decoration-color: #008080\">URL_SEED</span><span style=\"color: #008080; text-decoration-color: #008080; font-weight: bold\">]</span><span style=\"color: #008080; text-decoration-color: #008080\"> ℹ LIVE CHECK VALID for </span><span style=\"color: #008080; text-decoration-color: #008080; text-decoration: underline\">https://www.bbc.com/sport/basketball</span><span style=\"color: #008080; text-decoration-color: #008080\"> </span>\n",
       "</pre>\n"
      ],
      "text/plain": [
       "\u001b[1;36m[\u001b[0m\u001b[36mURL_SEED\u001b[0m\u001b[1;36m]\u001b[0m\u001b[36m ℹ LIVE CHECK VALID for \u001b[0m\u001b[4;36mhttps://www.bbc.com/sport/basketball\u001b[0m\u001b[36m \u001b[0m\n"
      ]
     },
     "metadata": {},
     "output_type": "display_data"
    },
    {
     "data": {
      "text/html": [
       "<pre style=\"white-space:pre;overflow-x:auto;line-height:normal;font-family:Menlo,'DejaVu Sans Mono',consolas,'Courier New',monospace\"><span style=\"color: #808080; text-decoration-color: #808080; font-weight: bold\">[</span><span style=\"color: #808080; text-decoration-color: #808080\">URL_SEED</span><span style=\"color: #808080; text-decoration-color: #808080; font-weight: bold\">]</span><span style=\"color: #808080; text-decoration-color: #808080\"> ℹ Performing live check for </span><span style=\"color: #808080; text-decoration-color: #808080; text-decoration: underline\">https://www.bbc.com/sport/olympics</span><span style=\"color: #808080; text-decoration-color: #808080\"> </span>\n",
       "</pre>\n"
      ],
      "text/plain": [
       "\u001b[1;90m[\u001b[0m\u001b[90mURL_SEED\u001b[0m\u001b[1;90m]\u001b[0m\u001b[90m ℹ Performing live check for \u001b[0m\u001b[4;90mhttps://www.bbc.com/sport/olympics\u001b[0m\u001b[90m \u001b[0m\n"
      ]
     },
     "metadata": {},
     "output_type": "display_data"
    },
    {
     "data": {
      "text/html": [
       "<pre style=\"white-space:pre;overflow-x:auto;line-height:normal;font-family:Menlo,'DejaVu Sans Mono',consolas,'Courier New',monospace\"><span style=\"color: #008080; text-decoration-color: #008080; font-weight: bold\">[</span><span style=\"color: #008080; text-decoration-color: #008080\">URL_SEED</span><span style=\"color: #008080; text-decoration-color: #008080; font-weight: bold\">]</span><span style=\"color: #008080; text-decoration-color: #008080\"> ℹ LIVE CHECK VALID for </span><span style=\"color: #008080; text-decoration-color: #008080; text-decoration: underline\">https://www.bbc.com/sport/football/teams/everton</span><span style=\"color: #008080; text-decoration-color: #008080\"> </span>\n",
       "</pre>\n"
      ],
      "text/plain": [
       "\u001b[1;36m[\u001b[0m\u001b[36mURL_SEED\u001b[0m\u001b[1;36m]\u001b[0m\u001b[36m ℹ LIVE CHECK VALID for \u001b[0m\u001b[4;36mhttps://www.bbc.com/sport/football/teams/everton\u001b[0m\u001b[36m \u001b[0m\n"
      ]
     },
     "metadata": {},
     "output_type": "display_data"
    },
    {
     "data": {
      "text/html": [
       "<pre style=\"white-space:pre;overflow-x:auto;line-height:normal;font-family:Menlo,'DejaVu Sans Mono',consolas,'Courier New',monospace\"><span style=\"color: #008080; text-decoration-color: #008080; font-weight: bold\">[</span><span style=\"color: #008080; text-decoration-color: #008080\">URL_SEED</span><span style=\"color: #008080; text-decoration-color: #008080; font-weight: bold\">]</span><span style=\"color: #008080; text-decoration-color: #008080\"> ℹ LIVE CHECK VALID for </span><span style=\"color: #008080; text-decoration-color: #008080; text-decoration: underline\">https://www.bbc.com/sport/football/teams/england</span><span style=\"color: #008080; text-decoration-color: #008080\"> </span>\n",
       "</pre>\n"
      ],
      "text/plain": [
       "\u001b[1;36m[\u001b[0m\u001b[36mURL_SEED\u001b[0m\u001b[1;36m]\u001b[0m\u001b[36m ℹ LIVE CHECK VALID for \u001b[0m\u001b[4;36mhttps://www.bbc.com/sport/football/teams/england\u001b[0m\u001b[36m \u001b[0m\n"
      ]
     },
     "metadata": {},
     "output_type": "display_data"
    },
    {
     "data": {
      "text/html": [
       "<pre style=\"white-space:pre;overflow-x:auto;line-height:normal;font-family:Menlo,'DejaVu Sans Mono',consolas,'Courier New',monospace\"><span style=\"color: #008080; text-decoration-color: #008080; font-weight: bold\">[</span><span style=\"color: #008080; text-decoration-color: #008080\">URL_SEED</span><span style=\"color: #008080; text-decoration-color: #008080; font-weight: bold\">]</span><span style=\"color: #008080; text-decoration-color: #008080\"> ℹ LIVE CHECK VALID for </span><span style=\"color: #008080; text-decoration-color: #008080; text-decoration: underline\">https://www.bbc.com/sport/cricket/counties</span><span style=\"color: #008080; text-decoration-color: #008080\"> </span>\n",
       "</pre>\n"
      ],
      "text/plain": [
       "\u001b[1;36m[\u001b[0m\u001b[36mURL_SEED\u001b[0m\u001b[1;36m]\u001b[0m\u001b[36m ℹ LIVE CHECK VALID for \u001b[0m\u001b[4;36mhttps://www.bbc.com/sport/cricket/counties\u001b[0m\u001b[36m \u001b[0m\n"
      ]
     },
     "metadata": {},
     "output_type": "display_data"
    },
    {
     "data": {
      "text/html": [
       "<pre style=\"white-space:pre;overflow-x:auto;line-height:normal;font-family:Menlo,'DejaVu Sans Mono',consolas,'Courier New',monospace\"><span style=\"color: #008080; text-decoration-color: #008080; font-weight: bold\">[</span><span style=\"color: #008080; text-decoration-color: #008080\">URL_SEED</span><span style=\"color: #008080; text-decoration-color: #008080; font-weight: bold\">]</span><span style=\"color: #008080; text-decoration-color: #008080\"> ℹ LIVE CHECK VALID for </span><span style=\"color: #008080; text-decoration-color: #008080; text-decoration: underline\">https://www.bbc.com/sport/commonwealth-games</span><span style=\"color: #008080; text-decoration-color: #008080\"> </span>\n",
       "</pre>\n"
      ],
      "text/plain": [
       "\u001b[1;36m[\u001b[0m\u001b[36mURL_SEED\u001b[0m\u001b[1;36m]\u001b[0m\u001b[36m ℹ LIVE CHECK VALID for \u001b[0m\u001b[4;36mhttps://www.bbc.com/sport/commonwealth-games\u001b[0m\u001b[36m \u001b[0m\n"
      ]
     },
     "metadata": {},
     "output_type": "display_data"
    },
    {
     "data": {
      "text/html": [
       "<pre style=\"white-space:pre;overflow-x:auto;line-height:normal;font-family:Menlo,'DejaVu Sans Mono',consolas,'Courier New',monospace\"><span style=\"color: #808080; text-decoration-color: #808080; font-weight: bold\">[</span><span style=\"color: #808080; text-decoration-color: #808080\">URL_SEED</span><span style=\"color: #808080; text-decoration-color: #808080; font-weight: bold\">]</span><span style=\"color: #808080; text-decoration-color: #808080\"> ℹ Performing live check for </span><span style=\"color: #808080; text-decoration-color: #808080; text-decoration: underline\">https://www.bbc.com/sport/football/world-cup</span><span style=\"color: #808080; text-decoration-color: #808080\"> </span>\n",
       "</pre>\n"
      ],
      "text/plain": [
       "\u001b[1;90m[\u001b[0m\u001b[90mURL_SEED\u001b[0m\u001b[1;90m]\u001b[0m\u001b[90m ℹ Performing live check for \u001b[0m\u001b[4;90mhttps://www.bbc.com/sport/football/world-cup\u001b[0m\u001b[90m \u001b[0m\n"
      ]
     },
     "metadata": {},
     "output_type": "display_data"
    },
    {
     "data": {
      "text/html": [
       "<pre style=\"white-space:pre;overflow-x:auto;line-height:normal;font-family:Menlo,'DejaVu Sans Mono',consolas,'Courier New',monospace\"><span style=\"color: #008080; text-decoration-color: #008080; font-weight: bold\">[</span><span style=\"color: #008080; text-decoration-color: #008080\">URL_SEED</span><span style=\"color: #008080; text-decoration-color: #008080; font-weight: bold\">]</span><span style=\"color: #008080; text-decoration-color: #008080\"> ℹ LIVE CHECK VALID for </span><span style=\"color: #008080; text-decoration-color: #008080; text-decoration: underline\">https://www.bbc.com/sport/olympics</span><span style=\"color: #008080; text-decoration-color: #008080\"> </span>\n",
       "</pre>\n"
      ],
      "text/plain": [
       "\u001b[1;36m[\u001b[0m\u001b[36mURL_SEED\u001b[0m\u001b[1;36m]\u001b[0m\u001b[36m ℹ LIVE CHECK VALID for \u001b[0m\u001b[4;36mhttps://www.bbc.com/sport/olympics\u001b[0m\u001b[36m \u001b[0m\n"
      ]
     },
     "metadata": {},
     "output_type": "display_data"
    },
    {
     "data": {
      "text/html": [
       "<pre style=\"white-space:pre;overflow-x:auto;line-height:normal;font-family:Menlo,'DejaVu Sans Mono',consolas,'Courier New',monospace\"><span style=\"color: #808080; text-decoration-color: #808080; font-weight: bold\">[</span><span style=\"color: #808080; text-decoration-color: #808080\">URL_SEED</span><span style=\"color: #808080; text-decoration-color: #808080; font-weight: bold\">]</span><span style=\"color: #808080; text-decoration-color: #808080\"> ℹ Performing live check for </span><span style=\"color: #808080; text-decoration-color: #808080; text-decoration: underline\">https://www.bbc.com/sport/mixed-martial-arts</span><span style=\"color: #808080; text-decoration-color: #808080\"> </span>\n",
       "</pre>\n"
      ],
      "text/plain": [
       "\u001b[1;90m[\u001b[0m\u001b[90mURL_SEED\u001b[0m\u001b[1;90m]\u001b[0m\u001b[90m ℹ Performing live check for \u001b[0m\u001b[4;90mhttps://www.bbc.com/sport/mixed-martial-arts\u001b[0m\u001b[90m \u001b[0m\n"
      ]
     },
     "metadata": {},
     "output_type": "display_data"
    },
    {
     "data": {
      "text/html": [
       "<pre style=\"white-space:pre;overflow-x:auto;line-height:normal;font-family:Menlo,'DejaVu Sans Mono',consolas,'Courier New',monospace\"><span style=\"color: #808080; text-decoration-color: #808080; font-weight: bold\">[</span><span style=\"color: #808080; text-decoration-color: #808080\">URL_SEED</span><span style=\"color: #808080; text-decoration-color: #808080; font-weight: bold\">]</span><span style=\"color: #808080; text-decoration-color: #808080\"> ℹ Performing live check for </span><span style=\"color: #808080; text-decoration-color: #808080; text-decoration: underline\">https://www.bbc.com/sport/football/europa-league</span><span style=\"color: #808080; text-decoration-color: #808080\"> </span>\n",
       "</pre>\n"
      ],
      "text/plain": [
       "\u001b[1;90m[\u001b[0m\u001b[90mURL_SEED\u001b[0m\u001b[1;90m]\u001b[0m\u001b[90m ℹ Performing live check for \u001b[0m\u001b[4;90mhttps://www.bbc.com/sport/football/europa-league\u001b[0m\u001b[90m \u001b[0m\n"
      ]
     },
     "metadata": {},
     "output_type": "display_data"
    },
    {
     "data": {
      "text/html": [
       "<pre style=\"white-space:pre;overflow-x:auto;line-height:normal;font-family:Menlo,'DejaVu Sans Mono',consolas,'Courier New',monospace\"><span style=\"color: #808080; text-decoration-color: #808080; font-weight: bold\">[</span><span style=\"color: #808080; text-decoration-color: #808080\">URL_SEED</span><span style=\"color: #808080; text-decoration-color: #808080; font-weight: bold\">]</span><span style=\"color: #808080; text-decoration-color: #808080\"> ℹ Performing live check for </span><span style=\"color: #808080; text-decoration-color: #808080; text-decoration: underline\">https://www.bbc.com/sport/football/teams/manchester-city</span><span style=\"color: #808080; text-decoration-color: #808080\"> </span>\n",
       "</pre>\n"
      ],
      "text/plain": [
       "\u001b[1;90m[\u001b[0m\u001b[90mURL_SEED\u001b[0m\u001b[1;90m]\u001b[0m\u001b[90m ℹ Performing live check for \u001b[0m\u001b[4;90mhttps://www.bbc.com/sport/football/teams/manchester-city\u001b[0m\u001b[90m \u001b[0m\n"
      ]
     },
     "metadata": {},
     "output_type": "display_data"
    },
    {
     "data": {
      "text/html": [
       "<pre style=\"white-space:pre;overflow-x:auto;line-height:normal;font-family:Menlo,'DejaVu Sans Mono',consolas,'Courier New',monospace\"><span style=\"color: #808080; text-decoration-color: #808080; font-weight: bold\">[</span><span style=\"color: #808080; text-decoration-color: #808080\">URL_SEED</span><span style=\"color: #808080; text-decoration-color: #808080; font-weight: bold\">]</span><span style=\"color: #808080; text-decoration-color: #808080\"> ℹ Performing live check for </span><span style=\"color: #808080; text-decoration-color: #808080; text-decoration: underline\">https://www.bbc.com/sport/swimming</span><span style=\"color: #808080; text-decoration-color: #808080\"> </span>\n",
       "</pre>\n"
      ],
      "text/plain": [
       "\u001b[1;90m[\u001b[0m\u001b[90mURL_SEED\u001b[0m\u001b[1;90m]\u001b[0m\u001b[90m ℹ Performing live check for \u001b[0m\u001b[4;90mhttps://www.bbc.com/sport/swimming\u001b[0m\u001b[90m \u001b[0m\n"
      ]
     },
     "metadata": {},
     "output_type": "display_data"
    },
    {
     "data": {
      "text/html": [
       "<pre style=\"white-space:pre;overflow-x:auto;line-height:normal;font-family:Menlo,'DejaVu Sans Mono',consolas,'Courier New',monospace\"><span style=\"color: #008080; text-decoration-color: #008080; font-weight: bold\">[</span><span style=\"color: #008080; text-decoration-color: #008080\">URL_SEED</span><span style=\"color: #008080; text-decoration-color: #008080; font-weight: bold\">]</span><span style=\"color: #008080; text-decoration-color: #008080\"> ℹ LIVE CHECK VALID for </span><span style=\"color: #008080; text-decoration-color: #008080; text-decoration: underline\">https://www.bbc.com/sport/football/world-cup</span><span style=\"color: #008080; text-decoration-color: #008080\"> </span>\n",
       "</pre>\n"
      ],
      "text/plain": [
       "\u001b[1;36m[\u001b[0m\u001b[36mURL_SEED\u001b[0m\u001b[1;36m]\u001b[0m\u001b[36m ℹ LIVE CHECK VALID for \u001b[0m\u001b[4;36mhttps://www.bbc.com/sport/football/world-cup\u001b[0m\u001b[36m \u001b[0m\n"
      ]
     },
     "metadata": {},
     "output_type": "display_data"
    },
    {
     "data": {
      "text/html": [
       "<pre style=\"white-space:pre;overflow-x:auto;line-height:normal;font-family:Menlo,'DejaVu Sans Mono',consolas,'Courier New',monospace\"><span style=\"color: #008080; text-decoration-color: #008080; font-weight: bold\">[</span><span style=\"color: #008080; text-decoration-color: #008080\">URL_SEED</span><span style=\"color: #008080; text-decoration-color: #008080; font-weight: bold\">]</span><span style=\"color: #008080; text-decoration-color: #008080\"> ℹ LIVE CHECK VALID for </span><span style=\"color: #008080; text-decoration-color: #008080; text-decoration: underline\">https://www.bbc.com/sport/football/europa-league</span><span style=\"color: #008080; text-decoration-color: #008080\"> </span>\n",
       "</pre>\n"
      ],
      "text/plain": [
       "\u001b[1;36m[\u001b[0m\u001b[36mURL_SEED\u001b[0m\u001b[1;36m]\u001b[0m\u001b[36m ℹ LIVE CHECK VALID for \u001b[0m\u001b[4;36mhttps://www.bbc.com/sport/football/europa-league\u001b[0m\u001b[36m \u001b[0m\n"
      ]
     },
     "metadata": {},
     "output_type": "display_data"
    },
    {
     "data": {
      "text/html": [
       "<pre style=\"white-space:pre;overflow-x:auto;line-height:normal;font-family:Menlo,'DejaVu Sans Mono',consolas,'Courier New',monospace\"><span style=\"color: #008080; text-decoration-color: #008080; font-weight: bold\">[</span><span style=\"color: #008080; text-decoration-color: #008080\">URL_SEED</span><span style=\"color: #008080; text-decoration-color: #008080; font-weight: bold\">]</span><span style=\"color: #008080; text-decoration-color: #008080\"> ℹ LIVE CHECK VALID for </span><span style=\"color: #008080; text-decoration-color: #008080; text-decoration: underline\">https://www.bbc.com/sport/football/teams/manchester-city</span><span style=\"color: #008080; text-decoration-color: #008080\"> </span>\n",
       "</pre>\n"
      ],
      "text/plain": [
       "\u001b[1;36m[\u001b[0m\u001b[36mURL_SEED\u001b[0m\u001b[1;36m]\u001b[0m\u001b[36m ℹ LIVE CHECK VALID for \u001b[0m\u001b[4;36mhttps://www.bbc.com/sport/football/teams/manchester-city\u001b[0m\u001b[36m \u001b[0m\n"
      ]
     },
     "metadata": {},
     "output_type": "display_data"
    },
    {
     "data": {
      "text/html": [
       "<pre style=\"white-space:pre;overflow-x:auto;line-height:normal;font-family:Menlo,'DejaVu Sans Mono',consolas,'Courier New',monospace\"><span style=\"color: #008080; text-decoration-color: #008080; font-weight: bold\">[</span><span style=\"color: #008080; text-decoration-color: #008080\">URL_SEED</span><span style=\"color: #008080; text-decoration-color: #008080; font-weight: bold\">]</span><span style=\"color: #008080; text-decoration-color: #008080\"> ℹ LIVE CHECK VALID for </span><span style=\"color: #008080; text-decoration-color: #008080; text-decoration: underline\">https://www.bbc.com/sport/swimming</span><span style=\"color: #008080; text-decoration-color: #008080\"> </span>\n",
       "</pre>\n"
      ],
      "text/plain": [
       "\u001b[1;36m[\u001b[0m\u001b[36mURL_SEED\u001b[0m\u001b[1;36m]\u001b[0m\u001b[36m ℹ LIVE CHECK VALID for \u001b[0m\u001b[4;36mhttps://www.bbc.com/sport/swimming\u001b[0m\u001b[36m \u001b[0m\n"
      ]
     },
     "metadata": {},
     "output_type": "display_data"
    },
    {
     "data": {
      "text/html": [
       "<pre style=\"white-space:pre;overflow-x:auto;line-height:normal;font-family:Menlo,'DejaVu Sans Mono',consolas,'Courier New',monospace\"><span style=\"color: #008080; text-decoration-color: #008080; font-weight: bold\">[</span><span style=\"color: #008080; text-decoration-color: #008080\">URL_SEED</span><span style=\"color: #008080; text-decoration-color: #008080; font-weight: bold\">]</span><span style=\"color: #008080; text-decoration-color: #008080\"> ℹ LIVE CHECK VALID for </span><span style=\"color: #008080; text-decoration-color: #008080; text-decoration: underline\">https://www.bbc.com/sport/mixed-martial-arts</span><span style=\"color: #008080; text-decoration-color: #008080\"> </span>\n",
       "</pre>\n"
      ],
      "text/plain": [
       "\u001b[1;36m[\u001b[0m\u001b[36mURL_SEED\u001b[0m\u001b[1;36m]\u001b[0m\u001b[36m ℹ LIVE CHECK VALID for \u001b[0m\u001b[4;36mhttps://www.bbc.com/sport/mixed-martial-arts\u001b[0m\u001b[36m \u001b[0m\n"
      ]
     },
     "metadata": {},
     "output_type": "display_data"
    },
    {
     "data": {
      "text/html": [
       "<pre style=\"white-space:pre;overflow-x:auto;line-height:normal;font-family:Menlo,'DejaVu Sans Mono',consolas,'Courier New',monospace\"><span style=\"color: #808080; text-decoration-color: #808080; font-weight: bold\">[</span><span style=\"color: #808080; text-decoration-color: #808080\">URL_SEED</span><span style=\"color: #808080; text-decoration-color: #808080; font-weight: bold\">]</span><span style=\"color: #808080; text-decoration-color: #808080\"> ℹ Performing live check for </span><span style=\"color: #808080; text-decoration-color: #808080; text-decoration: underline\">https://www.bbc.com/sport/live-guide</span><span style=\"color: #808080; text-decoration-color: #808080\"> </span>\n",
       "</pre>\n"
      ],
      "text/plain": [
       "\u001b[1;90m[\u001b[0m\u001b[90mURL_SEED\u001b[0m\u001b[1;90m]\u001b[0m\u001b[90m ℹ Performing live check for \u001b[0m\u001b[4;90mhttps://www.bbc.com/sport/live-guide\u001b[0m\u001b[90m \u001b[0m\n"
      ]
     },
     "metadata": {},
     "output_type": "display_data"
    },
    {
     "data": {
      "text/html": [
       "<pre style=\"white-space:pre;overflow-x:auto;line-height:normal;font-family:Menlo,'DejaVu Sans Mono',consolas,'Courier New',monospace\"><span style=\"color: #008080; text-decoration-color: #008080; font-weight: bold\">[</span><span style=\"color: #008080; text-decoration-color: #008080\">URL_SEED</span><span style=\"color: #008080; text-decoration-color: #008080; font-weight: bold\">]</span><span style=\"color: #008080; text-decoration-color: #008080\"> ℹ LIVE CHECK VALID for </span><span style=\"color: #008080; text-decoration-color: #008080; text-decoration: underline\">https://www.bbc.com/sport/live-guide</span><span style=\"color: #008080; text-decoration-color: #008080\"> </span>\n",
       "</pre>\n"
      ],
      "text/plain": [
       "\u001b[1;36m[\u001b[0m\u001b[36mURL_SEED\u001b[0m\u001b[1;36m]\u001b[0m\u001b[36m ℹ LIVE CHECK VALID for \u001b[0m\u001b[4;36mhttps://www.bbc.com/sport/live-guide\u001b[0m\u001b[36m \u001b[0m\n"
      ]
     },
     "metadata": {},
     "output_type": "display_data"
    },
    {
     "data": {
      "text/html": [
       "<pre style=\"white-space:pre;overflow-x:auto;line-height:normal;font-family:Menlo,'DejaVu Sans Mono',consolas,'Courier New',monospace\"><span style=\"color: #008080; text-decoration-color: #008080; font-weight: bold\">[</span><span style=\"color: #008080; text-decoration-color: #008080\">URL_SEED</span><span style=\"color: #008080; text-decoration-color: #008080; font-weight: bold\">]</span><span style=\"color: #008080; text-decoration-color: #008080\"> ℹ Finished URL seeding for www.bbc.com/sport. Total URLs: </span><span style=\"color: #008080; text-decoration-color: #008080; font-weight: bold\">43</span><span style=\"color: #008080; text-decoration-color: #008080\"> </span>\n",
       "</pre>\n"
      ],
      "text/plain": [
       "\u001b[1;36m[\u001b[0m\u001b[36mURL_SEED\u001b[0m\u001b[1;36m]\u001b[0m\u001b[36m ℹ Finished URL seeding for www.bbc.com/sport. Total URLs: \u001b[0m\u001b[1;36m43\u001b[0m\u001b[36m \u001b[0m\n"
      ]
     },
     "metadata": {},
     "output_type": "display_data"
    },
    {
     "data": {
      "text/html": [
       "<pre style=\"white-space:pre;overflow-x:auto;line-height:normal;font-family:Menlo,'DejaVu Sans Mono',consolas,'Courier New',monospace\"><span style=\"color: #808000; text-decoration-color: #808000; font-weight: bold\">[</span><span style=\"color: #808000; text-decoration-color: #808000\">URL_SEED</span><span style=\"color: #808000; text-decoration-color: #808000; font-weight: bold\">]</span><span style=\"color: #808000; text-decoration-color: #808000\"> ℹ Query provided but extract_head is </span><span style=\"color: #808000; text-decoration-color: #808000; font-style: italic\">False</span><span style=\"color: #808000; text-decoration-color: #808000\">. Enable extract_head for relevance scoring. </span>\n",
       "</pre>\n"
      ],
      "text/plain": [
       "\u001b[1;33m[\u001b[0m\u001b[33mURL_SEED\u001b[0m\u001b[1;33m]\u001b[0m\u001b[33m ℹ Query provided but extract_head is \u001b[0m\u001b[3;33mFalse\u001b[0m\u001b[33m. Enable extract_head for relevance scoring. \u001b[0m\n"
      ]
     },
     "metadata": {},
     "output_type": "display_data"
    },
    {
     "data": {
      "text/html": [
       "<pre style=\"white-space:pre;overflow-x:auto;line-height:normal;font-family:Menlo,'DejaVu Sans Mono',consolas,'Courier New',monospace\"><span style=\"color: #008000; text-decoration-color: #008000\"> Discovered </span><span style=\"color: #008000; text-decoration-color: #008000; font-weight: bold\">43</span><span style=\"color: #008000; text-decoration-color: #008000\"> URLs, selected top </span><span style=\"color: #008000; text-decoration-color: #008000; font-weight: bold\">10</span>\n",
       "</pre>\n"
      ],
      "text/plain": [
       "\u001b[32m Discovered \u001b[0m\u001b[1;32m43\u001b[0m\u001b[32m URLs, selected top \u001b[0m\u001b[1;32m10\u001b[0m\n"
      ]
     },
     "metadata": {},
     "output_type": "display_data"
    },
    {
     "data": {
      "text/html": [
       "<pre style=\"white-space:pre;overflow-x:auto;line-height:normal;font-family:Menlo,'DejaVu Sans Mono',consolas,'Courier New',monospace\"><span style=\"font-style: italic\">                    Top Discovered URLs                     </span>\n",
       "┏━━━━━━━┳━━━━━━━┳━━━━━━━━━━━━━━━━━━━━━━━━━━━━━━━━━━━━━━━━━━┓\n",
       "┃<span style=\"font-weight: bold\"> Score </span>┃<span style=\"font-weight: bold\"> Title </span>┃<span style=\"font-weight: bold\"> URL                                      </span>┃\n",
       "┡━━━━━━━╇━━━━━━━╇━━━━━━━━━━━━━━━━━━━━━━━━━━━━━━━━━━━━━━━━━━┩\n",
       "│<span style=\"color: #008080; text-decoration-color: #008080\"> 0.000 </span>│<span style=\"color: #008000; text-decoration-color: #008000\"> N/A   </span>│<span style=\"color: #7f7f7f; text-decoration-color: #7f7f7f\"> https://www.bbc.com/sport...             </span>│\n",
       "│<span style=\"color: #008080; text-decoration-color: #008080\"> 0.000 </span>│<span style=\"color: #008000; text-decoration-color: #008000\"> N/A   </span>│<span style=\"color: #7f7f7f; text-decoration-color: #7f7f7f\"> https://www.bbc.com/sport/football...    </span>│\n",
       "│<span style=\"color: #008080; text-decoration-color: #008080\"> 0.000 </span>│<span style=\"color: #008000; text-decoration-color: #008000\"> N/A   </span>│<span style=\"color: #7f7f7f; text-decoration-color: #7f7f7f\"> https://www.bbc.com/sport/formula1...    </span>│\n",
       "│<span style=\"color: #008080; text-decoration-color: #008080\"> 0.000 </span>│<span style=\"color: #008000; text-decoration-color: #008000\"> N/A   </span>│<span style=\"color: #7f7f7f; text-decoration-color: #7f7f7f\"> https://www.bbc.com/sport/cricket...     </span>│\n",
       "│<span style=\"color: #008080; text-decoration-color: #008080\"> 0.000 </span>│<span style=\"color: #008000; text-decoration-color: #008000\"> N/A   </span>│<span style=\"color: #7f7f7f; text-decoration-color: #7f7f7f\"> https://www.bbc.com/sport/rugby-union... </span>│\n",
       "└───────┴───────┴──────────────────────────────────────────┘\n",
       "</pre>\n"
      ],
      "text/plain": [
       "\u001b[3m                    Top Discovered URLs                     \u001b[0m\n",
       "┏━━━━━━━┳━━━━━━━┳━━━━━━━━━━━━━━━━━━━━━━━━━━━━━━━━━━━━━━━━━━┓\n",
       "┃\u001b[1m \u001b[0m\u001b[1mScore\u001b[0m\u001b[1m \u001b[0m┃\u001b[1m \u001b[0m\u001b[1mTitle\u001b[0m\u001b[1m \u001b[0m┃\u001b[1m \u001b[0m\u001b[1mURL                                     \u001b[0m\u001b[1m \u001b[0m┃\n",
       "┡━━━━━━━╇━━━━━━━╇━━━━━━━━━━━━━━━━━━━━━━━━━━━━━━━━━━━━━━━━━━┩\n",
       "│\u001b[36m \u001b[0m\u001b[36m0.000\u001b[0m\u001b[36m \u001b[0m│\u001b[32m \u001b[0m\u001b[32mN/A  \u001b[0m\u001b[32m \u001b[0m│\u001b[2m \u001b[0m\u001b[2mhttps://www.bbc.com/sport...            \u001b[0m\u001b[2m \u001b[0m│\n",
       "│\u001b[36m \u001b[0m\u001b[36m0.000\u001b[0m\u001b[36m \u001b[0m│\u001b[32m \u001b[0m\u001b[32mN/A  \u001b[0m\u001b[32m \u001b[0m│\u001b[2m \u001b[0m\u001b[2mhttps://www.bbc.com/sport/football...   \u001b[0m\u001b[2m \u001b[0m│\n",
       "│\u001b[36m \u001b[0m\u001b[36m0.000\u001b[0m\u001b[36m \u001b[0m│\u001b[32m \u001b[0m\u001b[32mN/A  \u001b[0m\u001b[32m \u001b[0m│\u001b[2m \u001b[0m\u001b[2mhttps://www.bbc.com/sport/formula1...   \u001b[0m\u001b[2m \u001b[0m│\n",
       "│\u001b[36m \u001b[0m\u001b[36m0.000\u001b[0m\u001b[36m \u001b[0m│\u001b[32m \u001b[0m\u001b[32mN/A  \u001b[0m\u001b[32m \u001b[0m│\u001b[2m \u001b[0m\u001b[2mhttps://www.bbc.com/sport/cricket...    \u001b[0m\u001b[2m \u001b[0m│\n",
       "│\u001b[36m \u001b[0m\u001b[36m0.000\u001b[0m\u001b[36m \u001b[0m│\u001b[32m \u001b[0m\u001b[32mN/A  \u001b[0m\u001b[32m \u001b[0m│\u001b[2m \u001b[0m\u001b[2mhttps://www.bbc.com/sport/rugby-union...\u001b[0m\u001b[2m \u001b[0m│\n",
       "└───────┴───────┴──────────────────────────────────────────┘\n"
      ]
     },
     "metadata": {},
     "output_type": "display_data"
    },
    {
     "data": {
      "text/html": [
       "<pre style=\"white-space:pre;overflow-x:auto;line-height:normal;font-family:Menlo,'DejaVu Sans Mono',consolas,'Courier New',monospace\"><span style=\"color: #808080; text-decoration-color: #808080; font-weight: bold\">[</span><span style=\"color: #808080; text-decoration-color: #808080\">URL_SEED</span><span style=\"color: #808080; text-decoration-color: #808080; font-weight: bold\">]</span><span style=\"color: #808080; text-decoration-color: #808080\"> ℹ Closed HTTP client </span>\n",
       "</pre>\n"
      ],
      "text/plain": [
       "\u001b[1;90m[\u001b[0m\u001b[90mURL_SEED\u001b[0m\u001b[1;90m]\u001b[0m\u001b[90m ℹ Closed HTTP client \u001b[0m\n"
      ]
     },
     "metadata": {},
     "output_type": "display_data"
    }
   ],
   "source": [
    "async def discover_urls(\n",
    "    domain: str,\n",
    "    query: ResearchQuery,\n",
    "    config: ResearchConfig\n",
    " ) -> List[Dict]:\n",
    "   \"\"\"\n",
    "   Discover and rank URLs without crawling them\n",
    "    \n",
    "   The URL Seeder is incredibly powerful because it:\n",
    "   1. Gets URLs from sitemaps (official site maps)\n",
    "   2. Get URLs from Common Crawl (web-scale data)\n",
    "   3. Extracts metadata without full page loads\n",
    "   4. Scores relevance using BM25 algorithm\n",
    "    \n",
    "   This means we know which pages are worth crawling\n",
    "   BEFORE we spend time crawling them!\n",
    "   \"\"\"\n",
    "   console.print(f\"\\n[cyan] Discovering URLs from {domain}...[/cyan]\")\n",
    "    \n",
    "   # Use context manager for automatic cleanup\n",
    "   async with AsyncUrlSeeder(logger=AsyncLogger(verbose=config.verbose)) as seeder:\n",
    "      # Configure the discovery process\n",
    "      seeding_config = SeedingConfig (\n",
    "         # Data sources\n",
    "         source = \"sitemap\", # Use both sitemap AND Common Crawl # REVIEW THIS URGENT\n",
    "         \n",
    "         # Metadata extraction\n",
    "         extract_head=config.extract_head_metada, #Get titles, descriptions\n",
    "         \n",
    "         # Relevance scoring\n",
    "         query=query.enhanced_query or query.original_query,\n",
    "         scoring_method=config.scoring_method, #BM25 scoring\n",
    "         score_threshold=config.score_threshold, # Minimum scoring\n",
    "         \n",
    "         # Limits and performance\n",
    "         max_urls= config.max_urls_discovery,\n",
    "         live_check=config.live_check,\n",
    "         force=config.force_refresh, #Bypass cache if needed\n",
    "         \n",
    "         # Performance tuning\n",
    "         # Concurrency = 1000, # Parallel workers\n",
    "      ) \n",
    "      try:\n",
    "         # Discover URLs - this is fast\n",
    "         urls=await seeder.urls(domain, seeding_config)\n",
    "          \n",
    "         # Results are already sorted by relevance\n",
    "         # thanks to BM25 scoring\n",
    "         top_urls = urls[:config.top_k_urls]\n",
    "          \n",
    "         # Show discovery results\n",
    "         console.print(f\"[green] Discovered {len(urls)} URLs, selected top {len(top_urls)}[/green]\")\n",
    "          \n",
    "         # Display a sample of what we found\n",
    "         if top_urls:\n",
    "            table= Table(title =\"Top Discovered URLs\")\n",
    "            table.add_column(\"Score\", style=\"cyan\")\n",
    "            table.add_column(\"Title\", style=\"green\")\n",
    "            table.add_column(\"URL\",style=\"dim\")\n",
    "             \n",
    "            for url in top_urls[:5]:\n",
    "               score= f\"{url.get('relevance_score',0):.3f}\"\n",
    "               title =\"N/A\"\n",
    "               if url.get('head_data') and url['head_data'].get('title'):\n",
    "                     title=url['head_data']['title'][:50] + \"...\"\n",
    "               url_str = url['url'][:60] + \"...\"\n",
    "               table.add_row(score, title, url_str)\n",
    "            console.print(table)\n",
    "         return top_urls\n",
    "         \n",
    "      except Exception as e:\n",
    "         console.print(f\"[red] URL discovery failed: {e}[/red]\")\n",
    "         return []\n",
    "      \n",
    "# Example discovery\n",
    "discovered = await discover_urls(config.domain, enhanced, config) \n",
    "                \n",
    "       "
   ]
  },
  {
   "cell_type": "markdown",
   "id": "18a5d6ac",
   "metadata": {},
   "source": [
    "## Step 4: Intelligent Content Crawling\n",
    "\n",
    "Now we crawl only the most relevant URLs. This is where our smart filtering pays off, instead of crawling hundreds of pages, we focus on the top 10-20 most relevant ones. We use content filtering to extract only the meaningful text, removing ads and navigation."
   ]
  },
  {
   "cell_type": "code",
   "execution_count": null,
   "id": "be88e4dc",
   "metadata": {},
   "outputs": [],
   "source": [
    "async def crawl_selected_urls(\n",
    "    urls:List[Dict],\n",
    "    query: ResearchQuery,\n",
    "    config: ResearchConfig\n",
    ") -> List[Dict]:\n",
    "    \"\"\"\n",
    "    Crawl only the most relevant URLs with smart content filtering\n",
    "    Key optimizations:\n",
    "    1. We already know these URLs are relevant (from scoring)\n",
    "    2. We crawl them in parallel for speed\n",
    "    3. We extract only meaningful content (no ads/nav)\n",
    "    4. We generate clean markdown for analysis\n",
    "    \"\"\"\n",
    "    \n",
    "    # Extract URLs from discovery results\n",
    "    url_list=[u['url'] for u in urls if 'url' in u][:config.max_urls_to_crawl]\n",
    "    if not url_list:\n",
    "        console.print(\"[red] No URLs to crawl [/red]\")\n",
    "        return []\n",
    "\n",
    "    console.print(f\"\\n [cyan] Crawling {len(url_list)} URLs...[/cyan]\")\n",
    "    \n",
    "    # Configure intelligent content extraction\n",
    "    # This removes ads, navigation and other noise\n",
    "    md_generator = DefaultMarkdownGenerator(\n",
    "        content_filter = PruningContentFilter(\n",
    "            threshold=0.48, # Content relevance threshold\n",
    "            threshold_type =\"dynamic\", # Adapts to page structure\n",
    "            min_word_threshold= 10 # Ignore tiny text blocks\n",
    "        ),\n",
    "    )\n",
    "    # Configure the crawler\n",
    "    crawler_config=CrawlerRunConfig(\n",
    "        markdown_generator=md_generator,\n",
    "        exclude_external_links=True, #Focus on content, not links\n",
    "        excluded_tags= ['nav','header','footer','aside'], #Skip UI elements\n",
    "    )\n",
    "    \n",
    "    # Create crawler with browser config\n",
    "    async with AsyncWebCrawler(\n",
    "        config=BrowserConfig(\n",
    "            headless=config.headless,\n",
    "            verbose=config.verbose\n",
    "        )\n",
    "    ) as crawler:\n",
    "        # Crawl URLs in parallel for speed\n",
    "        # arun_many handles concurrency automatically\n",
    "        results = await crawler.arun_many(\n",
    "            url_list,\n",
    "            config=crawler_config,\n",
    "            max_concurrent=config.max_concurrent_crawls\n",
    "        )\n",
    "        \n",
    "        # Process successful results\n",
    "        crawled_content=[]\n",
    "        for url, result in zip(url_list,results):\n",
    "            if result.success:\n",
    "                # Extract the content we need\n",
    "                content_data={\n",
    "                    'url':url,\n",
    "                    'title':result.metadata.get('title', 'No title'),\n",
    "                    'markdown':result.markdown.fit_markdown or result.markdown.raw_mardown,\n",
    "                    'metadata': result.metadata\n",
    "                }\n",
    "                crawled_content.append(content_data)\n",
    "                console.print(f\"[green] check [/green] Crawled: {url[:60]}...\")\n",
    "            else:\n",
    "                console.print(f\"[red] No check [/red] Failed: {url[:50]}... - {result.error}\")\n",
    "        console.print(f\"[green] Successfully crawled {len(crawled_content)} pages[/green]\")\n",
    "        return crawled_content\n",
    "    \n",
    "\n",
    "# Example crawling\n",
    "crawled = await crawl_selected_urls(discovered[:5], enhanced, config)"
   ]
  }
 ],
 "metadata": {
  "kernelspec": {
   "display_name": "venv (3.12.4)",
   "language": "python",
   "name": "python3"
  },
  "language_info": {
   "codemirror_mode": {
    "name": "ipython",
    "version": 3
   },
   "file_extension": ".py",
   "mimetype": "text/x-python",
   "name": "python",
   "nbconvert_exporter": "python",
   "pygments_lexer": "ipython3",
   "version": "3.12.4"
  }
 },
 "nbformat": 4,
 "nbformat_minor": 5
}
