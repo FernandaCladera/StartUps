{
 "cells": [
  {
   "cell_type": "markdown",
   "id": "240dc948",
   "metadata": {},
   "source": [
    "# **AI Research Assistant**"
   ]
  },
  {
   "cell_type": "markdown",
   "id": "5828b425",
   "metadata": {},
   "source": [
    "AI assitant that discovers, filters, and analyzes web content using Crawö4AI's URL Seeder to:\n",
    "\n",
    "* Discover all available URLs without crawling them first.\n",
    "* Score and rank them by relevance using AI\n",
    "* Crawl only the most relevant content\n",
    "* Generate research insights with proper citations.\n",
    "\n",
    "**About the research assistant** :\n",
    "\n",
    "A smart research assistant that:\n",
    "\n",
    "1. Takes any research query (eg. Knowledge graphs)\n",
    "2. Discovers relevant articles from news sites\n",
    "3. Ranks them by relevance using BM25 scoring\n",
    "4. Crawls only the top-ranked articles\n",
    "5. Synthesizes findings into a comprehensive report\n",
    "   \n",
    "\n",
    "## Pipeline Overview\n",
    "\n",
    "User Query -> Query Enhancement -> URL Discovery -> Relevance Scoring -> Smart Crawling -> AI Synthesis. -> Research Report"
   ]
  },
  {
   "cell_type": "code",
   "execution_count": 28,
   "id": "c1a10af8",
   "metadata": {},
   "outputs": [
    {
     "name": "stdout",
     "output_type": "stream",
     "text": [
      "Environment ready :) All dependencies loaded successfully.\n"
     ]
    }
   ],
   "source": [
    "import asyncio\n",
    "import json\n",
    "import os\n",
    "from typing import List, Dict, Optional, Tuple\n",
    "from dataclasses import dataclass, asdict\n",
    "from datetime import datetime\n",
    "from pathlib import Path\n",
    "\n",
    "#Rich for beutiful console output\n",
    "from rich.console import Console\n",
    "from rich.panel import Panel\n",
    "from rich.table import Table\n",
    "from rich.progress import Progress, SpinnerColumn, TextColumn\n",
    "\n",
    "# Crawl4AI imports for intelligent crawling\n",
    "from crawl4ai import (\n",
    "    AsyncWebCrawler,\n",
    "    BrowserConfig,\n",
    "    CrawlerRunConfig,\n",
    "    AsyncUrlSeeder,\n",
    "    SeedingConfig,\n",
    "    AsyncLogger,\n",
    "    PruningContentFilter,\n",
    "    DefaultMarkdownGenerator\n",
    ")\n",
    "\n",
    "\n",
    "# LiteLLM for AI capabilities\n",
    "import litellm\n",
    "\n",
    "# Initialize Rich console for pretty outputs\n",
    "console=Console()\n",
    "\n",
    "print(\"Environment ready :) All dependencies loaded successfully.\")"
   ]
  },
  {
   "cell_type": "markdown",
   "id": "2d94a5dc",
   "metadata": {},
   "source": [
    "## Step 1: Configuration and Data Classes\n",
    "\n",
    "Here we define the research pipeline configuration. These dataclasses act as out control center, allowing us to fine-tune every aspect of the research process. Think of them as the settings panel for the research assistant, from discovery limits to AI model choices.\n"
   ]
  },
  {
   "cell_type": "code",
   "execution_count": 29,
   "id": "842fd207",
   "metadata": {},
   "outputs": [
    {
     "data": {
      "text/html": [
       "<pre style=\"white-space:pre;overflow-x:auto;line-height:normal;font-family:Menlo,'DejaVu Sans Mono',consolas,'Courier New',monospace\">╭─────────────────────────────────────────────────── Settings ────────────────────────────────────────────────────╮\n",
       "│ <span style=\"color: #008080; text-decoration-color: #008080; font-weight: bold\">Research Configuration</span>                                                                                          │\n",
       "│  Domain: www.bbc.com/sport                                                                                      │\n",
       "│  Max Discovery: 500                                                                                             │\n",
       "│  Max Crawl: 10                                                                                                  │\n",
       "│  AI Model: openai/gpt-4o-mini                                                                                   │\n",
       "╰─────────────────────────────────────────────────────────────────────────────────────────────────────────────────╯\n",
       "</pre>\n"
      ],
      "text/plain": [
       "╭─────────────────────────────────────────────────── Settings ────────────────────────────────────────────────────╮\n",
       "│ \u001b[1;36mResearch Configuration\u001b[0m                                                                                          │\n",
       "│  Domain: www.bbc.com/sport                                                                                      │\n",
       "│  Max Discovery: 500                                                                                             │\n",
       "│  Max Crawl: 10                                                                                                  │\n",
       "│  AI Model: openai/gpt-4o-mini                                                                                   │\n",
       "╰─────────────────────────────────────────────────────────────────────────────────────────────────────────────────╯\n"
      ]
     },
     "metadata": {},
     "output_type": "display_data"
    }
   ],
   "source": [
    "@dataclass\n",
    "class ResearchConfig:\n",
    "        \"\"\"\n",
    "        Configuration for the research pipeline\n",
    "        \n",
    "        This class controls every aspect of our research assistant:\n",
    "        - How many URLs to discover and crawl\n",
    "        - Which scoring methods to use\n",
    "        - Whether to use AI enhancement\n",
    "        - Output preferences\n",
    "        \"\"\"\n",
    "        \n",
    "        # Core Settings\n",
    "        domain: str= \"www.bbc.com/sport\"\n",
    "        max_urls_discovery: int =500    # Cast a wide net initially\n",
    "        max_urls_to_crawl: int=10       # But only crawl the best\n",
    "        top_k_urls: int=10              # Focus on top results\n",
    "        \n",
    "        # Scoring and filtering\n",
    "        score_threshold: float=0.3      # Minimum relevance score\n",
    "        scoring_method: str=\"bm25\"      # BM25 is great for relevance\n",
    "        \n",
    "        # AI and processing\n",
    "        use_llm_enhancement: bool=True  # Enhance queries with AI\n",
    "        llm_model: str=\"openai/gpt-4o-mini\" # Fast and capable\n",
    "        \n",
    "        # URL discovery options\n",
    "        extract_head_metada: bool = False   # Get titles, descriptions\n",
    "        live_check: bool= True              # Verify URLs are accessible\n",
    "        force_refresh: bool= True           # Bypass cache\n",
    "        \n",
    "        # Crawler settings\n",
    "        max_concurrent_crawls: int=5        # Parallel crawling\n",
    "        timeout: int = 30000                # 30 second timeout\n",
    "        headless: bool = True               # No browser window\n",
    "        \n",
    "        # Output settings\n",
    "        output_dir: Path = Path(\"research_results\")\n",
    "        verbose: bool=True\n",
    "\n",
    "@dataclass\n",
    "class ResearchQuery:\n",
    "    \"\"\"Container for research query and metadata \"\"\"\n",
    "    original_query: str\n",
    "    enhanced_query: Optional[str] = None\n",
    "    search_patterns: List[str] = None\n",
    "    timestamp: str = None\n",
    "    \n",
    "@dataclass\n",
    "class ResearchResult:\n",
    "    \"\"\"Container for research results\"\"\"\n",
    "    query: ResearchQuery\n",
    "    discovered_urls: List[Dict]\n",
    "    crawled_content: List[Dict]\n",
    "    synthesis: str\n",
    "    citations: List[Dict]\n",
    "    metadata: Dict\n",
    "\n",
    "# Create default configuration\n",
    "config= ResearchConfig()\n",
    "console.print(Panel(\n",
    "    f\"[bold cyan]Research Configuration[/bold cyan]\\n\"\n",
    "    f\" Domain: {config.domain}\\n\"\n",
    "    f\" Max Discovery: {config.max_urls_discovery}\\n\"\n",
    "    f\" Max Crawl: {config.max_urls_to_crawl}\\n\"\n",
    "    f\" AI Model: {config.llm_model}\",\n",
    "    title=\"Settings\"\n",
    "))\n",
    "\n",
    "    "
   ]
  },
  {
   "cell_type": "markdown",
   "id": "4e7733a6",
   "metadata": {},
   "source": [
    "## Step 2: Query Enhancement with AI\n",
    "\n",
    "Not all search queries are created equal. Here we use AI to transform simple queries into comprehensive search strategies. The LLM analyzes your query, extracts key concepts, and generates related terms - turning \"football news\" into a rich set of search patters."
   ]
  },
  {
   "cell_type": "code",
   "execution_count": 30,
   "id": "cf9c180d",
   "metadata": {},
   "outputs": [],
   "source": [
    "import os\n",
    "from dotenv import load_dotenv\n",
    "\n",
    "load_dotenv()\n",
    "\n",
    "os.environ['OPENAI_API_KEY'] = os.getenv(\"OPENAI_API_KEY\")"
   ]
  },
  {
   "cell_type": "code",
   "execution_count": 31,
   "id": "63c8f3ec",
   "metadata": {},
   "outputs": [
    {
     "data": {
      "text/html": [
       "<pre style=\"white-space:pre;overflow-x:auto;line-height:normal;font-family:Menlo,'DejaVu Sans Mono',consolas,'Courier New',monospace\">\n",
       "<span style=\"color: #008080; text-decoration-color: #008080\"> Enhancing query: 'fPremier League news...</span>\n",
       "</pre>\n"
      ],
      "text/plain": [
       "\n",
       "\u001b[36m Enhancing query: 'fPremier League news\u001b[0m\u001b[36m...\u001b[0m\n"
      ]
     },
     "metadata": {},
     "output_type": "display_data"
    },
    {
     "data": {
      "text/html": [
       "<pre style=\"white-space:pre;overflow-x:auto;line-height:normal;font-family:Menlo,'DejaVu Sans Mono',consolas,'Courier New',monospace\">╭─────────────────────────────────────────────── Query Enhancement ───────────────────────────────────────────────╮\n",
       "│ <span style=\"color: #008000; text-decoration-color: #008000\"> Enhanced Query:</span> latest Premier League news and updates                                                         │\n",
       "│ <span style=\"color: #7f7f7f; text-decoration-color: #7f7f7f\"> Key terms: Premier League, news, football, soccer, updates</span>                                                     │\n",
       "╰─────────────────────────────────────────────────────────────────────────────────────────────────────────────────╯\n",
       "</pre>\n"
      ],
      "text/plain": [
       "╭─────────────────────────────────────────────── Query Enhancement ───────────────────────────────────────────────╮\n",
       "│ \u001b[32m Enhanced Query:\u001b[0m latest Premier League news and updates                                                         │\n",
       "│ \u001b[2m Key terms: Premier League, news, football, soccer, updates\u001b[0m                                                     │\n",
       "╰─────────────────────────────────────────────────────────────────────────────────────────────────────────────────╯\n"
      ]
     },
     "metadata": {},
     "output_type": "display_data"
    }
   ],
   "source": [
    "async def enhance_query_with_llm(query: str,config:ResearchConfig) -> ResearchQuery:\n",
    "    \"\"\"\n",
    "    Transform simple queries into comprehensive search strategies\n",
    "    Why enhance queries?\n",
    "    - User often use simple terms (\"football news\")\n",
    "    - But relevant content might use varied terminology\n",
    "    - AI helps capture all relevant variations    \n",
    "    \"\"\"\n",
    "    \n",
    "    console.print(f\"\\n[cyan] Enhancing query: '{query}...[/cyan]\")\n",
    "    try:\n",
    "        # Ask AI to analyze and expand the query\n",
    "        response = await litellm.acompletion(\n",
    "            model=config.llm_model,\n",
    "            messages=[{\n",
    "                \"role\":\"user\",\n",
    "                \"content\":f\"\"\"Given this research query: \"{query}\"\n",
    "                Extract:\n",
    "                1. Key terms and concepts (as a list)\n",
    "                2. Related search terms\n",
    "                3. A more specific/enhanced version of the query\n",
    "                \n",
    "                Return as JSON:\n",
    "                {{\n",
    "                    \"key_terms\":[\"term1\",\"term2\"],\n",
    "                    \"related_terms\": [\"related1\",\"related2\"],\n",
    "                    \"enhanced_query\": \"enhanced version of query\"\n",
    "                }}\n",
    "               \"\"\"\n",
    "            }],\n",
    "            temperature=0.3, #Low termperature for consistency\n",
    "            response_format={\"type\":\"json_object\"}\n",
    "        )\n",
    "        \n",
    "        data=json.loads(response.choices[0].message.content)\n",
    "        \n",
    "        # Create search patterns from extracted terms\n",
    "        # These patterns help the URL seeder find relevant pages\n",
    "        \n",
    "        all_terms= data[\"key_terms\"] + data [\"related_terms\"]\n",
    "        #patterns = [f\"*{term.lower()}*\" for term in all_terms]\n",
    "        \n",
    "        result = ResearchQuery(\n",
    "            original_query=query,\n",
    "            enhanced_query=data[\"enhanced_query\"],\n",
    "            search_patterns= \"\", #patterns[:10], #Limit to 10 patterns\n",
    "            timestamp=datetime.now().isoformat()\n",
    "        )\n",
    "        \n",
    "        # Show the enhancement\n",
    "        console.print(Panel(\n",
    "            f\"[green] Enhanced Query:[/green] {result.enhanced_query}\\n\"\n",
    "            f\"[dim] Key terms: {', '.join(data['key_terms'])}[/dim]\",\n",
    "            title = \"Query Enhancement\"\n",
    "        ))\n",
    "    \n",
    "        return result\n",
    "\n",
    "    except Exception as e:\n",
    "        console.print(f\"[yellow] Enhancement failed, using original query: {e}[/yellow]\")\n",
    "        #Fallback to simple tokenization\n",
    "        words= query.lower().split()\n",
    "        patterns =[f\"*{word}*\" for word in words if len(word)>2]\n",
    "        \n",
    "        return ResearchQuery(\n",
    "            original_query=query,\n",
    "            enhanced_query=query,\n",
    "            search_patterns=patterns,\n",
    "            timestamp=datetime.now().isoformat()\n",
    "        )\n",
    "        \n",
    "# Example usage\n",
    "test_query= \"fPremier League news\"\n",
    "enhanced = await enhance_query_with_llm(test_query,config)"
   ]
  },
  {
   "cell_type": "markdown",
   "id": "6cdb71c0",
   "metadata": {},
   "source": [
    "### Step 3: Smart URL Discovery with AsyncUrlSeeder\n",
    "\n",
    "This is where the magic begins! Instead of crawling pages to find links, AsyncUrlSeeder discovers URLs from sitemaps and Common Crawl data. It's like having a map of the entire website before you start exploring. We'll discover hundreds of URLs in seconds, complete with metadata."
   ]
  },
  {
   "cell_type": "code",
   "execution_count": 35,
   "id": "6a7a0a5c",
   "metadata": {},
   "outputs": [
    {
     "data": {
      "text/html": [
       "<pre style=\"white-space:pre;overflow-x:auto;line-height:normal;font-family:Menlo,'DejaVu Sans Mono',consolas,'Courier New',monospace\">\n",
       "<span style=\"color: #008080; text-decoration-color: #008080\"> Discovering URLs from www.bbc.com/sport...</span>\n",
       "</pre>\n"
      ],
      "text/plain": [
       "\n",
       "\u001b[36m Discovering URLs from www.bbc.com/sport\u001b[0m\u001b[36m...\u001b[0m\n"
      ]
     },
     "metadata": {},
     "output_type": "display_data"
    },
    {
     "data": {
      "text/html": [
       "<pre style=\"white-space:pre;overflow-x:auto;line-height:normal;font-family:Menlo,'DejaVu Sans Mono',consolas,'Courier New',monospace\"><span style=\"color: #008080; text-decoration-color: #008080; font-weight: bold\">[</span><span style=\"color: #008080; text-decoration-color: #008080\">URL_SEED</span><span style=\"color: #008080; text-decoration-color: #008080; font-weight: bold\">]</span><span style=\"color: #008080; text-decoration-color: #008080\"> ℹ Loading latest CC index from cache: </span>\n",
       "<span style=\"color: #008080; text-decoration-color: #008080\">/Users/fernandacladeramelgar/.crawl4ai/seeder_cache/latest_cc_index.txt </span>\n",
       "</pre>\n"
      ],
      "text/plain": [
       "\u001b[1;36m[\u001b[0m\u001b[36mURL_SEED\u001b[0m\u001b[1;36m]\u001b[0m\u001b[36m ℹ Loading latest CC index from cache: \u001b[0m\n",
       "\u001b[36m/Users/fernandacladeramelgar/.crawl4ai/seeder_cache/\u001b[0m\u001b[36mlatest_cc_index.txt\u001b[0m\u001b[36m \u001b[0m\n"
      ]
     },
     "metadata": {},
     "output_type": "display_data"
    },
    {
     "data": {
      "text/html": [
       "<pre style=\"white-space:pre;overflow-x:auto;line-height:normal;font-family:Menlo,'DejaVu Sans Mono',consolas,'Courier New',monospace\"><span style=\"color: #008080; text-decoration-color: #008080; font-weight: bold\">[</span><span style=\"color: #008080; text-decoration-color: #008080\">URL_SEED</span><span style=\"color: #008080; text-decoration-color: #008080; font-weight: bold\">]</span><span style=\"color: #008080; text-decoration-color: #008080\"> ℹ Starting URL seeding for www.bbc.com/sport with </span><span style=\"color: #008080; text-decoration-color: #008080\">source</span><span style=\"color: #008080; text-decoration-color: #008080\">=</span><span style=\"color: #008080; text-decoration-color: #008080\">sitemap</span><span style=\"color: #008080; text-decoration-color: #008080\"> </span>\n",
       "</pre>\n"
      ],
      "text/plain": [
       "\u001b[1;36m[\u001b[0m\u001b[36mURL_SEED\u001b[0m\u001b[1;36m]\u001b[0m\u001b[36m ℹ Starting URL seeding for www.bbc.com/sport with \u001b[0m\u001b[36msource\u001b[0m\u001b[36m=\u001b[0m\u001b[36msitemap\u001b[0m\u001b[36m \u001b[0m\n"
      ]
     },
     "metadata": {},
     "output_type": "display_data"
    },
    {
     "data": {
      "text/html": [
       "<pre style=\"white-space:pre;overflow-x:auto;line-height:normal;font-family:Menlo,'DejaVu Sans Mono',consolas,'Courier New',monospace\"><span style=\"color: #808080; text-decoration-color: #808080; font-weight: bold\">[</span><span style=\"color: #808080; text-decoration-color: #808080\">URL_SEED</span><span style=\"color: #808080; text-decoration-color: #808080; font-weight: bold\">]</span><span style=\"color: #808080; text-decoration-color: #808080\"> ℹ Fetching from sitemaps... </span>\n",
       "</pre>\n"
      ],
      "text/plain": [
       "\u001b[1;90m[\u001b[0m\u001b[90mURL_SEED\u001b[0m\u001b[1;90m]\u001b[0m\u001b[90m ℹ Fetching from sitemaps\u001b[0m\u001b[90m...\u001b[0m\u001b[90m \u001b[0m\n"
      ]
     },
     "metadata": {},
     "output_type": "display_data"
    },
    {
     "data": {
      "text/html": [
       "<pre style=\"white-space:pre;overflow-x:auto;line-height:normal;font-family:Menlo,'DejaVu Sans Mono',consolas,'Courier New',monospace\"><span style=\"color: #008080; text-decoration-color: #008080; font-weight: bold\">[</span><span style=\"color: #008080; text-decoration-color: #008080\">URL_SEED</span><span style=\"color: #008080; text-decoration-color: #008080; font-weight: bold\">]</span><span style=\"color: #008080; text-decoration-color: #008080\"> ℹ Found sitemap at </span><span style=\"color: #008080; text-decoration-color: #008080; text-decoration: underline\">https://www.bbc.com/sport/sitemap.xml</span><span style=\"color: #008080; text-decoration-color: #008080\"> </span>\n",
       "</pre>\n"
      ],
      "text/plain": [
       "\u001b[1;36m[\u001b[0m\u001b[36mURL_SEED\u001b[0m\u001b[1;36m]\u001b[0m\u001b[36m ℹ Found sitemap at \u001b[0m\u001b[4;36mhttps://www.bbc.com/sport/sitemap.xml\u001b[0m\u001b[36m \u001b[0m\n"
      ]
     },
     "metadata": {},
     "output_type": "display_data"
    },
    {
     "data": {
      "text/html": [
       "<pre style=\"white-space:pre;overflow-x:auto;line-height:normal;font-family:Menlo,'DejaVu Sans Mono',consolas,'Courier New',monospace\"><span style=\"color: #808080; text-decoration-color: #808080; font-weight: bold\">[</span><span style=\"color: #808080; text-decoration-color: #808080\">URL_SEED</span><span style=\"color: #808080; text-decoration-color: #808080; font-weight: bold\">]</span><span style=\"color: #808080; text-decoration-color: #808080\"> ℹ Performing live check for </span><span style=\"color: #808080; text-decoration-color: #808080; text-decoration: underline\">https://www.bbc.com/sport</span><span style=\"color: #808080; text-decoration-color: #808080\"> </span>\n",
       "</pre>\n"
      ],
      "text/plain": [
       "\u001b[1;90m[\u001b[0m\u001b[90mURL_SEED\u001b[0m\u001b[1;90m]\u001b[0m\u001b[90m ℹ Performing live check for \u001b[0m\u001b[4;90mhttps://www.bbc.com/sport\u001b[0m\u001b[90m \u001b[0m\n"
      ]
     },
     "metadata": {},
     "output_type": "display_data"
    },
    {
     "data": {
      "text/html": [
       "<pre style=\"white-space:pre;overflow-x:auto;line-height:normal;font-family:Menlo,'DejaVu Sans Mono',consolas,'Courier New',monospace\"><span style=\"color: #808080; text-decoration-color: #808080; font-weight: bold\">[</span><span style=\"color: #808080; text-decoration-color: #808080\">URL_SEED</span><span style=\"color: #808080; text-decoration-color: #808080; font-weight: bold\">]</span><span style=\"color: #808080; text-decoration-color: #808080\"> ℹ Performing live check for </span><span style=\"color: #808080; text-decoration-color: #808080; text-decoration: underline\">https://www.bbc.com/sport/football</span><span style=\"color: #808080; text-decoration-color: #808080\"> </span>\n",
       "</pre>\n"
      ],
      "text/plain": [
       "\u001b[1;90m[\u001b[0m\u001b[90mURL_SEED\u001b[0m\u001b[1;90m]\u001b[0m\u001b[90m ℹ Performing live check for \u001b[0m\u001b[4;90mhttps://www.bbc.com/sport/football\u001b[0m\u001b[90m \u001b[0m\n"
      ]
     },
     "metadata": {},
     "output_type": "display_data"
    },
    {
     "data": {
      "text/html": [
       "<pre style=\"white-space:pre;overflow-x:auto;line-height:normal;font-family:Menlo,'DejaVu Sans Mono',consolas,'Courier New',monospace\"><span style=\"color: #808080; text-decoration-color: #808080; font-weight: bold\">[</span><span style=\"color: #808080; text-decoration-color: #808080\">URL_SEED</span><span style=\"color: #808080; text-decoration-color: #808080; font-weight: bold\">]</span><span style=\"color: #808080; text-decoration-color: #808080\"> ℹ Performing live check for </span><span style=\"color: #808080; text-decoration-color: #808080; text-decoration: underline\">https://www.bbc.com/sport/cricket</span><span style=\"color: #808080; text-decoration-color: #808080\"> </span>\n",
       "</pre>\n"
      ],
      "text/plain": [
       "\u001b[1;90m[\u001b[0m\u001b[90mURL_SEED\u001b[0m\u001b[1;90m]\u001b[0m\u001b[90m ℹ Performing live check for \u001b[0m\u001b[4;90mhttps://www.bbc.com/sport/cricket\u001b[0m\u001b[90m \u001b[0m\n"
      ]
     },
     "metadata": {},
     "output_type": "display_data"
    },
    {
     "data": {
      "text/html": [
       "<pre style=\"white-space:pre;overflow-x:auto;line-height:normal;font-family:Menlo,'DejaVu Sans Mono',consolas,'Courier New',monospace\"><span style=\"color: #808080; text-decoration-color: #808080; font-weight: bold\">[</span><span style=\"color: #808080; text-decoration-color: #808080\">URL_SEED</span><span style=\"color: #808080; text-decoration-color: #808080; font-weight: bold\">]</span><span style=\"color: #808080; text-decoration-color: #808080\"> ℹ Performing live check for </span><span style=\"color: #808080; text-decoration-color: #808080; text-decoration: underline\">https://www.bbc.com/sport/formula1</span><span style=\"color: #808080; text-decoration-color: #808080\"> </span>\n",
       "</pre>\n"
      ],
      "text/plain": [
       "\u001b[1;90m[\u001b[0m\u001b[90mURL_SEED\u001b[0m\u001b[1;90m]\u001b[0m\u001b[90m ℹ Performing live check for \u001b[0m\u001b[4;90mhttps://www.bbc.com/sport/formula1\u001b[0m\u001b[90m \u001b[0m\n"
      ]
     },
     "metadata": {},
     "output_type": "display_data"
    },
    {
     "data": {
      "text/html": [
       "<pre style=\"white-space:pre;overflow-x:auto;line-height:normal;font-family:Menlo,'DejaVu Sans Mono',consolas,'Courier New',monospace\"><span style=\"color: #808080; text-decoration-color: #808080; font-weight: bold\">[</span><span style=\"color: #808080; text-decoration-color: #808080\">URL_SEED</span><span style=\"color: #808080; text-decoration-color: #808080; font-weight: bold\">]</span><span style=\"color: #808080; text-decoration-color: #808080\"> ℹ Performing live check for </span><span style=\"color: #808080; text-decoration-color: #808080; text-decoration: underline\">https://www.bbc.com/sport/rugby-union</span><span style=\"color: #808080; text-decoration-color: #808080\"> </span>\n",
       "</pre>\n"
      ],
      "text/plain": [
       "\u001b[1;90m[\u001b[0m\u001b[90mURL_SEED\u001b[0m\u001b[1;90m]\u001b[0m\u001b[90m ℹ Performing live check for \u001b[0m\u001b[4;90mhttps://www.bbc.com/sport/rugby-union\u001b[0m\u001b[90m \u001b[0m\n"
      ]
     },
     "metadata": {},
     "output_type": "display_data"
    },
    {
     "data": {
      "text/html": [
       "<pre style=\"white-space:pre;overflow-x:auto;line-height:normal;font-family:Menlo,'DejaVu Sans Mono',consolas,'Courier New',monospace\"><span style=\"color: #808080; text-decoration-color: #808080; font-weight: bold\">[</span><span style=\"color: #808080; text-decoration-color: #808080\">URL_SEED</span><span style=\"color: #808080; text-decoration-color: #808080; font-weight: bold\">]</span><span style=\"color: #808080; text-decoration-color: #808080\"> ℹ Producer finished. </span>\n",
       "</pre>\n"
      ],
      "text/plain": [
       "\u001b[1;90m[\u001b[0m\u001b[90mURL_SEED\u001b[0m\u001b[1;90m]\u001b[0m\u001b[90m ℹ Producer finished. \u001b[0m\n"
      ]
     },
     "metadata": {},
     "output_type": "display_data"
    },
    {
     "data": {
      "text/html": [
       "<pre style=\"white-space:pre;overflow-x:auto;line-height:normal;font-family:Menlo,'DejaVu Sans Mono',consolas,'Courier New',monospace\"><span style=\"color: #008080; text-decoration-color: #008080; font-weight: bold\">[</span><span style=\"color: #008080; text-decoration-color: #008080\">URL_SEED</span><span style=\"color: #008080; text-decoration-color: #008080; font-weight: bold\">]</span><span style=\"color: #008080; text-decoration-color: #008080\"> ℹ LIVE CHECK VALID for </span><span style=\"color: #008080; text-decoration-color: #008080; text-decoration: underline\">https://www.bbc.com/sport</span><span style=\"color: #008080; text-decoration-color: #008080\"> </span>\n",
       "</pre>\n"
      ],
      "text/plain": [
       "\u001b[1;36m[\u001b[0m\u001b[36mURL_SEED\u001b[0m\u001b[1;36m]\u001b[0m\u001b[36m ℹ LIVE CHECK VALID for \u001b[0m\u001b[4;36mhttps://www.bbc.com/sport\u001b[0m\u001b[36m \u001b[0m\n"
      ]
     },
     "metadata": {},
     "output_type": "display_data"
    },
    {
     "data": {
      "text/html": [
       "<pre style=\"white-space:pre;overflow-x:auto;line-height:normal;font-family:Menlo,'DejaVu Sans Mono',consolas,'Courier New',monospace\"><span style=\"color: #008080; text-decoration-color: #008080; font-weight: bold\">[</span><span style=\"color: #008080; text-decoration-color: #008080\">URL_SEED</span><span style=\"color: #008080; text-decoration-color: #008080; font-weight: bold\">]</span><span style=\"color: #008080; text-decoration-color: #008080\"> ℹ LIVE CHECK VALID for </span><span style=\"color: #008080; text-decoration-color: #008080; text-decoration: underline\">https://www.bbc.com/sport/formula1</span><span style=\"color: #008080; text-decoration-color: #008080\"> </span>\n",
       "</pre>\n"
      ],
      "text/plain": [
       "\u001b[1;36m[\u001b[0m\u001b[36mURL_SEED\u001b[0m\u001b[1;36m]\u001b[0m\u001b[36m ℹ LIVE CHECK VALID for \u001b[0m\u001b[4;36mhttps://www.bbc.com/sport/formula1\u001b[0m\u001b[36m \u001b[0m\n"
      ]
     },
     "metadata": {},
     "output_type": "display_data"
    },
    {
     "data": {
      "text/html": [
       "<pre style=\"white-space:pre;overflow-x:auto;line-height:normal;font-family:Menlo,'DejaVu Sans Mono',consolas,'Courier New',monospace\"><span style=\"color: #008080; text-decoration-color: #008080; font-weight: bold\">[</span><span style=\"color: #008080; text-decoration-color: #008080\">URL_SEED</span><span style=\"color: #008080; text-decoration-color: #008080; font-weight: bold\">]</span><span style=\"color: #008080; text-decoration-color: #008080\"> ℹ LIVE CHECK VALID for </span><span style=\"color: #008080; text-decoration-color: #008080; text-decoration: underline\">https://www.bbc.com/sport/football</span><span style=\"color: #008080; text-decoration-color: #008080\"> </span>\n",
       "</pre>\n"
      ],
      "text/plain": [
       "\u001b[1;36m[\u001b[0m\u001b[36mURL_SEED\u001b[0m\u001b[1;36m]\u001b[0m\u001b[36m ℹ LIVE CHECK VALID for \u001b[0m\u001b[4;36mhttps://www.bbc.com/sport/football\u001b[0m\u001b[36m \u001b[0m\n"
      ]
     },
     "metadata": {},
     "output_type": "display_data"
    },
    {
     "data": {
      "text/html": [
       "<pre style=\"white-space:pre;overflow-x:auto;line-height:normal;font-family:Menlo,'DejaVu Sans Mono',consolas,'Courier New',monospace\"><span style=\"color: #808080; text-decoration-color: #808080; font-weight: bold\">[</span><span style=\"color: #808080; text-decoration-color: #808080\">URL_SEED</span><span style=\"color: #808080; text-decoration-color: #808080; font-weight: bold\">]</span><span style=\"color: #808080; text-decoration-color: #808080\"> ℹ Performing live check for </span><span style=\"color: #808080; text-decoration-color: #808080; text-decoration: underline\">https://www.bbc.com/sport/football/premier-league</span><span style=\"color: #808080; text-decoration-color: #808080\"> </span>\n",
       "</pre>\n"
      ],
      "text/plain": [
       "\u001b[1;90m[\u001b[0m\u001b[90mURL_SEED\u001b[0m\u001b[1;90m]\u001b[0m\u001b[90m ℹ Performing live check for \u001b[0m\u001b[4;90mhttps://www.bbc.com/sport/football/premier-league\u001b[0m\u001b[90m \u001b[0m\n"
      ]
     },
     "metadata": {},
     "output_type": "display_data"
    },
    {
     "data": {
      "text/html": [
       "<pre style=\"white-space:pre;overflow-x:auto;line-height:normal;font-family:Menlo,'DejaVu Sans Mono',consolas,'Courier New',monospace\"><span style=\"color: #008080; text-decoration-color: #008080; font-weight: bold\">[</span><span style=\"color: #008080; text-decoration-color: #008080\">URL_SEED</span><span style=\"color: #008080; text-decoration-color: #008080; font-weight: bold\">]</span><span style=\"color: #008080; text-decoration-color: #008080\"> ℹ LIVE CHECK VALID for </span><span style=\"color: #008080; text-decoration-color: #008080; text-decoration: underline\">https://www.bbc.com/sport/cricket</span><span style=\"color: #008080; text-decoration-color: #008080\"> </span>\n",
       "</pre>\n"
      ],
      "text/plain": [
       "\u001b[1;36m[\u001b[0m\u001b[36mURL_SEED\u001b[0m\u001b[1;36m]\u001b[0m\u001b[36m ℹ LIVE CHECK VALID for \u001b[0m\u001b[4;36mhttps://www.bbc.com/sport/cricket\u001b[0m\u001b[36m \u001b[0m\n"
      ]
     },
     "metadata": {},
     "output_type": "display_data"
    },
    {
     "data": {
      "text/html": [
       "<pre style=\"white-space:pre;overflow-x:auto;line-height:normal;font-family:Menlo,'DejaVu Sans Mono',consolas,'Courier New',monospace\"><span style=\"color: #808080; text-decoration-color: #808080; font-weight: bold\">[</span><span style=\"color: #808080; text-decoration-color: #808080\">URL_SEED</span><span style=\"color: #808080; text-decoration-color: #808080; font-weight: bold\">]</span><span style=\"color: #808080; text-decoration-color: #808080\"> ℹ Performing live check for </span><span style=\"color: #808080; text-decoration-color: #808080; text-decoration: underline\">https://www.bbc.com/sport/tennis</span><span style=\"color: #808080; text-decoration-color: #808080\"> </span>\n",
       "</pre>\n"
      ],
      "text/plain": [
       "\u001b[1;90m[\u001b[0m\u001b[90mURL_SEED\u001b[0m\u001b[1;90m]\u001b[0m\u001b[90m ℹ Performing live check for \u001b[0m\u001b[4;90mhttps://www.bbc.com/sport/tennis\u001b[0m\u001b[90m \u001b[0m\n"
      ]
     },
     "metadata": {},
     "output_type": "display_data"
    },
    {
     "data": {
      "text/html": [
       "<pre style=\"white-space:pre;overflow-x:auto;line-height:normal;font-family:Menlo,'DejaVu Sans Mono',consolas,'Courier New',monospace\"><span style=\"color: #808080; text-decoration-color: #808080; font-weight: bold\">[</span><span style=\"color: #808080; text-decoration-color: #808080\">URL_SEED</span><span style=\"color: #808080; text-decoration-color: #808080; font-weight: bold\">]</span><span style=\"color: #808080; text-decoration-color: #808080\"> ℹ Performing live check for </span><span style=\"color: #808080; text-decoration-color: #808080; text-decoration: underline\">https://www.bbc.com/sport/golf</span><span style=\"color: #808080; text-decoration-color: #808080\"> </span>\n",
       "</pre>\n"
      ],
      "text/plain": [
       "\u001b[1;90m[\u001b[0m\u001b[90mURL_SEED\u001b[0m\u001b[1;90m]\u001b[0m\u001b[90m ℹ Performing live check for \u001b[0m\u001b[4;90mhttps://www.bbc.com/sport/golf\u001b[0m\u001b[90m \u001b[0m\n"
      ]
     },
     "metadata": {},
     "output_type": "display_data"
    },
    {
     "data": {
      "text/html": [
       "<pre style=\"white-space:pre;overflow-x:auto;line-height:normal;font-family:Menlo,'DejaVu Sans Mono',consolas,'Courier New',monospace\"><span style=\"color: #808080; text-decoration-color: #808080; font-weight: bold\">[</span><span style=\"color: #808080; text-decoration-color: #808080\">URL_SEED</span><span style=\"color: #808080; text-decoration-color: #808080; font-weight: bold\">]</span><span style=\"color: #808080; text-decoration-color: #808080\"> ℹ Performing live check for </span><span style=\"color: #808080; text-decoration-color: #808080; text-decoration: underline\">https://www.bbc.com/sport/snooker</span><span style=\"color: #808080; text-decoration-color: #808080\"> </span>\n",
       "</pre>\n"
      ],
      "text/plain": [
       "\u001b[1;90m[\u001b[0m\u001b[90mURL_SEED\u001b[0m\u001b[1;90m]\u001b[0m\u001b[90m ℹ Performing live check for \u001b[0m\u001b[4;90mhttps://www.bbc.com/sport/snooker\u001b[0m\u001b[90m \u001b[0m\n"
      ]
     },
     "metadata": {},
     "output_type": "display_data"
    },
    {
     "data": {
      "text/html": [
       "<pre style=\"white-space:pre;overflow-x:auto;line-height:normal;font-family:Menlo,'DejaVu Sans Mono',consolas,'Courier New',monospace\"><span style=\"color: #008080; text-decoration-color: #008080; font-weight: bold\">[</span><span style=\"color: #008080; text-decoration-color: #008080\">URL_SEED</span><span style=\"color: #008080; text-decoration-color: #008080; font-weight: bold\">]</span><span style=\"color: #008080; text-decoration-color: #008080\"> ℹ LIVE CHECK VALID for </span><span style=\"color: #008080; text-decoration-color: #008080; text-decoration: underline\">https://www.bbc.com/sport/football/premier-league</span><span style=\"color: #008080; text-decoration-color: #008080\"> </span>\n",
       "</pre>\n"
      ],
      "text/plain": [
       "\u001b[1;36m[\u001b[0m\u001b[36mURL_SEED\u001b[0m\u001b[1;36m]\u001b[0m\u001b[36m ℹ LIVE CHECK VALID for \u001b[0m\u001b[4;36mhttps://www.bbc.com/sport/football/premier-league\u001b[0m\u001b[36m \u001b[0m\n"
      ]
     },
     "metadata": {},
     "output_type": "display_data"
    },
    {
     "data": {
      "text/html": [
       "<pre style=\"white-space:pre;overflow-x:auto;line-height:normal;font-family:Menlo,'DejaVu Sans Mono',consolas,'Courier New',monospace\"><span style=\"color: #008080; text-decoration-color: #008080; font-weight: bold\">[</span><span style=\"color: #008080; text-decoration-color: #008080\">URL_SEED</span><span style=\"color: #008080; text-decoration-color: #008080; font-weight: bold\">]</span><span style=\"color: #008080; text-decoration-color: #008080\"> ℹ LIVE CHECK VALID for </span><span style=\"color: #008080; text-decoration-color: #008080; text-decoration: underline\">https://www.bbc.com/sport/tennis</span><span style=\"color: #008080; text-decoration-color: #008080\"> </span>\n",
       "</pre>\n"
      ],
      "text/plain": [
       "\u001b[1;36m[\u001b[0m\u001b[36mURL_SEED\u001b[0m\u001b[1;36m]\u001b[0m\u001b[36m ℹ LIVE CHECK VALID for \u001b[0m\u001b[4;36mhttps://www.bbc.com/sport/tennis\u001b[0m\u001b[36m \u001b[0m\n"
      ]
     },
     "metadata": {},
     "output_type": "display_data"
    },
    {
     "data": {
      "text/html": [
       "<pre style=\"white-space:pre;overflow-x:auto;line-height:normal;font-family:Menlo,'DejaVu Sans Mono',consolas,'Courier New',monospace\"><span style=\"color: #008080; text-decoration-color: #008080; font-weight: bold\">[</span><span style=\"color: #008080; text-decoration-color: #008080\">URL_SEED</span><span style=\"color: #008080; text-decoration-color: #008080; font-weight: bold\">]</span><span style=\"color: #008080; text-decoration-color: #008080\"> ℹ LIVE CHECK VALID for </span><span style=\"color: #008080; text-decoration-color: #008080; text-decoration: underline\">https://www.bbc.com/sport/golf</span><span style=\"color: #008080; text-decoration-color: #008080\"> </span>\n",
       "</pre>\n"
      ],
      "text/plain": [
       "\u001b[1;36m[\u001b[0m\u001b[36mURL_SEED\u001b[0m\u001b[1;36m]\u001b[0m\u001b[36m ℹ LIVE CHECK VALID for \u001b[0m\u001b[4;36mhttps://www.bbc.com/sport/golf\u001b[0m\u001b[36m \u001b[0m\n"
      ]
     },
     "metadata": {},
     "output_type": "display_data"
    },
    {
     "data": {
      "text/html": [
       "<pre style=\"white-space:pre;overflow-x:auto;line-height:normal;font-family:Menlo,'DejaVu Sans Mono',consolas,'Courier New',monospace\"><span style=\"color: #808080; text-decoration-color: #808080; font-weight: bold\">[</span><span style=\"color: #808080; text-decoration-color: #808080\">URL_SEED</span><span style=\"color: #808080; text-decoration-color: #808080; font-weight: bold\">]</span><span style=\"color: #808080; text-decoration-color: #808080\"> ℹ Performing live check for </span><span style=\"color: #808080; text-decoration-color: #808080; text-decoration: underline\">https://www.bbc.com/sport/rugby-league</span><span style=\"color: #808080; text-decoration-color: #808080\"> </span>\n",
       "</pre>\n"
      ],
      "text/plain": [
       "\u001b[1;90m[\u001b[0m\u001b[90mURL_SEED\u001b[0m\u001b[1;90m]\u001b[0m\u001b[90m ℹ Performing live check for \u001b[0m\u001b[4;90mhttps://www.bbc.com/sport/rugby-league\u001b[0m\u001b[90m \u001b[0m\n"
      ]
     },
     "metadata": {},
     "output_type": "display_data"
    },
    {
     "data": {
      "text/html": [
       "<pre style=\"white-space:pre;overflow-x:auto;line-height:normal;font-family:Menlo,'DejaVu Sans Mono',consolas,'Courier New',monospace\"><span style=\"color: #808080; text-decoration-color: #808080; font-weight: bold\">[</span><span style=\"color: #808080; text-decoration-color: #808080\">URL_SEED</span><span style=\"color: #808080; text-decoration-color: #808080; font-weight: bold\">]</span><span style=\"color: #808080; text-decoration-color: #808080\"> ℹ Performing live check for </span><span style=\"color: #808080; text-decoration-color: #808080; text-decoration: underline\">https://www.bbc.com/sport/football/european</span><span style=\"color: #808080; text-decoration-color: #808080\"> </span>\n",
       "</pre>\n"
      ],
      "text/plain": [
       "\u001b[1;90m[\u001b[0m\u001b[90mURL_SEED\u001b[0m\u001b[1;90m]\u001b[0m\u001b[90m ℹ Performing live check for \u001b[0m\u001b[4;90mhttps://www.bbc.com/sport/football/european\u001b[0m\u001b[90m \u001b[0m\n"
      ]
     },
     "metadata": {},
     "output_type": "display_data"
    },
    {
     "data": {
      "text/html": [
       "<pre style=\"white-space:pre;overflow-x:auto;line-height:normal;font-family:Menlo,'DejaVu Sans Mono',consolas,'Courier New',monospace\"><span style=\"color: #008080; text-decoration-color: #008080; font-weight: bold\">[</span><span style=\"color: #008080; text-decoration-color: #008080\">URL_SEED</span><span style=\"color: #008080; text-decoration-color: #008080; font-weight: bold\">]</span><span style=\"color: #008080; text-decoration-color: #008080\"> ℹ LIVE CHECK VALID for </span><span style=\"color: #008080; text-decoration-color: #008080; text-decoration: underline\">https://www.bbc.com/sport/snooker</span><span style=\"color: #008080; text-decoration-color: #008080\"> </span>\n",
       "</pre>\n"
      ],
      "text/plain": [
       "\u001b[1;36m[\u001b[0m\u001b[36mURL_SEED\u001b[0m\u001b[1;36m]\u001b[0m\u001b[36m ℹ LIVE CHECK VALID for \u001b[0m\u001b[4;36mhttps://www.bbc.com/sport/snooker\u001b[0m\u001b[36m \u001b[0m\n"
      ]
     },
     "metadata": {},
     "output_type": "display_data"
    },
    {
     "data": {
      "text/html": [
       "<pre style=\"white-space:pre;overflow-x:auto;line-height:normal;font-family:Menlo,'DejaVu Sans Mono',consolas,'Courier New',monospace\"><span style=\"color: #808080; text-decoration-color: #808080; font-weight: bold\">[</span><span style=\"color: #808080; text-decoration-color: #808080\">URL_SEED</span><span style=\"color: #808080; text-decoration-color: #808080; font-weight: bold\">]</span><span style=\"color: #808080; text-decoration-color: #808080\"> ℹ Performing live check for </span><span style=\"color: #808080; text-decoration-color: #808080; text-decoration: underline\">https://www.bbc.com/sport/cycling</span><span style=\"color: #808080; text-decoration-color: #808080\"> </span>\n",
       "</pre>\n"
      ],
      "text/plain": [
       "\u001b[1;90m[\u001b[0m\u001b[90mURL_SEED\u001b[0m\u001b[1;90m]\u001b[0m\u001b[90m ℹ Performing live check for \u001b[0m\u001b[4;90mhttps://www.bbc.com/sport/cycling\u001b[0m\u001b[90m \u001b[0m\n"
      ]
     },
     "metadata": {},
     "output_type": "display_data"
    },
    {
     "data": {
      "text/html": [
       "<pre style=\"white-space:pre;overflow-x:auto;line-height:normal;font-family:Menlo,'DejaVu Sans Mono',consolas,'Courier New',monospace\"><span style=\"color: #808080; text-decoration-color: #808080; font-weight: bold\">[</span><span style=\"color: #808080; text-decoration-color: #808080\">URL_SEED</span><span style=\"color: #808080; text-decoration-color: #808080; font-weight: bold\">]</span><span style=\"color: #808080; text-decoration-color: #808080\"> ℹ Performing live check for </span><span style=\"color: #808080; text-decoration-color: #808080; text-decoration: underline\">https://www.bbc.com/sport/football/scottish</span><span style=\"color: #808080; text-decoration-color: #808080\"> </span>\n",
       "</pre>\n"
      ],
      "text/plain": [
       "\u001b[1;90m[\u001b[0m\u001b[90mURL_SEED\u001b[0m\u001b[1;90m]\u001b[0m\u001b[90m ℹ Performing live check for \u001b[0m\u001b[4;90mhttps://www.bbc.com/sport/football/scottish\u001b[0m\u001b[90m \u001b[0m\n"
      ]
     },
     "metadata": {},
     "output_type": "display_data"
    },
    {
     "data": {
      "text/html": [
       "<pre style=\"white-space:pre;overflow-x:auto;line-height:normal;font-family:Menlo,'DejaVu Sans Mono',consolas,'Courier New',monospace\"><span style=\"color: #008080; text-decoration-color: #008080; font-weight: bold\">[</span><span style=\"color: #008080; text-decoration-color: #008080\">URL_SEED</span><span style=\"color: #008080; text-decoration-color: #008080; font-weight: bold\">]</span><span style=\"color: #008080; text-decoration-color: #008080\"> ℹ LIVE CHECK VALID for </span><span style=\"color: #008080; text-decoration-color: #008080; text-decoration: underline\">https://www.bbc.com/sport/football/european</span><span style=\"color: #008080; text-decoration-color: #008080\"> </span>\n",
       "</pre>\n"
      ],
      "text/plain": [
       "\u001b[1;36m[\u001b[0m\u001b[36mURL_SEED\u001b[0m\u001b[1;36m]\u001b[0m\u001b[36m ℹ LIVE CHECK VALID for \u001b[0m\u001b[4;36mhttps://www.bbc.com/sport/football/european\u001b[0m\u001b[36m \u001b[0m\n"
      ]
     },
     "metadata": {},
     "output_type": "display_data"
    },
    {
     "data": {
      "text/html": [
       "<pre style=\"white-space:pre;overflow-x:auto;line-height:normal;font-family:Menlo,'DejaVu Sans Mono',consolas,'Courier New',monospace\"><span style=\"color: #008080; text-decoration-color: #008080; font-weight: bold\">[</span><span style=\"color: #008080; text-decoration-color: #008080\">URL_SEED</span><span style=\"color: #008080; text-decoration-color: #008080; font-weight: bold\">]</span><span style=\"color: #008080; text-decoration-color: #008080\"> ℹ LIVE CHECK VALID for </span><span style=\"color: #008080; text-decoration-color: #008080; text-decoration: underline\">https://www.bbc.com/sport/cycling</span><span style=\"color: #008080; text-decoration-color: #008080\"> </span>\n",
       "</pre>\n"
      ],
      "text/plain": [
       "\u001b[1;36m[\u001b[0m\u001b[36mURL_SEED\u001b[0m\u001b[1;36m]\u001b[0m\u001b[36m ℹ LIVE CHECK VALID for \u001b[0m\u001b[4;36mhttps://www.bbc.com/sport/cycling\u001b[0m\u001b[36m \u001b[0m\n"
      ]
     },
     "metadata": {},
     "output_type": "display_data"
    },
    {
     "data": {
      "text/html": [
       "<pre style=\"white-space:pre;overflow-x:auto;line-height:normal;font-family:Menlo,'DejaVu Sans Mono',consolas,'Courier New',monospace\"><span style=\"color: #008080; text-decoration-color: #008080; font-weight: bold\">[</span><span style=\"color: #008080; text-decoration-color: #008080\">URL_SEED</span><span style=\"color: #008080; text-decoration-color: #008080; font-weight: bold\">]</span><span style=\"color: #008080; text-decoration-color: #008080\"> ℹ LIVE CHECK VALID for </span><span style=\"color: #008080; text-decoration-color: #008080; text-decoration: underline\">https://www.bbc.com/sport/rugby-league</span><span style=\"color: #008080; text-decoration-color: #008080\"> </span>\n",
       "</pre>\n"
      ],
      "text/plain": [
       "\u001b[1;36m[\u001b[0m\u001b[36mURL_SEED\u001b[0m\u001b[1;36m]\u001b[0m\u001b[36m ℹ LIVE CHECK VALID for \u001b[0m\u001b[4;36mhttps://www.bbc.com/sport/rugby-league\u001b[0m\u001b[36m \u001b[0m\n"
      ]
     },
     "metadata": {},
     "output_type": "display_data"
    },
    {
     "data": {
      "text/html": [
       "<pre style=\"white-space:pre;overflow-x:auto;line-height:normal;font-family:Menlo,'DejaVu Sans Mono',consolas,'Courier New',monospace\"><span style=\"color: #808080; text-decoration-color: #808080; font-weight: bold\">[</span><span style=\"color: #808080; text-decoration-color: #808080\">URL_SEED</span><span style=\"color: #808080; text-decoration-color: #808080; font-weight: bold\">]</span><span style=\"color: #808080; text-decoration-color: #808080\"> ℹ Performing live check for </span><span style=\"color: #808080; text-decoration-color: #808080; text-decoration: underline\">https://www.bbc.com/sport/football/championship</span><span style=\"color: #808080; text-decoration-color: #808080\"> </span>\n",
       "</pre>\n"
      ],
      "text/plain": [
       "\u001b[1;90m[\u001b[0m\u001b[90mURL_SEED\u001b[0m\u001b[1;90m]\u001b[0m\u001b[90m ℹ Performing live check for \u001b[0m\u001b[4;90mhttps://www.bbc.com/sport/football/championship\u001b[0m\u001b[90m \u001b[0m\n"
      ]
     },
     "metadata": {},
     "output_type": "display_data"
    },
    {
     "data": {
      "text/html": [
       "<pre style=\"white-space:pre;overflow-x:auto;line-height:normal;font-family:Menlo,'DejaVu Sans Mono',consolas,'Courier New',monospace\"><span style=\"color: #008080; text-decoration-color: #008080; font-weight: bold\">[</span><span style=\"color: #008080; text-decoration-color: #008080\">URL_SEED</span><span style=\"color: #008080; text-decoration-color: #008080; font-weight: bold\">]</span><span style=\"color: #008080; text-decoration-color: #008080\"> ℹ LIVE CHECK VALID for </span><span style=\"color: #008080; text-decoration-color: #008080; text-decoration: underline\">https://www.bbc.com/sport/football/scottish</span><span style=\"color: #008080; text-decoration-color: #008080\"> </span>\n",
       "</pre>\n"
      ],
      "text/plain": [
       "\u001b[1;36m[\u001b[0m\u001b[36mURL_SEED\u001b[0m\u001b[1;36m]\u001b[0m\u001b[36m ℹ LIVE CHECK VALID for \u001b[0m\u001b[4;36mhttps://www.bbc.com/sport/football/scottish\u001b[0m\u001b[36m \u001b[0m\n"
      ]
     },
     "metadata": {},
     "output_type": "display_data"
    },
    {
     "data": {
      "text/html": [
       "<pre style=\"white-space:pre;overflow-x:auto;line-height:normal;font-family:Menlo,'DejaVu Sans Mono',consolas,'Courier New',monospace\"><span style=\"color: #808080; text-decoration-color: #808080; font-weight: bold\">[</span><span style=\"color: #808080; text-decoration-color: #808080\">URL_SEED</span><span style=\"color: #808080; text-decoration-color: #808080; font-weight: bold\">]</span><span style=\"color: #808080; text-decoration-color: #808080\"> ℹ Performing live check for </span><span style=\"color: #808080; text-decoration-color: #808080; text-decoration: underline\">https://www.bbc.com/sport/boxing</span><span style=\"color: #808080; text-decoration-color: #808080\"> </span>\n",
       "</pre>\n"
      ],
      "text/plain": [
       "\u001b[1;90m[\u001b[0m\u001b[90mURL_SEED\u001b[0m\u001b[1;90m]\u001b[0m\u001b[90m ℹ Performing live check for \u001b[0m\u001b[4;90mhttps://www.bbc.com/sport/boxing\u001b[0m\u001b[90m \u001b[0m\n"
      ]
     },
     "metadata": {},
     "output_type": "display_data"
    },
    {
     "data": {
      "text/html": [
       "<pre style=\"white-space:pre;overflow-x:auto;line-height:normal;font-family:Menlo,'DejaVu Sans Mono',consolas,'Courier New',monospace\"><span style=\"color: #808080; text-decoration-color: #808080; font-weight: bold\">[</span><span style=\"color: #808080; text-decoration-color: #808080\">URL_SEED</span><span style=\"color: #808080; text-decoration-color: #808080; font-weight: bold\">]</span><span style=\"color: #808080; text-decoration-color: #808080\"> ℹ Performing live check for </span><span style=\"color: #808080; text-decoration-color: #808080; text-decoration: underline\">https://www.bbc.com/sport/horse-racing</span><span style=\"color: #808080; text-decoration-color: #808080\"> </span>\n",
       "</pre>\n"
      ],
      "text/plain": [
       "\u001b[1;90m[\u001b[0m\u001b[90mURL_SEED\u001b[0m\u001b[1;90m]\u001b[0m\u001b[90m ℹ Performing live check for \u001b[0m\u001b[4;90mhttps://www.bbc.com/sport/horse-racing\u001b[0m\u001b[90m \u001b[0m\n"
      ]
     },
     "metadata": {},
     "output_type": "display_data"
    },
    {
     "data": {
      "text/html": [
       "<pre style=\"white-space:pre;overflow-x:auto;line-height:normal;font-family:Menlo,'DejaVu Sans Mono',consolas,'Courier New',monospace\"><span style=\"color: #808080; text-decoration-color: #808080; font-weight: bold\">[</span><span style=\"color: #808080; text-decoration-color: #808080\">URL_SEED</span><span style=\"color: #808080; text-decoration-color: #808080; font-weight: bold\">]</span><span style=\"color: #808080; text-decoration-color: #808080\"> ℹ Performing live check for </span><span style=\"color: #808080; text-decoration-color: #808080; text-decoration: underline\">https://www.bbc.com/sport/athletics</span><span style=\"color: #808080; text-decoration-color: #808080\"> </span>\n",
       "</pre>\n"
      ],
      "text/plain": [
       "\u001b[1;90m[\u001b[0m\u001b[90mURL_SEED\u001b[0m\u001b[1;90m]\u001b[0m\u001b[90m ℹ Performing live check for \u001b[0m\u001b[4;90mhttps://www.bbc.com/sport/athletics\u001b[0m\u001b[90m \u001b[0m\n"
      ]
     },
     "metadata": {},
     "output_type": "display_data"
    },
    {
     "data": {
      "text/html": [
       "<pre style=\"white-space:pre;overflow-x:auto;line-height:normal;font-family:Menlo,'DejaVu Sans Mono',consolas,'Courier New',monospace\"><span style=\"color: #008080; text-decoration-color: #008080; font-weight: bold\">[</span><span style=\"color: #008080; text-decoration-color: #008080\">URL_SEED</span><span style=\"color: #008080; text-decoration-color: #008080; font-weight: bold\">]</span><span style=\"color: #008080; text-decoration-color: #008080\"> ℹ LIVE CHECK VALID for </span><span style=\"color: #008080; text-decoration-color: #008080; text-decoration: underline\">https://www.bbc.com/sport/football/championship</span><span style=\"color: #008080; text-decoration-color: #008080\"> </span>\n",
       "</pre>\n"
      ],
      "text/plain": [
       "\u001b[1;36m[\u001b[0m\u001b[36mURL_SEED\u001b[0m\u001b[1;36m]\u001b[0m\u001b[36m ℹ LIVE CHECK VALID for \u001b[0m\u001b[4;36mhttps://www.bbc.com/sport/football/championship\u001b[0m\u001b[36m \u001b[0m\n"
      ]
     },
     "metadata": {},
     "output_type": "display_data"
    },
    {
     "data": {
      "text/html": [
       "<pre style=\"white-space:pre;overflow-x:auto;line-height:normal;font-family:Menlo,'DejaVu Sans Mono',consolas,'Courier New',monospace\"><span style=\"color: #008080; text-decoration-color: #008080; font-weight: bold\">[</span><span style=\"color: #008080; text-decoration-color: #008080\">URL_SEED</span><span style=\"color: #008080; text-decoration-color: #008080; font-weight: bold\">]</span><span style=\"color: #008080; text-decoration-color: #008080\"> ℹ LIVE CHECK VALID for </span><span style=\"color: #008080; text-decoration-color: #008080; text-decoration: underline\">https://www.bbc.com/sport/boxing</span><span style=\"color: #008080; text-decoration-color: #008080\"> </span>\n",
       "</pre>\n"
      ],
      "text/plain": [
       "\u001b[1;36m[\u001b[0m\u001b[36mURL_SEED\u001b[0m\u001b[1;36m]\u001b[0m\u001b[36m ℹ LIVE CHECK VALID for \u001b[0m\u001b[4;36mhttps://www.bbc.com/sport/boxing\u001b[0m\u001b[36m \u001b[0m\n"
      ]
     },
     "metadata": {},
     "output_type": "display_data"
    },
    {
     "data": {
      "text/html": [
       "<pre style=\"white-space:pre;overflow-x:auto;line-height:normal;font-family:Menlo,'DejaVu Sans Mono',consolas,'Courier New',monospace\"><span style=\"color: #008080; text-decoration-color: #008080; font-weight: bold\">[</span><span style=\"color: #008080; text-decoration-color: #008080\">URL_SEED</span><span style=\"color: #008080; text-decoration-color: #008080; font-weight: bold\">]</span><span style=\"color: #008080; text-decoration-color: #008080\"> ℹ LIVE CHECK VALID for </span><span style=\"color: #008080; text-decoration-color: #008080; text-decoration: underline\">https://www.bbc.com/sport/rugby-union</span><span style=\"color: #008080; text-decoration-color: #008080\"> </span>\n",
       "</pre>\n"
      ],
      "text/plain": [
       "\u001b[1;36m[\u001b[0m\u001b[36mURL_SEED\u001b[0m\u001b[1;36m]\u001b[0m\u001b[36m ℹ LIVE CHECK VALID for \u001b[0m\u001b[4;36mhttps://www.bbc.com/sport/rugby-union\u001b[0m\u001b[36m \u001b[0m\n"
      ]
     },
     "metadata": {},
     "output_type": "display_data"
    },
    {
     "data": {
      "text/html": [
       "<pre style=\"white-space:pre;overflow-x:auto;line-height:normal;font-family:Menlo,'DejaVu Sans Mono',consolas,'Courier New',monospace\"><span style=\"color: #008080; text-decoration-color: #008080; font-weight: bold\">[</span><span style=\"color: #008080; text-decoration-color: #008080\">URL_SEED</span><span style=\"color: #008080; text-decoration-color: #008080; font-weight: bold\">]</span><span style=\"color: #008080; text-decoration-color: #008080\"> ℹ LIVE CHECK VALID for </span><span style=\"color: #008080; text-decoration-color: #008080; text-decoration: underline\">https://www.bbc.com/sport/athletics</span><span style=\"color: #008080; text-decoration-color: #008080\"> </span>\n",
       "</pre>\n"
      ],
      "text/plain": [
       "\u001b[1;36m[\u001b[0m\u001b[36mURL_SEED\u001b[0m\u001b[1;36m]\u001b[0m\u001b[36m ℹ LIVE CHECK VALID for \u001b[0m\u001b[4;36mhttps://www.bbc.com/sport/athletics\u001b[0m\u001b[36m \u001b[0m\n"
      ]
     },
     "metadata": {},
     "output_type": "display_data"
    },
    {
     "data": {
      "text/html": [
       "<pre style=\"white-space:pre;overflow-x:auto;line-height:normal;font-family:Menlo,'DejaVu Sans Mono',consolas,'Courier New',monospace\"><span style=\"color: #008080; text-decoration-color: #008080; font-weight: bold\">[</span><span style=\"color: #008080; text-decoration-color: #008080\">URL_SEED</span><span style=\"color: #008080; text-decoration-color: #008080; font-weight: bold\">]</span><span style=\"color: #008080; text-decoration-color: #008080\"> ℹ LIVE CHECK VALID for </span><span style=\"color: #008080; text-decoration-color: #008080; text-decoration: underline\">https://www.bbc.com/sport/horse-racing</span><span style=\"color: #008080; text-decoration-color: #008080\"> </span>\n",
       "</pre>\n"
      ],
      "text/plain": [
       "\u001b[1;36m[\u001b[0m\u001b[36mURL_SEED\u001b[0m\u001b[1;36m]\u001b[0m\u001b[36m ℹ LIVE CHECK VALID for \u001b[0m\u001b[4;36mhttps://www.bbc.com/sport/horse-racing\u001b[0m\u001b[36m \u001b[0m\n"
      ]
     },
     "metadata": {},
     "output_type": "display_data"
    },
    {
     "data": {
      "text/html": [
       "<pre style=\"white-space:pre;overflow-x:auto;line-height:normal;font-family:Menlo,'DejaVu Sans Mono',consolas,'Courier New',monospace\"><span style=\"color: #808080; text-decoration-color: #808080; font-weight: bold\">[</span><span style=\"color: #808080; text-decoration-color: #808080\">URL_SEED</span><span style=\"color: #808080; text-decoration-color: #808080; font-weight: bold\">]</span><span style=\"color: #808080; text-decoration-color: #808080\"> ℹ Performing live check for </span><span style=\"color: #808080; text-decoration-color: #808080; text-decoration: underline\">https://www.bbc.com/sport/scotland</span><span style=\"color: #808080; text-decoration-color: #808080\"> </span>\n",
       "</pre>\n"
      ],
      "text/plain": [
       "\u001b[1;90m[\u001b[0m\u001b[90mURL_SEED\u001b[0m\u001b[1;90m]\u001b[0m\u001b[90m ℹ Performing live check for \u001b[0m\u001b[4;90mhttps://www.bbc.com/sport/scotland\u001b[0m\u001b[90m \u001b[0m\n"
      ]
     },
     "metadata": {},
     "output_type": "display_data"
    },
    {
     "data": {
      "text/html": [
       "<pre style=\"white-space:pre;overflow-x:auto;line-height:normal;font-family:Menlo,'DejaVu Sans Mono',consolas,'Courier New',monospace\"><span style=\"color: #808080; text-decoration-color: #808080; font-weight: bold\">[</span><span style=\"color: #808080; text-decoration-color: #808080\">URL_SEED</span><span style=\"color: #808080; text-decoration-color: #808080; font-weight: bold\">]</span><span style=\"color: #808080; text-decoration-color: #808080\"> ℹ Performing live check for </span><span style=\"color: #808080; text-decoration-color: #808080; text-decoration: underline\">https://www.bbc.com/sport/american-football</span><span style=\"color: #808080; text-decoration-color: #808080\"> </span>\n",
       "</pre>\n"
      ],
      "text/plain": [
       "\u001b[1;90m[\u001b[0m\u001b[90mURL_SEED\u001b[0m\u001b[1;90m]\u001b[0m\u001b[90m ℹ Performing live check for \u001b[0m\u001b[4;90mhttps://www.bbc.com/sport/american-football\u001b[0m\u001b[90m \u001b[0m\n"
      ]
     },
     "metadata": {},
     "output_type": "display_data"
    },
    {
     "data": {
      "text/html": [
       "<pre style=\"white-space:pre;overflow-x:auto;line-height:normal;font-family:Menlo,'DejaVu Sans Mono',consolas,'Courier New',monospace\"><span style=\"color: #808080; text-decoration-color: #808080; font-weight: bold\">[</span><span style=\"color: #808080; text-decoration-color: #808080\">URL_SEED</span><span style=\"color: #808080; text-decoration-color: #808080; font-weight: bold\">]</span><span style=\"color: #808080; text-decoration-color: #808080\"> ℹ Performing live check for </span><span style=\"color: #808080; text-decoration-color: #808080; text-decoration: underline\">https://www.bbc.com/sport/football/champions-league</span><span style=\"color: #808080; text-decoration-color: #808080\"> </span>\n",
       "</pre>\n"
      ],
      "text/plain": [
       "\u001b[1;90m[\u001b[0m\u001b[90mURL_SEED\u001b[0m\u001b[1;90m]\u001b[0m\u001b[90m ℹ Performing live check for \u001b[0m\u001b[4;90mhttps://www.bbc.com/sport/football/champions-league\u001b[0m\u001b[90m \u001b[0m\n"
      ]
     },
     "metadata": {},
     "output_type": "display_data"
    },
    {
     "data": {
      "text/html": [
       "<pre style=\"white-space:pre;overflow-x:auto;line-height:normal;font-family:Menlo,'DejaVu Sans Mono',consolas,'Courier New',monospace\"><span style=\"color: #808080; text-decoration-color: #808080; font-weight: bold\">[</span><span style=\"color: #808080; text-decoration-color: #808080\">URL_SEED</span><span style=\"color: #808080; text-decoration-color: #808080; font-weight: bold\">]</span><span style=\"color: #808080; text-decoration-color: #808080\"> ℹ Performing live check for </span><span style=\"color: #808080; text-decoration-color: #808080; text-decoration: underline\">https://www.bbc.com/sport/football/teams/liverpool</span><span style=\"color: #808080; text-decoration-color: #808080\"> </span>\n",
       "</pre>\n"
      ],
      "text/plain": [
       "\u001b[1;90m[\u001b[0m\u001b[90mURL_SEED\u001b[0m\u001b[1;90m]\u001b[0m\u001b[90m ℹ Performing live check for \u001b[0m\u001b[4;90mhttps://www.bbc.com/sport/football/teams/liverpool\u001b[0m\u001b[90m \u001b[0m\n"
      ]
     },
     "metadata": {},
     "output_type": "display_data"
    },
    {
     "data": {
      "text/html": [
       "<pre style=\"white-space:pre;overflow-x:auto;line-height:normal;font-family:Menlo,'DejaVu Sans Mono',consolas,'Courier New',monospace\"><span style=\"color: #808080; text-decoration-color: #808080; font-weight: bold\">[</span><span style=\"color: #808080; text-decoration-color: #808080\">URL_SEED</span><span style=\"color: #808080; text-decoration-color: #808080; font-weight: bold\">]</span><span style=\"color: #808080; text-decoration-color: #808080\"> ℹ Performing live check for </span><span style=\"color: #808080; text-decoration-color: #808080; text-decoration: underline\">https://www.bbc.com/sport/football/teams/manchester-united</span><span style=\"color: #808080; text-decoration-color: #808080\"> </span>\n",
       "</pre>\n"
      ],
      "text/plain": [
       "\u001b[1;90m[\u001b[0m\u001b[90mURL_SEED\u001b[0m\u001b[1;90m]\u001b[0m\u001b[90m ℹ Performing live check for \u001b[0m\u001b[4;90mhttps://www.bbc.com/sport/football/teams/manchester-united\u001b[0m\u001b[90m \u001b[0m\n"
      ]
     },
     "metadata": {},
     "output_type": "display_data"
    },
    {
     "data": {
      "text/html": [
       "<pre style=\"white-space:pre;overflow-x:auto;line-height:normal;font-family:Menlo,'DejaVu Sans Mono',consolas,'Courier New',monospace\"><span style=\"color: #008080; text-decoration-color: #008080; font-weight: bold\">[</span><span style=\"color: #008080; text-decoration-color: #008080\">URL_SEED</span><span style=\"color: #008080; text-decoration-color: #008080; font-weight: bold\">]</span><span style=\"color: #008080; text-decoration-color: #008080\"> ℹ LIVE CHECK VALID for </span><span style=\"color: #008080; text-decoration-color: #008080; text-decoration: underline\">https://www.bbc.com/sport/scotland</span><span style=\"color: #008080; text-decoration-color: #008080\"> </span>\n",
       "</pre>\n"
      ],
      "text/plain": [
       "\u001b[1;36m[\u001b[0m\u001b[36mURL_SEED\u001b[0m\u001b[1;36m]\u001b[0m\u001b[36m ℹ LIVE CHECK VALID for \u001b[0m\u001b[4;36mhttps://www.bbc.com/sport/scotland\u001b[0m\u001b[36m \u001b[0m\n"
      ]
     },
     "metadata": {},
     "output_type": "display_data"
    },
    {
     "data": {
      "text/html": [
       "<pre style=\"white-space:pre;overflow-x:auto;line-height:normal;font-family:Menlo,'DejaVu Sans Mono',consolas,'Courier New',monospace\"><span style=\"color: #008080; text-decoration-color: #008080; font-weight: bold\">[</span><span style=\"color: #008080; text-decoration-color: #008080\">URL_SEED</span><span style=\"color: #008080; text-decoration-color: #008080; font-weight: bold\">]</span><span style=\"color: #008080; text-decoration-color: #008080\"> ℹ LIVE CHECK VALID for </span><span style=\"color: #008080; text-decoration-color: #008080; text-decoration: underline\">https://www.bbc.com/sport/football/champions-league</span><span style=\"color: #008080; text-decoration-color: #008080\"> </span>\n",
       "</pre>\n"
      ],
      "text/plain": [
       "\u001b[1;36m[\u001b[0m\u001b[36mURL_SEED\u001b[0m\u001b[1;36m]\u001b[0m\u001b[36m ℹ LIVE CHECK VALID for \u001b[0m\u001b[4;36mhttps://www.bbc.com/sport/football/champions-league\u001b[0m\u001b[36m \u001b[0m\n"
      ]
     },
     "metadata": {},
     "output_type": "display_data"
    },
    {
     "data": {
      "text/html": [
       "<pre style=\"white-space:pre;overflow-x:auto;line-height:normal;font-family:Menlo,'DejaVu Sans Mono',consolas,'Courier New',monospace\"><span style=\"color: #008080; text-decoration-color: #008080; font-weight: bold\">[</span><span style=\"color: #008080; text-decoration-color: #008080\">URL_SEED</span><span style=\"color: #008080; text-decoration-color: #008080; font-weight: bold\">]</span><span style=\"color: #008080; text-decoration-color: #008080\"> ℹ LIVE CHECK VALID for </span><span style=\"color: #008080; text-decoration-color: #008080; text-decoration: underline\">https://www.bbc.com/sport/football/teams/liverpool</span><span style=\"color: #008080; text-decoration-color: #008080\"> </span>\n",
       "</pre>\n"
      ],
      "text/plain": [
       "\u001b[1;36m[\u001b[0m\u001b[36mURL_SEED\u001b[0m\u001b[1;36m]\u001b[0m\u001b[36m ℹ LIVE CHECK VALID for \u001b[0m\u001b[4;36mhttps://www.bbc.com/sport/football/teams/liverpool\u001b[0m\u001b[36m \u001b[0m\n"
      ]
     },
     "metadata": {},
     "output_type": "display_data"
    },
    {
     "data": {
      "text/html": [
       "<pre style=\"white-space:pre;overflow-x:auto;line-height:normal;font-family:Menlo,'DejaVu Sans Mono',consolas,'Courier New',monospace\"><span style=\"color: #808080; text-decoration-color: #808080; font-weight: bold\">[</span><span style=\"color: #808080; text-decoration-color: #808080\">URL_SEED</span><span style=\"color: #808080; text-decoration-color: #808080; font-weight: bold\">]</span><span style=\"color: #808080; text-decoration-color: #808080\"> ℹ Performing live check for </span><span style=\"color: #808080; text-decoration-color: #808080; text-decoration: underline\">https://www.bbc.com/sport/football/womens</span><span style=\"color: #808080; text-decoration-color: #808080\"> </span>\n",
       "</pre>\n"
      ],
      "text/plain": [
       "\u001b[1;90m[\u001b[0m\u001b[90mURL_SEED\u001b[0m\u001b[1;90m]\u001b[0m\u001b[90m ℹ Performing live check for \u001b[0m\u001b[4;90mhttps://www.bbc.com/sport/football/womens\u001b[0m\u001b[90m \u001b[0m\n"
      ]
     },
     "metadata": {},
     "output_type": "display_data"
    },
    {
     "data": {
      "text/html": [
       "<pre style=\"white-space:pre;overflow-x:auto;line-height:normal;font-family:Menlo,'DejaVu Sans Mono',consolas,'Courier New',monospace\"><span style=\"color: #008080; text-decoration-color: #008080; font-weight: bold\">[</span><span style=\"color: #008080; text-decoration-color: #008080\">URL_SEED</span><span style=\"color: #008080; text-decoration-color: #008080; font-weight: bold\">]</span><span style=\"color: #008080; text-decoration-color: #008080\"> ℹ LIVE CHECK VALID for </span><span style=\"color: #008080; text-decoration-color: #008080; text-decoration: underline\">https://www.bbc.com/sport/american-football</span><span style=\"color: #008080; text-decoration-color: #008080\"> </span>\n",
       "</pre>\n"
      ],
      "text/plain": [
       "\u001b[1;36m[\u001b[0m\u001b[36mURL_SEED\u001b[0m\u001b[1;36m]\u001b[0m\u001b[36m ℹ LIVE CHECK VALID for \u001b[0m\u001b[4;36mhttps://www.bbc.com/sport/american-football\u001b[0m\u001b[36m \u001b[0m\n"
      ]
     },
     "metadata": {},
     "output_type": "display_data"
    },
    {
     "data": {
      "text/html": [
       "<pre style=\"white-space:pre;overflow-x:auto;line-height:normal;font-family:Menlo,'DejaVu Sans Mono',consolas,'Courier New',monospace\"><span style=\"color: #808080; text-decoration-color: #808080; font-weight: bold\">[</span><span style=\"color: #808080; text-decoration-color: #808080\">URL_SEED</span><span style=\"color: #808080; text-decoration-color: #808080; font-weight: bold\">]</span><span style=\"color: #808080; text-decoration-color: #808080\"> ℹ Performing live check for </span><span style=\"color: #808080; text-decoration-color: #808080; text-decoration: underline\">https://www.bbc.com/sport/football/teams/arsenal</span><span style=\"color: #808080; text-decoration-color: #808080\"> </span>\n",
       "</pre>\n"
      ],
      "text/plain": [
       "\u001b[1;90m[\u001b[0m\u001b[90mURL_SEED\u001b[0m\u001b[1;90m]\u001b[0m\u001b[90m ℹ Performing live check for \u001b[0m\u001b[4;90mhttps://www.bbc.com/sport/football/teams/arsenal\u001b[0m\u001b[90m \u001b[0m\n"
      ]
     },
     "metadata": {},
     "output_type": "display_data"
    },
    {
     "data": {
      "text/html": [
       "<pre style=\"white-space:pre;overflow-x:auto;line-height:normal;font-family:Menlo,'DejaVu Sans Mono',consolas,'Courier New',monospace\"><span style=\"color: #008080; text-decoration-color: #008080; font-weight: bold\">[</span><span style=\"color: #008080; text-decoration-color: #008080\">URL_SEED</span><span style=\"color: #008080; text-decoration-color: #008080; font-weight: bold\">]</span><span style=\"color: #008080; text-decoration-color: #008080\"> ℹ LIVE CHECK VALID for </span><span style=\"color: #008080; text-decoration-color: #008080; text-decoration: underline\">https://www.bbc.com/sport/football/teams/manchester-united</span><span style=\"color: #008080; text-decoration-color: #008080\"> </span>\n",
       "</pre>\n"
      ],
      "text/plain": [
       "\u001b[1;36m[\u001b[0m\u001b[36mURL_SEED\u001b[0m\u001b[1;36m]\u001b[0m\u001b[36m ℹ LIVE CHECK VALID for \u001b[0m\u001b[4;36mhttps://www.bbc.com/sport/football/teams/manchester-united\u001b[0m\u001b[36m \u001b[0m\n"
      ]
     },
     "metadata": {},
     "output_type": "display_data"
    },
    {
     "data": {
      "text/html": [
       "<pre style=\"white-space:pre;overflow-x:auto;line-height:normal;font-family:Menlo,'DejaVu Sans Mono',consolas,'Courier New',monospace\"><span style=\"color: #808080; text-decoration-color: #808080; font-weight: bold\">[</span><span style=\"color: #808080; text-decoration-color: #808080\">URL_SEED</span><span style=\"color: #808080; text-decoration-color: #808080; font-weight: bold\">]</span><span style=\"color: #808080; text-decoration-color: #808080\"> ℹ Performing live check for </span><span style=\"color: #808080; text-decoration-color: #808080; text-decoration: underline\">https://www.bbc.com/sport/football/scottish-premiership</span><span style=\"color: #808080; text-decoration-color: #808080\"> </span>\n",
       "</pre>\n"
      ],
      "text/plain": [
       "\u001b[1;90m[\u001b[0m\u001b[90mURL_SEED\u001b[0m\u001b[1;90m]\u001b[0m\u001b[90m ℹ Performing live check for \u001b[0m\u001b[4;90mhttps://www.bbc.com/sport/football/scottish-premiership\u001b[0m\u001b[90m \u001b[0m\n"
      ]
     },
     "metadata": {},
     "output_type": "display_data"
    },
    {
     "data": {
      "text/html": [
       "<pre style=\"white-space:pre;overflow-x:auto;line-height:normal;font-family:Menlo,'DejaVu Sans Mono',consolas,'Courier New',monospace\"><span style=\"color: #808080; text-decoration-color: #808080; font-weight: bold\">[</span><span style=\"color: #808080; text-decoration-color: #808080\">URL_SEED</span><span style=\"color: #808080; text-decoration-color: #808080; font-weight: bold\">]</span><span style=\"color: #808080; text-decoration-color: #808080\"> ℹ Performing live check for </span><span style=\"color: #808080; text-decoration-color: #808080; text-decoration: underline\">https://www.bbc.com/sport/football/league-one</span><span style=\"color: #808080; text-decoration-color: #808080\"> </span>\n",
       "</pre>\n"
      ],
      "text/plain": [
       "\u001b[1;90m[\u001b[0m\u001b[90mURL_SEED\u001b[0m\u001b[1;90m]\u001b[0m\u001b[90m ℹ Performing live check for \u001b[0m\u001b[4;90mhttps://www.bbc.com/sport/football/league-one\u001b[0m\u001b[90m \u001b[0m\n"
      ]
     },
     "metadata": {},
     "output_type": "display_data"
    },
    {
     "data": {
      "text/html": [
       "<pre style=\"white-space:pre;overflow-x:auto;line-height:normal;font-family:Menlo,'DejaVu Sans Mono',consolas,'Courier New',monospace\"><span style=\"color: #808080; text-decoration-color: #808080; font-weight: bold\">[</span><span style=\"color: #808080; text-decoration-color: #808080\">URL_SEED</span><span style=\"color: #808080; text-decoration-color: #808080; font-weight: bold\">]</span><span style=\"color: #808080; text-decoration-color: #808080\"> ℹ Performing live check for </span><span style=\"color: #808080; text-decoration-color: #808080; text-decoration: underline\">https://www.bbc.com/sport/football/teams/tottenham-hotspur</span><span style=\"color: #808080; text-decoration-color: #808080\"> </span>\n",
       "</pre>\n"
      ],
      "text/plain": [
       "\u001b[1;90m[\u001b[0m\u001b[90mURL_SEED\u001b[0m\u001b[1;90m]\u001b[0m\u001b[90m ℹ Performing live check for \u001b[0m\u001b[4;90mhttps://www.bbc.com/sport/football/teams/tottenham-hotspur\u001b[0m\u001b[90m \u001b[0m\n"
      ]
     },
     "metadata": {},
     "output_type": "display_data"
    },
    {
     "data": {
      "text/html": [
       "<pre style=\"white-space:pre;overflow-x:auto;line-height:normal;font-family:Menlo,'DejaVu Sans Mono',consolas,'Courier New',monospace\"><span style=\"color: #008080; text-decoration-color: #008080; font-weight: bold\">[</span><span style=\"color: #008080; text-decoration-color: #008080\">URL_SEED</span><span style=\"color: #008080; text-decoration-color: #008080; font-weight: bold\">]</span><span style=\"color: #008080; text-decoration-color: #008080\"> ℹ LIVE CHECK VALID for </span><span style=\"color: #008080; text-decoration-color: #008080; text-decoration: underline\">https://www.bbc.com/sport/football/womens</span><span style=\"color: #008080; text-decoration-color: #008080\"> </span>\n",
       "</pre>\n"
      ],
      "text/plain": [
       "\u001b[1;36m[\u001b[0m\u001b[36mURL_SEED\u001b[0m\u001b[1;36m]\u001b[0m\u001b[36m ℹ LIVE CHECK VALID for \u001b[0m\u001b[4;36mhttps://www.bbc.com/sport/football/womens\u001b[0m\u001b[36m \u001b[0m\n"
      ]
     },
     "metadata": {},
     "output_type": "display_data"
    },
    {
     "data": {
      "text/html": [
       "<pre style=\"white-space:pre;overflow-x:auto;line-height:normal;font-family:Menlo,'DejaVu Sans Mono',consolas,'Courier New',monospace\"><span style=\"color: #808080; text-decoration-color: #808080; font-weight: bold\">[</span><span style=\"color: #808080; text-decoration-color: #808080\">URL_SEED</span><span style=\"color: #808080; text-decoration-color: #808080; font-weight: bold\">]</span><span style=\"color: #808080; text-decoration-color: #808080\"> ℹ Performing live check for </span><span style=\"color: #808080; text-decoration-color: #808080; text-decoration: underline\">https://www.bbc.com/sport/football/league-cup</span><span style=\"color: #808080; text-decoration-color: #808080\"> </span>\n",
       "</pre>\n"
      ],
      "text/plain": [
       "\u001b[1;90m[\u001b[0m\u001b[90mURL_SEED\u001b[0m\u001b[1;90m]\u001b[0m\u001b[90m ℹ Performing live check for \u001b[0m\u001b[4;90mhttps://www.bbc.com/sport/football/league-cup\u001b[0m\u001b[90m \u001b[0m\n"
      ]
     },
     "metadata": {},
     "output_type": "display_data"
    },
    {
     "data": {
      "text/html": [
       "<pre style=\"white-space:pre;overflow-x:auto;line-height:normal;font-family:Menlo,'DejaVu Sans Mono',consolas,'Courier New',monospace\"><span style=\"color: #008080; text-decoration-color: #008080; font-weight: bold\">[</span><span style=\"color: #008080; text-decoration-color: #008080\">URL_SEED</span><span style=\"color: #008080; text-decoration-color: #008080; font-weight: bold\">]</span><span style=\"color: #008080; text-decoration-color: #008080\"> ℹ LIVE CHECK VALID for </span><span style=\"color: #008080; text-decoration-color: #008080; text-decoration: underline\">https://www.bbc.com/sport/football/teams/arsenal</span><span style=\"color: #008080; text-decoration-color: #008080\"> </span>\n",
       "</pre>\n"
      ],
      "text/plain": [
       "\u001b[1;36m[\u001b[0m\u001b[36mURL_SEED\u001b[0m\u001b[1;36m]\u001b[0m\u001b[36m ℹ LIVE CHECK VALID for \u001b[0m\u001b[4;36mhttps://www.bbc.com/sport/football/teams/arsenal\u001b[0m\u001b[36m \u001b[0m\n"
      ]
     },
     "metadata": {},
     "output_type": "display_data"
    },
    {
     "data": {
      "text/html": [
       "<pre style=\"white-space:pre;overflow-x:auto;line-height:normal;font-family:Menlo,'DejaVu Sans Mono',consolas,'Courier New',monospace\"><span style=\"color: #008080; text-decoration-color: #008080; font-weight: bold\">[</span><span style=\"color: #008080; text-decoration-color: #008080\">URL_SEED</span><span style=\"color: #008080; text-decoration-color: #008080; font-weight: bold\">]</span><span style=\"color: #008080; text-decoration-color: #008080\"> ℹ LIVE CHECK VALID for </span><span style=\"color: #008080; text-decoration-color: #008080; text-decoration: underline\">https://www.bbc.com/sport/football/scottish-premiership</span><span style=\"color: #008080; text-decoration-color: #008080\"> </span>\n",
       "</pre>\n"
      ],
      "text/plain": [
       "\u001b[1;36m[\u001b[0m\u001b[36mURL_SEED\u001b[0m\u001b[1;36m]\u001b[0m\u001b[36m ℹ LIVE CHECK VALID for \u001b[0m\u001b[4;36mhttps://www.bbc.com/sport/football/scottish-premiership\u001b[0m\u001b[36m \u001b[0m\n"
      ]
     },
     "metadata": {},
     "output_type": "display_data"
    },
    {
     "data": {
      "text/html": [
       "<pre style=\"white-space:pre;overflow-x:auto;line-height:normal;font-family:Menlo,'DejaVu Sans Mono',consolas,'Courier New',monospace\"><span style=\"color: #008080; text-decoration-color: #008080; font-weight: bold\">[</span><span style=\"color: #008080; text-decoration-color: #008080\">URL_SEED</span><span style=\"color: #008080; text-decoration-color: #008080; font-weight: bold\">]</span><span style=\"color: #008080; text-decoration-color: #008080\"> ℹ LIVE CHECK VALID for </span><span style=\"color: #008080; text-decoration-color: #008080; text-decoration: underline\">https://www.bbc.com/sport/football/league-one</span><span style=\"color: #008080; text-decoration-color: #008080\"> </span>\n",
       "</pre>\n"
      ],
      "text/plain": [
       "\u001b[1;36m[\u001b[0m\u001b[36mURL_SEED\u001b[0m\u001b[1;36m]\u001b[0m\u001b[36m ℹ LIVE CHECK VALID for \u001b[0m\u001b[4;36mhttps://www.bbc.com/sport/football/league-one\u001b[0m\u001b[36m \u001b[0m\n"
      ]
     },
     "metadata": {},
     "output_type": "display_data"
    },
    {
     "data": {
      "text/html": [
       "<pre style=\"white-space:pre;overflow-x:auto;line-height:normal;font-family:Menlo,'DejaVu Sans Mono',consolas,'Courier New',monospace\"><span style=\"color: #808080; text-decoration-color: #808080; font-weight: bold\">[</span><span style=\"color: #808080; text-decoration-color: #808080\">URL_SEED</span><span style=\"color: #808080; text-decoration-color: #808080; font-weight: bold\">]</span><span style=\"color: #808080; text-decoration-color: #808080\"> ℹ Performing live check for </span><span style=\"color: #808080; text-decoration-color: #808080; text-decoration: underline\">https://www.bbc.com/sport/football/teams/aston-villa</span><span style=\"color: #808080; text-decoration-color: #808080\"> </span>\n",
       "</pre>\n"
      ],
      "text/plain": [
       "\u001b[1;90m[\u001b[0m\u001b[90mURL_SEED\u001b[0m\u001b[1;90m]\u001b[0m\u001b[90m ℹ Performing live check for \u001b[0m\u001b[4;90mhttps://www.bbc.com/sport/football/teams/aston-villa\u001b[0m\u001b[90m \u001b[0m\n"
      ]
     },
     "metadata": {},
     "output_type": "display_data"
    },
    {
     "data": {
      "text/html": [
       "<pre style=\"white-space:pre;overflow-x:auto;line-height:normal;font-family:Menlo,'DejaVu Sans Mono',consolas,'Courier New',monospace\"><span style=\"color: #008080; text-decoration-color: #008080; font-weight: bold\">[</span><span style=\"color: #008080; text-decoration-color: #008080\">URL_SEED</span><span style=\"color: #008080; text-decoration-color: #008080; font-weight: bold\">]</span><span style=\"color: #008080; text-decoration-color: #008080\"> ℹ LIVE CHECK VALID for </span><span style=\"color: #008080; text-decoration-color: #008080; text-decoration: underline\">https://www.bbc.com/sport/football/teams/tottenham-hotspur</span><span style=\"color: #008080; text-decoration-color: #008080\"> </span>\n",
       "</pre>\n"
      ],
      "text/plain": [
       "\u001b[1;36m[\u001b[0m\u001b[36mURL_SEED\u001b[0m\u001b[1;36m]\u001b[0m\u001b[36m ℹ LIVE CHECK VALID for \u001b[0m\u001b[4;36mhttps://www.bbc.com/sport/football/teams/tottenham-hotspur\u001b[0m\u001b[36m \u001b[0m\n"
      ]
     },
     "metadata": {},
     "output_type": "display_data"
    },
    {
     "data": {
      "text/html": [
       "<pre style=\"white-space:pre;overflow-x:auto;line-height:normal;font-family:Menlo,'DejaVu Sans Mono',consolas,'Courier New',monospace\"><span style=\"color: #808080; text-decoration-color: #808080; font-weight: bold\">[</span><span style=\"color: #808080; text-decoration-color: #808080\">URL_SEED</span><span style=\"color: #808080; text-decoration-color: #808080; font-weight: bold\">]</span><span style=\"color: #808080; text-decoration-color: #808080\"> ℹ Performing live check for </span><span style=\"color: #808080; text-decoration-color: #808080; text-decoration: underline\">https://www.bbc.com/sport/football/fa-cup</span><span style=\"color: #808080; text-decoration-color: #808080\"> </span>\n",
       "</pre>\n"
      ],
      "text/plain": [
       "\u001b[1;90m[\u001b[0m\u001b[90mURL_SEED\u001b[0m\u001b[1;90m]\u001b[0m\u001b[90m ℹ Performing live check for \u001b[0m\u001b[4;90mhttps://www.bbc.com/sport/football/fa-cup\u001b[0m\u001b[90m \u001b[0m\n"
      ]
     },
     "metadata": {},
     "output_type": "display_data"
    },
    {
     "data": {
      "text/html": [
       "<pre style=\"white-space:pre;overflow-x:auto;line-height:normal;font-family:Menlo,'DejaVu Sans Mono',consolas,'Courier New',monospace\"><span style=\"color: #008080; text-decoration-color: #008080; font-weight: bold\">[</span><span style=\"color: #008080; text-decoration-color: #008080\">URL_SEED</span><span style=\"color: #008080; text-decoration-color: #008080; font-weight: bold\">]</span><span style=\"color: #008080; text-decoration-color: #008080\"> ℹ LIVE CHECK VALID for </span><span style=\"color: #008080; text-decoration-color: #008080; text-decoration: underline\">https://www.bbc.com/sport/football/league-cup</span><span style=\"color: #008080; text-decoration-color: #008080\"> </span>\n",
       "</pre>\n"
      ],
      "text/plain": [
       "\u001b[1;36m[\u001b[0m\u001b[36mURL_SEED\u001b[0m\u001b[1;36m]\u001b[0m\u001b[36m ℹ LIVE CHECK VALID for \u001b[0m\u001b[4;36mhttps://www.bbc.com/sport/football/league-cup\u001b[0m\u001b[36m \u001b[0m\n"
      ]
     },
     "metadata": {},
     "output_type": "display_data"
    },
    {
     "data": {
      "text/html": [
       "<pre style=\"white-space:pre;overflow-x:auto;line-height:normal;font-family:Menlo,'DejaVu Sans Mono',consolas,'Courier New',monospace\"><span style=\"color: #808080; text-decoration-color: #808080; font-weight: bold\">[</span><span style=\"color: #808080; text-decoration-color: #808080\">URL_SEED</span><span style=\"color: #808080; text-decoration-color: #808080; font-weight: bold\">]</span><span style=\"color: #808080; text-decoration-color: #808080\"> ℹ Performing live check for </span><span style=\"color: #808080; text-decoration-color: #808080; text-decoration: underline\">https://www.bbc.com/sport/football/teams/chelsea</span><span style=\"color: #808080; text-decoration-color: #808080\"> </span>\n",
       "</pre>\n"
      ],
      "text/plain": [
       "\u001b[1;90m[\u001b[0m\u001b[90mURL_SEED\u001b[0m\u001b[1;90m]\u001b[0m\u001b[90m ℹ Performing live check for \u001b[0m\u001b[4;90mhttps://www.bbc.com/sport/football/teams/chelsea\u001b[0m\u001b[90m \u001b[0m\n"
      ]
     },
     "metadata": {},
     "output_type": "display_data"
    },
    {
     "data": {
      "text/html": [
       "<pre style=\"white-space:pre;overflow-x:auto;line-height:normal;font-family:Menlo,'DejaVu Sans Mono',consolas,'Courier New',monospace\"><span style=\"color: #808080; text-decoration-color: #808080; font-weight: bold\">[</span><span style=\"color: #808080; text-decoration-color: #808080\">URL_SEED</span><span style=\"color: #808080; text-decoration-color: #808080; font-weight: bold\">]</span><span style=\"color: #808080; text-decoration-color: #808080\"> ℹ Performing live check for </span><span style=\"color: #808080; text-decoration-color: #808080; text-decoration: underline\">https://www.bbc.com/sport/basketball</span><span style=\"color: #808080; text-decoration-color: #808080\"> </span>\n",
       "</pre>\n"
      ],
      "text/plain": [
       "\u001b[1;90m[\u001b[0m\u001b[90mURL_SEED\u001b[0m\u001b[1;90m]\u001b[0m\u001b[90m ℹ Performing live check for \u001b[0m\u001b[4;90mhttps://www.bbc.com/sport/basketball\u001b[0m\u001b[90m \u001b[0m\n"
      ]
     },
     "metadata": {},
     "output_type": "display_data"
    },
    {
     "data": {
      "text/html": [
       "<pre style=\"white-space:pre;overflow-x:auto;line-height:normal;font-family:Menlo,'DejaVu Sans Mono',consolas,'Courier New',monospace\"><span style=\"color: #808080; text-decoration-color: #808080; font-weight: bold\">[</span><span style=\"color: #808080; text-decoration-color: #808080\">URL_SEED</span><span style=\"color: #808080; text-decoration-color: #808080; font-weight: bold\">]</span><span style=\"color: #808080; text-decoration-color: #808080\"> ℹ Performing live check for </span><span style=\"color: #808080; text-decoration-color: #808080; text-decoration: underline\">https://www.bbc.com/sport/football/teams/everton</span><span style=\"color: #808080; text-decoration-color: #808080\"> </span>\n",
       "</pre>\n"
      ],
      "text/plain": [
       "\u001b[1;90m[\u001b[0m\u001b[90mURL_SEED\u001b[0m\u001b[1;90m]\u001b[0m\u001b[90m ℹ Performing live check for \u001b[0m\u001b[4;90mhttps://www.bbc.com/sport/football/teams/everton\u001b[0m\u001b[90m \u001b[0m\n"
      ]
     },
     "metadata": {},
     "output_type": "display_data"
    },
    {
     "data": {
      "text/html": [
       "<pre style=\"white-space:pre;overflow-x:auto;line-height:normal;font-family:Menlo,'DejaVu Sans Mono',consolas,'Courier New',monospace\"><span style=\"color: #008080; text-decoration-color: #008080; font-weight: bold\">[</span><span style=\"color: #008080; text-decoration-color: #008080\">URL_SEED</span><span style=\"color: #008080; text-decoration-color: #008080; font-weight: bold\">]</span><span style=\"color: #008080; text-decoration-color: #008080\"> ℹ LIVE CHECK VALID for </span><span style=\"color: #008080; text-decoration-color: #008080; text-decoration: underline\">https://www.bbc.com/sport/football/teams/aston-villa</span><span style=\"color: #008080; text-decoration-color: #008080\"> </span>\n",
       "</pre>\n"
      ],
      "text/plain": [
       "\u001b[1;36m[\u001b[0m\u001b[36mURL_SEED\u001b[0m\u001b[1;36m]\u001b[0m\u001b[36m ℹ LIVE CHECK VALID for \u001b[0m\u001b[4;36mhttps://www.bbc.com/sport/football/teams/aston-villa\u001b[0m\u001b[36m \u001b[0m\n"
      ]
     },
     "metadata": {},
     "output_type": "display_data"
    },
    {
     "data": {
      "text/html": [
       "<pre style=\"white-space:pre;overflow-x:auto;line-height:normal;font-family:Menlo,'DejaVu Sans Mono',consolas,'Courier New',monospace\"><span style=\"color: #008080; text-decoration-color: #008080; font-weight: bold\">[</span><span style=\"color: #008080; text-decoration-color: #008080\">URL_SEED</span><span style=\"color: #008080; text-decoration-color: #008080; font-weight: bold\">]</span><span style=\"color: #008080; text-decoration-color: #008080\"> ℹ LIVE CHECK VALID for </span><span style=\"color: #008080; text-decoration-color: #008080; text-decoration: underline\">https://www.bbc.com/sport/football/fa-cup</span><span style=\"color: #008080; text-decoration-color: #008080\"> </span>\n",
       "</pre>\n"
      ],
      "text/plain": [
       "\u001b[1;36m[\u001b[0m\u001b[36mURL_SEED\u001b[0m\u001b[1;36m]\u001b[0m\u001b[36m ℹ LIVE CHECK VALID for \u001b[0m\u001b[4;36mhttps://www.bbc.com/sport/football/fa-cup\u001b[0m\u001b[36m \u001b[0m\n"
      ]
     },
     "metadata": {},
     "output_type": "display_data"
    },
    {
     "data": {
      "text/html": [
       "<pre style=\"white-space:pre;overflow-x:auto;line-height:normal;font-family:Menlo,'DejaVu Sans Mono',consolas,'Courier New',monospace\"><span style=\"color: #008080; text-decoration-color: #008080; font-weight: bold\">[</span><span style=\"color: #008080; text-decoration-color: #008080\">URL_SEED</span><span style=\"color: #008080; text-decoration-color: #008080; font-weight: bold\">]</span><span style=\"color: #008080; text-decoration-color: #008080\"> ℹ LIVE CHECK VALID for </span><span style=\"color: #008080; text-decoration-color: #008080; text-decoration: underline\">https://www.bbc.com/sport/basketball</span><span style=\"color: #008080; text-decoration-color: #008080\"> </span>\n",
       "</pre>\n"
      ],
      "text/plain": [
       "\u001b[1;36m[\u001b[0m\u001b[36mURL_SEED\u001b[0m\u001b[1;36m]\u001b[0m\u001b[36m ℹ LIVE CHECK VALID for \u001b[0m\u001b[4;36mhttps://www.bbc.com/sport/basketball\u001b[0m\u001b[36m \u001b[0m\n"
      ]
     },
     "metadata": {},
     "output_type": "display_data"
    },
    {
     "data": {
      "text/html": [
       "<pre style=\"white-space:pre;overflow-x:auto;line-height:normal;font-family:Menlo,'DejaVu Sans Mono',consolas,'Courier New',monospace\"><span style=\"color: #008080; text-decoration-color: #008080; font-weight: bold\">[</span><span style=\"color: #008080; text-decoration-color: #008080\">URL_SEED</span><span style=\"color: #008080; text-decoration-color: #008080; font-weight: bold\">]</span><span style=\"color: #008080; text-decoration-color: #008080\"> ℹ LIVE CHECK VALID for </span><span style=\"color: #008080; text-decoration-color: #008080; text-decoration: underline\">https://www.bbc.com/sport/football/teams/chelsea</span><span style=\"color: #008080; text-decoration-color: #008080\"> </span>\n",
       "</pre>\n"
      ],
      "text/plain": [
       "\u001b[1;36m[\u001b[0m\u001b[36mURL_SEED\u001b[0m\u001b[1;36m]\u001b[0m\u001b[36m ℹ LIVE CHECK VALID for \u001b[0m\u001b[4;36mhttps://www.bbc.com/sport/football/teams/chelsea\u001b[0m\u001b[36m \u001b[0m\n"
      ]
     },
     "metadata": {},
     "output_type": "display_data"
    },
    {
     "data": {
      "text/html": [
       "<pre style=\"white-space:pre;overflow-x:auto;line-height:normal;font-family:Menlo,'DejaVu Sans Mono',consolas,'Courier New',monospace\"><span style=\"color: #008080; text-decoration-color: #008080; font-weight: bold\">[</span><span style=\"color: #008080; text-decoration-color: #008080\">URL_SEED</span><span style=\"color: #008080; text-decoration-color: #008080; font-weight: bold\">]</span><span style=\"color: #008080; text-decoration-color: #008080\"> ℹ LIVE CHECK VALID for </span><span style=\"color: #008080; text-decoration-color: #008080; text-decoration: underline\">https://www.bbc.com/sport/football/teams/everton</span><span style=\"color: #008080; text-decoration-color: #008080\"> </span>\n",
       "</pre>\n"
      ],
      "text/plain": [
       "\u001b[1;36m[\u001b[0m\u001b[36mURL_SEED\u001b[0m\u001b[1;36m]\u001b[0m\u001b[36m ℹ LIVE CHECK VALID for \u001b[0m\u001b[4;36mhttps://www.bbc.com/sport/football/teams/everton\u001b[0m\u001b[36m \u001b[0m\n"
      ]
     },
     "metadata": {},
     "output_type": "display_data"
    },
    {
     "data": {
      "text/html": [
       "<pre style=\"white-space:pre;overflow-x:auto;line-height:normal;font-family:Menlo,'DejaVu Sans Mono',consolas,'Courier New',monospace\"><span style=\"color: #808080; text-decoration-color: #808080; font-weight: bold\">[</span><span style=\"color: #808080; text-decoration-color: #808080\">URL_SEED</span><span style=\"color: #808080; text-decoration-color: #808080; font-weight: bold\">]</span><span style=\"color: #808080; text-decoration-color: #808080\"> ℹ Performing live check for </span><span style=\"color: #808080; text-decoration-color: #808080; text-decoration: underline\">https://www.bbc.com/sport/football/teams/england</span><span style=\"color: #808080; text-decoration-color: #808080\"> </span>\n",
       "</pre>\n"
      ],
      "text/plain": [
       "\u001b[1;90m[\u001b[0m\u001b[90mURL_SEED\u001b[0m\u001b[1;90m]\u001b[0m\u001b[90m ℹ Performing live check for \u001b[0m\u001b[4;90mhttps://www.bbc.com/sport/football/teams/england\u001b[0m\u001b[90m \u001b[0m\n"
      ]
     },
     "metadata": {},
     "output_type": "display_data"
    },
    {
     "data": {
      "text/html": [
       "<pre style=\"white-space:pre;overflow-x:auto;line-height:normal;font-family:Menlo,'DejaVu Sans Mono',consolas,'Courier New',monospace\"><span style=\"color: #808080; text-decoration-color: #808080; font-weight: bold\">[</span><span style=\"color: #808080; text-decoration-color: #808080\">URL_SEED</span><span style=\"color: #808080; text-decoration-color: #808080; font-weight: bold\">]</span><span style=\"color: #808080; text-decoration-color: #808080\"> ℹ Performing live check for </span><span style=\"color: #808080; text-decoration-color: #808080; text-decoration: underline\">https://www.bbc.com/sport/cricket/counties</span><span style=\"color: #808080; text-decoration-color: #808080\"> </span>\n",
       "</pre>\n"
      ],
      "text/plain": [
       "\u001b[1;90m[\u001b[0m\u001b[90mURL_SEED\u001b[0m\u001b[1;90m]\u001b[0m\u001b[90m ℹ Performing live check for \u001b[0m\u001b[4;90mhttps://www.bbc.com/sport/cricket/counties\u001b[0m\u001b[90m \u001b[0m\n"
      ]
     },
     "metadata": {},
     "output_type": "display_data"
    },
    {
     "data": {
      "text/html": [
       "<pre style=\"white-space:pre;overflow-x:auto;line-height:normal;font-family:Menlo,'DejaVu Sans Mono',consolas,'Courier New',monospace\"><span style=\"color: #808080; text-decoration-color: #808080; font-weight: bold\">[</span><span style=\"color: #808080; text-decoration-color: #808080\">URL_SEED</span><span style=\"color: #808080; text-decoration-color: #808080; font-weight: bold\">]</span><span style=\"color: #808080; text-decoration-color: #808080\"> ℹ Performing live check for </span><span style=\"color: #808080; text-decoration-color: #808080; text-decoration: underline\">https://www.bbc.com/sport/commonwealth-games</span><span style=\"color: #808080; text-decoration-color: #808080\"> </span>\n",
       "</pre>\n"
      ],
      "text/plain": [
       "\u001b[1;90m[\u001b[0m\u001b[90mURL_SEED\u001b[0m\u001b[1;90m]\u001b[0m\u001b[90m ℹ Performing live check for \u001b[0m\u001b[4;90mhttps://www.bbc.com/sport/commonwealth-games\u001b[0m\u001b[90m \u001b[0m\n"
      ]
     },
     "metadata": {},
     "output_type": "display_data"
    },
    {
     "data": {
      "text/html": [
       "<pre style=\"white-space:pre;overflow-x:auto;line-height:normal;font-family:Menlo,'DejaVu Sans Mono',consolas,'Courier New',monospace\"><span style=\"color: #808080; text-decoration-color: #808080; font-weight: bold\">[</span><span style=\"color: #808080; text-decoration-color: #808080\">URL_SEED</span><span style=\"color: #808080; text-decoration-color: #808080; font-weight: bold\">]</span><span style=\"color: #808080; text-decoration-color: #808080\"> ℹ Performing live check for </span><span style=\"color: #808080; text-decoration-color: #808080; text-decoration: underline\">https://www.bbc.com/sport/olympics</span><span style=\"color: #808080; text-decoration-color: #808080\"> </span>\n",
       "</pre>\n"
      ],
      "text/plain": [
       "\u001b[1;90m[\u001b[0m\u001b[90mURL_SEED\u001b[0m\u001b[1;90m]\u001b[0m\u001b[90m ℹ Performing live check for \u001b[0m\u001b[4;90mhttps://www.bbc.com/sport/olympics\u001b[0m\u001b[90m \u001b[0m\n"
      ]
     },
     "metadata": {},
     "output_type": "display_data"
    },
    {
     "data": {
      "text/html": [
       "<pre style=\"white-space:pre;overflow-x:auto;line-height:normal;font-family:Menlo,'DejaVu Sans Mono',consolas,'Courier New',monospace\"><span style=\"color: #808080; text-decoration-color: #808080; font-weight: bold\">[</span><span style=\"color: #808080; text-decoration-color: #808080\">URL_SEED</span><span style=\"color: #808080; text-decoration-color: #808080; font-weight: bold\">]</span><span style=\"color: #808080; text-decoration-color: #808080\"> ℹ Performing live check for </span><span style=\"color: #808080; text-decoration-color: #808080; text-decoration: underline\">https://www.bbc.com/sport/football/world-cup</span><span style=\"color: #808080; text-decoration-color: #808080\"> </span>\n",
       "</pre>\n"
      ],
      "text/plain": [
       "\u001b[1;90m[\u001b[0m\u001b[90mURL_SEED\u001b[0m\u001b[1;90m]\u001b[0m\u001b[90m ℹ Performing live check for \u001b[0m\u001b[4;90mhttps://www.bbc.com/sport/football/world-cup\u001b[0m\u001b[90m \u001b[0m\n"
      ]
     },
     "metadata": {},
     "output_type": "display_data"
    },
    {
     "data": {
      "text/html": [
       "<pre style=\"white-space:pre;overflow-x:auto;line-height:normal;font-family:Menlo,'DejaVu Sans Mono',consolas,'Courier New',monospace\"><span style=\"color: #008080; text-decoration-color: #008080; font-weight: bold\">[</span><span style=\"color: #008080; text-decoration-color: #008080\">URL_SEED</span><span style=\"color: #008080; text-decoration-color: #008080; font-weight: bold\">]</span><span style=\"color: #008080; text-decoration-color: #008080\"> ℹ LIVE CHECK VALID for </span><span style=\"color: #008080; text-decoration-color: #008080; text-decoration: underline\">https://www.bbc.com/sport/cricket/counties</span><span style=\"color: #008080; text-decoration-color: #008080\"> </span>\n",
       "</pre>\n"
      ],
      "text/plain": [
       "\u001b[1;36m[\u001b[0m\u001b[36mURL_SEED\u001b[0m\u001b[1;36m]\u001b[0m\u001b[36m ℹ LIVE CHECK VALID for \u001b[0m\u001b[4;36mhttps://www.bbc.com/sport/cricket/counties\u001b[0m\u001b[36m \u001b[0m\n"
      ]
     },
     "metadata": {},
     "output_type": "display_data"
    },
    {
     "data": {
      "text/html": [
       "<pre style=\"white-space:pre;overflow-x:auto;line-height:normal;font-family:Menlo,'DejaVu Sans Mono',consolas,'Courier New',monospace\"><span style=\"color: #008080; text-decoration-color: #008080; font-weight: bold\">[</span><span style=\"color: #008080; text-decoration-color: #008080\">URL_SEED</span><span style=\"color: #008080; text-decoration-color: #008080; font-weight: bold\">]</span><span style=\"color: #008080; text-decoration-color: #008080\"> ℹ LIVE CHECK VALID for </span><span style=\"color: #008080; text-decoration-color: #008080; text-decoration: underline\">https://www.bbc.com/sport/commonwealth-games</span><span style=\"color: #008080; text-decoration-color: #008080\"> </span>\n",
       "</pre>\n"
      ],
      "text/plain": [
       "\u001b[1;36m[\u001b[0m\u001b[36mURL_SEED\u001b[0m\u001b[1;36m]\u001b[0m\u001b[36m ℹ LIVE CHECK VALID for \u001b[0m\u001b[4;36mhttps://www.bbc.com/sport/commonwealth-games\u001b[0m\u001b[36m \u001b[0m\n"
      ]
     },
     "metadata": {},
     "output_type": "display_data"
    },
    {
     "data": {
      "text/html": [
       "<pre style=\"white-space:pre;overflow-x:auto;line-height:normal;font-family:Menlo,'DejaVu Sans Mono',consolas,'Courier New',monospace\"><span style=\"color: #008080; text-decoration-color: #008080; font-weight: bold\">[</span><span style=\"color: #008080; text-decoration-color: #008080\">URL_SEED</span><span style=\"color: #008080; text-decoration-color: #008080; font-weight: bold\">]</span><span style=\"color: #008080; text-decoration-color: #008080\"> ℹ LIVE CHECK VALID for </span><span style=\"color: #008080; text-decoration-color: #008080; text-decoration: underline\">https://www.bbc.com/sport/football/teams/england</span><span style=\"color: #008080; text-decoration-color: #008080\"> </span>\n",
       "</pre>\n"
      ],
      "text/plain": [
       "\u001b[1;36m[\u001b[0m\u001b[36mURL_SEED\u001b[0m\u001b[1;36m]\u001b[0m\u001b[36m ℹ LIVE CHECK VALID for \u001b[0m\u001b[4;36mhttps://www.bbc.com/sport/football/teams/england\u001b[0m\u001b[36m \u001b[0m\n"
      ]
     },
     "metadata": {},
     "output_type": "display_data"
    },
    {
     "data": {
      "text/html": [
       "<pre style=\"white-space:pre;overflow-x:auto;line-height:normal;font-family:Menlo,'DejaVu Sans Mono',consolas,'Courier New',monospace\"><span style=\"color: #008080; text-decoration-color: #008080; font-weight: bold\">[</span><span style=\"color: #008080; text-decoration-color: #008080\">URL_SEED</span><span style=\"color: #008080; text-decoration-color: #008080; font-weight: bold\">]</span><span style=\"color: #008080; text-decoration-color: #008080\"> ℹ LIVE CHECK VALID for </span><span style=\"color: #008080; text-decoration-color: #008080; text-decoration: underline\">https://www.bbc.com/sport/olympics</span><span style=\"color: #008080; text-decoration-color: #008080\"> </span>\n",
       "</pre>\n"
      ],
      "text/plain": [
       "\u001b[1;36m[\u001b[0m\u001b[36mURL_SEED\u001b[0m\u001b[1;36m]\u001b[0m\u001b[36m ℹ LIVE CHECK VALID for \u001b[0m\u001b[4;36mhttps://www.bbc.com/sport/olympics\u001b[0m\u001b[36m \u001b[0m\n"
      ]
     },
     "metadata": {},
     "output_type": "display_data"
    },
    {
     "data": {
      "text/html": [
       "<pre style=\"white-space:pre;overflow-x:auto;line-height:normal;font-family:Menlo,'DejaVu Sans Mono',consolas,'Courier New',monospace\"><span style=\"color: #808080; text-decoration-color: #808080; font-weight: bold\">[</span><span style=\"color: #808080; text-decoration-color: #808080\">URL_SEED</span><span style=\"color: #808080; text-decoration-color: #808080; font-weight: bold\">]</span><span style=\"color: #808080; text-decoration-color: #808080\"> ℹ Performing live check for </span><span style=\"color: #808080; text-decoration-color: #808080; text-decoration: underline\">https://www.bbc.com/sport/mixed-martial-arts</span><span style=\"color: #808080; text-decoration-color: #808080\"> </span>\n",
       "</pre>\n"
      ],
      "text/plain": [
       "\u001b[1;90m[\u001b[0m\u001b[90mURL_SEED\u001b[0m\u001b[1;90m]\u001b[0m\u001b[90m ℹ Performing live check for \u001b[0m\u001b[4;90mhttps://www.bbc.com/sport/mixed-martial-arts\u001b[0m\u001b[90m \u001b[0m\n"
      ]
     },
     "metadata": {},
     "output_type": "display_data"
    },
    {
     "data": {
      "text/html": [
       "<pre style=\"white-space:pre;overflow-x:auto;line-height:normal;font-family:Menlo,'DejaVu Sans Mono',consolas,'Courier New',monospace\"><span style=\"color: #008080; text-decoration-color: #008080; font-weight: bold\">[</span><span style=\"color: #008080; text-decoration-color: #008080\">URL_SEED</span><span style=\"color: #008080; text-decoration-color: #008080; font-weight: bold\">]</span><span style=\"color: #008080; text-decoration-color: #008080\"> ℹ LIVE CHECK VALID for </span><span style=\"color: #008080; text-decoration-color: #008080; text-decoration: underline\">https://www.bbc.com/sport/football/world-cup</span><span style=\"color: #008080; text-decoration-color: #008080\"> </span>\n",
       "</pre>\n"
      ],
      "text/plain": [
       "\u001b[1;36m[\u001b[0m\u001b[36mURL_SEED\u001b[0m\u001b[1;36m]\u001b[0m\u001b[36m ℹ LIVE CHECK VALID for \u001b[0m\u001b[4;36mhttps://www.bbc.com/sport/football/world-cup\u001b[0m\u001b[36m \u001b[0m\n"
      ]
     },
     "metadata": {},
     "output_type": "display_data"
    },
    {
     "data": {
      "text/html": [
       "<pre style=\"white-space:pre;overflow-x:auto;line-height:normal;font-family:Menlo,'DejaVu Sans Mono',consolas,'Courier New',monospace\"><span style=\"color: #808080; text-decoration-color: #808080; font-weight: bold\">[</span><span style=\"color: #808080; text-decoration-color: #808080\">URL_SEED</span><span style=\"color: #808080; text-decoration-color: #808080; font-weight: bold\">]</span><span style=\"color: #808080; text-decoration-color: #808080\"> ℹ Performing live check for </span><span style=\"color: #808080; text-decoration-color: #808080; text-decoration: underline\">https://www.bbc.com/sport/football/europa-league</span><span style=\"color: #808080; text-decoration-color: #808080\"> </span>\n",
       "</pre>\n"
      ],
      "text/plain": [
       "\u001b[1;90m[\u001b[0m\u001b[90mURL_SEED\u001b[0m\u001b[1;90m]\u001b[0m\u001b[90m ℹ Performing live check for \u001b[0m\u001b[4;90mhttps://www.bbc.com/sport/football/europa-league\u001b[0m\u001b[90m \u001b[0m\n"
      ]
     },
     "metadata": {},
     "output_type": "display_data"
    },
    {
     "data": {
      "text/html": [
       "<pre style=\"white-space:pre;overflow-x:auto;line-height:normal;font-family:Menlo,'DejaVu Sans Mono',consolas,'Courier New',monospace\"><span style=\"color: #808080; text-decoration-color: #808080; font-weight: bold\">[</span><span style=\"color: #808080; text-decoration-color: #808080\">URL_SEED</span><span style=\"color: #808080; text-decoration-color: #808080; font-weight: bold\">]</span><span style=\"color: #808080; text-decoration-color: #808080\"> ℹ Performing live check for </span><span style=\"color: #808080; text-decoration-color: #808080; text-decoration: underline\">https://www.bbc.com/sport/football/teams/manchester-city</span><span style=\"color: #808080; text-decoration-color: #808080\"> </span>\n",
       "</pre>\n"
      ],
      "text/plain": [
       "\u001b[1;90m[\u001b[0m\u001b[90mURL_SEED\u001b[0m\u001b[1;90m]\u001b[0m\u001b[90m ℹ Performing live check for \u001b[0m\u001b[4;90mhttps://www.bbc.com/sport/football/teams/manchester-city\u001b[0m\u001b[90m \u001b[0m\n"
      ]
     },
     "metadata": {},
     "output_type": "display_data"
    },
    {
     "data": {
      "text/html": [
       "<pre style=\"white-space:pre;overflow-x:auto;line-height:normal;font-family:Menlo,'DejaVu Sans Mono',consolas,'Courier New',monospace\"><span style=\"color: #808080; text-decoration-color: #808080; font-weight: bold\">[</span><span style=\"color: #808080; text-decoration-color: #808080\">URL_SEED</span><span style=\"color: #808080; text-decoration-color: #808080; font-weight: bold\">]</span><span style=\"color: #808080; text-decoration-color: #808080\"> ℹ Performing live check for </span><span style=\"color: #808080; text-decoration-color: #808080; text-decoration: underline\">https://www.bbc.com/sport/swimming</span><span style=\"color: #808080; text-decoration-color: #808080\"> </span>\n",
       "</pre>\n"
      ],
      "text/plain": [
       "\u001b[1;90m[\u001b[0m\u001b[90mURL_SEED\u001b[0m\u001b[1;90m]\u001b[0m\u001b[90m ℹ Performing live check for \u001b[0m\u001b[4;90mhttps://www.bbc.com/sport/swimming\u001b[0m\u001b[90m \u001b[0m\n"
      ]
     },
     "metadata": {},
     "output_type": "display_data"
    },
    {
     "data": {
      "text/html": [
       "<pre style=\"white-space:pre;overflow-x:auto;line-height:normal;font-family:Menlo,'DejaVu Sans Mono',consolas,'Courier New',monospace\"><span style=\"color: #808080; text-decoration-color: #808080; font-weight: bold\">[</span><span style=\"color: #808080; text-decoration-color: #808080\">URL_SEED</span><span style=\"color: #808080; text-decoration-color: #808080; font-weight: bold\">]</span><span style=\"color: #808080; text-decoration-color: #808080\"> ℹ Performing live check for </span><span style=\"color: #808080; text-decoration-color: #808080; text-decoration: underline\">https://www.bbc.com/sport/live-guide</span><span style=\"color: #808080; text-decoration-color: #808080\"> </span>\n",
       "</pre>\n"
      ],
      "text/plain": [
       "\u001b[1;90m[\u001b[0m\u001b[90mURL_SEED\u001b[0m\u001b[1;90m]\u001b[0m\u001b[90m ℹ Performing live check for \u001b[0m\u001b[4;90mhttps://www.bbc.com/sport/live-guide\u001b[0m\u001b[90m \u001b[0m\n"
      ]
     },
     "metadata": {},
     "output_type": "display_data"
    },
    {
     "data": {
      "text/html": [
       "<pre style=\"white-space:pre;overflow-x:auto;line-height:normal;font-family:Menlo,'DejaVu Sans Mono',consolas,'Courier New',monospace\"><span style=\"color: #008080; text-decoration-color: #008080; font-weight: bold\">[</span><span style=\"color: #008080; text-decoration-color: #008080\">URL_SEED</span><span style=\"color: #008080; text-decoration-color: #008080; font-weight: bold\">]</span><span style=\"color: #008080; text-decoration-color: #008080\"> ℹ LIVE CHECK VALID for </span><span style=\"color: #008080; text-decoration-color: #008080; text-decoration: underline\">https://www.bbc.com/sport/mixed-martial-arts</span><span style=\"color: #008080; text-decoration-color: #008080\"> </span>\n",
       "</pre>\n"
      ],
      "text/plain": [
       "\u001b[1;36m[\u001b[0m\u001b[36mURL_SEED\u001b[0m\u001b[1;36m]\u001b[0m\u001b[36m ℹ LIVE CHECK VALID for \u001b[0m\u001b[4;36mhttps://www.bbc.com/sport/mixed-martial-arts\u001b[0m\u001b[36m \u001b[0m\n"
      ]
     },
     "metadata": {},
     "output_type": "display_data"
    },
    {
     "data": {
      "text/html": [
       "<pre style=\"white-space:pre;overflow-x:auto;line-height:normal;font-family:Menlo,'DejaVu Sans Mono',consolas,'Courier New',monospace\"><span style=\"color: #008080; text-decoration-color: #008080; font-weight: bold\">[</span><span style=\"color: #008080; text-decoration-color: #008080\">URL_SEED</span><span style=\"color: #008080; text-decoration-color: #008080; font-weight: bold\">]</span><span style=\"color: #008080; text-decoration-color: #008080\"> ℹ LIVE CHECK VALID for </span><span style=\"color: #008080; text-decoration-color: #008080; text-decoration: underline\">https://www.bbc.com/sport/swimming</span><span style=\"color: #008080; text-decoration-color: #008080\"> </span>\n",
       "</pre>\n"
      ],
      "text/plain": [
       "\u001b[1;36m[\u001b[0m\u001b[36mURL_SEED\u001b[0m\u001b[1;36m]\u001b[0m\u001b[36m ℹ LIVE CHECK VALID for \u001b[0m\u001b[4;36mhttps://www.bbc.com/sport/swimming\u001b[0m\u001b[36m \u001b[0m\n"
      ]
     },
     "metadata": {},
     "output_type": "display_data"
    },
    {
     "data": {
      "text/html": [
       "<pre style=\"white-space:pre;overflow-x:auto;line-height:normal;font-family:Menlo,'DejaVu Sans Mono',consolas,'Courier New',monospace\"><span style=\"color: #008080; text-decoration-color: #008080; font-weight: bold\">[</span><span style=\"color: #008080; text-decoration-color: #008080\">URL_SEED</span><span style=\"color: #008080; text-decoration-color: #008080; font-weight: bold\">]</span><span style=\"color: #008080; text-decoration-color: #008080\"> ℹ LIVE CHECK VALID for </span><span style=\"color: #008080; text-decoration-color: #008080; text-decoration: underline\">https://www.bbc.com/sport/live-guide</span><span style=\"color: #008080; text-decoration-color: #008080\"> </span>\n",
       "</pre>\n"
      ],
      "text/plain": [
       "\u001b[1;36m[\u001b[0m\u001b[36mURL_SEED\u001b[0m\u001b[1;36m]\u001b[0m\u001b[36m ℹ LIVE CHECK VALID for \u001b[0m\u001b[4;36mhttps://www.bbc.com/sport/live-guide\u001b[0m\u001b[36m \u001b[0m\n"
      ]
     },
     "metadata": {},
     "output_type": "display_data"
    },
    {
     "data": {
      "text/html": [
       "<pre style=\"white-space:pre;overflow-x:auto;line-height:normal;font-family:Menlo,'DejaVu Sans Mono',consolas,'Courier New',monospace\"><span style=\"color: #008080; text-decoration-color: #008080; font-weight: bold\">[</span><span style=\"color: #008080; text-decoration-color: #008080\">URL_SEED</span><span style=\"color: #008080; text-decoration-color: #008080; font-weight: bold\">]</span><span style=\"color: #008080; text-decoration-color: #008080\"> ℹ LIVE CHECK VALID for </span><span style=\"color: #008080; text-decoration-color: #008080; text-decoration: underline\">https://www.bbc.com/sport/football/europa-league</span><span style=\"color: #008080; text-decoration-color: #008080\"> </span>\n",
       "</pre>\n"
      ],
      "text/plain": [
       "\u001b[1;36m[\u001b[0m\u001b[36mURL_SEED\u001b[0m\u001b[1;36m]\u001b[0m\u001b[36m ℹ LIVE CHECK VALID for \u001b[0m\u001b[4;36mhttps://www.bbc.com/sport/football/europa-league\u001b[0m\u001b[36m \u001b[0m\n"
      ]
     },
     "metadata": {},
     "output_type": "display_data"
    },
    {
     "data": {
      "text/html": [
       "<pre style=\"white-space:pre;overflow-x:auto;line-height:normal;font-family:Menlo,'DejaVu Sans Mono',consolas,'Courier New',monospace\"><span style=\"color: #008080; text-decoration-color: #008080; font-weight: bold\">[</span><span style=\"color: #008080; text-decoration-color: #008080\">URL_SEED</span><span style=\"color: #008080; text-decoration-color: #008080; font-weight: bold\">]</span><span style=\"color: #008080; text-decoration-color: #008080\"> ℹ LIVE CHECK VALID for </span><span style=\"color: #008080; text-decoration-color: #008080; text-decoration: underline\">https://www.bbc.com/sport/football/teams/manchester-city</span><span style=\"color: #008080; text-decoration-color: #008080\"> </span>\n",
       "</pre>\n"
      ],
      "text/plain": [
       "\u001b[1;36m[\u001b[0m\u001b[36mURL_SEED\u001b[0m\u001b[1;36m]\u001b[0m\u001b[36m ℹ LIVE CHECK VALID for \u001b[0m\u001b[4;36mhttps://www.bbc.com/sport/football/teams/manchester-city\u001b[0m\u001b[36m \u001b[0m\n"
      ]
     },
     "metadata": {},
     "output_type": "display_data"
    },
    {
     "data": {
      "text/html": [
       "<pre style=\"white-space:pre;overflow-x:auto;line-height:normal;font-family:Menlo,'DejaVu Sans Mono',consolas,'Courier New',monospace\"><span style=\"color: #008080; text-decoration-color: #008080; font-weight: bold\">[</span><span style=\"color: #008080; text-decoration-color: #008080\">URL_SEED</span><span style=\"color: #008080; text-decoration-color: #008080; font-weight: bold\">]</span><span style=\"color: #008080; text-decoration-color: #008080\"> ℹ Finished URL seeding for www.bbc.com/sport. Total URLs: </span><span style=\"color: #008080; text-decoration-color: #008080; font-weight: bold\">43</span><span style=\"color: #008080; text-decoration-color: #008080\"> </span>\n",
       "</pre>\n"
      ],
      "text/plain": [
       "\u001b[1;36m[\u001b[0m\u001b[36mURL_SEED\u001b[0m\u001b[1;36m]\u001b[0m\u001b[36m ℹ Finished URL seeding for www.bbc.com/sport. Total URLs: \u001b[0m\u001b[1;36m43\u001b[0m\u001b[36m \u001b[0m\n"
      ]
     },
     "metadata": {},
     "output_type": "display_data"
    },
    {
     "data": {
      "text/html": [
       "<pre style=\"white-space:pre;overflow-x:auto;line-height:normal;font-family:Menlo,'DejaVu Sans Mono',consolas,'Courier New',monospace\"><span style=\"color: #808000; text-decoration-color: #808000; font-weight: bold\">[</span><span style=\"color: #808000; text-decoration-color: #808000\">URL_SEED</span><span style=\"color: #808000; text-decoration-color: #808000; font-weight: bold\">]</span><span style=\"color: #808000; text-decoration-color: #808000\"> ℹ Query provided but extract_head is </span><span style=\"color: #808000; text-decoration-color: #808000; font-style: italic\">False</span><span style=\"color: #808000; text-decoration-color: #808000\">. Enable extract_head for relevance scoring. </span>\n",
       "</pre>\n"
      ],
      "text/plain": [
       "\u001b[1;33m[\u001b[0m\u001b[33mURL_SEED\u001b[0m\u001b[1;33m]\u001b[0m\u001b[33m ℹ Query provided but extract_head is \u001b[0m\u001b[3;33mFalse\u001b[0m\u001b[33m. Enable extract_head for relevance scoring. \u001b[0m\n"
      ]
     },
     "metadata": {},
     "output_type": "display_data"
    },
    {
     "data": {
      "text/html": [
       "<pre style=\"white-space:pre;overflow-x:auto;line-height:normal;font-family:Menlo,'DejaVu Sans Mono',consolas,'Courier New',monospace\"><span style=\"color: #008000; text-decoration-color: #008000\"> Discovered </span><span style=\"color: #008000; text-decoration-color: #008000; font-weight: bold\">43</span><span style=\"color: #008000; text-decoration-color: #008000\"> URLs, selected top </span><span style=\"color: #008000; text-decoration-color: #008000; font-weight: bold\">10</span>\n",
       "</pre>\n"
      ],
      "text/plain": [
       "\u001b[32m Discovered \u001b[0m\u001b[1;32m43\u001b[0m\u001b[32m URLs, selected top \u001b[0m\u001b[1;32m10\u001b[0m\n"
      ]
     },
     "metadata": {},
     "output_type": "display_data"
    },
    {
     "data": {
      "text/html": [
       "<pre style=\"white-space:pre;overflow-x:auto;line-height:normal;font-family:Menlo,'DejaVu Sans Mono',consolas,'Courier New',monospace\"><span style=\"font-style: italic\">                          Top Discovered URLs                           </span>\n",
       "┏━━━━━━━┳━━━━━━━┳━━━━━━━━━━━━━━━━━━━━━━━━━━━━━━━━━━━━━━━━━━━━━━━━━━━━━━┓\n",
       "┃<span style=\"font-weight: bold\"> Score </span>┃<span style=\"font-weight: bold\"> Title </span>┃<span style=\"font-weight: bold\"> URL                                                  </span>┃\n",
       "┡━━━━━━━╇━━━━━━━╇━━━━━━━━━━━━━━━━━━━━━━━━━━━━━━━━━━━━━━━━━━━━━━━━━━━━━━┩\n",
       "│<span style=\"color: #008080; text-decoration-color: #008080\"> 0.000 </span>│<span style=\"color: #008000; text-decoration-color: #008000\"> N/A   </span>│<span style=\"color: #7f7f7f; text-decoration-color: #7f7f7f\"> https://www.bbc.com/sport...                         </span>│\n",
       "│<span style=\"color: #008080; text-decoration-color: #008080\"> 0.000 </span>│<span style=\"color: #008000; text-decoration-color: #008000\"> N/A   </span>│<span style=\"color: #7f7f7f; text-decoration-color: #7f7f7f\"> https://www.bbc.com/sport/formula1...                </span>│\n",
       "│<span style=\"color: #008080; text-decoration-color: #008080\"> 0.000 </span>│<span style=\"color: #008000; text-decoration-color: #008000\"> N/A   </span>│<span style=\"color: #7f7f7f; text-decoration-color: #7f7f7f\"> https://www.bbc.com/sport/football...                </span>│\n",
       "│<span style=\"color: #008080; text-decoration-color: #008080\"> 0.000 </span>│<span style=\"color: #008000; text-decoration-color: #008000\"> N/A   </span>│<span style=\"color: #7f7f7f; text-decoration-color: #7f7f7f\"> https://www.bbc.com/sport/cricket...                 </span>│\n",
       "│<span style=\"color: #008080; text-decoration-color: #008080\"> 0.000 </span>│<span style=\"color: #008000; text-decoration-color: #008000\"> N/A   </span>│<span style=\"color: #7f7f7f; text-decoration-color: #7f7f7f\"> https://www.bbc.com/sport/football/premier-league... </span>│\n",
       "└───────┴───────┴──────────────────────────────────────────────────────┘\n",
       "</pre>\n"
      ],
      "text/plain": [
       "\u001b[3m                          Top Discovered URLs                           \u001b[0m\n",
       "┏━━━━━━━┳━━━━━━━┳━━━━━━━━━━━━━━━━━━━━━━━━━━━━━━━━━━━━━━━━━━━━━━━━━━━━━━┓\n",
       "┃\u001b[1m \u001b[0m\u001b[1mScore\u001b[0m\u001b[1m \u001b[0m┃\u001b[1m \u001b[0m\u001b[1mTitle\u001b[0m\u001b[1m \u001b[0m┃\u001b[1m \u001b[0m\u001b[1mURL                                                 \u001b[0m\u001b[1m \u001b[0m┃\n",
       "┡━━━━━━━╇━━━━━━━╇━━━━━━━━━━━━━━━━━━━━━━━━━━━━━━━━━━━━━━━━━━━━━━━━━━━━━━┩\n",
       "│\u001b[36m \u001b[0m\u001b[36m0.000\u001b[0m\u001b[36m \u001b[0m│\u001b[32m \u001b[0m\u001b[32mN/A  \u001b[0m\u001b[32m \u001b[0m│\u001b[2m \u001b[0m\u001b[2mhttps://www.bbc.com/sport...                        \u001b[0m\u001b[2m \u001b[0m│\n",
       "│\u001b[36m \u001b[0m\u001b[36m0.000\u001b[0m\u001b[36m \u001b[0m│\u001b[32m \u001b[0m\u001b[32mN/A  \u001b[0m\u001b[32m \u001b[0m│\u001b[2m \u001b[0m\u001b[2mhttps://www.bbc.com/sport/formula1...               \u001b[0m\u001b[2m \u001b[0m│\n",
       "│\u001b[36m \u001b[0m\u001b[36m0.000\u001b[0m\u001b[36m \u001b[0m│\u001b[32m \u001b[0m\u001b[32mN/A  \u001b[0m\u001b[32m \u001b[0m│\u001b[2m \u001b[0m\u001b[2mhttps://www.bbc.com/sport/football...               \u001b[0m\u001b[2m \u001b[0m│\n",
       "│\u001b[36m \u001b[0m\u001b[36m0.000\u001b[0m\u001b[36m \u001b[0m│\u001b[32m \u001b[0m\u001b[32mN/A  \u001b[0m\u001b[32m \u001b[0m│\u001b[2m \u001b[0m\u001b[2mhttps://www.bbc.com/sport/cricket...                \u001b[0m\u001b[2m \u001b[0m│\n",
       "│\u001b[36m \u001b[0m\u001b[36m0.000\u001b[0m\u001b[36m \u001b[0m│\u001b[32m \u001b[0m\u001b[32mN/A  \u001b[0m\u001b[32m \u001b[0m│\u001b[2m \u001b[0m\u001b[2mhttps://www.bbc.com/sport/football/premier-league...\u001b[0m\u001b[2m \u001b[0m│\n",
       "└───────┴───────┴──────────────────────────────────────────────────────┘\n"
      ]
     },
     "metadata": {},
     "output_type": "display_data"
    },
    {
     "data": {
      "text/html": [
       "<pre style=\"white-space:pre;overflow-x:auto;line-height:normal;font-family:Menlo,'DejaVu Sans Mono',consolas,'Courier New',monospace\"><span style=\"color: #808080; text-decoration-color: #808080; font-weight: bold\">[</span><span style=\"color: #808080; text-decoration-color: #808080\">URL_SEED</span><span style=\"color: #808080; text-decoration-color: #808080; font-weight: bold\">]</span><span style=\"color: #808080; text-decoration-color: #808080\"> ℹ Closed HTTP client </span>\n",
       "</pre>\n"
      ],
      "text/plain": [
       "\u001b[1;90m[\u001b[0m\u001b[90mURL_SEED\u001b[0m\u001b[1;90m]\u001b[0m\u001b[90m ℹ Closed HTTP client \u001b[0m\n"
      ]
     },
     "metadata": {},
     "output_type": "display_data"
    }
   ],
   "source": [
    "async def discover_urls(\n",
    "    domain: str,\n",
    "    query: ResearchQuery,\n",
    "    config: ResearchConfig\n",
    " ) -> List[Dict]:\n",
    "   \"\"\"\n",
    "   Discover and rank URLs without crawling them\n",
    "    \n",
    "   The URL Seeder is incredibly powerful because it:\n",
    "   1. Gets URLs from sitemaps (official site maps)\n",
    "   2. Get URLs from Common Crawl (web-scale data)\n",
    "   3. Extracts metadata without full page loads\n",
    "   4. Scores relevance using BM25 algorithm\n",
    "    \n",
    "   This means we know which pages are worth crawling\n",
    "   BEFORE we spend time crawling them!\n",
    "   \"\"\"\n",
    "   console.print(f\"\\n[cyan] Discovering URLs from {domain}...[/cyan]\")\n",
    "    \n",
    "   # Use context manager for automatic cleanup\n",
    "   async with AsyncUrlSeeder(logger=AsyncLogger(verbose=config.verbose)) as seeder:\n",
    "      # Configure the discovery process\n",
    "      seeding_config = SeedingConfig (\n",
    "         # Data sources\n",
    "         source = \"sitemap\", # Use both sitemap AND Common Crawl # REVIEW THIS URGENT\n",
    "         \n",
    "         # Metadata extraction\n",
    "         extract_head=config.extract_head_metada, #Get titles, descriptions\n",
    "         \n",
    "         # Relevance scoring\n",
    "         query=query.enhanced_query or query.original_query,\n",
    "         scoring_method=config.scoring_method, #BM25 scoring\n",
    "         score_threshold=config.score_threshold, # Minimum scoring\n",
    "         \n",
    "         # Limits and performance\n",
    "         max_urls= config.max_urls_discovery,\n",
    "         live_check=config.live_check,\n",
    "         force=config.force_refresh, #Bypass cache if needed\n",
    "         \n",
    "         # Performance tuning\n",
    "         # concurrency = 1000, # Parallel workers\n",
    "      ) \n",
    "      try:\n",
    "         # Discover URLs - this is fast\n",
    "         urls=await seeder.urls(domain, seeding_config)\n",
    "          \n",
    "         # Results are already sorted by relevance\n",
    "         # thanks to BM25 scoring\n",
    "         top_urls = urls[:config.top_k_urls]\n",
    "          \n",
    "         # Show discovery results\n",
    "         console.print(f\"[green] Discovered {len(urls)} URLs, selected top {len(top_urls)}[/green]\")\n",
    "          \n",
    "         # Display a sample of what we found\n",
    "         if top_urls:\n",
    "            table= Table(title =\"Top Discovered URLs\")\n",
    "            table.add_column(\"Score\", style=\"cyan\")\n",
    "            table.add_column(\"Title\", style=\"green\")\n",
    "            table.add_column(\"URL\",style=\"dim\")\n",
    "             \n",
    "            for url in top_urls[:5]:\n",
    "               score= f\"{url.get('relevance_score',0):.3f}\"\n",
    "               title =\"N/A\"\n",
    "               if url.get('head_data') and url['head_data'].get('title'):\n",
    "                     title=url['head_data']['title'][:50] + \"...\"\n",
    "               url_str = url['url'][:60] + \"...\"\n",
    "               table.add_row(score, title, url_str)\n",
    "            console.print(table)\n",
    "         return top_urls\n",
    "         \n",
    "      except Exception as e:\n",
    "         console.print(f\"[red] URL discovery failed: {e}[/red]\")\n",
    "         return []\n",
    "      \n",
    "# Example discovery\n",
    "discovered = await discover_urls(config.domain, enhanced, config) \n",
    "                \n",
    "       "
   ]
  },
  {
   "cell_type": "markdown",
   "id": "18a5d6ac",
   "metadata": {},
   "source": [
    "## Step 4: Intelligent Content Crawling\n",
    "\n",
    "Now we crawl only the most relevant URLs. This is where our smart filtering pays off, instead of crawling hundreds of pages, we focus on the top 10-20 most relevant ones. We use content filtering to extract only the meaningful text, removing ads and navigation."
   ]
  },
  {
   "cell_type": "code",
   "execution_count": 36,
   "id": "be88e4dc",
   "metadata": {},
   "outputs": [
    {
     "data": {
      "text/html": [
       "<pre style=\"white-space:pre;overflow-x:auto;line-height:normal;font-family:Menlo,'DejaVu Sans Mono',consolas,'Courier New',monospace\">\n",
       " <span style=\"color: #008080; text-decoration-color: #008080\"> Crawling </span><span style=\"color: #008080; text-decoration-color: #008080; font-weight: bold\">5</span><span style=\"color: #008080; text-decoration-color: #008080\"> URLs...</span>\n",
       "</pre>\n"
      ],
      "text/plain": [
       "\n",
       " \u001b[36m Crawling \u001b[0m\u001b[1;36m5\u001b[0m\u001b[36m URLs\u001b[0m\u001b[36m...\u001b[0m\n"
      ]
     },
     "metadata": {},
     "output_type": "display_data"
    },
    {
     "name": "stderr",
     "output_type": "stream",
     "text": [
      "python(70992) MallocStackLogging: can't turn off malloc stack logging because it was not enabled.\n"
     ]
    },
    {
     "data": {
      "text/html": [
       "<pre style=\"white-space:pre;overflow-x:auto;line-height:normal;font-family:Menlo,'DejaVu Sans Mono',consolas,'Courier New',monospace\"><span style=\"color: #008080; text-decoration-color: #008080; font-weight: bold\">[</span><span style=\"color: #008080; text-decoration-color: #008080\">INIT</span><span style=\"color: #008080; text-decoration-color: #008080; font-weight: bold\">]</span><span style=\"color: #008080; text-decoration-color: #008080\">.... → Crawl4AI </span><span style=\"color: #008080; text-decoration-color: #008080; font-weight: bold\">0.7</span><span style=\"color: #008080; text-decoration-color: #008080\">.</span><span style=\"color: #008080; text-decoration-color: #008080; font-weight: bold\">4</span><span style=\"color: #008080; text-decoration-color: #008080\"> </span>\n",
       "</pre>\n"
      ],
      "text/plain": [
       "\u001b[1;36m[\u001b[0m\u001b[36mINIT\u001b[0m\u001b[1;36m]\u001b[0m\u001b[36m...\u001b[0m\u001b[36m. → Crawl4AI \u001b[0m\u001b[1;36m0.7\u001b[0m\u001b[36m.\u001b[0m\u001b[1;36m4\u001b[0m\u001b[36m \u001b[0m\n"
      ]
     },
     "metadata": {},
     "output_type": "display_data"
    },
    {
     "name": "stderr",
     "output_type": "stream",
     "text": [
      "python(71181) MallocStackLogging: can't turn off malloc stack logging because it was not enabled.\n",
      "python(71189) MallocStackLogging: can't turn off malloc stack logging because it was not enabled.\n",
      "python(71190) MallocStackLogging: can't turn off malloc stack logging because it was not enabled.\n",
      "python(71194) MallocStackLogging: can't turn off malloc stack logging because it was not enabled.\n"
     ]
    },
    {
     "data": {
      "text/html": [
       "<pre style=\"white-space:pre;overflow-x:auto;line-height:normal;font-family:Menlo,'DejaVu Sans Mono',consolas,'Courier New',monospace\"><span style=\"color: #008000; text-decoration-color: #008000; font-weight: bold\">[</span><span style=\"color: #008000; text-decoration-color: #008000\">FETCH</span><span style=\"color: #008000; text-decoration-color: #008000; font-weight: bold\">]</span><span style=\"color: #008000; text-decoration-color: #008000\">... ↓ </span><span style=\"color: #008000; text-decoration-color: #008000; text-decoration: underline\">https://www.bbc.com/sport</span><span style=\"color: #008000; text-decoration-color: #008000\">                                                                            |</span>\n",
       "<span style=\"color: #008000; text-decoration-color: #008000\">✓ | ⏱: </span><span style=\"color: #008000; text-decoration-color: #008000; font-weight: bold\">4.</span><span style=\"color: #008000; text-decoration-color: #008000\">04s </span>\n",
       "</pre>\n"
      ],
      "text/plain": [
       "\u001b[1;32m[\u001b[0m\u001b[32mFETCH\u001b[0m\u001b[1;32m]\u001b[0m\u001b[32m...\u001b[0m\u001b[32m ↓ \u001b[0m\u001b[4;32mhttps://www.bbc.com/sport\u001b[0m\u001b[32m                                                                            |\u001b[0m\n",
       "\u001b[32m✓\u001b[0m\u001b[32m | ⏱: \u001b[0m\u001b[1;32m4.\u001b[0m\u001b[32m04s \u001b[0m\n"
      ]
     },
     "metadata": {},
     "output_type": "display_data"
    },
    {
     "data": {
      "text/html": [
       "<pre style=\"white-space:pre;overflow-x:auto;line-height:normal;font-family:Menlo,'DejaVu Sans Mono',consolas,'Courier New',monospace\"><span style=\"color: #008000; text-decoration-color: #008000; font-weight: bold\">[</span><span style=\"color: #008000; text-decoration-color: #008000\">SCRAPE</span><span style=\"color: #008000; text-decoration-color: #008000; font-weight: bold\">]</span><span style=\"color: #008000; text-decoration-color: #008000\">.. ◆ </span><span style=\"color: #008000; text-decoration-color: #008000; text-decoration: underline\">https://www.bbc.com/sport</span><span style=\"color: #008000; text-decoration-color: #008000\">                                                                            |</span>\n",
       "<span style=\"color: #008000; text-decoration-color: #008000\">✓ | ⏱: </span><span style=\"color: #008000; text-decoration-color: #008000; font-weight: bold\">5.</span><span style=\"color: #008000; text-decoration-color: #008000\">69s </span>\n",
       "</pre>\n"
      ],
      "text/plain": [
       "\u001b[1;32m[\u001b[0m\u001b[32mSCRAPE\u001b[0m\u001b[1;32m]\u001b[0m\u001b[32m.. ◆ \u001b[0m\u001b[4;32mhttps://www.bbc.com/sport\u001b[0m\u001b[32m                                                                            |\u001b[0m\n",
       "\u001b[32m✓\u001b[0m\u001b[32m | ⏱: \u001b[0m\u001b[1;32m5.\u001b[0m\u001b[32m69s \u001b[0m\n"
      ]
     },
     "metadata": {},
     "output_type": "display_data"
    },
    {
     "data": {
      "text/html": [
       "<pre style=\"white-space:pre;overflow-x:auto;line-height:normal;font-family:Menlo,'DejaVu Sans Mono',consolas,'Courier New',monospace\"><span style=\"color: #008000; text-decoration-color: #008000; font-weight: bold\">[</span><span style=\"color: #008000; text-decoration-color: #008000\">COMPLETE</span><span style=\"color: #008000; text-decoration-color: #008000; font-weight: bold\">]</span><span style=\"color: #008000; text-decoration-color: #008000\"> ● </span><span style=\"color: #008000; text-decoration-color: #008000; text-decoration: underline\">https://www.bbc.com/sport</span><span style=\"color: #008000; text-decoration-color: #008000\">                                                                            |</span>\n",
       "<span style=\"color: #008000; text-decoration-color: #008000\">✓ | ⏱: </span><span style=\"color: #008000; text-decoration-color: #008000; font-weight: bold\">9.</span><span style=\"color: #008000; text-decoration-color: #008000\">89s </span>\n",
       "</pre>\n"
      ],
      "text/plain": [
       "\u001b[1;32m[\u001b[0m\u001b[32mCOMPLETE\u001b[0m\u001b[1;32m]\u001b[0m\u001b[32m ● \u001b[0m\u001b[4;32mhttps://www.bbc.com/sport\u001b[0m\u001b[32m                                                                            |\u001b[0m\n",
       "\u001b[32m✓\u001b[0m\u001b[32m | ⏱: \u001b[0m\u001b[1;32m9.\u001b[0m\u001b[32m89s \u001b[0m\n"
      ]
     },
     "metadata": {},
     "output_type": "display_data"
    },
    {
     "name": "stderr",
     "output_type": "stream",
     "text": [
      "python(71198) MallocStackLogging: can't turn off malloc stack logging because it was not enabled.\n",
      "python(71199) MallocStackLogging: can't turn off malloc stack logging because it was not enabled.\n"
     ]
    },
    {
     "data": {
      "text/html": [
       "<pre style=\"white-space:pre;overflow-x:auto;line-height:normal;font-family:Menlo,'DejaVu Sans Mono',consolas,'Courier New',monospace\"><span style=\"color: #008000; text-decoration-color: #008000; font-weight: bold\">[</span><span style=\"color: #008000; text-decoration-color: #008000\">FETCH</span><span style=\"color: #008000; text-decoration-color: #008000; font-weight: bold\">]</span><span style=\"color: #008000; text-decoration-color: #008000\">... ↓ </span><span style=\"color: #008000; text-decoration-color: #008000; text-decoration: underline\">https://www.bbc.com/sport/cricket</span><span style=\"color: #008000; text-decoration-color: #008000\">                                                                    |</span>\n",
       "<span style=\"color: #008000; text-decoration-color: #008000\">✓ | ⏱: </span><span style=\"color: #008000; text-decoration-color: #008000; font-weight: bold\">8.</span><span style=\"color: #008000; text-decoration-color: #008000\">55s </span>\n",
       "</pre>\n"
      ],
      "text/plain": [
       "\u001b[1;32m[\u001b[0m\u001b[32mFETCH\u001b[0m\u001b[1;32m]\u001b[0m\u001b[32m...\u001b[0m\u001b[32m ↓ \u001b[0m\u001b[4;32mhttps://www.bbc.com/sport/cricket\u001b[0m\u001b[32m                                                                    |\u001b[0m\n",
       "\u001b[32m✓\u001b[0m\u001b[32m | ⏱: \u001b[0m\u001b[1;32m8.\u001b[0m\u001b[32m55s \u001b[0m\n"
      ]
     },
     "metadata": {},
     "output_type": "display_data"
    },
    {
     "data": {
      "text/html": [
       "<pre style=\"white-space:pre;overflow-x:auto;line-height:normal;font-family:Menlo,'DejaVu Sans Mono',consolas,'Courier New',monospace\"><span style=\"color: #008000; text-decoration-color: #008000; font-weight: bold\">[</span><span style=\"color: #008000; text-decoration-color: #008000\">SCRAPE</span><span style=\"color: #008000; text-decoration-color: #008000; font-weight: bold\">]</span><span style=\"color: #008000; text-decoration-color: #008000\">.. ◆ </span><span style=\"color: #008000; text-decoration-color: #008000; text-decoration: underline\">https://www.bbc.com/sport/cricket</span><span style=\"color: #008000; text-decoration-color: #008000\">                                                                    |</span>\n",
       "<span style=\"color: #008000; text-decoration-color: #008000\">✓ | ⏱: </span><span style=\"color: #008000; text-decoration-color: #008000; font-weight: bold\">0.</span><span style=\"color: #008000; text-decoration-color: #008000\">57s </span>\n",
       "</pre>\n"
      ],
      "text/plain": [
       "\u001b[1;32m[\u001b[0m\u001b[32mSCRAPE\u001b[0m\u001b[1;32m]\u001b[0m\u001b[32m.. ◆ \u001b[0m\u001b[4;32mhttps://www.bbc.com/sport/cricket\u001b[0m\u001b[32m                                                                    |\u001b[0m\n",
       "\u001b[32m✓\u001b[0m\u001b[32m | ⏱: \u001b[0m\u001b[1;32m0.\u001b[0m\u001b[32m57s \u001b[0m\n"
      ]
     },
     "metadata": {},
     "output_type": "display_data"
    },
    {
     "data": {
      "text/html": [
       "<pre style=\"white-space:pre;overflow-x:auto;line-height:normal;font-family:Menlo,'DejaVu Sans Mono',consolas,'Courier New',monospace\"><span style=\"color: #008000; text-decoration-color: #008000; font-weight: bold\">[</span><span style=\"color: #008000; text-decoration-color: #008000\">COMPLETE</span><span style=\"color: #008000; text-decoration-color: #008000; font-weight: bold\">]</span><span style=\"color: #008000; text-decoration-color: #008000\"> ● </span><span style=\"color: #008000; text-decoration-color: #008000; text-decoration: underline\">https://www.bbc.com/sport/cricket</span><span style=\"color: #008000; text-decoration-color: #008000\">                                                                    |</span>\n",
       "<span style=\"color: #008000; text-decoration-color: #008000\">✓ | ⏱: </span><span style=\"color: #008000; text-decoration-color: #008000; font-weight: bold\">9.</span><span style=\"color: #008000; text-decoration-color: #008000\">15s </span>\n",
       "</pre>\n"
      ],
      "text/plain": [
       "\u001b[1;32m[\u001b[0m\u001b[32mCOMPLETE\u001b[0m\u001b[1;32m]\u001b[0m\u001b[32m ● \u001b[0m\u001b[4;32mhttps://www.bbc.com/sport/cricket\u001b[0m\u001b[32m                                                                    |\u001b[0m\n",
       "\u001b[32m✓\u001b[0m\u001b[32m | ⏱: \u001b[0m\u001b[1;32m9.\u001b[0m\u001b[32m15s \u001b[0m\n"
      ]
     },
     "metadata": {},
     "output_type": "display_data"
    },
    {
     "data": {
      "text/html": [
       "<pre style=\"white-space:pre;overflow-x:auto;line-height:normal;font-family:Menlo,'DejaVu Sans Mono',consolas,'Courier New',monospace\"><span style=\"color: #008000; text-decoration-color: #008000; font-weight: bold\">[</span><span style=\"color: #008000; text-decoration-color: #008000\">FETCH</span><span style=\"color: #008000; text-decoration-color: #008000; font-weight: bold\">]</span><span style=\"color: #008000; text-decoration-color: #008000\">... ↓ </span><span style=\"color: #008000; text-decoration-color: #008000; text-decoration: underline\">https://www.bbc.com/sport/formula1</span><span style=\"color: #008000; text-decoration-color: #008000\">                                                                   |</span>\n",
       "<span style=\"color: #008000; text-decoration-color: #008000\">✓ | ⏱: </span><span style=\"color: #008000; text-decoration-color: #008000; font-weight: bold\">9.</span><span style=\"color: #008000; text-decoration-color: #008000\">18s </span>\n",
       "</pre>\n"
      ],
      "text/plain": [
       "\u001b[1;32m[\u001b[0m\u001b[32mFETCH\u001b[0m\u001b[1;32m]\u001b[0m\u001b[32m...\u001b[0m\u001b[32m ↓ \u001b[0m\u001b[4;32mhttps://www.bbc.com/sport/formula1\u001b[0m\u001b[32m                                                                   |\u001b[0m\n",
       "\u001b[32m✓\u001b[0m\u001b[32m | ⏱: \u001b[0m\u001b[1;32m9.\u001b[0m\u001b[32m18s \u001b[0m\n"
      ]
     },
     "metadata": {},
     "output_type": "display_data"
    },
    {
     "data": {
      "text/html": [
       "<pre style=\"white-space:pre;overflow-x:auto;line-height:normal;font-family:Menlo,'DejaVu Sans Mono',consolas,'Courier New',monospace\"><span style=\"color: #008000; text-decoration-color: #008000; font-weight: bold\">[</span><span style=\"color: #008000; text-decoration-color: #008000\">SCRAPE</span><span style=\"color: #008000; text-decoration-color: #008000; font-weight: bold\">]</span><span style=\"color: #008000; text-decoration-color: #008000\">.. ◆ </span><span style=\"color: #008000; text-decoration-color: #008000; text-decoration: underline\">https://www.bbc.com/sport/formula1</span><span style=\"color: #008000; text-decoration-color: #008000\">                                                                   |</span>\n",
       "<span style=\"color: #008000; text-decoration-color: #008000\">✓ | ⏱: </span><span style=\"color: #008000; text-decoration-color: #008000; font-weight: bold\">0.</span><span style=\"color: #008000; text-decoration-color: #008000\">64s </span>\n",
       "</pre>\n"
      ],
      "text/plain": [
       "\u001b[1;32m[\u001b[0m\u001b[32mSCRAPE\u001b[0m\u001b[1;32m]\u001b[0m\u001b[32m.. ◆ \u001b[0m\u001b[4;32mhttps://www.bbc.com/sport/formula1\u001b[0m\u001b[32m                                                                   |\u001b[0m\n",
       "\u001b[32m✓\u001b[0m\u001b[32m | ⏱: \u001b[0m\u001b[1;32m0.\u001b[0m\u001b[32m64s \u001b[0m\n"
      ]
     },
     "metadata": {},
     "output_type": "display_data"
    },
    {
     "data": {
      "text/html": [
       "<pre style=\"white-space:pre;overflow-x:auto;line-height:normal;font-family:Menlo,'DejaVu Sans Mono',consolas,'Courier New',monospace\"><span style=\"color: #008000; text-decoration-color: #008000; font-weight: bold\">[</span><span style=\"color: #008000; text-decoration-color: #008000\">COMPLETE</span><span style=\"color: #008000; text-decoration-color: #008000; font-weight: bold\">]</span><span style=\"color: #008000; text-decoration-color: #008000\"> ● </span><span style=\"color: #008000; text-decoration-color: #008000; text-decoration: underline\">https://www.bbc.com/sport/formula1</span><span style=\"color: #008000; text-decoration-color: #008000\">                                                                   |</span>\n",
       "<span style=\"color: #008000; text-decoration-color: #008000\">✓ | ⏱: </span><span style=\"color: #008000; text-decoration-color: #008000; font-weight: bold\">9.</span><span style=\"color: #008000; text-decoration-color: #008000\">83s </span>\n",
       "</pre>\n"
      ],
      "text/plain": [
       "\u001b[1;32m[\u001b[0m\u001b[32mCOMPLETE\u001b[0m\u001b[1;32m]\u001b[0m\u001b[32m ● \u001b[0m\u001b[4;32mhttps://www.bbc.com/sport/formula1\u001b[0m\u001b[32m                                                                   |\u001b[0m\n",
       "\u001b[32m✓\u001b[0m\u001b[32m | ⏱: \u001b[0m\u001b[1;32m9.\u001b[0m\u001b[32m83s \u001b[0m\n"
      ]
     },
     "metadata": {},
     "output_type": "display_data"
    },
    {
     "name": "stderr",
     "output_type": "stream",
     "text": [
      "python(71225) MallocStackLogging: can't turn off malloc stack logging because it was not enabled.\n"
     ]
    },
    {
     "data": {
      "text/html": [
       "<pre style=\"white-space:pre;overflow-x:auto;line-height:normal;font-family:Menlo,'DejaVu Sans Mono',consolas,'Courier New',monospace\"><span style=\"color: #008000; text-decoration-color: #008000; font-weight: bold\">[</span><span style=\"color: #008000; text-decoration-color: #008000\">FETCH</span><span style=\"color: #008000; text-decoration-color: #008000; font-weight: bold\">]</span><span style=\"color: #008000; text-decoration-color: #008000\">... ↓ </span><span style=\"color: #008000; text-decoration-color: #008000; text-decoration: underline\">https://www.bbc.com/sport/football</span><span style=\"color: #008000; text-decoration-color: #008000\">                                                                   |</span>\n",
       "<span style=\"color: #008000; text-decoration-color: #008000\">✓ | ⏱: </span><span style=\"color: #008000; text-decoration-color: #008000; font-weight: bold\">9.</span><span style=\"color: #008000; text-decoration-color: #008000\">81s </span>\n",
       "</pre>\n"
      ],
      "text/plain": [
       "\u001b[1;32m[\u001b[0m\u001b[32mFETCH\u001b[0m\u001b[1;32m]\u001b[0m\u001b[32m...\u001b[0m\u001b[32m ↓ \u001b[0m\u001b[4;32mhttps://www.bbc.com/sport/football\u001b[0m\u001b[32m                                                                   |\u001b[0m\n",
       "\u001b[32m✓\u001b[0m\u001b[32m | ⏱: \u001b[0m\u001b[1;32m9.\u001b[0m\u001b[32m81s \u001b[0m\n"
      ]
     },
     "metadata": {},
     "output_type": "display_data"
    },
    {
     "data": {
      "text/html": [
       "<pre style=\"white-space:pre;overflow-x:auto;line-height:normal;font-family:Menlo,'DejaVu Sans Mono',consolas,'Courier New',monospace\"><span style=\"color: #008000; text-decoration-color: #008000; font-weight: bold\">[</span><span style=\"color: #008000; text-decoration-color: #008000\">SCRAPE</span><span style=\"color: #008000; text-decoration-color: #008000; font-weight: bold\">]</span><span style=\"color: #008000; text-decoration-color: #008000\">.. ◆ </span><span style=\"color: #008000; text-decoration-color: #008000; text-decoration: underline\">https://www.bbc.com/sport/football</span><span style=\"color: #008000; text-decoration-color: #008000\">                                                                   |</span>\n",
       "<span style=\"color: #008000; text-decoration-color: #008000\">✓ | ⏱: </span><span style=\"color: #008000; text-decoration-color: #008000; font-weight: bold\">0.</span><span style=\"color: #008000; text-decoration-color: #008000\">76s </span>\n",
       "</pre>\n"
      ],
      "text/plain": [
       "\u001b[1;32m[\u001b[0m\u001b[32mSCRAPE\u001b[0m\u001b[1;32m]\u001b[0m\u001b[32m.. ◆ \u001b[0m\u001b[4;32mhttps://www.bbc.com/sport/football\u001b[0m\u001b[32m                                                                   |\u001b[0m\n",
       "\u001b[32m✓\u001b[0m\u001b[32m | ⏱: \u001b[0m\u001b[1;32m0.\u001b[0m\u001b[32m76s \u001b[0m\n"
      ]
     },
     "metadata": {},
     "output_type": "display_data"
    },
    {
     "data": {
      "text/html": [
       "<pre style=\"white-space:pre;overflow-x:auto;line-height:normal;font-family:Menlo,'DejaVu Sans Mono',consolas,'Courier New',monospace\"><span style=\"color: #008000; text-decoration-color: #008000; font-weight: bold\">[</span><span style=\"color: #008000; text-decoration-color: #008000\">COMPLETE</span><span style=\"color: #008000; text-decoration-color: #008000; font-weight: bold\">]</span><span style=\"color: #008000; text-decoration-color: #008000\"> ● </span><span style=\"color: #008000; text-decoration-color: #008000; text-decoration: underline\">https://www.bbc.com/sport/football</span><span style=\"color: #008000; text-decoration-color: #008000\">                                                                   |</span>\n",
       "<span style=\"color: #008000; text-decoration-color: #008000\">✓ | ⏱: </span><span style=\"color: #008000; text-decoration-color: #008000; font-weight: bold\">10.</span><span style=\"color: #008000; text-decoration-color: #008000\">58s </span>\n",
       "</pre>\n"
      ],
      "text/plain": [
       "\u001b[1;32m[\u001b[0m\u001b[32mCOMPLETE\u001b[0m\u001b[1;32m]\u001b[0m\u001b[32m ● \u001b[0m\u001b[4;32mhttps://www.bbc.com/sport/football\u001b[0m\u001b[32m                                                                   |\u001b[0m\n",
       "\u001b[32m✓\u001b[0m\u001b[32m | ⏱: \u001b[0m\u001b[1;32m10.\u001b[0m\u001b[32m58s \u001b[0m\n"
      ]
     },
     "metadata": {},
     "output_type": "display_data"
    },
    {
     "data": {
      "text/html": [
       "<pre style=\"white-space:pre;overflow-x:auto;line-height:normal;font-family:Menlo,'DejaVu Sans Mono',consolas,'Courier New',monospace\"><span style=\"color: #008000; text-decoration-color: #008000; font-weight: bold\">[</span><span style=\"color: #008000; text-decoration-color: #008000\">FETCH</span><span style=\"color: #008000; text-decoration-color: #008000; font-weight: bold\">]</span><span style=\"color: #008000; text-decoration-color: #008000\">... ↓ </span><span style=\"color: #008000; text-decoration-color: #008000; text-decoration: underline\">https://www.bbc.com/sport/football/premier-league</span><span style=\"color: #008000; text-decoration-color: #008000\">                                                    |</span>\n",
       "<span style=\"color: #008000; text-decoration-color: #008000\">✓ | ⏱: </span><span style=\"color: #008000; text-decoration-color: #008000; font-weight: bold\">10.</span><span style=\"color: #008000; text-decoration-color: #008000\">61s </span>\n",
       "</pre>\n"
      ],
      "text/plain": [
       "\u001b[1;32m[\u001b[0m\u001b[32mFETCH\u001b[0m\u001b[1;32m]\u001b[0m\u001b[32m...\u001b[0m\u001b[32m ↓ \u001b[0m\u001b[4;32mhttps://www.bbc.com/sport/football/premier-league\u001b[0m\u001b[32m                                                    |\u001b[0m\n",
       "\u001b[32m✓\u001b[0m\u001b[32m | ⏱: \u001b[0m\u001b[1;32m10.\u001b[0m\u001b[32m61s \u001b[0m\n"
      ]
     },
     "metadata": {},
     "output_type": "display_data"
    },
    {
     "data": {
      "text/html": [
       "<pre style=\"white-space:pre;overflow-x:auto;line-height:normal;font-family:Menlo,'DejaVu Sans Mono',consolas,'Courier New',monospace\"><span style=\"color: #008000; text-decoration-color: #008000; font-weight: bold\">[</span><span style=\"color: #008000; text-decoration-color: #008000\">SCRAPE</span><span style=\"color: #008000; text-decoration-color: #008000; font-weight: bold\">]</span><span style=\"color: #008000; text-decoration-color: #008000\">.. ◆ </span><span style=\"color: #008000; text-decoration-color: #008000; text-decoration: underline\">https://www.bbc.com/sport/football/premier-league</span><span style=\"color: #008000; text-decoration-color: #008000\">                                                    |</span>\n",
       "<span style=\"color: #008000; text-decoration-color: #008000\">✓ | ⏱: </span><span style=\"color: #008000; text-decoration-color: #008000; font-weight: bold\">0.</span><span style=\"color: #008000; text-decoration-color: #008000\">61s </span>\n",
       "</pre>\n"
      ],
      "text/plain": [
       "\u001b[1;32m[\u001b[0m\u001b[32mSCRAPE\u001b[0m\u001b[1;32m]\u001b[0m\u001b[32m.. ◆ \u001b[0m\u001b[4;32mhttps://www.bbc.com/sport/football/premier-league\u001b[0m\u001b[32m                                                    |\u001b[0m\n",
       "\u001b[32m✓\u001b[0m\u001b[32m | ⏱: \u001b[0m\u001b[1;32m0.\u001b[0m\u001b[32m61s \u001b[0m\n"
      ]
     },
     "metadata": {},
     "output_type": "display_data"
    },
    {
     "data": {
      "text/html": [
       "<pre style=\"white-space:pre;overflow-x:auto;line-height:normal;font-family:Menlo,'DejaVu Sans Mono',consolas,'Courier New',monospace\"><span style=\"color: #008000; text-decoration-color: #008000; font-weight: bold\">[</span><span style=\"color: #008000; text-decoration-color: #008000\">COMPLETE</span><span style=\"color: #008000; text-decoration-color: #008000; font-weight: bold\">]</span><span style=\"color: #008000; text-decoration-color: #008000\"> ● </span><span style=\"color: #008000; text-decoration-color: #008000; text-decoration: underline\">https://www.bbc.com/sport/football/premier-league</span><span style=\"color: #008000; text-decoration-color: #008000\">                                                    |</span>\n",
       "<span style=\"color: #008000; text-decoration-color: #008000\">✓ | ⏱: </span><span style=\"color: #008000; text-decoration-color: #008000; font-weight: bold\">11.</span><span style=\"color: #008000; text-decoration-color: #008000\">23s </span>\n",
       "</pre>\n"
      ],
      "text/plain": [
       "\u001b[1;32m[\u001b[0m\u001b[32mCOMPLETE\u001b[0m\u001b[1;32m]\u001b[0m\u001b[32m ● \u001b[0m\u001b[4;32mhttps://www.bbc.com/sport/football/premier-league\u001b[0m\u001b[32m                                                    |\u001b[0m\n",
       "\u001b[32m✓\u001b[0m\u001b[32m | ⏱: \u001b[0m\u001b[1;32m11.\u001b[0m\u001b[32m23s \u001b[0m\n"
      ]
     },
     "metadata": {},
     "output_type": "display_data"
    },
    {
     "data": {
      "text/html": [
       "<pre style=\"white-space:pre;overflow-x:auto;line-height:normal;font-family:Menlo,'DejaVu Sans Mono',consolas,'Courier New',monospace\"><span style=\"color: #008000; text-decoration-color: #008000\"> check </span> Crawled: <span style=\"color: #0000ff; text-decoration-color: #0000ff; text-decoration: underline\">https://www.bbc.com/sport...</span>\n",
       "</pre>\n"
      ],
      "text/plain": [
       "\u001b[32m check \u001b[0m Crawled: \u001b[4;94mhttps://www.bbc.com/sport...\u001b[0m\n"
      ]
     },
     "metadata": {},
     "output_type": "display_data"
    },
    {
     "data": {
      "text/html": [
       "<pre style=\"white-space:pre;overflow-x:auto;line-height:normal;font-family:Menlo,'DejaVu Sans Mono',consolas,'Courier New',monospace\"><span style=\"color: #008000; text-decoration-color: #008000\"> check </span> Crawled: <span style=\"color: #0000ff; text-decoration-color: #0000ff; text-decoration: underline\">https://www.bbc.com/sport/formula1...</span>\n",
       "</pre>\n"
      ],
      "text/plain": [
       "\u001b[32m check \u001b[0m Crawled: \u001b[4;94mhttps://www.bbc.com/sport/formula1...\u001b[0m\n"
      ]
     },
     "metadata": {},
     "output_type": "display_data"
    },
    {
     "data": {
      "text/html": [
       "<pre style=\"white-space:pre;overflow-x:auto;line-height:normal;font-family:Menlo,'DejaVu Sans Mono',consolas,'Courier New',monospace\"><span style=\"color: #008000; text-decoration-color: #008000\"> check </span> Crawled: <span style=\"color: #0000ff; text-decoration-color: #0000ff; text-decoration: underline\">https://www.bbc.com/sport/football...</span>\n",
       "</pre>\n"
      ],
      "text/plain": [
       "\u001b[32m check \u001b[0m Crawled: \u001b[4;94mhttps://www.bbc.com/sport/football...\u001b[0m\n"
      ]
     },
     "metadata": {},
     "output_type": "display_data"
    },
    {
     "data": {
      "text/html": [
       "<pre style=\"white-space:pre;overflow-x:auto;line-height:normal;font-family:Menlo,'DejaVu Sans Mono',consolas,'Courier New',monospace\"><span style=\"color: #008000; text-decoration-color: #008000\"> check </span> Crawled: <span style=\"color: #0000ff; text-decoration-color: #0000ff; text-decoration: underline\">https://www.bbc.com/sport/cricket...</span>\n",
       "</pre>\n"
      ],
      "text/plain": [
       "\u001b[32m check \u001b[0m Crawled: \u001b[4;94mhttps://www.bbc.com/sport/cricket...\u001b[0m\n"
      ]
     },
     "metadata": {},
     "output_type": "display_data"
    },
    {
     "data": {
      "text/html": [
       "<pre style=\"white-space:pre;overflow-x:auto;line-height:normal;font-family:Menlo,'DejaVu Sans Mono',consolas,'Courier New',monospace\"><span style=\"color: #008000; text-decoration-color: #008000\"> check </span> Crawled: <span style=\"color: #0000ff; text-decoration-color: #0000ff; text-decoration: underline\">https://www.bbc.com/sport/football/premier-league...</span>\n",
       "</pre>\n"
      ],
      "text/plain": [
       "\u001b[32m check \u001b[0m Crawled: \u001b[4;94mhttps://www.bbc.com/sport/football/premier-league...\u001b[0m\n"
      ]
     },
     "metadata": {},
     "output_type": "display_data"
    },
    {
     "data": {
      "text/html": [
       "<pre style=\"white-space:pre;overflow-x:auto;line-height:normal;font-family:Menlo,'DejaVu Sans Mono',consolas,'Courier New',monospace\"><span style=\"color: #008000; text-decoration-color: #008000\"> Successfully crawled </span><span style=\"color: #008000; text-decoration-color: #008000; font-weight: bold\">5</span><span style=\"color: #008000; text-decoration-color: #008000\"> pages</span>\n",
       "</pre>\n"
      ],
      "text/plain": [
       "\u001b[32m Successfully crawled \u001b[0m\u001b[1;32m5\u001b[0m\u001b[32m pages\u001b[0m\n"
      ]
     },
     "metadata": {},
     "output_type": "display_data"
    }
   ],
   "source": [
    "async def crawl_selected_urls(\n",
    "    urls:List[Dict],\n",
    "    query: ResearchQuery,\n",
    "    config: ResearchConfig\n",
    ") -> List[Dict]:\n",
    "    \"\"\"\n",
    "    Crawl only the most relevant URLs with smart content filtering\n",
    "    Key optimizations:\n",
    "    1. We already know these URLs are relevant (from scoring)\n",
    "    2. We crawl them in parallel for speed\n",
    "    3. We extract only meaningful content (no ads/nav)\n",
    "    4. We generate clean markdown for analysis\n",
    "    \"\"\"\n",
    "    \n",
    "    # Extract URLs from discovery results\n",
    "    url_list=[u['url'] for u in urls if 'url' in u][:config.max_urls_to_crawl]\n",
    "    if not url_list:\n",
    "        console.print(\"[red] No URLs to crawl [/red]\")\n",
    "        return []\n",
    "\n",
    "    console.print(f\"\\n [cyan] Crawling {len(url_list)} URLs...[/cyan]\")\n",
    "    \n",
    "    # Configure intelligent content extraction\n",
    "    # This removes ads, navigation and other noise\n",
    "    md_generator = DefaultMarkdownGenerator(\n",
    "        content_filter = PruningContentFilter(\n",
    "            threshold=0.48, # Content relevance threshold\n",
    "            threshold_type =\"dynamic\", # Adapts to page structure\n",
    "            min_word_threshold= 10 # Ignore tiny text blocks\n",
    "        ),\n",
    "    )\n",
    "    # Configure the crawler\n",
    "    crawler_config=CrawlerRunConfig(\n",
    "        markdown_generator=md_generator,\n",
    "        exclude_external_links=True, #Focus on content, not links\n",
    "        excluded_tags= ['nav','header','footer','aside'], #Skip UI elements\n",
    "    )\n",
    "    \n",
    "    # Create crawler with browser config\n",
    "    async with AsyncWebCrawler(\n",
    "        config=BrowserConfig(\n",
    "            headless=config.headless,\n",
    "            verbose=config.verbose\n",
    "        )\n",
    "    ) as crawler:\n",
    "        # Crawl URLs in parallel for speed\n",
    "        # arun_many handles concurrency automatically\n",
    "        results = await crawler.arun_many(\n",
    "            url_list,\n",
    "            config=crawler_config,\n",
    "            max_concurrent=config.max_concurrent_crawls\n",
    "        )\n",
    "        \n",
    "        # Process successful results\n",
    "        crawled_content=[]\n",
    "        for url, result in zip(url_list,results):\n",
    "            if result.success:\n",
    "                # Extract the content we need\n",
    "                content_data={\n",
    "                    'url':url,\n",
    "                    'title':result.metadata.get('title', 'No title'),\n",
    "                    'markdown':result.markdown.fit_markdown or result.markdown.raw_markdown,\n",
    "                    'metadata': result.metadata\n",
    "                }\n",
    "                crawled_content.append(content_data)\n",
    "                console.print(f\"[green] check [/green] Crawled: {url[:60]}...\")\n",
    "            else:\n",
    "                console.print(f\"[red] No check [/red] Failed: {url[:50]}... - {result.error}\")\n",
    "        console.print(f\"[green] Successfully crawled {len(crawled_content)} pages[/green]\")\n",
    "        return crawled_content\n",
    "    \n",
    "\n",
    "# Example crawling\n",
    "crawled = await crawl_selected_urls(discovered[:5], enhanced, config)"
   ]
  },
  {
   "cell_type": "markdown",
   "id": "bb0f7f46",
   "metadata": {},
   "source": [
    "## Step 5: AI-Powered Research Synthesis\n",
    "This is where we transform raw content into insights. The AI analyzes all crawled articles, identifies key themes, and generates a comprehensive synthesis with proper citations. It's like having a research assistant read everything and write you a summary."
   ]
  },
  {
   "cell_type": "code",
   "execution_count": 38,
   "id": "172cbc73",
   "metadata": {},
   "outputs": [
    {
     "data": {
      "text/html": [
       "<pre style=\"white-space:pre;overflow-x:auto;line-height:normal;font-family:Menlo,'DejaVu Sans Mono',consolas,'Courier New',monospace\">\n",
       "<span style=\"color: #008080; text-decoration-color: #008080\"> Generating research synthesis... </span>\n",
       "</pre>\n"
      ],
      "text/plain": [
       "\n",
       "\u001b[36m Generating research synthesis\u001b[0m\u001b[36m...\u001b[0m\u001b[36m \u001b[0m\n"
      ]
     },
     "metadata": {},
     "output_type": "display_data"
    },
    {
     "data": {
      "text/html": [
       "<pre style=\"white-space:pre;overflow-x:auto;line-height:normal;font-family:Menlo,'DejaVu Sans Mono',consolas,'Courier New',monospace\">╭────────────────────────────────────────── Research Synthesis Preview ───────────────────────────────────────────╮\n",
       "│ ### Executive Summary                                                                                           │\n",
       "│ Recent Premier League news highlights significant events, including Chelsea's goalkeeper Sanchez receiving a    │\n",
       "│ red card in a match against Manchester United, which has sparked discussions on tactical changes and player     │\n",
       "│ discipline. The league continues to showcase thrilling matches, with notable performances such as Tottenham     │\n",
       "│ Hotspur's comeback against Brighton and Manchester City's dominance over rivals. These developments reflect     │\n",
       "│ ongoing competitive dynamics and player perfo...                                                                │\n",
       "╰─────────────────────────────────────────────────────────────────────────────────────────────────────────────────╯\n",
       "</pre>\n"
      ],
      "text/plain": [
       "╭────────────────────────────────────────── Research Synthesis Preview ───────────────────────────────────────────╮\n",
       "│ ### Executive Summary                                                                                           │\n",
       "│ Recent Premier League news highlights significant events, including Chelsea's goalkeeper Sanchez receiving a    │\n",
       "│ red card in a match against Manchester United, which has sparked discussions on tactical changes and player     │\n",
       "│ discipline. The league continues to showcase thrilling matches, with notable performances such as Tottenham     │\n",
       "│ Hotspur's comeback against Brighton and Manchester City's dominance over rivals. These developments reflect     │\n",
       "│ ongoing competitive dynamics and player perfo...                                                                │\n",
       "╰─────────────────────────────────────────────────────────────────────────────────────────────────────────────────╯\n"
      ]
     },
     "metadata": {},
     "output_type": "display_data"
    }
   ],
   "source": [
    "async def generate_research_synthesis(\n",
    "    query: ResearchQuery,\n",
    "    crawled_content: List[Dict],\n",
    "    config: ResearchConfig\n",
    ") -> Tuple[str, List[Dict]]:\n",
    "    \"\"\"\n",
    "    Use AI to synthesize findings from multiple sources\n",
    "    \n",
    "    The synthesis process:\n",
    "    1. Sends all content to the LLM\n",
    "    2. Asks for key finding and analysis\n",
    "    3. Ensures proper citation of sources\n",
    "    4. Generates actionable insights\n",
    "    \"\"\"\n",
    "    \n",
    "    if not crawled_content:\n",
    "        return \"No content available for synthesis.\", []\n",
    "    console.print(\"\\n[cyan] Generating research synthesis... [/cyan]\")\n",
    "    \n",
    "    # Prepare content for the AI\n",
    "    # We include source info for proper citations\n",
    "    content_sections=[]\n",
    "    for i, content in enumerate(crawled_content,1):\n",
    "        section = f\"\"\"\n",
    "SOURCE {i}:\n",
    "Title: {content['title']}\n",
    "URL: {content['url']}\n",
    "Content Preview:\n",
    "<content>\n",
    "{content['markdown'][:1500]}...\n",
    "</content>\n",
    "\"\"\"\n",
    "        content_sections.append(section)\n",
    "    combined_content=\"\\n --- \\n\".join(content_sections)\n",
    "    \n",
    "    try:\n",
    "        # Generate comprehensive synthesis\n",
    "        response = await litellm.acompletion(\n",
    "            model=config.llm_model,\n",
    "            messages=[{\n",
    "                \"role\":\"user\",\n",
    "                \"content\":f\"\"\"Research Query: \"{query.original_query}\"\n",
    "Based on the following resources, provide a comprehensive research synthesis.\n",
    "\n",
    "<resources>\n",
    "{combined_content}\n",
    "</resources>\n",
    "\n",
    "Please provide:\n",
    "1. An executive summary (2-3 sentences)\n",
    "2. Key finding (3-5 bullet points)\n",
    "3. Detailed analysis (2-3 paragraphs)\n",
    "4. Future implications or trends\n",
    "\n",
    "Format your response with clear sections and cite sources using [Source N] notation.\n",
    "Keep the total response under 800 words.\"\"\"\n",
    "            }],\n",
    "            temperature=0.7 # Some creativity for synthesis\n",
    "        )\n",
    "        \n",
    "        synthesis = response.choices[0].message.content\n",
    "\n",
    "        # Extract citations from the synthesis\n",
    "        citations = []\n",
    "        for i, content in enumerate (crawled_content,1):\n",
    "            # Check if this source was cited\n",
    "            if f\"[Source {i}]\" in synthesis or f\"Source {i}\" in synthesis:\n",
    "                citations.append({\n",
    "                    'source_id':i,\n",
    "                    'title':content['title'],\n",
    "                    'url':content['url']\n",
    "                })\n",
    "        return synthesis,citations\n",
    "    \n",
    "    except Exception as e:\n",
    "        console.print(f\"[red] Synthesis generation failed:  {e}[/red]\")\n",
    "        # Fallback to simple summary\n",
    "        summary = f\"Research on '{query.original_query}' found {len(crawled_content)} relevant articles:\\n\\n\"\n",
    "        for content in crawled_content[:3]:\n",
    "            summary += f\"- {content['title']}\\n {content['url']}\\n\\n\"\n",
    "        return summary, []\n",
    "\n",
    "# Example synthesis\n",
    "synthesis, citations = await generate_research_synthesis(enhanced, crawled, config)\n",
    "console.print(Panel(synthesis[:500]+\"...\",title=\"Research Synthesis Preview\"))"
   ]
  },
  {
   "cell_type": "markdown",
   "id": "8862f57c",
   "metadata": {},
   "source": [
    "## Step 6: Complete Research Pipeline\n",
    " \n",
    " Now let's put itl all together! This orchestrator function manages the entire research pipeline from query to final report. It coordinates all the components we've built, handling errors gracefully and providing progress updates."
   ]
  },
  {
   "cell_type": "code",
   "execution_count": 42,
   "id": "da814037",
   "metadata": {},
   "outputs": [
    {
     "data": {
      "text/html": [
       "<pre style=\"white-space:pre;overflow-x:auto;line-height:normal;font-family:Menlo,'DejaVu Sans Mono',consolas,'Courier New',monospace\"><span style=\"color: #008080; text-decoration-color: #008080\">╭─────────────────────────────────────────────── Starting Research ───────────────────────────────────────────────╮</span>\n",
       "<span style=\"color: #008080; text-decoration-color: #008080\">│</span> <span style=\"color: #008080; text-decoration-color: #008080; font-weight: bold\">Research Pipeline </span>                                                                                              <span style=\"color: #008080; text-decoration-color: #008080\">│</span>\n",
       "<span style=\"color: #008080; text-decoration-color: #008080\">│</span>                                                                                                                 <span style=\"color: #008080; text-decoration-color: #008080\">│</span>\n",
       "<span style=\"color: #008080; text-decoration-color: #008080\">│</span> <span style=\"color: #7f7f7f; text-decoration-color: #7f7f7f\">Query:</span>Champions League latest result                                                                            <span style=\"color: #008080; text-decoration-color: #008080\">│</span>\n",
       "<span style=\"color: #008080; text-decoration-color: #008080\">│</span> <span style=\"color: #7f7f7f; text-decoration-color: #7f7f7f\">Domain:</span>www.bbc.com/sport                                                                                        <span style=\"color: #008080; text-decoration-color: #008080\">│</span>\n",
       "<span style=\"color: #008080; text-decoration-color: #008080\">╰─────────────────────────────────────────────────────────────────────────────────────────────────────────────────╯</span>\n",
       "</pre>\n"
      ],
      "text/plain": [
       "\u001b[36m╭─\u001b[0m\u001b[36m──────────────────────────────────────────────\u001b[0m\u001b[36m Starting Research \u001b[0m\u001b[36m──────────────────────────────────────────────\u001b[0m\u001b[36m─╮\u001b[0m\n",
       "\u001b[36m│\u001b[0m \u001b[1;36mResearch Pipeline \u001b[0m                                                                                              \u001b[36m│\u001b[0m\n",
       "\u001b[36m│\u001b[0m                                                                                                                 \u001b[36m│\u001b[0m\n",
       "\u001b[36m│\u001b[0m \u001b[2mQuery:\u001b[0mChampions League latest result                                                                            \u001b[36m│\u001b[0m\n",
       "\u001b[36m│\u001b[0m \u001b[2mDomain:\u001b[0mwww.bbc.com/sport                                                                                        \u001b[36m│\u001b[0m\n",
       "\u001b[36m╰─────────────────────────────────────────────────────────────────────────────────────────────────────────────────╯\u001b[0m\n"
      ]
     },
     "metadata": {},
     "output_type": "display_data"
    },
    {
     "data": {
      "text/html": [
       "<pre style=\"white-space:pre;overflow-x:auto;line-height:normal;font-family:Menlo,'DejaVu Sans Mono',consolas,'Courier New',monospace\">\n",
       "<span style=\"color: #008080; text-decoration-color: #008080; font-weight: bold\"> Step </span><span style=\"color: #008080; text-decoration-color: #008080; font-weight: bold\">1</span><span style=\"color: #008080; text-decoration-color: #008080; font-weight: bold\">: Query Processing </span>\n",
       "</pre>\n"
      ],
      "text/plain": [
       "\n",
       "\u001b[1;36m Step \u001b[0m\u001b[1;36m1\u001b[0m\u001b[1;36m: Query Processing \u001b[0m\n"
      ]
     },
     "metadata": {},
     "output_type": "display_data"
    },
    {
     "data": {
      "text/html": [
       "<pre style=\"white-space:pre;overflow-x:auto;line-height:normal;font-family:Menlo,'DejaVu Sans Mono',consolas,'Courier New',monospace\">\n",
       "<span style=\"color: #008080; text-decoration-color: #008080\"> Enhancing query: 'Champions League latest result...</span>\n",
       "</pre>\n"
      ],
      "text/plain": [
       "\n",
       "\u001b[36m Enhancing query: 'Champions League latest result\u001b[0m\u001b[36m...\u001b[0m\n"
      ]
     },
     "metadata": {},
     "output_type": "display_data"
    },
    {
     "data": {
      "text/html": [
       "<pre style=\"white-space:pre;overflow-x:auto;line-height:normal;font-family:Menlo,'DejaVu Sans Mono',consolas,'Courier New',monospace\">╭─────────────────────────────────────────────── Query Enhancement ───────────────────────────────────────────────╮\n",
       "│ <span style=\"color: #008000; text-decoration-color: #008000\"> Enhanced Query:</span> latest results and highlights from the UEFA Champions League                                   │\n",
       "│ <span style=\"color: #7f7f7f; text-decoration-color: #7f7f7f\"> Key terms: Champions League, latest result, football, soccer, match outcome</span>                                    │\n",
       "╰─────────────────────────────────────────────────────────────────────────────────────────────────────────────────╯\n",
       "</pre>\n"
      ],
      "text/plain": [
       "╭─────────────────────────────────────────────── Query Enhancement ───────────────────────────────────────────────╮\n",
       "│ \u001b[32m Enhanced Query:\u001b[0m latest results and highlights from the UEFA Champions League                                   │\n",
       "│ \u001b[2m Key terms: Champions League, latest result, football, soccer, match outcome\u001b[0m                                    │\n",
       "╰─────────────────────────────────────────────────────────────────────────────────────────────────────────────────╯\n"
      ]
     },
     "metadata": {},
     "output_type": "display_data"
    },
    {
     "data": {
      "text/html": [
       "<pre style=\"white-space:pre;overflow-x:auto;line-height:normal;font-family:Menlo,'DejaVu Sans Mono',consolas,'Courier New',monospace\">\n",
       "<span style=\"color: #008080; text-decoration-color: #008080; font-weight: bold\"> Step </span><span style=\"color: #008080; text-decoration-color: #008080; font-weight: bold\">2</span><span style=\"color: #008080; text-decoration-color: #008080; font-weight: bold\">: URL Discovery </span>\n",
       "</pre>\n"
      ],
      "text/plain": [
       "\n",
       "\u001b[1;36m Step \u001b[0m\u001b[1;36m2\u001b[0m\u001b[1;36m: URL Discovery \u001b[0m\n"
      ]
     },
     "metadata": {},
     "output_type": "display_data"
    },
    {
     "data": {
      "text/html": [
       "<pre style=\"white-space:pre;overflow-x:auto;line-height:normal;font-family:Menlo,'DejaVu Sans Mono',consolas,'Courier New',monospace\">\n",
       "<span style=\"color: #008080; text-decoration-color: #008080\"> Discovering URLs from www.bbc.com/sport...</span>\n",
       "</pre>\n"
      ],
      "text/plain": [
       "\n",
       "\u001b[36m Discovering URLs from www.bbc.com/sport\u001b[0m\u001b[36m...\u001b[0m\n"
      ]
     },
     "metadata": {},
     "output_type": "display_data"
    },
    {
     "data": {
      "text/html": [
       "<pre style=\"white-space:pre;overflow-x:auto;line-height:normal;font-family:Menlo,'DejaVu Sans Mono',consolas,'Courier New',monospace\"><span style=\"color: #008080; text-decoration-color: #008080; font-weight: bold\">[</span><span style=\"color: #008080; text-decoration-color: #008080\">URL_SEED</span><span style=\"color: #008080; text-decoration-color: #008080; font-weight: bold\">]</span><span style=\"color: #008080; text-decoration-color: #008080\"> ℹ Loading latest CC index from cache: </span>\n",
       "<span style=\"color: #008080; text-decoration-color: #008080\">/Users/fernandacladeramelgar/.crawl4ai/seeder_cache/latest_cc_index.txt </span>\n",
       "</pre>\n"
      ],
      "text/plain": [
       "\u001b[1;36m[\u001b[0m\u001b[36mURL_SEED\u001b[0m\u001b[1;36m]\u001b[0m\u001b[36m ℹ Loading latest CC index from cache: \u001b[0m\n",
       "\u001b[36m/Users/fernandacladeramelgar/.crawl4ai/seeder_cache/\u001b[0m\u001b[36mlatest_cc_index.txt\u001b[0m\u001b[36m \u001b[0m\n"
      ]
     },
     "metadata": {},
     "output_type": "display_data"
    },
    {
     "data": {
      "text/html": [
       "<pre style=\"white-space:pre;overflow-x:auto;line-height:normal;font-family:Menlo,'DejaVu Sans Mono',consolas,'Courier New',monospace\"><span style=\"color: #008080; text-decoration-color: #008080; font-weight: bold\">[</span><span style=\"color: #008080; text-decoration-color: #008080\">URL_SEED</span><span style=\"color: #008080; text-decoration-color: #008080; font-weight: bold\">]</span><span style=\"color: #008080; text-decoration-color: #008080\"> ℹ Starting URL seeding for www.bbc.com/sport with </span><span style=\"color: #008080; text-decoration-color: #008080\">source</span><span style=\"color: #008080; text-decoration-color: #008080\">=</span><span style=\"color: #008080; text-decoration-color: #008080\">sitemap</span><span style=\"color: #008080; text-decoration-color: #008080\"> </span>\n",
       "</pre>\n"
      ],
      "text/plain": [
       "\u001b[1;36m[\u001b[0m\u001b[36mURL_SEED\u001b[0m\u001b[1;36m]\u001b[0m\u001b[36m ℹ Starting URL seeding for www.bbc.com/sport with \u001b[0m\u001b[36msource\u001b[0m\u001b[36m=\u001b[0m\u001b[36msitemap\u001b[0m\u001b[36m \u001b[0m\n"
      ]
     },
     "metadata": {},
     "output_type": "display_data"
    },
    {
     "data": {
      "text/html": [
       "<pre style=\"white-space:pre;overflow-x:auto;line-height:normal;font-family:Menlo,'DejaVu Sans Mono',consolas,'Courier New',monospace\"><span style=\"color: #808080; text-decoration-color: #808080; font-weight: bold\">[</span><span style=\"color: #808080; text-decoration-color: #808080\">URL_SEED</span><span style=\"color: #808080; text-decoration-color: #808080; font-weight: bold\">]</span><span style=\"color: #808080; text-decoration-color: #808080\"> ℹ Fetching from sitemaps... </span>\n",
       "</pre>\n"
      ],
      "text/plain": [
       "\u001b[1;90m[\u001b[0m\u001b[90mURL_SEED\u001b[0m\u001b[1;90m]\u001b[0m\u001b[90m ℹ Fetching from sitemaps\u001b[0m\u001b[90m...\u001b[0m\u001b[90m \u001b[0m\n"
      ]
     },
     "metadata": {},
     "output_type": "display_data"
    },
    {
     "data": {
      "text/html": [
       "<pre style=\"white-space:pre;overflow-x:auto;line-height:normal;font-family:Menlo,'DejaVu Sans Mono',consolas,'Courier New',monospace\"><span style=\"color: #008080; text-decoration-color: #008080; font-weight: bold\">[</span><span style=\"color: #008080; text-decoration-color: #008080\">URL_SEED</span><span style=\"color: #008080; text-decoration-color: #008080; font-weight: bold\">]</span><span style=\"color: #008080; text-decoration-color: #008080\"> ℹ Found sitemap at </span><span style=\"color: #008080; text-decoration-color: #008080; text-decoration: underline\">https://www.bbc.com/sport/sitemap.xml</span><span style=\"color: #008080; text-decoration-color: #008080\"> </span>\n",
       "</pre>\n"
      ],
      "text/plain": [
       "\u001b[1;36m[\u001b[0m\u001b[36mURL_SEED\u001b[0m\u001b[1;36m]\u001b[0m\u001b[36m ℹ Found sitemap at \u001b[0m\u001b[4;36mhttps://www.bbc.com/sport/sitemap.xml\u001b[0m\u001b[36m \u001b[0m\n"
      ]
     },
     "metadata": {},
     "output_type": "display_data"
    },
    {
     "data": {
      "text/html": [
       "<pre style=\"white-space:pre;overflow-x:auto;line-height:normal;font-family:Menlo,'DejaVu Sans Mono',consolas,'Courier New',monospace\"><span style=\"color: #808080; text-decoration-color: #808080; font-weight: bold\">[</span><span style=\"color: #808080; text-decoration-color: #808080\">URL_SEED</span><span style=\"color: #808080; text-decoration-color: #808080; font-weight: bold\">]</span><span style=\"color: #808080; text-decoration-color: #808080\"> ℹ Performing live check for </span><span style=\"color: #808080; text-decoration-color: #808080; text-decoration: underline\">https://www.bbc.com/sport</span><span style=\"color: #808080; text-decoration-color: #808080\"> </span>\n",
       "</pre>\n"
      ],
      "text/plain": [
       "\u001b[1;90m[\u001b[0m\u001b[90mURL_SEED\u001b[0m\u001b[1;90m]\u001b[0m\u001b[90m ℹ Performing live check for \u001b[0m\u001b[4;90mhttps://www.bbc.com/sport\u001b[0m\u001b[90m \u001b[0m\n"
      ]
     },
     "metadata": {},
     "output_type": "display_data"
    },
    {
     "data": {
      "text/html": [
       "<pre style=\"white-space:pre;overflow-x:auto;line-height:normal;font-family:Menlo,'DejaVu Sans Mono',consolas,'Courier New',monospace\"><span style=\"color: #808080; text-decoration-color: #808080; font-weight: bold\">[</span><span style=\"color: #808080; text-decoration-color: #808080\">URL_SEED</span><span style=\"color: #808080; text-decoration-color: #808080; font-weight: bold\">]</span><span style=\"color: #808080; text-decoration-color: #808080\"> ℹ Performing live check for </span><span style=\"color: #808080; text-decoration-color: #808080; text-decoration: underline\">https://www.bbc.com/sport/football</span><span style=\"color: #808080; text-decoration-color: #808080\"> </span>\n",
       "</pre>\n"
      ],
      "text/plain": [
       "\u001b[1;90m[\u001b[0m\u001b[90mURL_SEED\u001b[0m\u001b[1;90m]\u001b[0m\u001b[90m ℹ Performing live check for \u001b[0m\u001b[4;90mhttps://www.bbc.com/sport/football\u001b[0m\u001b[90m \u001b[0m\n"
      ]
     },
     "metadata": {},
     "output_type": "display_data"
    },
    {
     "data": {
      "text/html": [
       "<pre style=\"white-space:pre;overflow-x:auto;line-height:normal;font-family:Menlo,'DejaVu Sans Mono',consolas,'Courier New',monospace\"><span style=\"color: #808080; text-decoration-color: #808080; font-weight: bold\">[</span><span style=\"color: #808080; text-decoration-color: #808080\">URL_SEED</span><span style=\"color: #808080; text-decoration-color: #808080; font-weight: bold\">]</span><span style=\"color: #808080; text-decoration-color: #808080\"> ℹ Performing live check for </span><span style=\"color: #808080; text-decoration-color: #808080; text-decoration: underline\">https://www.bbc.com/sport/cricket</span><span style=\"color: #808080; text-decoration-color: #808080\"> </span>\n",
       "</pre>\n"
      ],
      "text/plain": [
       "\u001b[1;90m[\u001b[0m\u001b[90mURL_SEED\u001b[0m\u001b[1;90m]\u001b[0m\u001b[90m ℹ Performing live check for \u001b[0m\u001b[4;90mhttps://www.bbc.com/sport/cricket\u001b[0m\u001b[90m \u001b[0m\n"
      ]
     },
     "metadata": {},
     "output_type": "display_data"
    },
    {
     "data": {
      "text/html": [
       "<pre style=\"white-space:pre;overflow-x:auto;line-height:normal;font-family:Menlo,'DejaVu Sans Mono',consolas,'Courier New',monospace\"><span style=\"color: #808080; text-decoration-color: #808080; font-weight: bold\">[</span><span style=\"color: #808080; text-decoration-color: #808080\">URL_SEED</span><span style=\"color: #808080; text-decoration-color: #808080; font-weight: bold\">]</span><span style=\"color: #808080; text-decoration-color: #808080\"> ℹ Performing live check for </span><span style=\"color: #808080; text-decoration-color: #808080; text-decoration: underline\">https://www.bbc.com/sport/formula1</span><span style=\"color: #808080; text-decoration-color: #808080\"> </span>\n",
       "</pre>\n"
      ],
      "text/plain": [
       "\u001b[1;90m[\u001b[0m\u001b[90mURL_SEED\u001b[0m\u001b[1;90m]\u001b[0m\u001b[90m ℹ Performing live check for \u001b[0m\u001b[4;90mhttps://www.bbc.com/sport/formula1\u001b[0m\u001b[90m \u001b[0m\n"
      ]
     },
     "metadata": {},
     "output_type": "display_data"
    },
    {
     "data": {
      "text/html": [
       "<pre style=\"white-space:pre;overflow-x:auto;line-height:normal;font-family:Menlo,'DejaVu Sans Mono',consolas,'Courier New',monospace\"><span style=\"color: #808080; text-decoration-color: #808080; font-weight: bold\">[</span><span style=\"color: #808080; text-decoration-color: #808080\">URL_SEED</span><span style=\"color: #808080; text-decoration-color: #808080; font-weight: bold\">]</span><span style=\"color: #808080; text-decoration-color: #808080\"> ℹ Performing live check for </span><span style=\"color: #808080; text-decoration-color: #808080; text-decoration: underline\">https://www.bbc.com/sport/rugby-union</span><span style=\"color: #808080; text-decoration-color: #808080\"> </span>\n",
       "</pre>\n"
      ],
      "text/plain": [
       "\u001b[1;90m[\u001b[0m\u001b[90mURL_SEED\u001b[0m\u001b[1;90m]\u001b[0m\u001b[90m ℹ Performing live check for \u001b[0m\u001b[4;90mhttps://www.bbc.com/sport/rugby-union\u001b[0m\u001b[90m \u001b[0m\n"
      ]
     },
     "metadata": {},
     "output_type": "display_data"
    },
    {
     "data": {
      "text/html": [
       "<pre style=\"white-space:pre;overflow-x:auto;line-height:normal;font-family:Menlo,'DejaVu Sans Mono',consolas,'Courier New',monospace\"><span style=\"color: #808080; text-decoration-color: #808080; font-weight: bold\">[</span><span style=\"color: #808080; text-decoration-color: #808080\">URL_SEED</span><span style=\"color: #808080; text-decoration-color: #808080; font-weight: bold\">]</span><span style=\"color: #808080; text-decoration-color: #808080\"> ℹ Producer finished. </span>\n",
       "</pre>\n"
      ],
      "text/plain": [
       "\u001b[1;90m[\u001b[0m\u001b[90mURL_SEED\u001b[0m\u001b[1;90m]\u001b[0m\u001b[90m ℹ Producer finished. \u001b[0m\n"
      ]
     },
     "metadata": {},
     "output_type": "display_data"
    },
    {
     "data": {
      "text/html": [
       "<pre style=\"white-space:pre;overflow-x:auto;line-height:normal;font-family:Menlo,'DejaVu Sans Mono',consolas,'Courier New',monospace\"><span style=\"color: #008080; text-decoration-color: #008080; font-weight: bold\">[</span><span style=\"color: #008080; text-decoration-color: #008080\">URL_SEED</span><span style=\"color: #008080; text-decoration-color: #008080; font-weight: bold\">]</span><span style=\"color: #008080; text-decoration-color: #008080\"> ℹ LIVE CHECK VALID for </span><span style=\"color: #008080; text-decoration-color: #008080; text-decoration: underline\">https://www.bbc.com/sport</span><span style=\"color: #008080; text-decoration-color: #008080\"> </span>\n",
       "</pre>\n"
      ],
      "text/plain": [
       "\u001b[1;36m[\u001b[0m\u001b[36mURL_SEED\u001b[0m\u001b[1;36m]\u001b[0m\u001b[36m ℹ LIVE CHECK VALID for \u001b[0m\u001b[4;36mhttps://www.bbc.com/sport\u001b[0m\u001b[36m \u001b[0m\n"
      ]
     },
     "metadata": {},
     "output_type": "display_data"
    },
    {
     "data": {
      "text/html": [
       "<pre style=\"white-space:pre;overflow-x:auto;line-height:normal;font-family:Menlo,'DejaVu Sans Mono',consolas,'Courier New',monospace\"><span style=\"color: #008080; text-decoration-color: #008080; font-weight: bold\">[</span><span style=\"color: #008080; text-decoration-color: #008080\">URL_SEED</span><span style=\"color: #008080; text-decoration-color: #008080; font-weight: bold\">]</span><span style=\"color: #008080; text-decoration-color: #008080\"> ℹ LIVE CHECK VALID for </span><span style=\"color: #008080; text-decoration-color: #008080; text-decoration: underline\">https://www.bbc.com/sport/football</span><span style=\"color: #008080; text-decoration-color: #008080\"> </span>\n",
       "</pre>\n"
      ],
      "text/plain": [
       "\u001b[1;36m[\u001b[0m\u001b[36mURL_SEED\u001b[0m\u001b[1;36m]\u001b[0m\u001b[36m ℹ LIVE CHECK VALID for \u001b[0m\u001b[4;36mhttps://www.bbc.com/sport/football\u001b[0m\u001b[36m \u001b[0m\n"
      ]
     },
     "metadata": {},
     "output_type": "display_data"
    },
    {
     "data": {
      "text/html": [
       "<pre style=\"white-space:pre;overflow-x:auto;line-height:normal;font-family:Menlo,'DejaVu Sans Mono',consolas,'Courier New',monospace\"><span style=\"color: #008080; text-decoration-color: #008080; font-weight: bold\">[</span><span style=\"color: #008080; text-decoration-color: #008080\">URL_SEED</span><span style=\"color: #008080; text-decoration-color: #008080; font-weight: bold\">]</span><span style=\"color: #008080; text-decoration-color: #008080\"> ℹ LIVE CHECK VALID for </span><span style=\"color: #008080; text-decoration-color: #008080; text-decoration: underline\">https://www.bbc.com/sport/formula1</span><span style=\"color: #008080; text-decoration-color: #008080\"> </span>\n",
       "</pre>\n"
      ],
      "text/plain": [
       "\u001b[1;36m[\u001b[0m\u001b[36mURL_SEED\u001b[0m\u001b[1;36m]\u001b[0m\u001b[36m ℹ LIVE CHECK VALID for \u001b[0m\u001b[4;36mhttps://www.bbc.com/sport/formula1\u001b[0m\u001b[36m \u001b[0m\n"
      ]
     },
     "metadata": {},
     "output_type": "display_data"
    },
    {
     "data": {
      "text/html": [
       "<pre style=\"white-space:pre;overflow-x:auto;line-height:normal;font-family:Menlo,'DejaVu Sans Mono',consolas,'Courier New',monospace\"><span style=\"color: #008080; text-decoration-color: #008080; font-weight: bold\">[</span><span style=\"color: #008080; text-decoration-color: #008080\">URL_SEED</span><span style=\"color: #008080; text-decoration-color: #008080; font-weight: bold\">]</span><span style=\"color: #008080; text-decoration-color: #008080\"> ℹ LIVE CHECK VALID for </span><span style=\"color: #008080; text-decoration-color: #008080; text-decoration: underline\">https://www.bbc.com/sport/cricket</span><span style=\"color: #008080; text-decoration-color: #008080\"> </span>\n",
       "</pre>\n"
      ],
      "text/plain": [
       "\u001b[1;36m[\u001b[0m\u001b[36mURL_SEED\u001b[0m\u001b[1;36m]\u001b[0m\u001b[36m ℹ LIVE CHECK VALID for \u001b[0m\u001b[4;36mhttps://www.bbc.com/sport/cricket\u001b[0m\u001b[36m \u001b[0m\n"
      ]
     },
     "metadata": {},
     "output_type": "display_data"
    },
    {
     "data": {
      "text/html": [
       "<pre style=\"white-space:pre;overflow-x:auto;line-height:normal;font-family:Menlo,'DejaVu Sans Mono',consolas,'Courier New',monospace\"><span style=\"color: #808080; text-decoration-color: #808080; font-weight: bold\">[</span><span style=\"color: #808080; text-decoration-color: #808080\">URL_SEED</span><span style=\"color: #808080; text-decoration-color: #808080; font-weight: bold\">]</span><span style=\"color: #808080; text-decoration-color: #808080\"> ℹ Performing live check for </span><span style=\"color: #808080; text-decoration-color: #808080; text-decoration: underline\">https://www.bbc.com/sport/football/premier-league</span><span style=\"color: #808080; text-decoration-color: #808080\"> </span>\n",
       "</pre>\n"
      ],
      "text/plain": [
       "\u001b[1;90m[\u001b[0m\u001b[90mURL_SEED\u001b[0m\u001b[1;90m]\u001b[0m\u001b[90m ℹ Performing live check for \u001b[0m\u001b[4;90mhttps://www.bbc.com/sport/football/premier-league\u001b[0m\u001b[90m \u001b[0m\n"
      ]
     },
     "metadata": {},
     "output_type": "display_data"
    },
    {
     "data": {
      "text/html": [
       "<pre style=\"white-space:pre;overflow-x:auto;line-height:normal;font-family:Menlo,'DejaVu Sans Mono',consolas,'Courier New',monospace\"><span style=\"color: #808080; text-decoration-color: #808080; font-weight: bold\">[</span><span style=\"color: #808080; text-decoration-color: #808080\">URL_SEED</span><span style=\"color: #808080; text-decoration-color: #808080; font-weight: bold\">]</span><span style=\"color: #808080; text-decoration-color: #808080\"> ℹ Performing live check for </span><span style=\"color: #808080; text-decoration-color: #808080; text-decoration: underline\">https://www.bbc.com/sport/tennis</span><span style=\"color: #808080; text-decoration-color: #808080\"> </span>\n",
       "</pre>\n"
      ],
      "text/plain": [
       "\u001b[1;90m[\u001b[0m\u001b[90mURL_SEED\u001b[0m\u001b[1;90m]\u001b[0m\u001b[90m ℹ Performing live check for \u001b[0m\u001b[4;90mhttps://www.bbc.com/sport/tennis\u001b[0m\u001b[90m \u001b[0m\n"
      ]
     },
     "metadata": {},
     "output_type": "display_data"
    },
    {
     "data": {
      "text/html": [
       "<pre style=\"white-space:pre;overflow-x:auto;line-height:normal;font-family:Menlo,'DejaVu Sans Mono',consolas,'Courier New',monospace\"><span style=\"color: #808080; text-decoration-color: #808080; font-weight: bold\">[</span><span style=\"color: #808080; text-decoration-color: #808080\">URL_SEED</span><span style=\"color: #808080; text-decoration-color: #808080; font-weight: bold\">]</span><span style=\"color: #808080; text-decoration-color: #808080\"> ℹ Performing live check for </span><span style=\"color: #808080; text-decoration-color: #808080; text-decoration: underline\">https://www.bbc.com/sport/golf</span><span style=\"color: #808080; text-decoration-color: #808080\"> </span>\n",
       "</pre>\n"
      ],
      "text/plain": [
       "\u001b[1;90m[\u001b[0m\u001b[90mURL_SEED\u001b[0m\u001b[1;90m]\u001b[0m\u001b[90m ℹ Performing live check for \u001b[0m\u001b[4;90mhttps://www.bbc.com/sport/golf\u001b[0m\u001b[90m \u001b[0m\n"
      ]
     },
     "metadata": {},
     "output_type": "display_data"
    },
    {
     "data": {
      "text/html": [
       "<pre style=\"white-space:pre;overflow-x:auto;line-height:normal;font-family:Menlo,'DejaVu Sans Mono',consolas,'Courier New',monospace\"><span style=\"color: #008080; text-decoration-color: #008080; font-weight: bold\">[</span><span style=\"color: #008080; text-decoration-color: #008080\">URL_SEED</span><span style=\"color: #008080; text-decoration-color: #008080; font-weight: bold\">]</span><span style=\"color: #008080; text-decoration-color: #008080\"> ℹ LIVE CHECK VALID for </span><span style=\"color: #008080; text-decoration-color: #008080; text-decoration: underline\">https://www.bbc.com/sport/rugby-union</span><span style=\"color: #008080; text-decoration-color: #008080\"> </span>\n",
       "</pre>\n"
      ],
      "text/plain": [
       "\u001b[1;36m[\u001b[0m\u001b[36mURL_SEED\u001b[0m\u001b[1;36m]\u001b[0m\u001b[36m ℹ LIVE CHECK VALID for \u001b[0m\u001b[4;36mhttps://www.bbc.com/sport/rugby-union\u001b[0m\u001b[36m \u001b[0m\n"
      ]
     },
     "metadata": {},
     "output_type": "display_data"
    },
    {
     "data": {
      "text/html": [
       "<pre style=\"white-space:pre;overflow-x:auto;line-height:normal;font-family:Menlo,'DejaVu Sans Mono',consolas,'Courier New',monospace\"><span style=\"color: #808080; text-decoration-color: #808080; font-weight: bold\">[</span><span style=\"color: #808080; text-decoration-color: #808080\">URL_SEED</span><span style=\"color: #808080; text-decoration-color: #808080; font-weight: bold\">]</span><span style=\"color: #808080; text-decoration-color: #808080\"> ℹ Performing live check for </span><span style=\"color: #808080; text-decoration-color: #808080; text-decoration: underline\">https://www.bbc.com/sport/snooker</span><span style=\"color: #808080; text-decoration-color: #808080\"> </span>\n",
       "</pre>\n"
      ],
      "text/plain": [
       "\u001b[1;90m[\u001b[0m\u001b[90mURL_SEED\u001b[0m\u001b[1;90m]\u001b[0m\u001b[90m ℹ Performing live check for \u001b[0m\u001b[4;90mhttps://www.bbc.com/sport/snooker\u001b[0m\u001b[90m \u001b[0m\n"
      ]
     },
     "metadata": {},
     "output_type": "display_data"
    },
    {
     "data": {
      "text/html": [
       "<pre style=\"white-space:pre;overflow-x:auto;line-height:normal;font-family:Menlo,'DejaVu Sans Mono',consolas,'Courier New',monospace\"><span style=\"color: #808080; text-decoration-color: #808080; font-weight: bold\">[</span><span style=\"color: #808080; text-decoration-color: #808080\">URL_SEED</span><span style=\"color: #808080; text-decoration-color: #808080; font-weight: bold\">]</span><span style=\"color: #808080; text-decoration-color: #808080\"> ℹ Performing live check for </span><span style=\"color: #808080; text-decoration-color: #808080; text-decoration: underline\">https://www.bbc.com/sport/rugby-league</span><span style=\"color: #808080; text-decoration-color: #808080\"> </span>\n",
       "</pre>\n"
      ],
      "text/plain": [
       "\u001b[1;90m[\u001b[0m\u001b[90mURL_SEED\u001b[0m\u001b[1;90m]\u001b[0m\u001b[90m ℹ Performing live check for \u001b[0m\u001b[4;90mhttps://www.bbc.com/sport/rugby-league\u001b[0m\u001b[90m \u001b[0m\n"
      ]
     },
     "metadata": {},
     "output_type": "display_data"
    },
    {
     "data": {
      "text/html": [
       "<pre style=\"white-space:pre;overflow-x:auto;line-height:normal;font-family:Menlo,'DejaVu Sans Mono',consolas,'Courier New',monospace\"><span style=\"color: #008080; text-decoration-color: #008080; font-weight: bold\">[</span><span style=\"color: #008080; text-decoration-color: #008080\">URL_SEED</span><span style=\"color: #008080; text-decoration-color: #008080; font-weight: bold\">]</span><span style=\"color: #008080; text-decoration-color: #008080\"> ℹ LIVE CHECK VALID for </span><span style=\"color: #008080; text-decoration-color: #008080; text-decoration: underline\">https://www.bbc.com/sport/football/premier-league</span><span style=\"color: #008080; text-decoration-color: #008080\"> </span>\n",
       "</pre>\n"
      ],
      "text/plain": [
       "\u001b[1;36m[\u001b[0m\u001b[36mURL_SEED\u001b[0m\u001b[1;36m]\u001b[0m\u001b[36m ℹ LIVE CHECK VALID for \u001b[0m\u001b[4;36mhttps://www.bbc.com/sport/football/premier-league\u001b[0m\u001b[36m \u001b[0m\n"
      ]
     },
     "metadata": {},
     "output_type": "display_data"
    },
    {
     "data": {
      "text/html": [
       "<pre style=\"white-space:pre;overflow-x:auto;line-height:normal;font-family:Menlo,'DejaVu Sans Mono',consolas,'Courier New',monospace\"><span style=\"color: #008080; text-decoration-color: #008080; font-weight: bold\">[</span><span style=\"color: #008080; text-decoration-color: #008080\">URL_SEED</span><span style=\"color: #008080; text-decoration-color: #008080; font-weight: bold\">]</span><span style=\"color: #008080; text-decoration-color: #008080\"> ℹ LIVE CHECK VALID for </span><span style=\"color: #008080; text-decoration-color: #008080; text-decoration: underline\">https://www.bbc.com/sport/golf</span><span style=\"color: #008080; text-decoration-color: #008080\"> </span>\n",
       "</pre>\n"
      ],
      "text/plain": [
       "\u001b[1;36m[\u001b[0m\u001b[36mURL_SEED\u001b[0m\u001b[1;36m]\u001b[0m\u001b[36m ℹ LIVE CHECK VALID for \u001b[0m\u001b[4;36mhttps://www.bbc.com/sport/golf\u001b[0m\u001b[36m \u001b[0m\n"
      ]
     },
     "metadata": {},
     "output_type": "display_data"
    },
    {
     "data": {
      "text/html": [
       "<pre style=\"white-space:pre;overflow-x:auto;line-height:normal;font-family:Menlo,'DejaVu Sans Mono',consolas,'Courier New',monospace\"><span style=\"color: #008080; text-decoration-color: #008080; font-weight: bold\">[</span><span style=\"color: #008080; text-decoration-color: #008080\">URL_SEED</span><span style=\"color: #008080; text-decoration-color: #008080; font-weight: bold\">]</span><span style=\"color: #008080; text-decoration-color: #008080\"> ℹ LIVE CHECK VALID for </span><span style=\"color: #008080; text-decoration-color: #008080; text-decoration: underline\">https://www.bbc.com/sport/tennis</span><span style=\"color: #008080; text-decoration-color: #008080\"> </span>\n",
       "</pre>\n"
      ],
      "text/plain": [
       "\u001b[1;36m[\u001b[0m\u001b[36mURL_SEED\u001b[0m\u001b[1;36m]\u001b[0m\u001b[36m ℹ LIVE CHECK VALID for \u001b[0m\u001b[4;36mhttps://www.bbc.com/sport/tennis\u001b[0m\u001b[36m \u001b[0m\n"
      ]
     },
     "metadata": {},
     "output_type": "display_data"
    },
    {
     "data": {
      "text/html": [
       "<pre style=\"white-space:pre;overflow-x:auto;line-height:normal;font-family:Menlo,'DejaVu Sans Mono',consolas,'Courier New',monospace\"><span style=\"color: #008080; text-decoration-color: #008080; font-weight: bold\">[</span><span style=\"color: #008080; text-decoration-color: #008080\">URL_SEED</span><span style=\"color: #008080; text-decoration-color: #008080; font-weight: bold\">]</span><span style=\"color: #008080; text-decoration-color: #008080\"> ℹ LIVE CHECK VALID for </span><span style=\"color: #008080; text-decoration-color: #008080; text-decoration: underline\">https://www.bbc.com/sport/snooker</span><span style=\"color: #008080; text-decoration-color: #008080\"> </span>\n",
       "</pre>\n"
      ],
      "text/plain": [
       "\u001b[1;36m[\u001b[0m\u001b[36mURL_SEED\u001b[0m\u001b[1;36m]\u001b[0m\u001b[36m ℹ LIVE CHECK VALID for \u001b[0m\u001b[4;36mhttps://www.bbc.com/sport/snooker\u001b[0m\u001b[36m \u001b[0m\n"
      ]
     },
     "metadata": {},
     "output_type": "display_data"
    },
    {
     "data": {
      "text/html": [
       "<pre style=\"white-space:pre;overflow-x:auto;line-height:normal;font-family:Menlo,'DejaVu Sans Mono',consolas,'Courier New',monospace\"><span style=\"color: #808080; text-decoration-color: #808080; font-weight: bold\">[</span><span style=\"color: #808080; text-decoration-color: #808080\">URL_SEED</span><span style=\"color: #808080; text-decoration-color: #808080; font-weight: bold\">]</span><span style=\"color: #808080; text-decoration-color: #808080\"> ℹ Performing live check for </span><span style=\"color: #808080; text-decoration-color: #808080; text-decoration: underline\">https://www.bbc.com/sport/football/european</span><span style=\"color: #808080; text-decoration-color: #808080\"> </span>\n",
       "</pre>\n"
      ],
      "text/plain": [
       "\u001b[1;90m[\u001b[0m\u001b[90mURL_SEED\u001b[0m\u001b[1;90m]\u001b[0m\u001b[90m ℹ Performing live check for \u001b[0m\u001b[4;90mhttps://www.bbc.com/sport/football/european\u001b[0m\u001b[90m \u001b[0m\n"
      ]
     },
     "metadata": {},
     "output_type": "display_data"
    },
    {
     "data": {
      "text/html": [
       "<pre style=\"white-space:pre;overflow-x:auto;line-height:normal;font-family:Menlo,'DejaVu Sans Mono',consolas,'Courier New',monospace\"><span style=\"color: #808080; text-decoration-color: #808080; font-weight: bold\">[</span><span style=\"color: #808080; text-decoration-color: #808080\">URL_SEED</span><span style=\"color: #808080; text-decoration-color: #808080; font-weight: bold\">]</span><span style=\"color: #808080; text-decoration-color: #808080\"> ℹ Performing live check for </span><span style=\"color: #808080; text-decoration-color: #808080; text-decoration: underline\">https://www.bbc.com/sport/cycling</span><span style=\"color: #808080; text-decoration-color: #808080\"> </span>\n",
       "</pre>\n"
      ],
      "text/plain": [
       "\u001b[1;90m[\u001b[0m\u001b[90mURL_SEED\u001b[0m\u001b[1;90m]\u001b[0m\u001b[90m ℹ Performing live check for \u001b[0m\u001b[4;90mhttps://www.bbc.com/sport/cycling\u001b[0m\u001b[90m \u001b[0m\n"
      ]
     },
     "metadata": {},
     "output_type": "display_data"
    },
    {
     "data": {
      "text/html": [
       "<pre style=\"white-space:pre;overflow-x:auto;line-height:normal;font-family:Menlo,'DejaVu Sans Mono',consolas,'Courier New',monospace\"><span style=\"color: #808080; text-decoration-color: #808080; font-weight: bold\">[</span><span style=\"color: #808080; text-decoration-color: #808080\">URL_SEED</span><span style=\"color: #808080; text-decoration-color: #808080; font-weight: bold\">]</span><span style=\"color: #808080; text-decoration-color: #808080\"> ℹ Performing live check for </span><span style=\"color: #808080; text-decoration-color: #808080; text-decoration: underline\">https://www.bbc.com/sport/football/scottish</span><span style=\"color: #808080; text-decoration-color: #808080\"> </span>\n",
       "</pre>\n"
      ],
      "text/plain": [
       "\u001b[1;90m[\u001b[0m\u001b[90mURL_SEED\u001b[0m\u001b[1;90m]\u001b[0m\u001b[90m ℹ Performing live check for \u001b[0m\u001b[4;90mhttps://www.bbc.com/sport/football/scottish\u001b[0m\u001b[90m \u001b[0m\n"
      ]
     },
     "metadata": {},
     "output_type": "display_data"
    },
    {
     "data": {
      "text/html": [
       "<pre style=\"white-space:pre;overflow-x:auto;line-height:normal;font-family:Menlo,'DejaVu Sans Mono',consolas,'Courier New',monospace\"><span style=\"color: #808080; text-decoration-color: #808080; font-weight: bold\">[</span><span style=\"color: #808080; text-decoration-color: #808080\">URL_SEED</span><span style=\"color: #808080; text-decoration-color: #808080; font-weight: bold\">]</span><span style=\"color: #808080; text-decoration-color: #808080\"> ℹ Performing live check for </span><span style=\"color: #808080; text-decoration-color: #808080; text-decoration: underline\">https://www.bbc.com/sport/football/championship</span><span style=\"color: #808080; text-decoration-color: #808080\"> </span>\n",
       "</pre>\n"
      ],
      "text/plain": [
       "\u001b[1;90m[\u001b[0m\u001b[90mURL_SEED\u001b[0m\u001b[1;90m]\u001b[0m\u001b[90m ℹ Performing live check for \u001b[0m\u001b[4;90mhttps://www.bbc.com/sport/football/championship\u001b[0m\u001b[90m \u001b[0m\n"
      ]
     },
     "metadata": {},
     "output_type": "display_data"
    },
    {
     "data": {
      "text/html": [
       "<pre style=\"white-space:pre;overflow-x:auto;line-height:normal;font-family:Menlo,'DejaVu Sans Mono',consolas,'Courier New',monospace\"><span style=\"color: #008080; text-decoration-color: #008080; font-weight: bold\">[</span><span style=\"color: #008080; text-decoration-color: #008080\">URL_SEED</span><span style=\"color: #008080; text-decoration-color: #008080; font-weight: bold\">]</span><span style=\"color: #008080; text-decoration-color: #008080\"> ℹ LIVE CHECK VALID for </span><span style=\"color: #008080; text-decoration-color: #008080; text-decoration: underline\">https://www.bbc.com/sport/rugby-league</span><span style=\"color: #008080; text-decoration-color: #008080\"> </span>\n",
       "</pre>\n"
      ],
      "text/plain": [
       "\u001b[1;36m[\u001b[0m\u001b[36mURL_SEED\u001b[0m\u001b[1;36m]\u001b[0m\u001b[36m ℹ LIVE CHECK VALID for \u001b[0m\u001b[4;36mhttps://www.bbc.com/sport/rugby-league\u001b[0m\u001b[36m \u001b[0m\n"
      ]
     },
     "metadata": {},
     "output_type": "display_data"
    },
    {
     "data": {
      "text/html": [
       "<pre style=\"white-space:pre;overflow-x:auto;line-height:normal;font-family:Menlo,'DejaVu Sans Mono',consolas,'Courier New',monospace\"><span style=\"color: #808080; text-decoration-color: #808080; font-weight: bold\">[</span><span style=\"color: #808080; text-decoration-color: #808080\">URL_SEED</span><span style=\"color: #808080; text-decoration-color: #808080; font-weight: bold\">]</span><span style=\"color: #808080; text-decoration-color: #808080\"> ℹ Performing live check for </span><span style=\"color: #808080; text-decoration-color: #808080; text-decoration: underline\">https://www.bbc.com/sport/boxing</span><span style=\"color: #808080; text-decoration-color: #808080\"> </span>\n",
       "</pre>\n"
      ],
      "text/plain": [
       "\u001b[1;90m[\u001b[0m\u001b[90mURL_SEED\u001b[0m\u001b[1;90m]\u001b[0m\u001b[90m ℹ Performing live check for \u001b[0m\u001b[4;90mhttps://www.bbc.com/sport/boxing\u001b[0m\u001b[90m \u001b[0m\n"
      ]
     },
     "metadata": {},
     "output_type": "display_data"
    },
    {
     "data": {
      "text/html": [
       "<pre style=\"white-space:pre;overflow-x:auto;line-height:normal;font-family:Menlo,'DejaVu Sans Mono',consolas,'Courier New',monospace\"><span style=\"color: #008080; text-decoration-color: #008080; font-weight: bold\">[</span><span style=\"color: #008080; text-decoration-color: #008080\">URL_SEED</span><span style=\"color: #008080; text-decoration-color: #008080; font-weight: bold\">]</span><span style=\"color: #008080; text-decoration-color: #008080\"> ℹ LIVE CHECK VALID for </span><span style=\"color: #008080; text-decoration-color: #008080; text-decoration: underline\">https://www.bbc.com/sport/cycling</span><span style=\"color: #008080; text-decoration-color: #008080\"> </span>\n",
       "</pre>\n"
      ],
      "text/plain": [
       "\u001b[1;36m[\u001b[0m\u001b[36mURL_SEED\u001b[0m\u001b[1;36m]\u001b[0m\u001b[36m ℹ LIVE CHECK VALID for \u001b[0m\u001b[4;36mhttps://www.bbc.com/sport/cycling\u001b[0m\u001b[36m \u001b[0m\n"
      ]
     },
     "metadata": {},
     "output_type": "display_data"
    },
    {
     "data": {
      "text/html": [
       "<pre style=\"white-space:pre;overflow-x:auto;line-height:normal;font-family:Menlo,'DejaVu Sans Mono',consolas,'Courier New',monospace\"><span style=\"color: #008080; text-decoration-color: #008080; font-weight: bold\">[</span><span style=\"color: #008080; text-decoration-color: #008080\">URL_SEED</span><span style=\"color: #008080; text-decoration-color: #008080; font-weight: bold\">]</span><span style=\"color: #008080; text-decoration-color: #008080\"> ℹ LIVE CHECK VALID for </span><span style=\"color: #008080; text-decoration-color: #008080; text-decoration: underline\">https://www.bbc.com/sport/football/european</span><span style=\"color: #008080; text-decoration-color: #008080\"> </span>\n",
       "</pre>\n"
      ],
      "text/plain": [
       "\u001b[1;36m[\u001b[0m\u001b[36mURL_SEED\u001b[0m\u001b[1;36m]\u001b[0m\u001b[36m ℹ LIVE CHECK VALID for \u001b[0m\u001b[4;36mhttps://www.bbc.com/sport/football/european\u001b[0m\u001b[36m \u001b[0m\n"
      ]
     },
     "metadata": {},
     "output_type": "display_data"
    },
    {
     "data": {
      "text/html": [
       "<pre style=\"white-space:pre;overflow-x:auto;line-height:normal;font-family:Menlo,'DejaVu Sans Mono',consolas,'Courier New',monospace\"><span style=\"color: #008080; text-decoration-color: #008080; font-weight: bold\">[</span><span style=\"color: #008080; text-decoration-color: #008080\">URL_SEED</span><span style=\"color: #008080; text-decoration-color: #008080; font-weight: bold\">]</span><span style=\"color: #008080; text-decoration-color: #008080\"> ℹ LIVE CHECK VALID for </span><span style=\"color: #008080; text-decoration-color: #008080; text-decoration: underline\">https://www.bbc.com/sport/football/scottish</span><span style=\"color: #008080; text-decoration-color: #008080\"> </span>\n",
       "</pre>\n"
      ],
      "text/plain": [
       "\u001b[1;36m[\u001b[0m\u001b[36mURL_SEED\u001b[0m\u001b[1;36m]\u001b[0m\u001b[36m ℹ LIVE CHECK VALID for \u001b[0m\u001b[4;36mhttps://www.bbc.com/sport/football/scottish\u001b[0m\u001b[36m \u001b[0m\n"
      ]
     },
     "metadata": {},
     "output_type": "display_data"
    },
    {
     "data": {
      "text/html": [
       "<pre style=\"white-space:pre;overflow-x:auto;line-height:normal;font-family:Menlo,'DejaVu Sans Mono',consolas,'Courier New',monospace\"><span style=\"color: #008080; text-decoration-color: #008080; font-weight: bold\">[</span><span style=\"color: #008080; text-decoration-color: #008080\">URL_SEED</span><span style=\"color: #008080; text-decoration-color: #008080; font-weight: bold\">]</span><span style=\"color: #008080; text-decoration-color: #008080\"> ℹ LIVE CHECK VALID for </span><span style=\"color: #008080; text-decoration-color: #008080; text-decoration: underline\">https://www.bbc.com/sport/football/championship</span><span style=\"color: #008080; text-decoration-color: #008080\"> </span>\n",
       "</pre>\n"
      ],
      "text/plain": [
       "\u001b[1;36m[\u001b[0m\u001b[36mURL_SEED\u001b[0m\u001b[1;36m]\u001b[0m\u001b[36m ℹ LIVE CHECK VALID for \u001b[0m\u001b[4;36mhttps://www.bbc.com/sport/football/championship\u001b[0m\u001b[36m \u001b[0m\n"
      ]
     },
     "metadata": {},
     "output_type": "display_data"
    },
    {
     "data": {
      "text/html": [
       "<pre style=\"white-space:pre;overflow-x:auto;line-height:normal;font-family:Menlo,'DejaVu Sans Mono',consolas,'Courier New',monospace\"><span style=\"color: #808080; text-decoration-color: #808080; font-weight: bold\">[</span><span style=\"color: #808080; text-decoration-color: #808080\">URL_SEED</span><span style=\"color: #808080; text-decoration-color: #808080; font-weight: bold\">]</span><span style=\"color: #808080; text-decoration-color: #808080\"> ℹ Performing live check for </span><span style=\"color: #808080; text-decoration-color: #808080; text-decoration: underline\">https://www.bbc.com/sport/horse-racing</span><span style=\"color: #808080; text-decoration-color: #808080\"> </span>\n",
       "</pre>\n"
      ],
      "text/plain": [
       "\u001b[1;90m[\u001b[0m\u001b[90mURL_SEED\u001b[0m\u001b[1;90m]\u001b[0m\u001b[90m ℹ Performing live check for \u001b[0m\u001b[4;90mhttps://www.bbc.com/sport/horse-racing\u001b[0m\u001b[90m \u001b[0m\n"
      ]
     },
     "metadata": {},
     "output_type": "display_data"
    },
    {
     "data": {
      "text/html": [
       "<pre style=\"white-space:pre;overflow-x:auto;line-height:normal;font-family:Menlo,'DejaVu Sans Mono',consolas,'Courier New',monospace\"><span style=\"color: #808080; text-decoration-color: #808080; font-weight: bold\">[</span><span style=\"color: #808080; text-decoration-color: #808080\">URL_SEED</span><span style=\"color: #808080; text-decoration-color: #808080; font-weight: bold\">]</span><span style=\"color: #808080; text-decoration-color: #808080\"> ℹ Performing live check for </span><span style=\"color: #808080; text-decoration-color: #808080; text-decoration: underline\">https://www.bbc.com/sport/athletics</span><span style=\"color: #808080; text-decoration-color: #808080\"> </span>\n",
       "</pre>\n"
      ],
      "text/plain": [
       "\u001b[1;90m[\u001b[0m\u001b[90mURL_SEED\u001b[0m\u001b[1;90m]\u001b[0m\u001b[90m ℹ Performing live check for \u001b[0m\u001b[4;90mhttps://www.bbc.com/sport/athletics\u001b[0m\u001b[90m \u001b[0m\n"
      ]
     },
     "metadata": {},
     "output_type": "display_data"
    },
    {
     "data": {
      "text/html": [
       "<pre style=\"white-space:pre;overflow-x:auto;line-height:normal;font-family:Menlo,'DejaVu Sans Mono',consolas,'Courier New',monospace\"><span style=\"color: #808080; text-decoration-color: #808080; font-weight: bold\">[</span><span style=\"color: #808080; text-decoration-color: #808080\">URL_SEED</span><span style=\"color: #808080; text-decoration-color: #808080; font-weight: bold\">]</span><span style=\"color: #808080; text-decoration-color: #808080\"> ℹ Performing live check for </span><span style=\"color: #808080; text-decoration-color: #808080; text-decoration: underline\">https://www.bbc.com/sport/scotland</span><span style=\"color: #808080; text-decoration-color: #808080\"> </span>\n",
       "</pre>\n"
      ],
      "text/plain": [
       "\u001b[1;90m[\u001b[0m\u001b[90mURL_SEED\u001b[0m\u001b[1;90m]\u001b[0m\u001b[90m ℹ Performing live check for \u001b[0m\u001b[4;90mhttps://www.bbc.com/sport/scotland\u001b[0m\u001b[90m \u001b[0m\n"
      ]
     },
     "metadata": {},
     "output_type": "display_data"
    },
    {
     "data": {
      "text/html": [
       "<pre style=\"white-space:pre;overflow-x:auto;line-height:normal;font-family:Menlo,'DejaVu Sans Mono',consolas,'Courier New',monospace\"><span style=\"color: #008080; text-decoration-color: #008080; font-weight: bold\">[</span><span style=\"color: #008080; text-decoration-color: #008080\">URL_SEED</span><span style=\"color: #008080; text-decoration-color: #008080; font-weight: bold\">]</span><span style=\"color: #008080; text-decoration-color: #008080\"> ℹ LIVE CHECK VALID for </span><span style=\"color: #008080; text-decoration-color: #008080; text-decoration: underline\">https://www.bbc.com/sport/boxing</span><span style=\"color: #008080; text-decoration-color: #008080\"> </span>\n",
       "</pre>\n"
      ],
      "text/plain": [
       "\u001b[1;36m[\u001b[0m\u001b[36mURL_SEED\u001b[0m\u001b[1;36m]\u001b[0m\u001b[36m ℹ LIVE CHECK VALID for \u001b[0m\u001b[4;36mhttps://www.bbc.com/sport/boxing\u001b[0m\u001b[36m \u001b[0m\n"
      ]
     },
     "metadata": {},
     "output_type": "display_data"
    },
    {
     "data": {
      "text/html": [
       "<pre style=\"white-space:pre;overflow-x:auto;line-height:normal;font-family:Menlo,'DejaVu Sans Mono',consolas,'Courier New',monospace\"><span style=\"color: #808080; text-decoration-color: #808080; font-weight: bold\">[</span><span style=\"color: #808080; text-decoration-color: #808080\">URL_SEED</span><span style=\"color: #808080; text-decoration-color: #808080; font-weight: bold\">]</span><span style=\"color: #808080; text-decoration-color: #808080\"> ℹ Performing live check for </span><span style=\"color: #808080; text-decoration-color: #808080; text-decoration: underline\">https://www.bbc.com/sport/american-football</span><span style=\"color: #808080; text-decoration-color: #808080\"> </span>\n",
       "</pre>\n"
      ],
      "text/plain": [
       "\u001b[1;90m[\u001b[0m\u001b[90mURL_SEED\u001b[0m\u001b[1;90m]\u001b[0m\u001b[90m ℹ Performing live check for \u001b[0m\u001b[4;90mhttps://www.bbc.com/sport/american-football\u001b[0m\u001b[90m \u001b[0m\n"
      ]
     },
     "metadata": {},
     "output_type": "display_data"
    },
    {
     "data": {
      "text/html": [
       "<pre style=\"white-space:pre;overflow-x:auto;line-height:normal;font-family:Menlo,'DejaVu Sans Mono',consolas,'Courier New',monospace\"><span style=\"color: #808080; text-decoration-color: #808080; font-weight: bold\">[</span><span style=\"color: #808080; text-decoration-color: #808080\">URL_SEED</span><span style=\"color: #808080; text-decoration-color: #808080; font-weight: bold\">]</span><span style=\"color: #808080; text-decoration-color: #808080\"> ℹ Performing live check for </span><span style=\"color: #808080; text-decoration-color: #808080; text-decoration: underline\">https://www.bbc.com/sport/football/champions-league</span><span style=\"color: #808080; text-decoration-color: #808080\"> </span>\n",
       "</pre>\n"
      ],
      "text/plain": [
       "\u001b[1;90m[\u001b[0m\u001b[90mURL_SEED\u001b[0m\u001b[1;90m]\u001b[0m\u001b[90m ℹ Performing live check for \u001b[0m\u001b[4;90mhttps://www.bbc.com/sport/football/champions-league\u001b[0m\u001b[90m \u001b[0m\n"
      ]
     },
     "metadata": {},
     "output_type": "display_data"
    },
    {
     "data": {
      "text/html": [
       "<pre style=\"white-space:pre;overflow-x:auto;line-height:normal;font-family:Menlo,'DejaVu Sans Mono',consolas,'Courier New',monospace\"><span style=\"color: #008080; text-decoration-color: #008080; font-weight: bold\">[</span><span style=\"color: #008080; text-decoration-color: #008080\">URL_SEED</span><span style=\"color: #008080; text-decoration-color: #008080; font-weight: bold\">]</span><span style=\"color: #008080; text-decoration-color: #008080\"> ℹ LIVE CHECK VALID for </span><span style=\"color: #008080; text-decoration-color: #008080; text-decoration: underline\">https://www.bbc.com/sport/horse-racing</span><span style=\"color: #008080; text-decoration-color: #008080\"> </span>\n",
       "</pre>\n"
      ],
      "text/plain": [
       "\u001b[1;36m[\u001b[0m\u001b[36mURL_SEED\u001b[0m\u001b[1;36m]\u001b[0m\u001b[36m ℹ LIVE CHECK VALID for \u001b[0m\u001b[4;36mhttps://www.bbc.com/sport/horse-racing\u001b[0m\u001b[36m \u001b[0m\n"
      ]
     },
     "metadata": {},
     "output_type": "display_data"
    },
    {
     "data": {
      "text/html": [
       "<pre style=\"white-space:pre;overflow-x:auto;line-height:normal;font-family:Menlo,'DejaVu Sans Mono',consolas,'Courier New',monospace\"><span style=\"color: #808080; text-decoration-color: #808080; font-weight: bold\">[</span><span style=\"color: #808080; text-decoration-color: #808080\">URL_SEED</span><span style=\"color: #808080; text-decoration-color: #808080; font-weight: bold\">]</span><span style=\"color: #808080; text-decoration-color: #808080\"> ℹ Performing live check for </span><span style=\"color: #808080; text-decoration-color: #808080; text-decoration: underline\">https://www.bbc.com/sport/football/teams/liverpool</span><span style=\"color: #808080; text-decoration-color: #808080\"> </span>\n",
       "</pre>\n"
      ],
      "text/plain": [
       "\u001b[1;90m[\u001b[0m\u001b[90mURL_SEED\u001b[0m\u001b[1;90m]\u001b[0m\u001b[90m ℹ Performing live check for \u001b[0m\u001b[4;90mhttps://www.bbc.com/sport/football/teams/liverpool\u001b[0m\u001b[90m \u001b[0m\n"
      ]
     },
     "metadata": {},
     "output_type": "display_data"
    },
    {
     "data": {
      "text/html": [
       "<pre style=\"white-space:pre;overflow-x:auto;line-height:normal;font-family:Menlo,'DejaVu Sans Mono',consolas,'Courier New',monospace\"><span style=\"color: #008080; text-decoration-color: #008080; font-weight: bold\">[</span><span style=\"color: #008080; text-decoration-color: #008080\">URL_SEED</span><span style=\"color: #008080; text-decoration-color: #008080; font-weight: bold\">]</span><span style=\"color: #008080; text-decoration-color: #008080\"> ℹ LIVE CHECK VALID for </span><span style=\"color: #008080; text-decoration-color: #008080; text-decoration: underline\">https://www.bbc.com/sport/athletics</span><span style=\"color: #008080; text-decoration-color: #008080\"> </span>\n",
       "</pre>\n"
      ],
      "text/plain": [
       "\u001b[1;36m[\u001b[0m\u001b[36mURL_SEED\u001b[0m\u001b[1;36m]\u001b[0m\u001b[36m ℹ LIVE CHECK VALID for \u001b[0m\u001b[4;36mhttps://www.bbc.com/sport/athletics\u001b[0m\u001b[36m \u001b[0m\n"
      ]
     },
     "metadata": {},
     "output_type": "display_data"
    },
    {
     "data": {
      "text/html": [
       "<pre style=\"white-space:pre;overflow-x:auto;line-height:normal;font-family:Menlo,'DejaVu Sans Mono',consolas,'Courier New',monospace\"><span style=\"color: #008080; text-decoration-color: #008080; font-weight: bold\">[</span><span style=\"color: #008080; text-decoration-color: #008080\">URL_SEED</span><span style=\"color: #008080; text-decoration-color: #008080; font-weight: bold\">]</span><span style=\"color: #008080; text-decoration-color: #008080\"> ℹ LIVE CHECK VALID for </span><span style=\"color: #008080; text-decoration-color: #008080; text-decoration: underline\">https://www.bbc.com/sport/scotland</span><span style=\"color: #008080; text-decoration-color: #008080\"> </span>\n",
       "</pre>\n"
      ],
      "text/plain": [
       "\u001b[1;36m[\u001b[0m\u001b[36mURL_SEED\u001b[0m\u001b[1;36m]\u001b[0m\u001b[36m ℹ LIVE CHECK VALID for \u001b[0m\u001b[4;36mhttps://www.bbc.com/sport/scotland\u001b[0m\u001b[36m \u001b[0m\n"
      ]
     },
     "metadata": {},
     "output_type": "display_data"
    },
    {
     "data": {
      "text/html": [
       "<pre style=\"white-space:pre;overflow-x:auto;line-height:normal;font-family:Menlo,'DejaVu Sans Mono',consolas,'Courier New',monospace\"><span style=\"color: #808080; text-decoration-color: #808080; font-weight: bold\">[</span><span style=\"color: #808080; text-decoration-color: #808080\">URL_SEED</span><span style=\"color: #808080; text-decoration-color: #808080; font-weight: bold\">]</span><span style=\"color: #808080; text-decoration-color: #808080\"> ℹ Performing live check for </span><span style=\"color: #808080; text-decoration-color: #808080; text-decoration: underline\">https://www.bbc.com/sport/football/teams/manchester-united</span><span style=\"color: #808080; text-decoration-color: #808080\"> </span>\n",
       "</pre>\n"
      ],
      "text/plain": [
       "\u001b[1;90m[\u001b[0m\u001b[90mURL_SEED\u001b[0m\u001b[1;90m]\u001b[0m\u001b[90m ℹ Performing live check for \u001b[0m\u001b[4;90mhttps://www.bbc.com/sport/football/teams/manchester-united\u001b[0m\u001b[90m \u001b[0m\n"
      ]
     },
     "metadata": {},
     "output_type": "display_data"
    },
    {
     "data": {
      "text/html": [
       "<pre style=\"white-space:pre;overflow-x:auto;line-height:normal;font-family:Menlo,'DejaVu Sans Mono',consolas,'Courier New',monospace\"><span style=\"color: #808080; text-decoration-color: #808080; font-weight: bold\">[</span><span style=\"color: #808080; text-decoration-color: #808080\">URL_SEED</span><span style=\"color: #808080; text-decoration-color: #808080; font-weight: bold\">]</span><span style=\"color: #808080; text-decoration-color: #808080\"> ℹ Performing live check for </span><span style=\"color: #808080; text-decoration-color: #808080; text-decoration: underline\">https://www.bbc.com/sport/football/womens</span><span style=\"color: #808080; text-decoration-color: #808080\"> </span>\n",
       "</pre>\n"
      ],
      "text/plain": [
       "\u001b[1;90m[\u001b[0m\u001b[90mURL_SEED\u001b[0m\u001b[1;90m]\u001b[0m\u001b[90m ℹ Performing live check for \u001b[0m\u001b[4;90mhttps://www.bbc.com/sport/football/womens\u001b[0m\u001b[90m \u001b[0m\n"
      ]
     },
     "metadata": {},
     "output_type": "display_data"
    },
    {
     "data": {
      "text/html": [
       "<pre style=\"white-space:pre;overflow-x:auto;line-height:normal;font-family:Menlo,'DejaVu Sans Mono',consolas,'Courier New',monospace\"><span style=\"color: #008080; text-decoration-color: #008080; font-weight: bold\">[</span><span style=\"color: #008080; text-decoration-color: #008080\">URL_SEED</span><span style=\"color: #008080; text-decoration-color: #008080; font-weight: bold\">]</span><span style=\"color: #008080; text-decoration-color: #008080\"> ℹ LIVE CHECK VALID for </span><span style=\"color: #008080; text-decoration-color: #008080; text-decoration: underline\">https://www.bbc.com/sport/american-football</span><span style=\"color: #008080; text-decoration-color: #008080\"> </span>\n",
       "</pre>\n"
      ],
      "text/plain": [
       "\u001b[1;36m[\u001b[0m\u001b[36mURL_SEED\u001b[0m\u001b[1;36m]\u001b[0m\u001b[36m ℹ LIVE CHECK VALID for \u001b[0m\u001b[4;36mhttps://www.bbc.com/sport/american-football\u001b[0m\u001b[36m \u001b[0m\n"
      ]
     },
     "metadata": {},
     "output_type": "display_data"
    },
    {
     "data": {
      "text/html": [
       "<pre style=\"white-space:pre;overflow-x:auto;line-height:normal;font-family:Menlo,'DejaVu Sans Mono',consolas,'Courier New',monospace\"><span style=\"color: #008080; text-decoration-color: #008080; font-weight: bold\">[</span><span style=\"color: #008080; text-decoration-color: #008080\">URL_SEED</span><span style=\"color: #008080; text-decoration-color: #008080; font-weight: bold\">]</span><span style=\"color: #008080; text-decoration-color: #008080\"> ℹ LIVE CHECK VALID for </span><span style=\"color: #008080; text-decoration-color: #008080; text-decoration: underline\">https://www.bbc.com/sport/football/champions-league</span><span style=\"color: #008080; text-decoration-color: #008080\"> </span>\n",
       "</pre>\n"
      ],
      "text/plain": [
       "\u001b[1;36m[\u001b[0m\u001b[36mURL_SEED\u001b[0m\u001b[1;36m]\u001b[0m\u001b[36m ℹ LIVE CHECK VALID for \u001b[0m\u001b[4;36mhttps://www.bbc.com/sport/football/champions-league\u001b[0m\u001b[36m \u001b[0m\n"
      ]
     },
     "metadata": {},
     "output_type": "display_data"
    },
    {
     "data": {
      "text/html": [
       "<pre style=\"white-space:pre;overflow-x:auto;line-height:normal;font-family:Menlo,'DejaVu Sans Mono',consolas,'Courier New',monospace\"><span style=\"color: #008080; text-decoration-color: #008080; font-weight: bold\">[</span><span style=\"color: #008080; text-decoration-color: #008080\">URL_SEED</span><span style=\"color: #008080; text-decoration-color: #008080; font-weight: bold\">]</span><span style=\"color: #008080; text-decoration-color: #008080\"> ℹ LIVE CHECK VALID for </span><span style=\"color: #008080; text-decoration-color: #008080; text-decoration: underline\">https://www.bbc.com/sport/football/teams/liverpool</span><span style=\"color: #008080; text-decoration-color: #008080\"> </span>\n",
       "</pre>\n"
      ],
      "text/plain": [
       "\u001b[1;36m[\u001b[0m\u001b[36mURL_SEED\u001b[0m\u001b[1;36m]\u001b[0m\u001b[36m ℹ LIVE CHECK VALID for \u001b[0m\u001b[4;36mhttps://www.bbc.com/sport/football/teams/liverpool\u001b[0m\u001b[36m \u001b[0m\n"
      ]
     },
     "metadata": {},
     "output_type": "display_data"
    },
    {
     "data": {
      "text/html": [
       "<pre style=\"white-space:pre;overflow-x:auto;line-height:normal;font-family:Menlo,'DejaVu Sans Mono',consolas,'Courier New',monospace\"><span style=\"color: #808080; text-decoration-color: #808080; font-weight: bold\">[</span><span style=\"color: #808080; text-decoration-color: #808080\">URL_SEED</span><span style=\"color: #808080; text-decoration-color: #808080; font-weight: bold\">]</span><span style=\"color: #808080; text-decoration-color: #808080\"> ℹ Performing live check for </span><span style=\"color: #808080; text-decoration-color: #808080; text-decoration: underline\">https://www.bbc.com/sport/football/teams/arsenal</span><span style=\"color: #808080; text-decoration-color: #808080\"> </span>\n",
       "</pre>\n"
      ],
      "text/plain": [
       "\u001b[1;90m[\u001b[0m\u001b[90mURL_SEED\u001b[0m\u001b[1;90m]\u001b[0m\u001b[90m ℹ Performing live check for \u001b[0m\u001b[4;90mhttps://www.bbc.com/sport/football/teams/arsenal\u001b[0m\u001b[90m \u001b[0m\n"
      ]
     },
     "metadata": {},
     "output_type": "display_data"
    },
    {
     "data": {
      "text/html": [
       "<pre style=\"white-space:pre;overflow-x:auto;line-height:normal;font-family:Menlo,'DejaVu Sans Mono',consolas,'Courier New',monospace\"><span style=\"color: #808080; text-decoration-color: #808080; font-weight: bold\">[</span><span style=\"color: #808080; text-decoration-color: #808080\">URL_SEED</span><span style=\"color: #808080; text-decoration-color: #808080; font-weight: bold\">]</span><span style=\"color: #808080; text-decoration-color: #808080\"> ℹ Performing live check for </span><span style=\"color: #808080; text-decoration-color: #808080; text-decoration: underline\">https://www.bbc.com/sport/football/scottish-premiership</span><span style=\"color: #808080; text-decoration-color: #808080\"> </span>\n",
       "</pre>\n"
      ],
      "text/plain": [
       "\u001b[1;90m[\u001b[0m\u001b[90mURL_SEED\u001b[0m\u001b[1;90m]\u001b[0m\u001b[90m ℹ Performing live check for \u001b[0m\u001b[4;90mhttps://www.bbc.com/sport/football/scottish-premiership\u001b[0m\u001b[90m \u001b[0m\n"
      ]
     },
     "metadata": {},
     "output_type": "display_data"
    },
    {
     "data": {
      "text/html": [
       "<pre style=\"white-space:pre;overflow-x:auto;line-height:normal;font-family:Menlo,'DejaVu Sans Mono',consolas,'Courier New',monospace\"><span style=\"color: #808080; text-decoration-color: #808080; font-weight: bold\">[</span><span style=\"color: #808080; text-decoration-color: #808080\">URL_SEED</span><span style=\"color: #808080; text-decoration-color: #808080; font-weight: bold\">]</span><span style=\"color: #808080; text-decoration-color: #808080\"> ℹ Performing live check for </span><span style=\"color: #808080; text-decoration-color: #808080; text-decoration: underline\">https://www.bbc.com/sport/football/league-one</span><span style=\"color: #808080; text-decoration-color: #808080\"> </span>\n",
       "</pre>\n"
      ],
      "text/plain": [
       "\u001b[1;90m[\u001b[0m\u001b[90mURL_SEED\u001b[0m\u001b[1;90m]\u001b[0m\u001b[90m ℹ Performing live check for \u001b[0m\u001b[4;90mhttps://www.bbc.com/sport/football/league-one\u001b[0m\u001b[90m \u001b[0m\n"
      ]
     },
     "metadata": {},
     "output_type": "display_data"
    },
    {
     "data": {
      "text/html": [
       "<pre style=\"white-space:pre;overflow-x:auto;line-height:normal;font-family:Menlo,'DejaVu Sans Mono',consolas,'Courier New',monospace\"><span style=\"color: #008080; text-decoration-color: #008080; font-weight: bold\">[</span><span style=\"color: #008080; text-decoration-color: #008080\">URL_SEED</span><span style=\"color: #008080; text-decoration-color: #008080; font-weight: bold\">]</span><span style=\"color: #008080; text-decoration-color: #008080\"> ℹ LIVE CHECK VALID for </span><span style=\"color: #008080; text-decoration-color: #008080; text-decoration: underline\">https://www.bbc.com/sport/football/teams/manchester-united</span><span style=\"color: #008080; text-decoration-color: #008080\"> </span>\n",
       "</pre>\n"
      ],
      "text/plain": [
       "\u001b[1;36m[\u001b[0m\u001b[36mURL_SEED\u001b[0m\u001b[1;36m]\u001b[0m\u001b[36m ℹ LIVE CHECK VALID for \u001b[0m\u001b[4;36mhttps://www.bbc.com/sport/football/teams/manchester-united\u001b[0m\u001b[36m \u001b[0m\n"
      ]
     },
     "metadata": {},
     "output_type": "display_data"
    },
    {
     "data": {
      "text/html": [
       "<pre style=\"white-space:pre;overflow-x:auto;line-height:normal;font-family:Menlo,'DejaVu Sans Mono',consolas,'Courier New',monospace\"><span style=\"color: #008080; text-decoration-color: #008080; font-weight: bold\">[</span><span style=\"color: #008080; text-decoration-color: #008080\">URL_SEED</span><span style=\"color: #008080; text-decoration-color: #008080; font-weight: bold\">]</span><span style=\"color: #008080; text-decoration-color: #008080\"> ℹ LIVE CHECK VALID for </span><span style=\"color: #008080; text-decoration-color: #008080; text-decoration: underline\">https://www.bbc.com/sport/football/womens</span><span style=\"color: #008080; text-decoration-color: #008080\"> </span>\n",
       "</pre>\n"
      ],
      "text/plain": [
       "\u001b[1;36m[\u001b[0m\u001b[36mURL_SEED\u001b[0m\u001b[1;36m]\u001b[0m\u001b[36m ℹ LIVE CHECK VALID for \u001b[0m\u001b[4;36mhttps://www.bbc.com/sport/football/womens\u001b[0m\u001b[36m \u001b[0m\n"
      ]
     },
     "metadata": {},
     "output_type": "display_data"
    },
    {
     "data": {
      "text/html": [
       "<pre style=\"white-space:pre;overflow-x:auto;line-height:normal;font-family:Menlo,'DejaVu Sans Mono',consolas,'Courier New',monospace\"><span style=\"color: #808080; text-decoration-color: #808080; font-weight: bold\">[</span><span style=\"color: #808080; text-decoration-color: #808080\">URL_SEED</span><span style=\"color: #808080; text-decoration-color: #808080; font-weight: bold\">]</span><span style=\"color: #808080; text-decoration-color: #808080\"> ℹ Performing live check for </span><span style=\"color: #808080; text-decoration-color: #808080; text-decoration: underline\">https://www.bbc.com/sport/football/teams/tottenham-hotspur</span><span style=\"color: #808080; text-decoration-color: #808080\"> </span>\n",
       "</pre>\n"
      ],
      "text/plain": [
       "\u001b[1;90m[\u001b[0m\u001b[90mURL_SEED\u001b[0m\u001b[1;90m]\u001b[0m\u001b[90m ℹ Performing live check for \u001b[0m\u001b[4;90mhttps://www.bbc.com/sport/football/teams/tottenham-hotspur\u001b[0m\u001b[90m \u001b[0m\n"
      ]
     },
     "metadata": {},
     "output_type": "display_data"
    },
    {
     "data": {
      "text/html": [
       "<pre style=\"white-space:pre;overflow-x:auto;line-height:normal;font-family:Menlo,'DejaVu Sans Mono',consolas,'Courier New',monospace\"><span style=\"color: #808080; text-decoration-color: #808080; font-weight: bold\">[</span><span style=\"color: #808080; text-decoration-color: #808080\">URL_SEED</span><span style=\"color: #808080; text-decoration-color: #808080; font-weight: bold\">]</span><span style=\"color: #808080; text-decoration-color: #808080\"> ℹ Performing live check for </span><span style=\"color: #808080; text-decoration-color: #808080; text-decoration: underline\">https://www.bbc.com/sport/football/league-cup</span><span style=\"color: #808080; text-decoration-color: #808080\"> </span>\n",
       "</pre>\n"
      ],
      "text/plain": [
       "\u001b[1;90m[\u001b[0m\u001b[90mURL_SEED\u001b[0m\u001b[1;90m]\u001b[0m\u001b[90m ℹ Performing live check for \u001b[0m\u001b[4;90mhttps://www.bbc.com/sport/football/league-cup\u001b[0m\u001b[90m \u001b[0m\n"
      ]
     },
     "metadata": {},
     "output_type": "display_data"
    },
    {
     "data": {
      "text/html": [
       "<pre style=\"white-space:pre;overflow-x:auto;line-height:normal;font-family:Menlo,'DejaVu Sans Mono',consolas,'Courier New',monospace\"><span style=\"color: #008080; text-decoration-color: #008080; font-weight: bold\">[</span><span style=\"color: #008080; text-decoration-color: #008080\">URL_SEED</span><span style=\"color: #008080; text-decoration-color: #008080; font-weight: bold\">]</span><span style=\"color: #008080; text-decoration-color: #008080\"> ℹ LIVE CHECK VALID for </span><span style=\"color: #008080; text-decoration-color: #008080; text-decoration: underline\">https://www.bbc.com/sport/football/teams/arsenal</span><span style=\"color: #008080; text-decoration-color: #008080\"> </span>\n",
       "</pre>\n"
      ],
      "text/plain": [
       "\u001b[1;36m[\u001b[0m\u001b[36mURL_SEED\u001b[0m\u001b[1;36m]\u001b[0m\u001b[36m ℹ LIVE CHECK VALID for \u001b[0m\u001b[4;36mhttps://www.bbc.com/sport/football/teams/arsenal\u001b[0m\u001b[36m \u001b[0m\n"
      ]
     },
     "metadata": {},
     "output_type": "display_data"
    },
    {
     "data": {
      "text/html": [
       "<pre style=\"white-space:pre;overflow-x:auto;line-height:normal;font-family:Menlo,'DejaVu Sans Mono',consolas,'Courier New',monospace\"><span style=\"color: #808080; text-decoration-color: #808080; font-weight: bold\">[</span><span style=\"color: #808080; text-decoration-color: #808080\">URL_SEED</span><span style=\"color: #808080; text-decoration-color: #808080; font-weight: bold\">]</span><span style=\"color: #808080; text-decoration-color: #808080\"> ℹ Performing live check for </span><span style=\"color: #808080; text-decoration-color: #808080; text-decoration: underline\">https://www.bbc.com/sport/football/teams/aston-villa</span><span style=\"color: #808080; text-decoration-color: #808080\"> </span>\n",
       "</pre>\n"
      ],
      "text/plain": [
       "\u001b[1;90m[\u001b[0m\u001b[90mURL_SEED\u001b[0m\u001b[1;90m]\u001b[0m\u001b[90m ℹ Performing live check for \u001b[0m\u001b[4;90mhttps://www.bbc.com/sport/football/teams/aston-villa\u001b[0m\u001b[90m \u001b[0m\n"
      ]
     },
     "metadata": {},
     "output_type": "display_data"
    },
    {
     "data": {
      "text/html": [
       "<pre style=\"white-space:pre;overflow-x:auto;line-height:normal;font-family:Menlo,'DejaVu Sans Mono',consolas,'Courier New',monospace\"><span style=\"color: #008080; text-decoration-color: #008080; font-weight: bold\">[</span><span style=\"color: #008080; text-decoration-color: #008080\">URL_SEED</span><span style=\"color: #008080; text-decoration-color: #008080; font-weight: bold\">]</span><span style=\"color: #008080; text-decoration-color: #008080\"> ℹ LIVE CHECK VALID for </span><span style=\"color: #008080; text-decoration-color: #008080; text-decoration: underline\">https://www.bbc.com/sport/football/league-one</span><span style=\"color: #008080; text-decoration-color: #008080\"> </span>\n",
       "</pre>\n"
      ],
      "text/plain": [
       "\u001b[1;36m[\u001b[0m\u001b[36mURL_SEED\u001b[0m\u001b[1;36m]\u001b[0m\u001b[36m ℹ LIVE CHECK VALID for \u001b[0m\u001b[4;36mhttps://www.bbc.com/sport/football/league-one\u001b[0m\u001b[36m \u001b[0m\n"
      ]
     },
     "metadata": {},
     "output_type": "display_data"
    },
    {
     "data": {
      "text/html": [
       "<pre style=\"white-space:pre;overflow-x:auto;line-height:normal;font-family:Menlo,'DejaVu Sans Mono',consolas,'Courier New',monospace\"><span style=\"color: #808080; text-decoration-color: #808080; font-weight: bold\">[</span><span style=\"color: #808080; text-decoration-color: #808080\">URL_SEED</span><span style=\"color: #808080; text-decoration-color: #808080; font-weight: bold\">]</span><span style=\"color: #808080; text-decoration-color: #808080\"> ℹ Performing live check for </span><span style=\"color: #808080; text-decoration-color: #808080; text-decoration: underline\">https://www.bbc.com/sport/football/fa-cup</span><span style=\"color: #808080; text-decoration-color: #808080\"> </span>\n",
       "</pre>\n"
      ],
      "text/plain": [
       "\u001b[1;90m[\u001b[0m\u001b[90mURL_SEED\u001b[0m\u001b[1;90m]\u001b[0m\u001b[90m ℹ Performing live check for \u001b[0m\u001b[4;90mhttps://www.bbc.com/sport/football/fa-cup\u001b[0m\u001b[90m \u001b[0m\n"
      ]
     },
     "metadata": {},
     "output_type": "display_data"
    },
    {
     "data": {
      "text/html": [
       "<pre style=\"white-space:pre;overflow-x:auto;line-height:normal;font-family:Menlo,'DejaVu Sans Mono',consolas,'Courier New',monospace\"><span style=\"color: #008080; text-decoration-color: #008080; font-weight: bold\">[</span><span style=\"color: #008080; text-decoration-color: #008080\">URL_SEED</span><span style=\"color: #008080; text-decoration-color: #008080; font-weight: bold\">]</span><span style=\"color: #008080; text-decoration-color: #008080\"> ℹ LIVE CHECK VALID for </span><span style=\"color: #008080; text-decoration-color: #008080; text-decoration: underline\">https://www.bbc.com/sport/football/league-cup</span><span style=\"color: #008080; text-decoration-color: #008080\"> </span>\n",
       "</pre>\n"
      ],
      "text/plain": [
       "\u001b[1;36m[\u001b[0m\u001b[36mURL_SEED\u001b[0m\u001b[1;36m]\u001b[0m\u001b[36m ℹ LIVE CHECK VALID for \u001b[0m\u001b[4;36mhttps://www.bbc.com/sport/football/league-cup\u001b[0m\u001b[36m \u001b[0m\n"
      ]
     },
     "metadata": {},
     "output_type": "display_data"
    },
    {
     "data": {
      "text/html": [
       "<pre style=\"white-space:pre;overflow-x:auto;line-height:normal;font-family:Menlo,'DejaVu Sans Mono',consolas,'Courier New',monospace\"><span style=\"color: #008080; text-decoration-color: #008080; font-weight: bold\">[</span><span style=\"color: #008080; text-decoration-color: #008080\">URL_SEED</span><span style=\"color: #008080; text-decoration-color: #008080; font-weight: bold\">]</span><span style=\"color: #008080; text-decoration-color: #008080\"> ℹ LIVE CHECK VALID for </span><span style=\"color: #008080; text-decoration-color: #008080; text-decoration: underline\">https://www.bbc.com/sport/football/scottish-premiership</span><span style=\"color: #008080; text-decoration-color: #008080\"> </span>\n",
       "</pre>\n"
      ],
      "text/plain": [
       "\u001b[1;36m[\u001b[0m\u001b[36mURL_SEED\u001b[0m\u001b[1;36m]\u001b[0m\u001b[36m ℹ LIVE CHECK VALID for \u001b[0m\u001b[4;36mhttps://www.bbc.com/sport/football/scottish-premiership\u001b[0m\u001b[36m \u001b[0m\n"
      ]
     },
     "metadata": {},
     "output_type": "display_data"
    },
    {
     "data": {
      "text/html": [
       "<pre style=\"white-space:pre;overflow-x:auto;line-height:normal;font-family:Menlo,'DejaVu Sans Mono',consolas,'Courier New',monospace\"><span style=\"color: #008080; text-decoration-color: #008080; font-weight: bold\">[</span><span style=\"color: #008080; text-decoration-color: #008080\">URL_SEED</span><span style=\"color: #008080; text-decoration-color: #008080; font-weight: bold\">]</span><span style=\"color: #008080; text-decoration-color: #008080\"> ℹ LIVE CHECK VALID for </span><span style=\"color: #008080; text-decoration-color: #008080; text-decoration: underline\">https://www.bbc.com/sport/football/teams/tottenham-hotspur</span><span style=\"color: #008080; text-decoration-color: #008080\"> </span>\n",
       "</pre>\n"
      ],
      "text/plain": [
       "\u001b[1;36m[\u001b[0m\u001b[36mURL_SEED\u001b[0m\u001b[1;36m]\u001b[0m\u001b[36m ℹ LIVE CHECK VALID for \u001b[0m\u001b[4;36mhttps://www.bbc.com/sport/football/teams/tottenham-hotspur\u001b[0m\u001b[36m \u001b[0m\n"
      ]
     },
     "metadata": {},
     "output_type": "display_data"
    },
    {
     "data": {
      "text/html": [
       "<pre style=\"white-space:pre;overflow-x:auto;line-height:normal;font-family:Menlo,'DejaVu Sans Mono',consolas,'Courier New',monospace\"><span style=\"color: #808080; text-decoration-color: #808080; font-weight: bold\">[</span><span style=\"color: #808080; text-decoration-color: #808080\">URL_SEED</span><span style=\"color: #808080; text-decoration-color: #808080; font-weight: bold\">]</span><span style=\"color: #808080; text-decoration-color: #808080\"> ℹ Performing live check for </span><span style=\"color: #808080; text-decoration-color: #808080; text-decoration: underline\">https://www.bbc.com/sport/football/teams/chelsea</span><span style=\"color: #808080; text-decoration-color: #808080\"> </span>\n",
       "</pre>\n"
      ],
      "text/plain": [
       "\u001b[1;90m[\u001b[0m\u001b[90mURL_SEED\u001b[0m\u001b[1;90m]\u001b[0m\u001b[90m ℹ Performing live check for \u001b[0m\u001b[4;90mhttps://www.bbc.com/sport/football/teams/chelsea\u001b[0m\u001b[90m \u001b[0m\n"
      ]
     },
     "metadata": {},
     "output_type": "display_data"
    },
    {
     "data": {
      "text/html": [
       "<pre style=\"white-space:pre;overflow-x:auto;line-height:normal;font-family:Menlo,'DejaVu Sans Mono',consolas,'Courier New',monospace\"><span style=\"color: #008080; text-decoration-color: #008080; font-weight: bold\">[</span><span style=\"color: #008080; text-decoration-color: #008080\">URL_SEED</span><span style=\"color: #008080; text-decoration-color: #008080; font-weight: bold\">]</span><span style=\"color: #008080; text-decoration-color: #008080\"> ℹ LIVE CHECK VALID for </span><span style=\"color: #008080; text-decoration-color: #008080; text-decoration: underline\">https://www.bbc.com/sport/football/teams/aston-villa</span><span style=\"color: #008080; text-decoration-color: #008080\"> </span>\n",
       "</pre>\n"
      ],
      "text/plain": [
       "\u001b[1;36m[\u001b[0m\u001b[36mURL_SEED\u001b[0m\u001b[1;36m]\u001b[0m\u001b[36m ℹ LIVE CHECK VALID for \u001b[0m\u001b[4;36mhttps://www.bbc.com/sport/football/teams/aston-villa\u001b[0m\u001b[36m \u001b[0m\n"
      ]
     },
     "metadata": {},
     "output_type": "display_data"
    },
    {
     "data": {
      "text/html": [
       "<pre style=\"white-space:pre;overflow-x:auto;line-height:normal;font-family:Menlo,'DejaVu Sans Mono',consolas,'Courier New',monospace\"><span style=\"color: #008080; text-decoration-color: #008080; font-weight: bold\">[</span><span style=\"color: #008080; text-decoration-color: #008080\">URL_SEED</span><span style=\"color: #008080; text-decoration-color: #008080; font-weight: bold\">]</span><span style=\"color: #008080; text-decoration-color: #008080\"> ℹ LIVE CHECK VALID for </span><span style=\"color: #008080; text-decoration-color: #008080; text-decoration: underline\">https://www.bbc.com/sport/football/fa-cup</span><span style=\"color: #008080; text-decoration-color: #008080\"> </span>\n",
       "</pre>\n"
      ],
      "text/plain": [
       "\u001b[1;36m[\u001b[0m\u001b[36mURL_SEED\u001b[0m\u001b[1;36m]\u001b[0m\u001b[36m ℹ LIVE CHECK VALID for \u001b[0m\u001b[4;36mhttps://www.bbc.com/sport/football/fa-cup\u001b[0m\u001b[36m \u001b[0m\n"
      ]
     },
     "metadata": {},
     "output_type": "display_data"
    },
    {
     "data": {
      "text/html": [
       "<pre style=\"white-space:pre;overflow-x:auto;line-height:normal;font-family:Menlo,'DejaVu Sans Mono',consolas,'Courier New',monospace\"><span style=\"color: #808080; text-decoration-color: #808080; font-weight: bold\">[</span><span style=\"color: #808080; text-decoration-color: #808080\">URL_SEED</span><span style=\"color: #808080; text-decoration-color: #808080; font-weight: bold\">]</span><span style=\"color: #808080; text-decoration-color: #808080\"> ℹ Performing live check for </span><span style=\"color: #808080; text-decoration-color: #808080; text-decoration: underline\">https://www.bbc.com/sport/basketball</span><span style=\"color: #808080; text-decoration-color: #808080\"> </span>\n",
       "</pre>\n"
      ],
      "text/plain": [
       "\u001b[1;90m[\u001b[0m\u001b[90mURL_SEED\u001b[0m\u001b[1;90m]\u001b[0m\u001b[90m ℹ Performing live check for \u001b[0m\u001b[4;90mhttps://www.bbc.com/sport/basketball\u001b[0m\u001b[90m \u001b[0m\n"
      ]
     },
     "metadata": {},
     "output_type": "display_data"
    },
    {
     "data": {
      "text/html": [
       "<pre style=\"white-space:pre;overflow-x:auto;line-height:normal;font-family:Menlo,'DejaVu Sans Mono',consolas,'Courier New',monospace\"><span style=\"color: #808080; text-decoration-color: #808080; font-weight: bold\">[</span><span style=\"color: #808080; text-decoration-color: #808080\">URL_SEED</span><span style=\"color: #808080; text-decoration-color: #808080; font-weight: bold\">]</span><span style=\"color: #808080; text-decoration-color: #808080\"> ℹ Performing live check for </span><span style=\"color: #808080; text-decoration-color: #808080; text-decoration: underline\">https://www.bbc.com/sport/football/teams/everton</span><span style=\"color: #808080; text-decoration-color: #808080\"> </span>\n",
       "</pre>\n"
      ],
      "text/plain": [
       "\u001b[1;90m[\u001b[0m\u001b[90mURL_SEED\u001b[0m\u001b[1;90m]\u001b[0m\u001b[90m ℹ Performing live check for \u001b[0m\u001b[4;90mhttps://www.bbc.com/sport/football/teams/everton\u001b[0m\u001b[90m \u001b[0m\n"
      ]
     },
     "metadata": {},
     "output_type": "display_data"
    },
    {
     "data": {
      "text/html": [
       "<pre style=\"white-space:pre;overflow-x:auto;line-height:normal;font-family:Menlo,'DejaVu Sans Mono',consolas,'Courier New',monospace\"><span style=\"color: #808080; text-decoration-color: #808080; font-weight: bold\">[</span><span style=\"color: #808080; text-decoration-color: #808080\">URL_SEED</span><span style=\"color: #808080; text-decoration-color: #808080; font-weight: bold\">]</span><span style=\"color: #808080; text-decoration-color: #808080\"> ℹ Performing live check for </span><span style=\"color: #808080; text-decoration-color: #808080; text-decoration: underline\">https://www.bbc.com/sport/football/teams/england</span><span style=\"color: #808080; text-decoration-color: #808080\"> </span>\n",
       "</pre>\n"
      ],
      "text/plain": [
       "\u001b[1;90m[\u001b[0m\u001b[90mURL_SEED\u001b[0m\u001b[1;90m]\u001b[0m\u001b[90m ℹ Performing live check for \u001b[0m\u001b[4;90mhttps://www.bbc.com/sport/football/teams/england\u001b[0m\u001b[90m \u001b[0m\n"
      ]
     },
     "metadata": {},
     "output_type": "display_data"
    },
    {
     "data": {
      "text/html": [
       "<pre style=\"white-space:pre;overflow-x:auto;line-height:normal;font-family:Menlo,'DejaVu Sans Mono',consolas,'Courier New',monospace\"><span style=\"color: #808080; text-decoration-color: #808080; font-weight: bold\">[</span><span style=\"color: #808080; text-decoration-color: #808080\">URL_SEED</span><span style=\"color: #808080; text-decoration-color: #808080; font-weight: bold\">]</span><span style=\"color: #808080; text-decoration-color: #808080\"> ℹ Performing live check for </span><span style=\"color: #808080; text-decoration-color: #808080; text-decoration: underline\">https://www.bbc.com/sport/cricket/counties</span><span style=\"color: #808080; text-decoration-color: #808080\"> </span>\n",
       "</pre>\n"
      ],
      "text/plain": [
       "\u001b[1;90m[\u001b[0m\u001b[90mURL_SEED\u001b[0m\u001b[1;90m]\u001b[0m\u001b[90m ℹ Performing live check for \u001b[0m\u001b[4;90mhttps://www.bbc.com/sport/cricket/counties\u001b[0m\u001b[90m \u001b[0m\n"
      ]
     },
     "metadata": {},
     "output_type": "display_data"
    },
    {
     "data": {
      "text/html": [
       "<pre style=\"white-space:pre;overflow-x:auto;line-height:normal;font-family:Menlo,'DejaVu Sans Mono',consolas,'Courier New',monospace\"><span style=\"color: #008080; text-decoration-color: #008080; font-weight: bold\">[</span><span style=\"color: #008080; text-decoration-color: #008080\">URL_SEED</span><span style=\"color: #008080; text-decoration-color: #008080; font-weight: bold\">]</span><span style=\"color: #008080; text-decoration-color: #008080\"> ℹ LIVE CHECK VALID for </span><span style=\"color: #008080; text-decoration-color: #008080; text-decoration: underline\">https://www.bbc.com/sport/football/teams/chelsea</span><span style=\"color: #008080; text-decoration-color: #008080\"> </span>\n",
       "</pre>\n"
      ],
      "text/plain": [
       "\u001b[1;36m[\u001b[0m\u001b[36mURL_SEED\u001b[0m\u001b[1;36m]\u001b[0m\u001b[36m ℹ LIVE CHECK VALID for \u001b[0m\u001b[4;36mhttps://www.bbc.com/sport/football/teams/chelsea\u001b[0m\u001b[36m \u001b[0m\n"
      ]
     },
     "metadata": {},
     "output_type": "display_data"
    },
    {
     "data": {
      "text/html": [
       "<pre style=\"white-space:pre;overflow-x:auto;line-height:normal;font-family:Menlo,'DejaVu Sans Mono',consolas,'Courier New',monospace\"><span style=\"color: #008080; text-decoration-color: #008080; font-weight: bold\">[</span><span style=\"color: #008080; text-decoration-color: #008080\">URL_SEED</span><span style=\"color: #008080; text-decoration-color: #008080; font-weight: bold\">]</span><span style=\"color: #008080; text-decoration-color: #008080\"> ℹ LIVE CHECK VALID for </span><span style=\"color: #008080; text-decoration-color: #008080; text-decoration: underline\">https://www.bbc.com/sport/football/teams/everton</span><span style=\"color: #008080; text-decoration-color: #008080\"> </span>\n",
       "</pre>\n"
      ],
      "text/plain": [
       "\u001b[1;36m[\u001b[0m\u001b[36mURL_SEED\u001b[0m\u001b[1;36m]\u001b[0m\u001b[36m ℹ LIVE CHECK VALID for \u001b[0m\u001b[4;36mhttps://www.bbc.com/sport/football/teams/everton\u001b[0m\u001b[36m \u001b[0m\n"
      ]
     },
     "metadata": {},
     "output_type": "display_data"
    },
    {
     "data": {
      "text/html": [
       "<pre style=\"white-space:pre;overflow-x:auto;line-height:normal;font-family:Menlo,'DejaVu Sans Mono',consolas,'Courier New',monospace\"><span style=\"color: #808080; text-decoration-color: #808080; font-weight: bold\">[</span><span style=\"color: #808080; text-decoration-color: #808080\">URL_SEED</span><span style=\"color: #808080; text-decoration-color: #808080; font-weight: bold\">]</span><span style=\"color: #808080; text-decoration-color: #808080\"> ℹ Performing live check for </span><span style=\"color: #808080; text-decoration-color: #808080; text-decoration: underline\">https://www.bbc.com/sport/commonwealth-games</span><span style=\"color: #808080; text-decoration-color: #808080\"> </span>\n",
       "</pre>\n"
      ],
      "text/plain": [
       "\u001b[1;90m[\u001b[0m\u001b[90mURL_SEED\u001b[0m\u001b[1;90m]\u001b[0m\u001b[90m ℹ Performing live check for \u001b[0m\u001b[4;90mhttps://www.bbc.com/sport/commonwealth-games\u001b[0m\u001b[90m \u001b[0m\n"
      ]
     },
     "metadata": {},
     "output_type": "display_data"
    },
    {
     "data": {
      "text/html": [
       "<pre style=\"white-space:pre;overflow-x:auto;line-height:normal;font-family:Menlo,'DejaVu Sans Mono',consolas,'Courier New',monospace\"><span style=\"color: #808080; text-decoration-color: #808080; font-weight: bold\">[</span><span style=\"color: #808080; text-decoration-color: #808080\">URL_SEED</span><span style=\"color: #808080; text-decoration-color: #808080; font-weight: bold\">]</span><span style=\"color: #808080; text-decoration-color: #808080\"> ℹ Performing live check for </span><span style=\"color: #808080; text-decoration-color: #808080; text-decoration: underline\">https://www.bbc.com/sport/olympics</span><span style=\"color: #808080; text-decoration-color: #808080\"> </span>\n",
       "</pre>\n"
      ],
      "text/plain": [
       "\u001b[1;90m[\u001b[0m\u001b[90mURL_SEED\u001b[0m\u001b[1;90m]\u001b[0m\u001b[90m ℹ Performing live check for \u001b[0m\u001b[4;90mhttps://www.bbc.com/sport/olympics\u001b[0m\u001b[90m \u001b[0m\n"
      ]
     },
     "metadata": {},
     "output_type": "display_data"
    },
    {
     "data": {
      "text/html": [
       "<pre style=\"white-space:pre;overflow-x:auto;line-height:normal;font-family:Menlo,'DejaVu Sans Mono',consolas,'Courier New',monospace\"><span style=\"color: #008080; text-decoration-color: #008080; font-weight: bold\">[</span><span style=\"color: #008080; text-decoration-color: #008080\">URL_SEED</span><span style=\"color: #008080; text-decoration-color: #008080; font-weight: bold\">]</span><span style=\"color: #008080; text-decoration-color: #008080\"> ℹ LIVE CHECK VALID for </span><span style=\"color: #008080; text-decoration-color: #008080; text-decoration: underline\">https://www.bbc.com/sport/cricket/counties</span><span style=\"color: #008080; text-decoration-color: #008080\"> </span>\n",
       "</pre>\n"
      ],
      "text/plain": [
       "\u001b[1;36m[\u001b[0m\u001b[36mURL_SEED\u001b[0m\u001b[1;36m]\u001b[0m\u001b[36m ℹ LIVE CHECK VALID for \u001b[0m\u001b[4;36mhttps://www.bbc.com/sport/cricket/counties\u001b[0m\u001b[36m \u001b[0m\n"
      ]
     },
     "metadata": {},
     "output_type": "display_data"
    },
    {
     "data": {
      "text/html": [
       "<pre style=\"white-space:pre;overflow-x:auto;line-height:normal;font-family:Menlo,'DejaVu Sans Mono',consolas,'Courier New',monospace\"><span style=\"color: #008080; text-decoration-color: #008080; font-weight: bold\">[</span><span style=\"color: #008080; text-decoration-color: #008080\">URL_SEED</span><span style=\"color: #008080; text-decoration-color: #008080; font-weight: bold\">]</span><span style=\"color: #008080; text-decoration-color: #008080\"> ℹ LIVE CHECK VALID for </span><span style=\"color: #008080; text-decoration-color: #008080; text-decoration: underline\">https://www.bbc.com/sport/basketball</span><span style=\"color: #008080; text-decoration-color: #008080\"> </span>\n",
       "</pre>\n"
      ],
      "text/plain": [
       "\u001b[1;36m[\u001b[0m\u001b[36mURL_SEED\u001b[0m\u001b[1;36m]\u001b[0m\u001b[36m ℹ LIVE CHECK VALID for \u001b[0m\u001b[4;36mhttps://www.bbc.com/sport/basketball\u001b[0m\u001b[36m \u001b[0m\n"
      ]
     },
     "metadata": {},
     "output_type": "display_data"
    },
    {
     "data": {
      "text/html": [
       "<pre style=\"white-space:pre;overflow-x:auto;line-height:normal;font-family:Menlo,'DejaVu Sans Mono',consolas,'Courier New',monospace\"><span style=\"color: #008080; text-decoration-color: #008080; font-weight: bold\">[</span><span style=\"color: #008080; text-decoration-color: #008080\">URL_SEED</span><span style=\"color: #008080; text-decoration-color: #008080; font-weight: bold\">]</span><span style=\"color: #008080; text-decoration-color: #008080\"> ℹ LIVE CHECK VALID for </span><span style=\"color: #008080; text-decoration-color: #008080; text-decoration: underline\">https://www.bbc.com/sport/football/teams/england</span><span style=\"color: #008080; text-decoration-color: #008080\"> </span>\n",
       "</pre>\n"
      ],
      "text/plain": [
       "\u001b[1;36m[\u001b[0m\u001b[36mURL_SEED\u001b[0m\u001b[1;36m]\u001b[0m\u001b[36m ℹ LIVE CHECK VALID for \u001b[0m\u001b[4;36mhttps://www.bbc.com/sport/football/teams/england\u001b[0m\u001b[36m \u001b[0m\n"
      ]
     },
     "metadata": {},
     "output_type": "display_data"
    },
    {
     "data": {
      "text/html": [
       "<pre style=\"white-space:pre;overflow-x:auto;line-height:normal;font-family:Menlo,'DejaVu Sans Mono',consolas,'Courier New',monospace\"><span style=\"color: #808080; text-decoration-color: #808080; font-weight: bold\">[</span><span style=\"color: #808080; text-decoration-color: #808080\">URL_SEED</span><span style=\"color: #808080; text-decoration-color: #808080; font-weight: bold\">]</span><span style=\"color: #808080; text-decoration-color: #808080\"> ℹ Performing live check for </span><span style=\"color: #808080; text-decoration-color: #808080; text-decoration: underline\">https://www.bbc.com/sport/football/world-cup</span><span style=\"color: #808080; text-decoration-color: #808080\"> </span>\n",
       "</pre>\n"
      ],
      "text/plain": [
       "\u001b[1;90m[\u001b[0m\u001b[90mURL_SEED\u001b[0m\u001b[1;90m]\u001b[0m\u001b[90m ℹ Performing live check for \u001b[0m\u001b[4;90mhttps://www.bbc.com/sport/football/world-cup\u001b[0m\u001b[90m \u001b[0m\n"
      ]
     },
     "metadata": {},
     "output_type": "display_data"
    },
    {
     "data": {
      "text/html": [
       "<pre style=\"white-space:pre;overflow-x:auto;line-height:normal;font-family:Menlo,'DejaVu Sans Mono',consolas,'Courier New',monospace\"><span style=\"color: #808080; text-decoration-color: #808080; font-weight: bold\">[</span><span style=\"color: #808080; text-decoration-color: #808080\">URL_SEED</span><span style=\"color: #808080; text-decoration-color: #808080; font-weight: bold\">]</span><span style=\"color: #808080; text-decoration-color: #808080\"> ℹ Performing live check for </span><span style=\"color: #808080; text-decoration-color: #808080; text-decoration: underline\">https://www.bbc.com/sport/mixed-martial-arts</span><span style=\"color: #808080; text-decoration-color: #808080\"> </span>\n",
       "</pre>\n"
      ],
      "text/plain": [
       "\u001b[1;90m[\u001b[0m\u001b[90mURL_SEED\u001b[0m\u001b[1;90m]\u001b[0m\u001b[90m ℹ Performing live check for \u001b[0m\u001b[4;90mhttps://www.bbc.com/sport/mixed-martial-arts\u001b[0m\u001b[90m \u001b[0m\n"
      ]
     },
     "metadata": {},
     "output_type": "display_data"
    },
    {
     "data": {
      "text/html": [
       "<pre style=\"white-space:pre;overflow-x:auto;line-height:normal;font-family:Menlo,'DejaVu Sans Mono',consolas,'Courier New',monospace\"><span style=\"color: #808080; text-decoration-color: #808080; font-weight: bold\">[</span><span style=\"color: #808080; text-decoration-color: #808080\">URL_SEED</span><span style=\"color: #808080; text-decoration-color: #808080; font-weight: bold\">]</span><span style=\"color: #808080; text-decoration-color: #808080\"> ℹ Performing live check for </span><span style=\"color: #808080; text-decoration-color: #808080; text-decoration: underline\">https://www.bbc.com/sport/football/europa-league</span><span style=\"color: #808080; text-decoration-color: #808080\"> </span>\n",
       "</pre>\n"
      ],
      "text/plain": [
       "\u001b[1;90m[\u001b[0m\u001b[90mURL_SEED\u001b[0m\u001b[1;90m]\u001b[0m\u001b[90m ℹ Performing live check for \u001b[0m\u001b[4;90mhttps://www.bbc.com/sport/football/europa-league\u001b[0m\u001b[90m \u001b[0m\n"
      ]
     },
     "metadata": {},
     "output_type": "display_data"
    },
    {
     "data": {
      "text/html": [
       "<pre style=\"white-space:pre;overflow-x:auto;line-height:normal;font-family:Menlo,'DejaVu Sans Mono',consolas,'Courier New',monospace\"><span style=\"color: #008080; text-decoration-color: #008080; font-weight: bold\">[</span><span style=\"color: #008080; text-decoration-color: #008080\">URL_SEED</span><span style=\"color: #008080; text-decoration-color: #008080; font-weight: bold\">]</span><span style=\"color: #008080; text-decoration-color: #008080\"> ℹ LIVE CHECK VALID for </span><span style=\"color: #008080; text-decoration-color: #008080; text-decoration: underline\">https://www.bbc.com/sport/commonwealth-games</span><span style=\"color: #008080; text-decoration-color: #008080\"> </span>\n",
       "</pre>\n"
      ],
      "text/plain": [
       "\u001b[1;36m[\u001b[0m\u001b[36mURL_SEED\u001b[0m\u001b[1;36m]\u001b[0m\u001b[36m ℹ LIVE CHECK VALID for \u001b[0m\u001b[4;36mhttps://www.bbc.com/sport/commonwealth-games\u001b[0m\u001b[36m \u001b[0m\n"
      ]
     },
     "metadata": {},
     "output_type": "display_data"
    },
    {
     "data": {
      "text/html": [
       "<pre style=\"white-space:pre;overflow-x:auto;line-height:normal;font-family:Menlo,'DejaVu Sans Mono',consolas,'Courier New',monospace\"><span style=\"color: #008080; text-decoration-color: #008080; font-weight: bold\">[</span><span style=\"color: #008080; text-decoration-color: #008080\">URL_SEED</span><span style=\"color: #008080; text-decoration-color: #008080; font-weight: bold\">]</span><span style=\"color: #008080; text-decoration-color: #008080\"> ℹ LIVE CHECK VALID for </span><span style=\"color: #008080; text-decoration-color: #008080; text-decoration: underline\">https://www.bbc.com/sport/olympics</span><span style=\"color: #008080; text-decoration-color: #008080\"> </span>\n",
       "</pre>\n"
      ],
      "text/plain": [
       "\u001b[1;36m[\u001b[0m\u001b[36mURL_SEED\u001b[0m\u001b[1;36m]\u001b[0m\u001b[36m ℹ LIVE CHECK VALID for \u001b[0m\u001b[4;36mhttps://www.bbc.com/sport/olympics\u001b[0m\u001b[36m \u001b[0m\n"
      ]
     },
     "metadata": {},
     "output_type": "display_data"
    },
    {
     "data": {
      "text/html": [
       "<pre style=\"white-space:pre;overflow-x:auto;line-height:normal;font-family:Menlo,'DejaVu Sans Mono',consolas,'Courier New',monospace\"><span style=\"color: #808080; text-decoration-color: #808080; font-weight: bold\">[</span><span style=\"color: #808080; text-decoration-color: #808080\">URL_SEED</span><span style=\"color: #808080; text-decoration-color: #808080; font-weight: bold\">]</span><span style=\"color: #808080; text-decoration-color: #808080\"> ℹ Performing live check for </span><span style=\"color: #808080; text-decoration-color: #808080; text-decoration: underline\">https://www.bbc.com/sport/football/teams/manchester-city</span><span style=\"color: #808080; text-decoration-color: #808080\"> </span>\n",
       "</pre>\n"
      ],
      "text/plain": [
       "\u001b[1;90m[\u001b[0m\u001b[90mURL_SEED\u001b[0m\u001b[1;90m]\u001b[0m\u001b[90m ℹ Performing live check for \u001b[0m\u001b[4;90mhttps://www.bbc.com/sport/football/teams/manchester-city\u001b[0m\u001b[90m \u001b[0m\n"
      ]
     },
     "metadata": {},
     "output_type": "display_data"
    },
    {
     "data": {
      "text/html": [
       "<pre style=\"white-space:pre;overflow-x:auto;line-height:normal;font-family:Menlo,'DejaVu Sans Mono',consolas,'Courier New',monospace\"><span style=\"color: #808080; text-decoration-color: #808080; font-weight: bold\">[</span><span style=\"color: #808080; text-decoration-color: #808080\">URL_SEED</span><span style=\"color: #808080; text-decoration-color: #808080; font-weight: bold\">]</span><span style=\"color: #808080; text-decoration-color: #808080\"> ℹ Performing live check for </span><span style=\"color: #808080; text-decoration-color: #808080; text-decoration: underline\">https://www.bbc.com/sport/swimming</span><span style=\"color: #808080; text-decoration-color: #808080\"> </span>\n",
       "</pre>\n"
      ],
      "text/plain": [
       "\u001b[1;90m[\u001b[0m\u001b[90mURL_SEED\u001b[0m\u001b[1;90m]\u001b[0m\u001b[90m ℹ Performing live check for \u001b[0m\u001b[4;90mhttps://www.bbc.com/sport/swimming\u001b[0m\u001b[90m \u001b[0m\n"
      ]
     },
     "metadata": {},
     "output_type": "display_data"
    },
    {
     "data": {
      "text/html": [
       "<pre style=\"white-space:pre;overflow-x:auto;line-height:normal;font-family:Menlo,'DejaVu Sans Mono',consolas,'Courier New',monospace\"><span style=\"color: #008080; text-decoration-color: #008080; font-weight: bold\">[</span><span style=\"color: #008080; text-decoration-color: #008080\">URL_SEED</span><span style=\"color: #008080; text-decoration-color: #008080; font-weight: bold\">]</span><span style=\"color: #008080; text-decoration-color: #008080\"> ℹ LIVE CHECK VALID for </span><span style=\"color: #008080; text-decoration-color: #008080; text-decoration: underline\">https://www.bbc.com/sport/football/world-cup</span><span style=\"color: #008080; text-decoration-color: #008080\"> </span>\n",
       "</pre>\n"
      ],
      "text/plain": [
       "\u001b[1;36m[\u001b[0m\u001b[36mURL_SEED\u001b[0m\u001b[1;36m]\u001b[0m\u001b[36m ℹ LIVE CHECK VALID for \u001b[0m\u001b[4;36mhttps://www.bbc.com/sport/football/world-cup\u001b[0m\u001b[36m \u001b[0m\n"
      ]
     },
     "metadata": {},
     "output_type": "display_data"
    },
    {
     "data": {
      "text/html": [
       "<pre style=\"white-space:pre;overflow-x:auto;line-height:normal;font-family:Menlo,'DejaVu Sans Mono',consolas,'Courier New',monospace\"><span style=\"color: #008080; text-decoration-color: #008080; font-weight: bold\">[</span><span style=\"color: #008080; text-decoration-color: #008080\">URL_SEED</span><span style=\"color: #008080; text-decoration-color: #008080; font-weight: bold\">]</span><span style=\"color: #008080; text-decoration-color: #008080\"> ℹ LIVE CHECK VALID for </span><span style=\"color: #008080; text-decoration-color: #008080; text-decoration: underline\">https://www.bbc.com/sport/mixed-martial-arts</span><span style=\"color: #008080; text-decoration-color: #008080\"> </span>\n",
       "</pre>\n"
      ],
      "text/plain": [
       "\u001b[1;36m[\u001b[0m\u001b[36mURL_SEED\u001b[0m\u001b[1;36m]\u001b[0m\u001b[36m ℹ LIVE CHECK VALID for \u001b[0m\u001b[4;36mhttps://www.bbc.com/sport/mixed-martial-arts\u001b[0m\u001b[36m \u001b[0m\n"
      ]
     },
     "metadata": {},
     "output_type": "display_data"
    },
    {
     "data": {
      "text/html": [
       "<pre style=\"white-space:pre;overflow-x:auto;line-height:normal;font-family:Menlo,'DejaVu Sans Mono',consolas,'Courier New',monospace\"><span style=\"color: #008080; text-decoration-color: #008080; font-weight: bold\">[</span><span style=\"color: #008080; text-decoration-color: #008080\">URL_SEED</span><span style=\"color: #008080; text-decoration-color: #008080; font-weight: bold\">]</span><span style=\"color: #008080; text-decoration-color: #008080\"> ℹ LIVE CHECK VALID for </span><span style=\"color: #008080; text-decoration-color: #008080; text-decoration: underline\">https://www.bbc.com/sport/football/europa-league</span><span style=\"color: #008080; text-decoration-color: #008080\"> </span>\n",
       "</pre>\n"
      ],
      "text/plain": [
       "\u001b[1;36m[\u001b[0m\u001b[36mURL_SEED\u001b[0m\u001b[1;36m]\u001b[0m\u001b[36m ℹ LIVE CHECK VALID for \u001b[0m\u001b[4;36mhttps://www.bbc.com/sport/football/europa-league\u001b[0m\u001b[36m \u001b[0m\n"
      ]
     },
     "metadata": {},
     "output_type": "display_data"
    },
    {
     "data": {
      "text/html": [
       "<pre style=\"white-space:pre;overflow-x:auto;line-height:normal;font-family:Menlo,'DejaVu Sans Mono',consolas,'Courier New',monospace\"><span style=\"color: #808080; text-decoration-color: #808080; font-weight: bold\">[</span><span style=\"color: #808080; text-decoration-color: #808080\">URL_SEED</span><span style=\"color: #808080; text-decoration-color: #808080; font-weight: bold\">]</span><span style=\"color: #808080; text-decoration-color: #808080\"> ℹ Performing live check for </span><span style=\"color: #808080; text-decoration-color: #808080; text-decoration: underline\">https://www.bbc.com/sport/live-guide</span><span style=\"color: #808080; text-decoration-color: #808080\"> </span>\n",
       "</pre>\n"
      ],
      "text/plain": [
       "\u001b[1;90m[\u001b[0m\u001b[90mURL_SEED\u001b[0m\u001b[1;90m]\u001b[0m\u001b[90m ℹ Performing live check for \u001b[0m\u001b[4;90mhttps://www.bbc.com/sport/live-guide\u001b[0m\u001b[90m \u001b[0m\n"
      ]
     },
     "metadata": {},
     "output_type": "display_data"
    },
    {
     "data": {
      "text/html": [
       "<pre style=\"white-space:pre;overflow-x:auto;line-height:normal;font-family:Menlo,'DejaVu Sans Mono',consolas,'Courier New',monospace\"><span style=\"color: #008080; text-decoration-color: #008080; font-weight: bold\">[</span><span style=\"color: #008080; text-decoration-color: #008080\">URL_SEED</span><span style=\"color: #008080; text-decoration-color: #008080; font-weight: bold\">]</span><span style=\"color: #008080; text-decoration-color: #008080\"> ℹ LIVE CHECK VALID for </span><span style=\"color: #008080; text-decoration-color: #008080; text-decoration: underline\">https://www.bbc.com/sport/swimming</span><span style=\"color: #008080; text-decoration-color: #008080\"> </span>\n",
       "</pre>\n"
      ],
      "text/plain": [
       "\u001b[1;36m[\u001b[0m\u001b[36mURL_SEED\u001b[0m\u001b[1;36m]\u001b[0m\u001b[36m ℹ LIVE CHECK VALID for \u001b[0m\u001b[4;36mhttps://www.bbc.com/sport/swimming\u001b[0m\u001b[36m \u001b[0m\n"
      ]
     },
     "metadata": {},
     "output_type": "display_data"
    },
    {
     "data": {
      "text/html": [
       "<pre style=\"white-space:pre;overflow-x:auto;line-height:normal;font-family:Menlo,'DejaVu Sans Mono',consolas,'Courier New',monospace\"><span style=\"color: #008080; text-decoration-color: #008080; font-weight: bold\">[</span><span style=\"color: #008080; text-decoration-color: #008080\">URL_SEED</span><span style=\"color: #008080; text-decoration-color: #008080; font-weight: bold\">]</span><span style=\"color: #008080; text-decoration-color: #008080\"> ℹ LIVE CHECK VALID for </span><span style=\"color: #008080; text-decoration-color: #008080; text-decoration: underline\">https://www.bbc.com/sport/football/teams/manchester-city</span><span style=\"color: #008080; text-decoration-color: #008080\"> </span>\n",
       "</pre>\n"
      ],
      "text/plain": [
       "\u001b[1;36m[\u001b[0m\u001b[36mURL_SEED\u001b[0m\u001b[1;36m]\u001b[0m\u001b[36m ℹ LIVE CHECK VALID for \u001b[0m\u001b[4;36mhttps://www.bbc.com/sport/football/teams/manchester-city\u001b[0m\u001b[36m \u001b[0m\n"
      ]
     },
     "metadata": {},
     "output_type": "display_data"
    },
    {
     "data": {
      "text/html": [
       "<pre style=\"white-space:pre;overflow-x:auto;line-height:normal;font-family:Menlo,'DejaVu Sans Mono',consolas,'Courier New',monospace\"><span style=\"color: #008080; text-decoration-color: #008080; font-weight: bold\">[</span><span style=\"color: #008080; text-decoration-color: #008080\">URL_SEED</span><span style=\"color: #008080; text-decoration-color: #008080; font-weight: bold\">]</span><span style=\"color: #008080; text-decoration-color: #008080\"> ℹ LIVE CHECK VALID for </span><span style=\"color: #008080; text-decoration-color: #008080; text-decoration: underline\">https://www.bbc.com/sport/live-guide</span><span style=\"color: #008080; text-decoration-color: #008080\"> </span>\n",
       "</pre>\n"
      ],
      "text/plain": [
       "\u001b[1;36m[\u001b[0m\u001b[36mURL_SEED\u001b[0m\u001b[1;36m]\u001b[0m\u001b[36m ℹ LIVE CHECK VALID for \u001b[0m\u001b[4;36mhttps://www.bbc.com/sport/live-guide\u001b[0m\u001b[36m \u001b[0m\n"
      ]
     },
     "metadata": {},
     "output_type": "display_data"
    },
    {
     "data": {
      "text/html": [
       "<pre style=\"white-space:pre;overflow-x:auto;line-height:normal;font-family:Menlo,'DejaVu Sans Mono',consolas,'Courier New',monospace\"><span style=\"color: #008080; text-decoration-color: #008080; font-weight: bold\">[</span><span style=\"color: #008080; text-decoration-color: #008080\">URL_SEED</span><span style=\"color: #008080; text-decoration-color: #008080; font-weight: bold\">]</span><span style=\"color: #008080; text-decoration-color: #008080\"> ℹ Finished URL seeding for www.bbc.com/sport. Total URLs: </span><span style=\"color: #008080; text-decoration-color: #008080; font-weight: bold\">43</span><span style=\"color: #008080; text-decoration-color: #008080\"> </span>\n",
       "</pre>\n"
      ],
      "text/plain": [
       "\u001b[1;36m[\u001b[0m\u001b[36mURL_SEED\u001b[0m\u001b[1;36m]\u001b[0m\u001b[36m ℹ Finished URL seeding for www.bbc.com/sport. Total URLs: \u001b[0m\u001b[1;36m43\u001b[0m\u001b[36m \u001b[0m\n"
      ]
     },
     "metadata": {},
     "output_type": "display_data"
    },
    {
     "data": {
      "text/html": [
       "<pre style=\"white-space:pre;overflow-x:auto;line-height:normal;font-family:Menlo,'DejaVu Sans Mono',consolas,'Courier New',monospace\"><span style=\"color: #808000; text-decoration-color: #808000; font-weight: bold\">[</span><span style=\"color: #808000; text-decoration-color: #808000\">URL_SEED</span><span style=\"color: #808000; text-decoration-color: #808000; font-weight: bold\">]</span><span style=\"color: #808000; text-decoration-color: #808000\"> ℹ Query provided but extract_head is </span><span style=\"color: #808000; text-decoration-color: #808000; font-style: italic\">False</span><span style=\"color: #808000; text-decoration-color: #808000\">. Enable extract_head for relevance scoring. </span>\n",
       "</pre>\n"
      ],
      "text/plain": [
       "\u001b[1;33m[\u001b[0m\u001b[33mURL_SEED\u001b[0m\u001b[1;33m]\u001b[0m\u001b[33m ℹ Query provided but extract_head is \u001b[0m\u001b[3;33mFalse\u001b[0m\u001b[33m. Enable extract_head for relevance scoring. \u001b[0m\n"
      ]
     },
     "metadata": {},
     "output_type": "display_data"
    },
    {
     "data": {
      "text/html": [
       "<pre style=\"white-space:pre;overflow-x:auto;line-height:normal;font-family:Menlo,'DejaVu Sans Mono',consolas,'Courier New',monospace\"><span style=\"color: #008000; text-decoration-color: #008000\"> Discovered </span><span style=\"color: #008000; text-decoration-color: #008000; font-weight: bold\">43</span><span style=\"color: #008000; text-decoration-color: #008000\"> URLs, selected top </span><span style=\"color: #008000; text-decoration-color: #008000; font-weight: bold\">10</span>\n",
       "</pre>\n"
      ],
      "text/plain": [
       "\u001b[32m Discovered \u001b[0m\u001b[1;32m43\u001b[0m\u001b[32m URLs, selected top \u001b[0m\u001b[1;32m10\u001b[0m\n"
      ]
     },
     "metadata": {},
     "output_type": "display_data"
    },
    {
     "data": {
      "text/html": [
       "<pre style=\"white-space:pre;overflow-x:auto;line-height:normal;font-family:Menlo,'DejaVu Sans Mono',consolas,'Courier New',monospace\"><span style=\"font-style: italic\">                    Top Discovered URLs                     </span>\n",
       "┏━━━━━━━┳━━━━━━━┳━━━━━━━━━━━━━━━━━━━━━━━━━━━━━━━━━━━━━━━━━━┓\n",
       "┃<span style=\"font-weight: bold\"> Score </span>┃<span style=\"font-weight: bold\"> Title </span>┃<span style=\"font-weight: bold\"> URL                                      </span>┃\n",
       "┡━━━━━━━╇━━━━━━━╇━━━━━━━━━━━━━━━━━━━━━━━━━━━━━━━━━━━━━━━━━━┩\n",
       "│<span style=\"color: #008080; text-decoration-color: #008080\"> 0.000 </span>│<span style=\"color: #008000; text-decoration-color: #008000\"> N/A   </span>│<span style=\"color: #7f7f7f; text-decoration-color: #7f7f7f\"> https://www.bbc.com/sport...             </span>│\n",
       "│<span style=\"color: #008080; text-decoration-color: #008080\"> 0.000 </span>│<span style=\"color: #008000; text-decoration-color: #008000\"> N/A   </span>│<span style=\"color: #7f7f7f; text-decoration-color: #7f7f7f\"> https://www.bbc.com/sport/football...    </span>│\n",
       "│<span style=\"color: #008080; text-decoration-color: #008080\"> 0.000 </span>│<span style=\"color: #008000; text-decoration-color: #008000\"> N/A   </span>│<span style=\"color: #7f7f7f; text-decoration-color: #7f7f7f\"> https://www.bbc.com/sport/formula1...    </span>│\n",
       "│<span style=\"color: #008080; text-decoration-color: #008080\"> 0.000 </span>│<span style=\"color: #008000; text-decoration-color: #008000\"> N/A   </span>│<span style=\"color: #7f7f7f; text-decoration-color: #7f7f7f\"> https://www.bbc.com/sport/cricket...     </span>│\n",
       "│<span style=\"color: #008080; text-decoration-color: #008080\"> 0.000 </span>│<span style=\"color: #008000; text-decoration-color: #008000\"> N/A   </span>│<span style=\"color: #7f7f7f; text-decoration-color: #7f7f7f\"> https://www.bbc.com/sport/rugby-union... </span>│\n",
       "└───────┴───────┴──────────────────────────────────────────┘\n",
       "</pre>\n"
      ],
      "text/plain": [
       "\u001b[3m                    Top Discovered URLs                     \u001b[0m\n",
       "┏━━━━━━━┳━━━━━━━┳━━━━━━━━━━━━━━━━━━━━━━━━━━━━━━━━━━━━━━━━━━┓\n",
       "┃\u001b[1m \u001b[0m\u001b[1mScore\u001b[0m\u001b[1m \u001b[0m┃\u001b[1m \u001b[0m\u001b[1mTitle\u001b[0m\u001b[1m \u001b[0m┃\u001b[1m \u001b[0m\u001b[1mURL                                     \u001b[0m\u001b[1m \u001b[0m┃\n",
       "┡━━━━━━━╇━━━━━━━╇━━━━━━━━━━━━━━━━━━━━━━━━━━━━━━━━━━━━━━━━━━┩\n",
       "│\u001b[36m \u001b[0m\u001b[36m0.000\u001b[0m\u001b[36m \u001b[0m│\u001b[32m \u001b[0m\u001b[32mN/A  \u001b[0m\u001b[32m \u001b[0m│\u001b[2m \u001b[0m\u001b[2mhttps://www.bbc.com/sport...            \u001b[0m\u001b[2m \u001b[0m│\n",
       "│\u001b[36m \u001b[0m\u001b[36m0.000\u001b[0m\u001b[36m \u001b[0m│\u001b[32m \u001b[0m\u001b[32mN/A  \u001b[0m\u001b[32m \u001b[0m│\u001b[2m \u001b[0m\u001b[2mhttps://www.bbc.com/sport/football...   \u001b[0m\u001b[2m \u001b[0m│\n",
       "│\u001b[36m \u001b[0m\u001b[36m0.000\u001b[0m\u001b[36m \u001b[0m│\u001b[32m \u001b[0m\u001b[32mN/A  \u001b[0m\u001b[32m \u001b[0m│\u001b[2m \u001b[0m\u001b[2mhttps://www.bbc.com/sport/formula1...   \u001b[0m\u001b[2m \u001b[0m│\n",
       "│\u001b[36m \u001b[0m\u001b[36m0.000\u001b[0m\u001b[36m \u001b[0m│\u001b[32m \u001b[0m\u001b[32mN/A  \u001b[0m\u001b[32m \u001b[0m│\u001b[2m \u001b[0m\u001b[2mhttps://www.bbc.com/sport/cricket...    \u001b[0m\u001b[2m \u001b[0m│\n",
       "│\u001b[36m \u001b[0m\u001b[36m0.000\u001b[0m\u001b[36m \u001b[0m│\u001b[32m \u001b[0m\u001b[32mN/A  \u001b[0m\u001b[32m \u001b[0m│\u001b[2m \u001b[0m\u001b[2mhttps://www.bbc.com/sport/rugby-union...\u001b[0m\u001b[2m \u001b[0m│\n",
       "└───────┴───────┴──────────────────────────────────────────┘\n"
      ]
     },
     "metadata": {},
     "output_type": "display_data"
    },
    {
     "data": {
      "text/html": [
       "<pre style=\"white-space:pre;overflow-x:auto;line-height:normal;font-family:Menlo,'DejaVu Sans Mono',consolas,'Courier New',monospace\"><span style=\"color: #808080; text-decoration-color: #808080; font-weight: bold\">[</span><span style=\"color: #808080; text-decoration-color: #808080\">URL_SEED</span><span style=\"color: #808080; text-decoration-color: #808080; font-weight: bold\">]</span><span style=\"color: #808080; text-decoration-color: #808080\"> ℹ Closed HTTP client </span>\n",
       "</pre>\n"
      ],
      "text/plain": [
       "\u001b[1;90m[\u001b[0m\u001b[90mURL_SEED\u001b[0m\u001b[1;90m]\u001b[0m\u001b[90m ℹ Closed HTTP client \u001b[0m\n"
      ]
     },
     "metadata": {},
     "output_type": "display_data"
    },
    {
     "data": {
      "text/html": [
       "<pre style=\"white-space:pre;overflow-x:auto;line-height:normal;font-family:Menlo,'DejaVu Sans Mono',consolas,'Courier New',monospace\">\n",
       "<span style=\"color: #008080; text-decoration-color: #008080; font-weight: bold\"> Step </span><span style=\"color: #008080; text-decoration-color: #008080; font-weight: bold\">3</span><span style=\"color: #008080; text-decoration-color: #008080; font-weight: bold\">: Content Crawling </span>\n",
       "</pre>\n"
      ],
      "text/plain": [
       "\n",
       "\u001b[1;36m Step \u001b[0m\u001b[1;36m3\u001b[0m\u001b[1;36m: Content Crawling \u001b[0m\n"
      ]
     },
     "metadata": {},
     "output_type": "display_data"
    },
    {
     "data": {
      "text/html": [
       "<pre style=\"white-space:pre;overflow-x:auto;line-height:normal;font-family:Menlo,'DejaVu Sans Mono',consolas,'Courier New',monospace\">\n",
       " <span style=\"color: #008080; text-decoration-color: #008080\"> Crawling </span><span style=\"color: #008080; text-decoration-color: #008080; font-weight: bold\">10</span><span style=\"color: #008080; text-decoration-color: #008080\"> URLs...</span>\n",
       "</pre>\n"
      ],
      "text/plain": [
       "\n",
       " \u001b[36m Crawling \u001b[0m\u001b[1;36m10\u001b[0m\u001b[36m URLs\u001b[0m\u001b[36m...\u001b[0m\n"
      ]
     },
     "metadata": {},
     "output_type": "display_data"
    },
    {
     "name": "stderr",
     "output_type": "stream",
     "text": [
      "python(76935) MallocStackLogging: can't turn off malloc stack logging because it was not enabled.\n"
     ]
    },
    {
     "data": {
      "text/html": [
       "<pre style=\"white-space:pre;overflow-x:auto;line-height:normal;font-family:Menlo,'DejaVu Sans Mono',consolas,'Courier New',monospace\"><span style=\"color: #008080; text-decoration-color: #008080; font-weight: bold\">[</span><span style=\"color: #008080; text-decoration-color: #008080\">INIT</span><span style=\"color: #008080; text-decoration-color: #008080; font-weight: bold\">]</span><span style=\"color: #008080; text-decoration-color: #008080\">.... → Crawl4AI </span><span style=\"color: #008080; text-decoration-color: #008080; font-weight: bold\">0.7</span><span style=\"color: #008080; text-decoration-color: #008080\">.</span><span style=\"color: #008080; text-decoration-color: #008080; font-weight: bold\">4</span><span style=\"color: #008080; text-decoration-color: #008080\"> </span>\n",
       "</pre>\n"
      ],
      "text/plain": [
       "\u001b[1;36m[\u001b[0m\u001b[36mINIT\u001b[0m\u001b[1;36m]\u001b[0m\u001b[36m...\u001b[0m\u001b[36m. → Crawl4AI \u001b[0m\u001b[1;36m0.7\u001b[0m\u001b[36m.\u001b[0m\u001b[1;36m4\u001b[0m\u001b[36m \u001b[0m\n"
      ]
     },
     "metadata": {},
     "output_type": "display_data"
    },
    {
     "name": "stderr",
     "output_type": "stream",
     "text": [
      "python(76950) MallocStackLogging: can't turn off malloc stack logging because it was not enabled.\n",
      "python(76953) MallocStackLogging: can't turn off malloc stack logging because it was not enabled.\n",
      "python(76954) MallocStackLogging: can't turn off malloc stack logging because it was not enabled.\n",
      "python(76964) MallocStackLogging: can't turn off malloc stack logging because it was not enabled.\n",
      "python(76965) MallocStackLogging: can't turn off malloc stack logging because it was not enabled.\n",
      "python(76966) MallocStackLogging: can't turn off malloc stack logging because it was not enabled.\n",
      "python(76969) MallocStackLogging: can't turn off malloc stack logging because it was not enabled.\n",
      "python(76970) MallocStackLogging: can't turn off malloc stack logging because it was not enabled.\n",
      "python(76972) MallocStackLogging: can't turn off malloc stack logging because it was not enabled.\n"
     ]
    },
    {
     "data": {
      "text/html": [
       "<pre style=\"white-space:pre;overflow-x:auto;line-height:normal;font-family:Menlo,'DejaVu Sans Mono',consolas,'Courier New',monospace\"><span style=\"color: #008000; text-decoration-color: #008000; font-weight: bold\">[</span><span style=\"color: #008000; text-decoration-color: #008000\">FETCH</span><span style=\"color: #008000; text-decoration-color: #008000; font-weight: bold\">]</span><span style=\"color: #008000; text-decoration-color: #008000\">... ↓ </span><span style=\"color: #008000; text-decoration-color: #008000; text-decoration: underline\">https://www.bbc.com/sport</span><span style=\"color: #008000; text-decoration-color: #008000\">                                                                            |</span>\n",
       "<span style=\"color: #008000; text-decoration-color: #008000\">✓ | ⏱: </span><span style=\"color: #008000; text-decoration-color: #008000; font-weight: bold\">14.</span><span style=\"color: #008000; text-decoration-color: #008000\">23s </span>\n",
       "</pre>\n"
      ],
      "text/plain": [
       "\u001b[1;32m[\u001b[0m\u001b[32mFETCH\u001b[0m\u001b[1;32m]\u001b[0m\u001b[32m...\u001b[0m\u001b[32m ↓ \u001b[0m\u001b[4;32mhttps://www.bbc.com/sport\u001b[0m\u001b[32m                                                                            |\u001b[0m\n",
       "\u001b[32m✓\u001b[0m\u001b[32m | ⏱: \u001b[0m\u001b[1;32m14.\u001b[0m\u001b[32m23s \u001b[0m\n"
      ]
     },
     "metadata": {},
     "output_type": "display_data"
    },
    {
     "data": {
      "text/html": [
       "<pre style=\"white-space:pre;overflow-x:auto;line-height:normal;font-family:Menlo,'DejaVu Sans Mono',consolas,'Courier New',monospace\"><span style=\"color: #008000; text-decoration-color: #008000; font-weight: bold\">[</span><span style=\"color: #008000; text-decoration-color: #008000\">SCRAPE</span><span style=\"color: #008000; text-decoration-color: #008000; font-weight: bold\">]</span><span style=\"color: #008000; text-decoration-color: #008000\">.. ◆ </span><span style=\"color: #008000; text-decoration-color: #008000; text-decoration: underline\">https://www.bbc.com/sport</span><span style=\"color: #008000; text-decoration-color: #008000\">                                                                            |</span>\n",
       "<span style=\"color: #008000; text-decoration-color: #008000\">✓ | ⏱: </span><span style=\"color: #008000; text-decoration-color: #008000; font-weight: bold\">0.</span><span style=\"color: #008000; text-decoration-color: #008000\">58s </span>\n",
       "</pre>\n"
      ],
      "text/plain": [
       "\u001b[1;32m[\u001b[0m\u001b[32mSCRAPE\u001b[0m\u001b[1;32m]\u001b[0m\u001b[32m.. ◆ \u001b[0m\u001b[4;32mhttps://www.bbc.com/sport\u001b[0m\u001b[32m                                                                            |\u001b[0m\n",
       "\u001b[32m✓\u001b[0m\u001b[32m | ⏱: \u001b[0m\u001b[1;32m0.\u001b[0m\u001b[32m58s \u001b[0m\n"
      ]
     },
     "metadata": {},
     "output_type": "display_data"
    },
    {
     "data": {
      "text/html": [
       "<pre style=\"white-space:pre;overflow-x:auto;line-height:normal;font-family:Menlo,'DejaVu Sans Mono',consolas,'Courier New',monospace\"><span style=\"color: #008000; text-decoration-color: #008000; font-weight: bold\">[</span><span style=\"color: #008000; text-decoration-color: #008000\">COMPLETE</span><span style=\"color: #008000; text-decoration-color: #008000; font-weight: bold\">]</span><span style=\"color: #008000; text-decoration-color: #008000\"> ● </span><span style=\"color: #008000; text-decoration-color: #008000; text-decoration: underline\">https://www.bbc.com/sport</span><span style=\"color: #008000; text-decoration-color: #008000\">                                                                            |</span>\n",
       "<span style=\"color: #008000; text-decoration-color: #008000\">✓ | ⏱: </span><span style=\"color: #008000; text-decoration-color: #008000; font-weight: bold\">14.</span><span style=\"color: #008000; text-decoration-color: #008000\">82s </span>\n",
       "</pre>\n"
      ],
      "text/plain": [
       "\u001b[1;32m[\u001b[0m\u001b[32mCOMPLETE\u001b[0m\u001b[1;32m]\u001b[0m\u001b[32m ● \u001b[0m\u001b[4;32mhttps://www.bbc.com/sport\u001b[0m\u001b[32m                                                                            |\u001b[0m\n",
       "\u001b[32m✓\u001b[0m\u001b[32m | ⏱: \u001b[0m\u001b[1;32m14.\u001b[0m\u001b[32m82s \u001b[0m\n"
      ]
     },
     "metadata": {},
     "output_type": "display_data"
    },
    {
     "data": {
      "text/html": [
       "<pre style=\"white-space:pre;overflow-x:auto;line-height:normal;font-family:Menlo,'DejaVu Sans Mono',consolas,'Courier New',monospace\"><span style=\"color: #008000; text-decoration-color: #008000; font-weight: bold\">[</span><span style=\"color: #008000; text-decoration-color: #008000\">FETCH</span><span style=\"color: #008000; text-decoration-color: #008000; font-weight: bold\">]</span><span style=\"color: #008000; text-decoration-color: #008000\">... ↓ </span><span style=\"color: #008000; text-decoration-color: #008000; text-decoration: underline\">https://www.bbc.com/sport/golf</span><span style=\"color: #008000; text-decoration-color: #008000\">                                                                       |</span>\n",
       "<span style=\"color: #008000; text-decoration-color: #008000\">✓ | ⏱: </span><span style=\"color: #008000; text-decoration-color: #008000; font-weight: bold\">12.</span><span style=\"color: #008000; text-decoration-color: #008000\">76s </span>\n",
       "</pre>\n"
      ],
      "text/plain": [
       "\u001b[1;32m[\u001b[0m\u001b[32mFETCH\u001b[0m\u001b[1;32m]\u001b[0m\u001b[32m...\u001b[0m\u001b[32m ↓ \u001b[0m\u001b[4;32mhttps://www.bbc.com/sport/golf\u001b[0m\u001b[32m                                                                       |\u001b[0m\n",
       "\u001b[32m✓\u001b[0m\u001b[32m | ⏱: \u001b[0m\u001b[1;32m12.\u001b[0m\u001b[32m76s \u001b[0m\n"
      ]
     },
     "metadata": {},
     "output_type": "display_data"
    },
    {
     "data": {
      "text/html": [
       "<pre style=\"white-space:pre;overflow-x:auto;line-height:normal;font-family:Menlo,'DejaVu Sans Mono',consolas,'Courier New',monospace\"><span style=\"color: #008000; text-decoration-color: #008000; font-weight: bold\">[</span><span style=\"color: #008000; text-decoration-color: #008000\">SCRAPE</span><span style=\"color: #008000; text-decoration-color: #008000; font-weight: bold\">]</span><span style=\"color: #008000; text-decoration-color: #008000\">.. ◆ </span><span style=\"color: #008000; text-decoration-color: #008000; text-decoration: underline\">https://www.bbc.com/sport/golf</span><span style=\"color: #008000; text-decoration-color: #008000\">                                                                       |</span>\n",
       "<span style=\"color: #008000; text-decoration-color: #008000\">✓ | ⏱: </span><span style=\"color: #008000; text-decoration-color: #008000; font-weight: bold\">0.</span><span style=\"color: #008000; text-decoration-color: #008000\">26s </span>\n",
       "</pre>\n"
      ],
      "text/plain": [
       "\u001b[1;32m[\u001b[0m\u001b[32mSCRAPE\u001b[0m\u001b[1;32m]\u001b[0m\u001b[32m.. ◆ \u001b[0m\u001b[4;32mhttps://www.bbc.com/sport/golf\u001b[0m\u001b[32m                                                                       |\u001b[0m\n",
       "\u001b[32m✓\u001b[0m\u001b[32m | ⏱: \u001b[0m\u001b[1;32m0.\u001b[0m\u001b[32m26s \u001b[0m\n"
      ]
     },
     "metadata": {},
     "output_type": "display_data"
    },
    {
     "data": {
      "text/html": [
       "<pre style=\"white-space:pre;overflow-x:auto;line-height:normal;font-family:Menlo,'DejaVu Sans Mono',consolas,'Courier New',monospace\"><span style=\"color: #008000; text-decoration-color: #008000; font-weight: bold\">[</span><span style=\"color: #008000; text-decoration-color: #008000\">COMPLETE</span><span style=\"color: #008000; text-decoration-color: #008000; font-weight: bold\">]</span><span style=\"color: #008000; text-decoration-color: #008000\"> ● </span><span style=\"color: #008000; text-decoration-color: #008000; text-decoration: underline\">https://www.bbc.com/sport/golf</span><span style=\"color: #008000; text-decoration-color: #008000\">                                                                       |</span>\n",
       "<span style=\"color: #008000; text-decoration-color: #008000\">✓ | ⏱: </span><span style=\"color: #008000; text-decoration-color: #008000; font-weight: bold\">13.</span><span style=\"color: #008000; text-decoration-color: #008000\">02s </span>\n",
       "</pre>\n"
      ],
      "text/plain": [
       "\u001b[1;32m[\u001b[0m\u001b[32mCOMPLETE\u001b[0m\u001b[1;32m]\u001b[0m\u001b[32m ● \u001b[0m\u001b[4;32mhttps://www.bbc.com/sport/golf\u001b[0m\u001b[32m                                                                       |\u001b[0m\n",
       "\u001b[32m✓\u001b[0m\u001b[32m | ⏱: \u001b[0m\u001b[1;32m13.\u001b[0m\u001b[32m02s \u001b[0m\n"
      ]
     },
     "metadata": {},
     "output_type": "display_data"
    },
    {
     "name": "stderr",
     "output_type": "stream",
     "text": [
      "python(76973) MallocStackLogging: can't turn off malloc stack logging because it was not enabled.\n"
     ]
    },
    {
     "data": {
      "text/html": [
       "<pre style=\"white-space:pre;overflow-x:auto;line-height:normal;font-family:Menlo,'DejaVu Sans Mono',consolas,'Courier New',monospace\"><span style=\"color: #008000; text-decoration-color: #008000; font-weight: bold\">[</span><span style=\"color: #008000; text-decoration-color: #008000\">FETCH</span><span style=\"color: #008000; text-decoration-color: #008000; font-weight: bold\">]</span><span style=\"color: #008000; text-decoration-color: #008000\">... ↓ </span><span style=\"color: #008000; text-decoration-color: #008000; text-decoration: underline\">https://www.bbc.com/sport/formula1</span><span style=\"color: #008000; text-decoration-color: #008000\">                                                                   |</span>\n",
       "<span style=\"color: #008000; text-decoration-color: #008000\">✓ | ⏱: </span><span style=\"color: #008000; text-decoration-color: #008000; font-weight: bold\">13.</span><span style=\"color: #008000; text-decoration-color: #008000\">53s </span>\n",
       "</pre>\n"
      ],
      "text/plain": [
       "\u001b[1;32m[\u001b[0m\u001b[32mFETCH\u001b[0m\u001b[1;32m]\u001b[0m\u001b[32m...\u001b[0m\u001b[32m ↓ \u001b[0m\u001b[4;32mhttps://www.bbc.com/sport/formula1\u001b[0m\u001b[32m                                                                   |\u001b[0m\n",
       "\u001b[32m✓\u001b[0m\u001b[32m | ⏱: \u001b[0m\u001b[1;32m13.\u001b[0m\u001b[32m53s \u001b[0m\n"
      ]
     },
     "metadata": {},
     "output_type": "display_data"
    },
    {
     "data": {
      "text/html": [
       "<pre style=\"white-space:pre;overflow-x:auto;line-height:normal;font-family:Menlo,'DejaVu Sans Mono',consolas,'Courier New',monospace\"><span style=\"color: #008000; text-decoration-color: #008000; font-weight: bold\">[</span><span style=\"color: #008000; text-decoration-color: #008000\">SCRAPE</span><span style=\"color: #008000; text-decoration-color: #008000; font-weight: bold\">]</span><span style=\"color: #008000; text-decoration-color: #008000\">.. ◆ </span><span style=\"color: #008000; text-decoration-color: #008000; text-decoration: underline\">https://www.bbc.com/sport/formula1</span><span style=\"color: #008000; text-decoration-color: #008000\">                                                                   |</span>\n",
       "<span style=\"color: #008000; text-decoration-color: #008000\">✓ | ⏱: </span><span style=\"color: #008000; text-decoration-color: #008000; font-weight: bold\">0.</span><span style=\"color: #008000; text-decoration-color: #008000\">56s </span>\n",
       "</pre>\n"
      ],
      "text/plain": [
       "\u001b[1;32m[\u001b[0m\u001b[32mSCRAPE\u001b[0m\u001b[1;32m]\u001b[0m\u001b[32m.. ◆ \u001b[0m\u001b[4;32mhttps://www.bbc.com/sport/formula1\u001b[0m\u001b[32m                                                                   |\u001b[0m\n",
       "\u001b[32m✓\u001b[0m\u001b[32m | ⏱: \u001b[0m\u001b[1;32m0.\u001b[0m\u001b[32m56s \u001b[0m\n"
      ]
     },
     "metadata": {},
     "output_type": "display_data"
    },
    {
     "data": {
      "text/html": [
       "<pre style=\"white-space:pre;overflow-x:auto;line-height:normal;font-family:Menlo,'DejaVu Sans Mono',consolas,'Courier New',monospace\"><span style=\"color: #008000; text-decoration-color: #008000; font-weight: bold\">[</span><span style=\"color: #008000; text-decoration-color: #008000\">COMPLETE</span><span style=\"color: #008000; text-decoration-color: #008000; font-weight: bold\">]</span><span style=\"color: #008000; text-decoration-color: #008000\"> ● </span><span style=\"color: #008000; text-decoration-color: #008000; text-decoration: underline\">https://www.bbc.com/sport/formula1</span><span style=\"color: #008000; text-decoration-color: #008000\">                                                                   |</span>\n",
       "<span style=\"color: #008000; text-decoration-color: #008000\">✓ | ⏱: </span><span style=\"color: #008000; text-decoration-color: #008000; font-weight: bold\">14.</span><span style=\"color: #008000; text-decoration-color: #008000\">25s </span>\n",
       "</pre>\n"
      ],
      "text/plain": [
       "\u001b[1;32m[\u001b[0m\u001b[32mCOMPLETE\u001b[0m\u001b[1;32m]\u001b[0m\u001b[32m ● \u001b[0m\u001b[4;32mhttps://www.bbc.com/sport/formula1\u001b[0m\u001b[32m                                                                   |\u001b[0m\n",
       "\u001b[32m✓\u001b[0m\u001b[32m | ⏱: \u001b[0m\u001b[1;32m14.\u001b[0m\u001b[32m25s \u001b[0m\n"
      ]
     },
     "metadata": {},
     "output_type": "display_data"
    },
    {
     "name": "stderr",
     "output_type": "stream",
     "text": [
      "python(76974) MallocStackLogging: can't turn off malloc stack logging because it was not enabled.\n"
     ]
    },
    {
     "data": {
      "text/html": [
       "<pre style=\"white-space:pre;overflow-x:auto;line-height:normal;font-family:Menlo,'DejaVu Sans Mono',consolas,'Courier New',monospace\"><span style=\"color: #008000; text-decoration-color: #008000; font-weight: bold\">[</span><span style=\"color: #008000; text-decoration-color: #008000\">FETCH</span><span style=\"color: #008000; text-decoration-color: #008000; font-weight: bold\">]</span><span style=\"color: #008000; text-decoration-color: #008000\">... ↓ </span><span style=\"color: #008000; text-decoration-color: #008000; text-decoration: underline\">https://www.bbc.com/sport/rugby-union</span><span style=\"color: #008000; text-decoration-color: #008000\">                                                                |</span>\n",
       "<span style=\"color: #008000; text-decoration-color: #008000\">✓ | ⏱: </span><span style=\"color: #008000; text-decoration-color: #008000; font-weight: bold\">14.</span><span style=\"color: #008000; text-decoration-color: #008000\">30s </span>\n",
       "</pre>\n"
      ],
      "text/plain": [
       "\u001b[1;32m[\u001b[0m\u001b[32mFETCH\u001b[0m\u001b[1;32m]\u001b[0m\u001b[32m...\u001b[0m\u001b[32m ↓ \u001b[0m\u001b[4;32mhttps://www.bbc.com/sport/rugby-union\u001b[0m\u001b[32m                                                                |\u001b[0m\n",
       "\u001b[32m✓\u001b[0m\u001b[32m | ⏱: \u001b[0m\u001b[1;32m14.\u001b[0m\u001b[32m30s \u001b[0m\n"
      ]
     },
     "metadata": {},
     "output_type": "display_data"
    },
    {
     "data": {
      "text/html": [
       "<pre style=\"white-space:pre;overflow-x:auto;line-height:normal;font-family:Menlo,'DejaVu Sans Mono',consolas,'Courier New',monospace\"><span style=\"color: #008000; text-decoration-color: #008000; font-weight: bold\">[</span><span style=\"color: #008000; text-decoration-color: #008000\">SCRAPE</span><span style=\"color: #008000; text-decoration-color: #008000; font-weight: bold\">]</span><span style=\"color: #008000; text-decoration-color: #008000\">.. ◆ </span><span style=\"color: #008000; text-decoration-color: #008000; text-decoration: underline\">https://www.bbc.com/sport/rugby-union</span><span style=\"color: #008000; text-decoration-color: #008000\">                                                                |</span>\n",
       "<span style=\"color: #008000; text-decoration-color: #008000\">✓ | ⏱: </span><span style=\"color: #808000; text-decoration-color: #808000; font-weight: bold\">0.</span><span style=\"color: #808000; text-decoration-color: #808000\">38</span><span style=\"color: #008000; text-decoration-color: #008000\">s </span>\n",
       "</pre>\n"
      ],
      "text/plain": [
       "\u001b[1;32m[\u001b[0m\u001b[32mSCRAPE\u001b[0m\u001b[1;32m]\u001b[0m\u001b[32m.. ◆ \u001b[0m\u001b[4;32mhttps://www.bbc.com/sport/rugby-union\u001b[0m\u001b[32m                                                                |\u001b[0m\n",
       "\u001b[32m✓\u001b[0m\u001b[32m | ⏱: \u001b[0m\u001b[1;33m0.\u001b[0m\u001b[33m38\u001b[0m\u001b[32ms \u001b[0m\n"
      ]
     },
     "metadata": {},
     "output_type": "display_data"
    },
    {
     "data": {
      "text/html": [
       "<pre style=\"white-space:pre;overflow-x:auto;line-height:normal;font-family:Menlo,'DejaVu Sans Mono',consolas,'Courier New',monospace\"><span style=\"color: #008000; text-decoration-color: #008000; font-weight: bold\">[</span><span style=\"color: #008000; text-decoration-color: #008000\">COMPLETE</span><span style=\"color: #008000; text-decoration-color: #008000; font-weight: bold\">]</span><span style=\"color: #008000; text-decoration-color: #008000\"> ● </span><span style=\"color: #008000; text-decoration-color: #008000; text-decoration: underline\">https://www.bbc.com/sport/rugby-union</span><span style=\"color: #008000; text-decoration-color: #008000\">                                                                |</span>\n",
       "<span style=\"color: #008000; text-decoration-color: #008000\">✓ | ⏱: </span><span style=\"color: #008000; text-decoration-color: #008000; font-weight: bold\">14.</span><span style=\"color: #008000; text-decoration-color: #008000\">69s </span>\n",
       "</pre>\n"
      ],
      "text/plain": [
       "\u001b[1;32m[\u001b[0m\u001b[32mCOMPLETE\u001b[0m\u001b[1;32m]\u001b[0m\u001b[32m ● \u001b[0m\u001b[4;32mhttps://www.bbc.com/sport/rugby-union\u001b[0m\u001b[32m                                                                |\u001b[0m\n",
       "\u001b[32m✓\u001b[0m\u001b[32m | ⏱: \u001b[0m\u001b[1;32m14.\u001b[0m\u001b[32m69s \u001b[0m\n"
      ]
     },
     "metadata": {},
     "output_type": "display_data"
    },
    {
     "data": {
      "text/html": [
       "<pre style=\"white-space:pre;overflow-x:auto;line-height:normal;font-family:Menlo,'DejaVu Sans Mono',consolas,'Courier New',monospace\"><span style=\"color: #008000; text-decoration-color: #008000; font-weight: bold\">[</span><span style=\"color: #008000; text-decoration-color: #008000\">FETCH</span><span style=\"color: #008000; text-decoration-color: #008000; font-weight: bold\">]</span><span style=\"color: #008000; text-decoration-color: #008000\">... ↓ </span><span style=\"color: #008000; text-decoration-color: #008000; text-decoration: underline\">https://www.bbc.com/sport/tennis</span><span style=\"color: #008000; text-decoration-color: #008000\">                                                                     |</span>\n",
       "<span style=\"color: #008000; text-decoration-color: #008000\">✓ | ⏱: </span><span style=\"color: #008000; text-decoration-color: #008000; font-weight: bold\">14.</span><span style=\"color: #008000; text-decoration-color: #008000\">71s </span>\n",
       "</pre>\n"
      ],
      "text/plain": [
       "\u001b[1;32m[\u001b[0m\u001b[32mFETCH\u001b[0m\u001b[1;32m]\u001b[0m\u001b[32m...\u001b[0m\u001b[32m ↓ \u001b[0m\u001b[4;32mhttps://www.bbc.com/sport/tennis\u001b[0m\u001b[32m                                                                     |\u001b[0m\n",
       "\u001b[32m✓\u001b[0m\u001b[32m | ⏱: \u001b[0m\u001b[1;32m14.\u001b[0m\u001b[32m71s \u001b[0m\n"
      ]
     },
     "metadata": {},
     "output_type": "display_data"
    },
    {
     "data": {
      "text/html": [
       "<pre style=\"white-space:pre;overflow-x:auto;line-height:normal;font-family:Menlo,'DejaVu Sans Mono',consolas,'Courier New',monospace\"><span style=\"color: #008000; text-decoration-color: #008000; font-weight: bold\">[</span><span style=\"color: #008000; text-decoration-color: #008000\">SCRAPE</span><span style=\"color: #008000; text-decoration-color: #008000; font-weight: bold\">]</span><span style=\"color: #008000; text-decoration-color: #008000\">.. ◆ </span><span style=\"color: #008000; text-decoration-color: #008000; text-decoration: underline\">https://www.bbc.com/sport/tennis</span><span style=\"color: #008000; text-decoration-color: #008000\">                                                                     |</span>\n",
       "<span style=\"color: #008000; text-decoration-color: #008000\">✓ | ⏱: </span><span style=\"color: #008000; text-decoration-color: #008000; font-weight: bold\">0.</span><span style=\"color: #008000; text-decoration-color: #008000\">31s </span>\n",
       "</pre>\n"
      ],
      "text/plain": [
       "\u001b[1;32m[\u001b[0m\u001b[32mSCRAPE\u001b[0m\u001b[1;32m]\u001b[0m\u001b[32m.. ◆ \u001b[0m\u001b[4;32mhttps://www.bbc.com/sport/tennis\u001b[0m\u001b[32m                                                                     |\u001b[0m\n",
       "\u001b[32m✓\u001b[0m\u001b[32m | ⏱: \u001b[0m\u001b[1;32m0.\u001b[0m\u001b[32m31s \u001b[0m\n"
      ]
     },
     "metadata": {},
     "output_type": "display_data"
    },
    {
     "data": {
      "text/html": [
       "<pre style=\"white-space:pre;overflow-x:auto;line-height:normal;font-family:Menlo,'DejaVu Sans Mono',consolas,'Courier New',monospace\"><span style=\"color: #008000; text-decoration-color: #008000; font-weight: bold\">[</span><span style=\"color: #008000; text-decoration-color: #008000\">COMPLETE</span><span style=\"color: #008000; text-decoration-color: #008000; font-weight: bold\">]</span><span style=\"color: #008000; text-decoration-color: #008000\"> ● </span><span style=\"color: #008000; text-decoration-color: #008000; text-decoration: underline\">https://www.bbc.com/sport/tennis</span><span style=\"color: #008000; text-decoration-color: #008000\">                                                                     |</span>\n",
       "<span style=\"color: #008000; text-decoration-color: #008000\">✓ | ⏱: </span><span style=\"color: #008000; text-decoration-color: #008000; font-weight: bold\">15.</span><span style=\"color: #008000; text-decoration-color: #008000\">02s </span>\n",
       "</pre>\n"
      ],
      "text/plain": [
       "\u001b[1;32m[\u001b[0m\u001b[32mCOMPLETE\u001b[0m\u001b[1;32m]\u001b[0m\u001b[32m ● \u001b[0m\u001b[4;32mhttps://www.bbc.com/sport/tennis\u001b[0m\u001b[32m                                                                     |\u001b[0m\n",
       "\u001b[32m✓\u001b[0m\u001b[32m | ⏱: \u001b[0m\u001b[1;32m15.\u001b[0m\u001b[32m02s \u001b[0m\n"
      ]
     },
     "metadata": {},
     "output_type": "display_data"
    },
    {
     "data": {
      "text/html": [
       "<pre style=\"white-space:pre;overflow-x:auto;line-height:normal;font-family:Menlo,'DejaVu Sans Mono',consolas,'Courier New',monospace\"><span style=\"color: #008000; text-decoration-color: #008000; font-weight: bold\">[</span><span style=\"color: #008000; text-decoration-color: #008000\">FETCH</span><span style=\"color: #008000; text-decoration-color: #008000; font-weight: bold\">]</span><span style=\"color: #008000; text-decoration-color: #008000\">... ↓ </span><span style=\"color: #008000; text-decoration-color: #008000; text-decoration: underline\">https://www.bbc.com/sport/cricket</span><span style=\"color: #008000; text-decoration-color: #008000\">                                                                    |</span>\n",
       "<span style=\"color: #008000; text-decoration-color: #008000\">✓ | ⏱: </span><span style=\"color: #008000; text-decoration-color: #008000; font-weight: bold\">14.</span><span style=\"color: #008000; text-decoration-color: #008000\">90s </span>\n",
       "</pre>\n"
      ],
      "text/plain": [
       "\u001b[1;32m[\u001b[0m\u001b[32mFETCH\u001b[0m\u001b[1;32m]\u001b[0m\u001b[32m...\u001b[0m\u001b[32m ↓ \u001b[0m\u001b[4;32mhttps://www.bbc.com/sport/cricket\u001b[0m\u001b[32m                                                                    |\u001b[0m\n",
       "\u001b[32m✓\u001b[0m\u001b[32m | ⏱: \u001b[0m\u001b[1;32m14.\u001b[0m\u001b[32m90s \u001b[0m\n"
      ]
     },
     "metadata": {},
     "output_type": "display_data"
    },
    {
     "name": "stderr",
     "output_type": "stream",
     "text": [
      "Unclosed client session\n",
      "client_session: <aiohttp.client.ClientSession object at 0x142defe30>\n"
     ]
    },
    {
     "data": {
      "text/html": [
       "<pre style=\"white-space:pre;overflow-x:auto;line-height:normal;font-family:Menlo,'DejaVu Sans Mono',consolas,'Courier New',monospace\"><span style=\"color: #008000; text-decoration-color: #008000; font-weight: bold\">[</span><span style=\"color: #008000; text-decoration-color: #008000\">SCRAPE</span><span style=\"color: #008000; text-decoration-color: #008000; font-weight: bold\">]</span><span style=\"color: #008000; text-decoration-color: #008000\">.. ◆ </span><span style=\"color: #008000; text-decoration-color: #008000; text-decoration: underline\">https://www.bbc.com/sport/cricket</span><span style=\"color: #008000; text-decoration-color: #008000\">                                                                    |</span>\n",
       "<span style=\"color: #008000; text-decoration-color: #008000\">✓ | ⏱: </span><span style=\"color: #008000; text-decoration-color: #008000; font-weight: bold\">0.</span><span style=\"color: #008000; text-decoration-color: #008000\">73s </span>\n",
       "</pre>\n"
      ],
      "text/plain": [
       "\u001b[1;32m[\u001b[0m\u001b[32mSCRAPE\u001b[0m\u001b[1;32m]\u001b[0m\u001b[32m.. ◆ \u001b[0m\u001b[4;32mhttps://www.bbc.com/sport/cricket\u001b[0m\u001b[32m                                                                    |\u001b[0m\n",
       "\u001b[32m✓\u001b[0m\u001b[32m | ⏱: \u001b[0m\u001b[1;32m0.\u001b[0m\u001b[32m73s \u001b[0m\n"
      ]
     },
     "metadata": {},
     "output_type": "display_data"
    },
    {
     "data": {
      "text/html": [
       "<pre style=\"white-space:pre;overflow-x:auto;line-height:normal;font-family:Menlo,'DejaVu Sans Mono',consolas,'Courier New',monospace\"><span style=\"color: #008000; text-decoration-color: #008000; font-weight: bold\">[</span><span style=\"color: #008000; text-decoration-color: #008000\">COMPLETE</span><span style=\"color: #008000; text-decoration-color: #008000; font-weight: bold\">]</span><span style=\"color: #008000; text-decoration-color: #008000\"> ● </span><span style=\"color: #008000; text-decoration-color: #008000; text-decoration: underline\">https://www.bbc.com/sport/cricket</span><span style=\"color: #008000; text-decoration-color: #008000\">                                                                    |</span>\n",
       "<span style=\"color: #008000; text-decoration-color: #008000\">✓ | ⏱: </span><span style=\"color: #008000; text-decoration-color: #008000; font-weight: bold\">15.</span><span style=\"color: #008000; text-decoration-color: #008000\">64s </span>\n",
       "</pre>\n"
      ],
      "text/plain": [
       "\u001b[1;32m[\u001b[0m\u001b[32mCOMPLETE\u001b[0m\u001b[1;32m]\u001b[0m\u001b[32m ● \u001b[0m\u001b[4;32mhttps://www.bbc.com/sport/cricket\u001b[0m\u001b[32m                                                                    |\u001b[0m\n",
       "\u001b[32m✓\u001b[0m\u001b[32m | ⏱: \u001b[0m\u001b[1;32m15.\u001b[0m\u001b[32m64s \u001b[0m\n"
      ]
     },
     "metadata": {},
     "output_type": "display_data"
    },
    {
     "name": "stderr",
     "output_type": "stream",
     "text": [
      "python(76975) MallocStackLogging: can't turn off malloc stack logging because it was not enabled.\n"
     ]
    },
    {
     "data": {
      "text/html": [
       "<pre style=\"white-space:pre;overflow-x:auto;line-height:normal;font-family:Menlo,'DejaVu Sans Mono',consolas,'Courier New',monospace\"><span style=\"color: #008000; text-decoration-color: #008000; font-weight: bold\">[</span><span style=\"color: #008000; text-decoration-color: #008000\">FETCH</span><span style=\"color: #008000; text-decoration-color: #008000; font-weight: bold\">]</span><span style=\"color: #008000; text-decoration-color: #008000\">... ↓ </span><span style=\"color: #008000; text-decoration-color: #008000; text-decoration: underline\">https://www.bbc.com/sport/snooker</span><span style=\"color: #008000; text-decoration-color: #008000\">                                                                    |</span>\n",
       "<span style=\"color: #008000; text-decoration-color: #008000\">✓ | ⏱: </span><span style=\"color: #008000; text-decoration-color: #008000; font-weight: bold\">15.</span><span style=\"color: #008000; text-decoration-color: #008000\">74s </span>\n",
       "</pre>\n"
      ],
      "text/plain": [
       "\u001b[1;32m[\u001b[0m\u001b[32mFETCH\u001b[0m\u001b[1;32m]\u001b[0m\u001b[32m...\u001b[0m\u001b[32m ↓ \u001b[0m\u001b[4;32mhttps://www.bbc.com/sport/snooker\u001b[0m\u001b[32m                                                                    |\u001b[0m\n",
       "\u001b[32m✓\u001b[0m\u001b[32m | ⏱: \u001b[0m\u001b[1;32m15.\u001b[0m\u001b[32m74s \u001b[0m\n"
      ]
     },
     "metadata": {},
     "output_type": "display_data"
    },
    {
     "data": {
      "text/html": [
       "<pre style=\"white-space:pre;overflow-x:auto;line-height:normal;font-family:Menlo,'DejaVu Sans Mono',consolas,'Courier New',monospace\"><span style=\"color: #008000; text-decoration-color: #008000; font-weight: bold\">[</span><span style=\"color: #008000; text-decoration-color: #008000\">SCRAPE</span><span style=\"color: #008000; text-decoration-color: #008000; font-weight: bold\">]</span><span style=\"color: #008000; text-decoration-color: #008000\">.. ◆ </span><span style=\"color: #008000; text-decoration-color: #008000; text-decoration: underline\">https://www.bbc.com/sport/snooker</span><span style=\"color: #008000; text-decoration-color: #008000\">                                                                    |</span>\n",
       "<span style=\"color: #008000; text-decoration-color: #008000\">✓ | ⏱: </span><span style=\"color: #008000; text-decoration-color: #008000; font-weight: bold\">0.</span><span style=\"color: #008000; text-decoration-color: #008000\">19s </span>\n",
       "</pre>\n"
      ],
      "text/plain": [
       "\u001b[1;32m[\u001b[0m\u001b[32mSCRAPE\u001b[0m\u001b[1;32m]\u001b[0m\u001b[32m.. ◆ \u001b[0m\u001b[4;32mhttps://www.bbc.com/sport/snooker\u001b[0m\u001b[32m                                                                    |\u001b[0m\n",
       "\u001b[32m✓\u001b[0m\u001b[32m | ⏱: \u001b[0m\u001b[1;32m0.\u001b[0m\u001b[32m19s \u001b[0m\n"
      ]
     },
     "metadata": {},
     "output_type": "display_data"
    },
    {
     "data": {
      "text/html": [
       "<pre style=\"white-space:pre;overflow-x:auto;line-height:normal;font-family:Menlo,'DejaVu Sans Mono',consolas,'Courier New',monospace\"><span style=\"color: #008000; text-decoration-color: #008000; font-weight: bold\">[</span><span style=\"color: #008000; text-decoration-color: #008000\">COMPLETE</span><span style=\"color: #008000; text-decoration-color: #008000; font-weight: bold\">]</span><span style=\"color: #008000; text-decoration-color: #008000\"> ● </span><span style=\"color: #008000; text-decoration-color: #008000; text-decoration: underline\">https://www.bbc.com/sport/snooker</span><span style=\"color: #008000; text-decoration-color: #008000\">                                                                    |</span>\n",
       "<span style=\"color: #008000; text-decoration-color: #008000\">✓ | ⏱: </span><span style=\"color: #008000; text-decoration-color: #008000; font-weight: bold\">15.</span><span style=\"color: #008000; text-decoration-color: #008000\">94s </span>\n",
       "</pre>\n"
      ],
      "text/plain": [
       "\u001b[1;32m[\u001b[0m\u001b[32mCOMPLETE\u001b[0m\u001b[1;32m]\u001b[0m\u001b[32m ● \u001b[0m\u001b[4;32mhttps://www.bbc.com/sport/snooker\u001b[0m\u001b[32m                                                                    |\u001b[0m\n",
       "\u001b[32m✓\u001b[0m\u001b[32m | ⏱: \u001b[0m\u001b[1;32m15.\u001b[0m\u001b[32m94s \u001b[0m\n"
      ]
     },
     "metadata": {},
     "output_type": "display_data"
    },
    {
     "data": {
      "text/html": [
       "<pre style=\"white-space:pre;overflow-x:auto;line-height:normal;font-family:Menlo,'DejaVu Sans Mono',consolas,'Courier New',monospace\"><span style=\"color: #008000; text-decoration-color: #008000; font-weight: bold\">[</span><span style=\"color: #008000; text-decoration-color: #008000\">FETCH</span><span style=\"color: #008000; text-decoration-color: #008000; font-weight: bold\">]</span><span style=\"color: #008000; text-decoration-color: #008000\">... ↓ </span><span style=\"color: #008000; text-decoration-color: #008000; text-decoration: underline\">https://www.bbc.com/sport/rugby-league</span><span style=\"color: #008000; text-decoration-color: #008000\">                                                               |</span>\n",
       "<span style=\"color: #008000; text-decoration-color: #008000\">✓ | ⏱: </span><span style=\"color: #008000; text-decoration-color: #008000; font-weight: bold\">15.</span><span style=\"color: #008000; text-decoration-color: #008000\">96s </span>\n",
       "</pre>\n"
      ],
      "text/plain": [
       "\u001b[1;32m[\u001b[0m\u001b[32mFETCH\u001b[0m\u001b[1;32m]\u001b[0m\u001b[32m...\u001b[0m\u001b[32m ↓ \u001b[0m\u001b[4;32mhttps://www.bbc.com/sport/rugby-league\u001b[0m\u001b[32m                                                               |\u001b[0m\n",
       "\u001b[32m✓\u001b[0m\u001b[32m | ⏱: \u001b[0m\u001b[1;32m15.\u001b[0m\u001b[32m96s \u001b[0m\n"
      ]
     },
     "metadata": {},
     "output_type": "display_data"
    },
    {
     "data": {
      "text/html": [
       "<pre style=\"white-space:pre;overflow-x:auto;line-height:normal;font-family:Menlo,'DejaVu Sans Mono',consolas,'Courier New',monospace\"><span style=\"color: #008000; text-decoration-color: #008000; font-weight: bold\">[</span><span style=\"color: #008000; text-decoration-color: #008000\">SCRAPE</span><span style=\"color: #008000; text-decoration-color: #008000; font-weight: bold\">]</span><span style=\"color: #008000; text-decoration-color: #008000\">.. ◆ </span><span style=\"color: #008000; text-decoration-color: #008000; text-decoration: underline\">https://www.bbc.com/sport/rugby-league</span><span style=\"color: #008000; text-decoration-color: #008000\">                                                               |</span>\n",
       "<span style=\"color: #008000; text-decoration-color: #008000\">✓ | ⏱: </span><span style=\"color: #008000; text-decoration-color: #008000; font-weight: bold\">0.</span><span style=\"color: #008000; text-decoration-color: #008000\">27s </span>\n",
       "</pre>\n"
      ],
      "text/plain": [
       "\u001b[1;32m[\u001b[0m\u001b[32mSCRAPE\u001b[0m\u001b[1;32m]\u001b[0m\u001b[32m.. ◆ \u001b[0m\u001b[4;32mhttps://www.bbc.com/sport/rugby-league\u001b[0m\u001b[32m                                                               |\u001b[0m\n",
       "\u001b[32m✓\u001b[0m\u001b[32m | ⏱: \u001b[0m\u001b[1;32m0.\u001b[0m\u001b[32m27s \u001b[0m\n"
      ]
     },
     "metadata": {},
     "output_type": "display_data"
    },
    {
     "data": {
      "text/html": [
       "<pre style=\"white-space:pre;overflow-x:auto;line-height:normal;font-family:Menlo,'DejaVu Sans Mono',consolas,'Courier New',monospace\"><span style=\"color: #008000; text-decoration-color: #008000; font-weight: bold\">[</span><span style=\"color: #008000; text-decoration-color: #008000\">COMPLETE</span><span style=\"color: #008000; text-decoration-color: #008000; font-weight: bold\">]</span><span style=\"color: #008000; text-decoration-color: #008000\"> ● </span><span style=\"color: #008000; text-decoration-color: #008000; text-decoration: underline\">https://www.bbc.com/sport/rugby-league</span><span style=\"color: #008000; text-decoration-color: #008000\">                                                               |</span>\n",
       "<span style=\"color: #008000; text-decoration-color: #008000\">✓ | ⏱: </span><span style=\"color: #008000; text-decoration-color: #008000; font-weight: bold\">16.</span><span style=\"color: #008000; text-decoration-color: #008000\">23s </span>\n",
       "</pre>\n"
      ],
      "text/plain": [
       "\u001b[1;32m[\u001b[0m\u001b[32mCOMPLETE\u001b[0m\u001b[1;32m]\u001b[0m\u001b[32m ● \u001b[0m\u001b[4;32mhttps://www.bbc.com/sport/rugby-league\u001b[0m\u001b[32m                                                               |\u001b[0m\n",
       "\u001b[32m✓\u001b[0m\u001b[32m | ⏱: \u001b[0m\u001b[1;32m16.\u001b[0m\u001b[32m23s \u001b[0m\n"
      ]
     },
     "metadata": {},
     "output_type": "display_data"
    },
    {
     "data": {
      "text/html": [
       "<pre style=\"white-space:pre;overflow-x:auto;line-height:normal;font-family:Menlo,'DejaVu Sans Mono',consolas,'Courier New',monospace\"><span style=\"color: #008000; text-decoration-color: #008000; font-weight: bold\">[</span><span style=\"color: #008000; text-decoration-color: #008000\">FETCH</span><span style=\"color: #008000; text-decoration-color: #008000; font-weight: bold\">]</span><span style=\"color: #008000; text-decoration-color: #008000\">... ↓ </span><span style=\"color: #008000; text-decoration-color: #008000; text-decoration: underline\">https://www.bbc.com/sport/football/premier-league</span><span style=\"color: #008000; text-decoration-color: #008000\">                                                    |</span>\n",
       "<span style=\"color: #008000; text-decoration-color: #008000\">✓ | ⏱: </span><span style=\"color: #008000; text-decoration-color: #008000; font-weight: bold\">16.</span><span style=\"color: #008000; text-decoration-color: #008000\">15s </span>\n",
       "</pre>\n"
      ],
      "text/plain": [
       "\u001b[1;32m[\u001b[0m\u001b[32mFETCH\u001b[0m\u001b[1;32m]\u001b[0m\u001b[32m...\u001b[0m\u001b[32m ↓ \u001b[0m\u001b[4;32mhttps://www.bbc.com/sport/football/premier-league\u001b[0m\u001b[32m                                                    |\u001b[0m\n",
       "\u001b[32m✓\u001b[0m\u001b[32m | ⏱: \u001b[0m\u001b[1;32m16.\u001b[0m\u001b[32m15s \u001b[0m\n"
      ]
     },
     "metadata": {},
     "output_type": "display_data"
    },
    {
     "data": {
      "text/html": [
       "<pre style=\"white-space:pre;overflow-x:auto;line-height:normal;font-family:Menlo,'DejaVu Sans Mono',consolas,'Courier New',monospace\"><span style=\"color: #008000; text-decoration-color: #008000; font-weight: bold\">[</span><span style=\"color: #008000; text-decoration-color: #008000\">SCRAPE</span><span style=\"color: #008000; text-decoration-color: #008000; font-weight: bold\">]</span><span style=\"color: #008000; text-decoration-color: #008000\">.. ◆ </span><span style=\"color: #008000; text-decoration-color: #008000; text-decoration: underline\">https://www.bbc.com/sport/football/premier-league</span><span style=\"color: #008000; text-decoration-color: #008000\">                                                    |</span>\n",
       "<span style=\"color: #008000; text-decoration-color: #008000\">✓ | ⏱: </span><span style=\"color: #008000; text-decoration-color: #008000; font-weight: bold\">0.</span><span style=\"color: #008000; text-decoration-color: #008000\">40s </span>\n",
       "</pre>\n"
      ],
      "text/plain": [
       "\u001b[1;32m[\u001b[0m\u001b[32mSCRAPE\u001b[0m\u001b[1;32m]\u001b[0m\u001b[32m.. ◆ \u001b[0m\u001b[4;32mhttps://www.bbc.com/sport/football/premier-league\u001b[0m\u001b[32m                                                    |\u001b[0m\n",
       "\u001b[32m✓\u001b[0m\u001b[32m | ⏱: \u001b[0m\u001b[1;32m0.\u001b[0m\u001b[32m40s \u001b[0m\n"
      ]
     },
     "metadata": {},
     "output_type": "display_data"
    },
    {
     "data": {
      "text/html": [
       "<pre style=\"white-space:pre;overflow-x:auto;line-height:normal;font-family:Menlo,'DejaVu Sans Mono',consolas,'Courier New',monospace\"><span style=\"color: #008000; text-decoration-color: #008000; font-weight: bold\">[</span><span style=\"color: #008000; text-decoration-color: #008000\">COMPLETE</span><span style=\"color: #008000; text-decoration-color: #008000; font-weight: bold\">]</span><span style=\"color: #008000; text-decoration-color: #008000\"> ● </span><span style=\"color: #008000; text-decoration-color: #008000; text-decoration: underline\">https://www.bbc.com/sport/football/premier-league</span><span style=\"color: #008000; text-decoration-color: #008000\">                                                    |</span>\n",
       "<span style=\"color: #008000; text-decoration-color: #008000\">✓ | ⏱: </span><span style=\"color: #008000; text-decoration-color: #008000; font-weight: bold\">16.</span><span style=\"color: #008000; text-decoration-color: #008000\">55s </span>\n",
       "</pre>\n"
      ],
      "text/plain": [
       "\u001b[1;32m[\u001b[0m\u001b[32mCOMPLETE\u001b[0m\u001b[1;32m]\u001b[0m\u001b[32m ● \u001b[0m\u001b[4;32mhttps://www.bbc.com/sport/football/premier-league\u001b[0m\u001b[32m                                                    |\u001b[0m\n",
       "\u001b[32m✓\u001b[0m\u001b[32m | ⏱: \u001b[0m\u001b[1;32m16.\u001b[0m\u001b[32m55s \u001b[0m\n"
      ]
     },
     "metadata": {},
     "output_type": "display_data"
    },
    {
     "data": {
      "text/html": [
       "<pre style=\"white-space:pre;overflow-x:auto;line-height:normal;font-family:Menlo,'DejaVu Sans Mono',consolas,'Courier New',monospace\"><span style=\"color: #008000; text-decoration-color: #008000; font-weight: bold\">[</span><span style=\"color: #008000; text-decoration-color: #008000\">FETCH</span><span style=\"color: #008000; text-decoration-color: #008000; font-weight: bold\">]</span><span style=\"color: #008000; text-decoration-color: #008000\">... ↓ </span><span style=\"color: #008000; text-decoration-color: #008000; text-decoration: underline\">https://www.bbc.com/sport/football</span><span style=\"color: #008000; text-decoration-color: #008000\">                                                                   |</span>\n",
       "<span style=\"color: #008000; text-decoration-color: #008000\">✓ | ⏱: </span><span style=\"color: #008000; text-decoration-color: #008000; font-weight: bold\">16.</span><span style=\"color: #008000; text-decoration-color: #008000\">58s </span>\n",
       "</pre>\n"
      ],
      "text/plain": [
       "\u001b[1;32m[\u001b[0m\u001b[32mFETCH\u001b[0m\u001b[1;32m]\u001b[0m\u001b[32m...\u001b[0m\u001b[32m ↓ \u001b[0m\u001b[4;32mhttps://www.bbc.com/sport/football\u001b[0m\u001b[32m                                                                   |\u001b[0m\n",
       "\u001b[32m✓\u001b[0m\u001b[32m | ⏱: \u001b[0m\u001b[1;32m16.\u001b[0m\u001b[32m58s \u001b[0m\n"
      ]
     },
     "metadata": {},
     "output_type": "display_data"
    },
    {
     "data": {
      "text/html": [
       "<pre style=\"white-space:pre;overflow-x:auto;line-height:normal;font-family:Menlo,'DejaVu Sans Mono',consolas,'Courier New',monospace\"><span style=\"color: #008000; text-decoration-color: #008000; font-weight: bold\">[</span><span style=\"color: #008000; text-decoration-color: #008000\">SCRAPE</span><span style=\"color: #008000; text-decoration-color: #008000; font-weight: bold\">]</span><span style=\"color: #008000; text-decoration-color: #008000\">.. ◆ </span><span style=\"color: #008000; text-decoration-color: #008000; text-decoration: underline\">https://www.bbc.com/sport/football</span><span style=\"color: #008000; text-decoration-color: #008000\">                                                                   |</span>\n",
       "<span style=\"color: #008000; text-decoration-color: #008000\">✓ | ⏱: </span><span style=\"color: #808000; text-decoration-color: #808000; font-weight: bold\">0.</span><span style=\"color: #808000; text-decoration-color: #808000\">57</span><span style=\"color: #008000; text-decoration-color: #008000\">s </span>\n",
       "</pre>\n"
      ],
      "text/plain": [
       "\u001b[1;32m[\u001b[0m\u001b[32mSCRAPE\u001b[0m\u001b[1;32m]\u001b[0m\u001b[32m.. ◆ \u001b[0m\u001b[4;32mhttps://www.bbc.com/sport/football\u001b[0m\u001b[32m                                                                   |\u001b[0m\n",
       "\u001b[32m✓\u001b[0m\u001b[32m | ⏱: \u001b[0m\u001b[1;33m0.\u001b[0m\u001b[33m57\u001b[0m\u001b[32ms \u001b[0m\n"
      ]
     },
     "metadata": {},
     "output_type": "display_data"
    },
    {
     "data": {
      "text/html": [
       "<pre style=\"white-space:pre;overflow-x:auto;line-height:normal;font-family:Menlo,'DejaVu Sans Mono',consolas,'Courier New',monospace\"><span style=\"color: #008000; text-decoration-color: #008000; font-weight: bold\">[</span><span style=\"color: #008000; text-decoration-color: #008000\">COMPLETE</span><span style=\"color: #008000; text-decoration-color: #008000; font-weight: bold\">]</span><span style=\"color: #008000; text-decoration-color: #008000\"> ● </span><span style=\"color: #008000; text-decoration-color: #008000; text-decoration: underline\">https://www.bbc.com/sport/football</span><span style=\"color: #008000; text-decoration-color: #008000\">                                                                   |</span>\n",
       "<span style=\"color: #008000; text-decoration-color: #008000\">✓ | ⏱: </span><span style=\"color: #008000; text-decoration-color: #008000; font-weight: bold\">17.</span><span style=\"color: #008000; text-decoration-color: #008000\">15s </span>\n",
       "</pre>\n"
      ],
      "text/plain": [
       "\u001b[1;32m[\u001b[0m\u001b[32mCOMPLETE\u001b[0m\u001b[1;32m]\u001b[0m\u001b[32m ● \u001b[0m\u001b[4;32mhttps://www.bbc.com/sport/football\u001b[0m\u001b[32m                                                                   |\u001b[0m\n",
       "\u001b[32m✓\u001b[0m\u001b[32m | ⏱: \u001b[0m\u001b[1;32m17.\u001b[0m\u001b[32m15s \u001b[0m\n"
      ]
     },
     "metadata": {},
     "output_type": "display_data"
    },
    {
     "data": {
      "text/html": [
       "<pre style=\"white-space:pre;overflow-x:auto;line-height:normal;font-family:Menlo,'DejaVu Sans Mono',consolas,'Courier New',monospace\"><span style=\"color: #008000; text-decoration-color: #008000\"> check </span> Crawled: <span style=\"color: #0000ff; text-decoration-color: #0000ff; text-decoration: underline\">https://www.bbc.com/sport...</span>\n",
       "</pre>\n"
      ],
      "text/plain": [
       "\u001b[32m check \u001b[0m Crawled: \u001b[4;94mhttps://www.bbc.com/sport...\u001b[0m\n"
      ]
     },
     "metadata": {},
     "output_type": "display_data"
    },
    {
     "data": {
      "text/html": [
       "<pre style=\"white-space:pre;overflow-x:auto;line-height:normal;font-family:Menlo,'DejaVu Sans Mono',consolas,'Courier New',monospace\"><span style=\"color: #008000; text-decoration-color: #008000\"> check </span> Crawled: <span style=\"color: #0000ff; text-decoration-color: #0000ff; text-decoration: underline\">https://www.bbc.com/sport/football...</span>\n",
       "</pre>\n"
      ],
      "text/plain": [
       "\u001b[32m check \u001b[0m Crawled: \u001b[4;94mhttps://www.bbc.com/sport/football...\u001b[0m\n"
      ]
     },
     "metadata": {},
     "output_type": "display_data"
    },
    {
     "data": {
      "text/html": [
       "<pre style=\"white-space:pre;overflow-x:auto;line-height:normal;font-family:Menlo,'DejaVu Sans Mono',consolas,'Courier New',monospace\"><span style=\"color: #008000; text-decoration-color: #008000\"> check </span> Crawled: <span style=\"color: #0000ff; text-decoration-color: #0000ff; text-decoration: underline\">https://www.bbc.com/sport/formula1...</span>\n",
       "</pre>\n"
      ],
      "text/plain": [
       "\u001b[32m check \u001b[0m Crawled: \u001b[4;94mhttps://www.bbc.com/sport/formula1...\u001b[0m\n"
      ]
     },
     "metadata": {},
     "output_type": "display_data"
    },
    {
     "data": {
      "text/html": [
       "<pre style=\"white-space:pre;overflow-x:auto;line-height:normal;font-family:Menlo,'DejaVu Sans Mono',consolas,'Courier New',monospace\"><span style=\"color: #008000; text-decoration-color: #008000\"> check </span> Crawled: <span style=\"color: #0000ff; text-decoration-color: #0000ff; text-decoration: underline\">https://www.bbc.com/sport/cricket...</span>\n",
       "</pre>\n"
      ],
      "text/plain": [
       "\u001b[32m check \u001b[0m Crawled: \u001b[4;94mhttps://www.bbc.com/sport/cricket...\u001b[0m\n"
      ]
     },
     "metadata": {},
     "output_type": "display_data"
    },
    {
     "data": {
      "text/html": [
       "<pre style=\"white-space:pre;overflow-x:auto;line-height:normal;font-family:Menlo,'DejaVu Sans Mono',consolas,'Courier New',monospace\"><span style=\"color: #008000; text-decoration-color: #008000\"> check </span> Crawled: <span style=\"color: #0000ff; text-decoration-color: #0000ff; text-decoration: underline\">https://www.bbc.com/sport/rugby-union...</span>\n",
       "</pre>\n"
      ],
      "text/plain": [
       "\u001b[32m check \u001b[0m Crawled: \u001b[4;94mhttps://www.bbc.com/sport/rugby-union...\u001b[0m\n"
      ]
     },
     "metadata": {},
     "output_type": "display_data"
    },
    {
     "data": {
      "text/html": [
       "<pre style=\"white-space:pre;overflow-x:auto;line-height:normal;font-family:Menlo,'DejaVu Sans Mono',consolas,'Courier New',monospace\"><span style=\"color: #008000; text-decoration-color: #008000\"> check </span> Crawled: <span style=\"color: #0000ff; text-decoration-color: #0000ff; text-decoration: underline\">https://www.bbc.com/sport/football/premier-league...</span>\n",
       "</pre>\n"
      ],
      "text/plain": [
       "\u001b[32m check \u001b[0m Crawled: \u001b[4;94mhttps://www.bbc.com/sport/football/premier-league...\u001b[0m\n"
      ]
     },
     "metadata": {},
     "output_type": "display_data"
    },
    {
     "data": {
      "text/html": [
       "<pre style=\"white-space:pre;overflow-x:auto;line-height:normal;font-family:Menlo,'DejaVu Sans Mono',consolas,'Courier New',monospace\"><span style=\"color: #008000; text-decoration-color: #008000\"> check </span> Crawled: <span style=\"color: #0000ff; text-decoration-color: #0000ff; text-decoration: underline\">https://www.bbc.com/sport/golf...</span>\n",
       "</pre>\n"
      ],
      "text/plain": [
       "\u001b[32m check \u001b[0m Crawled: \u001b[4;94mhttps://www.bbc.com/sport/golf...\u001b[0m\n"
      ]
     },
     "metadata": {},
     "output_type": "display_data"
    },
    {
     "data": {
      "text/html": [
       "<pre style=\"white-space:pre;overflow-x:auto;line-height:normal;font-family:Menlo,'DejaVu Sans Mono',consolas,'Courier New',monospace\"><span style=\"color: #008000; text-decoration-color: #008000\"> check </span> Crawled: <span style=\"color: #0000ff; text-decoration-color: #0000ff; text-decoration: underline\">https://www.bbc.com/sport/tennis...</span>\n",
       "</pre>\n"
      ],
      "text/plain": [
       "\u001b[32m check \u001b[0m Crawled: \u001b[4;94mhttps://www.bbc.com/sport/tennis...\u001b[0m\n"
      ]
     },
     "metadata": {},
     "output_type": "display_data"
    },
    {
     "data": {
      "text/html": [
       "<pre style=\"white-space:pre;overflow-x:auto;line-height:normal;font-family:Menlo,'DejaVu Sans Mono',consolas,'Courier New',monospace\"><span style=\"color: #008000; text-decoration-color: #008000\"> check </span> Crawled: <span style=\"color: #0000ff; text-decoration-color: #0000ff; text-decoration: underline\">https://www.bbc.com/sport/snooker...</span>\n",
       "</pre>\n"
      ],
      "text/plain": [
       "\u001b[32m check \u001b[0m Crawled: \u001b[4;94mhttps://www.bbc.com/sport/snooker...\u001b[0m\n"
      ]
     },
     "metadata": {},
     "output_type": "display_data"
    },
    {
     "data": {
      "text/html": [
       "<pre style=\"white-space:pre;overflow-x:auto;line-height:normal;font-family:Menlo,'DejaVu Sans Mono',consolas,'Courier New',monospace\"><span style=\"color: #008000; text-decoration-color: #008000\"> check </span> Crawled: <span style=\"color: #0000ff; text-decoration-color: #0000ff; text-decoration: underline\">https://www.bbc.com/sport/rugby-league...</span>\n",
       "</pre>\n"
      ],
      "text/plain": [
       "\u001b[32m check \u001b[0m Crawled: \u001b[4;94mhttps://www.bbc.com/sport/rugby-league...\u001b[0m\n"
      ]
     },
     "metadata": {},
     "output_type": "display_data"
    },
    {
     "data": {
      "text/html": [
       "<pre style=\"white-space:pre;overflow-x:auto;line-height:normal;font-family:Menlo,'DejaVu Sans Mono',consolas,'Courier New',monospace\"><span style=\"color: #008000; text-decoration-color: #008000\"> Successfully crawled </span><span style=\"color: #008000; text-decoration-color: #008000; font-weight: bold\">10</span><span style=\"color: #008000; text-decoration-color: #008000\"> pages</span>\n",
       "</pre>\n"
      ],
      "text/plain": [
       "\u001b[32m Successfully crawled \u001b[0m\u001b[1;32m10\u001b[0m\u001b[32m pages\u001b[0m\n"
      ]
     },
     "metadata": {},
     "output_type": "display_data"
    },
    {
     "data": {
      "text/html": [
       "<pre style=\"white-space:pre;overflow-x:auto;line-height:normal;font-family:Menlo,'DejaVu Sans Mono',consolas,'Courier New',monospace\">\n",
       " <span style=\"color: #008080; text-decoration-color: #008080; font-weight: bold\"> Step </span><span style=\"color: #008080; text-decoration-color: #008080; font-weight: bold\">4</span><span style=\"color: #008080; text-decoration-color: #008080; font-weight: bold\">: Synthesis Generation </span>\n",
       "</pre>\n"
      ],
      "text/plain": [
       "\n",
       " \u001b[1;36m Step \u001b[0m\u001b[1;36m4\u001b[0m\u001b[1;36m: Synthesis Generation \u001b[0m\n"
      ]
     },
     "metadata": {},
     "output_type": "display_data"
    },
    {
     "data": {
      "text/html": [
       "<pre style=\"white-space:pre;overflow-x:auto;line-height:normal;font-family:Menlo,'DejaVu Sans Mono',consolas,'Courier New',monospace\">\n",
       "<span style=\"color: #008080; text-decoration-color: #008080\"> Generating research synthesis... </span>\n",
       "</pre>\n"
      ],
      "text/plain": [
       "\n",
       "\u001b[36m Generating research synthesis\u001b[0m\u001b[36m...\u001b[0m\u001b[36m \u001b[0m\n"
      ]
     },
     "metadata": {},
     "output_type": "display_data"
    },
    {
     "data": {
      "text/html": [
       "<pre style=\"white-space:pre;overflow-x:auto;line-height:normal;font-family:Menlo,'DejaVu Sans Mono',consolas,'Courier New',monospace\"><span style=\"color: #008000; text-decoration-color: #008000\">╭──────────────────────────────────────────────  Pipeline Complete ───────────────────────────────────────────────╮</span>\n",
       "<span style=\"color: #008000; text-decoration-color: #008000\">│</span> <span style=\"color: #008000; text-decoration-color: #008000; font-weight: bold\"> Research completed in 0:00:39.206597 </span>                                                                          <span style=\"color: #008000; text-decoration-color: #008000\">│</span>\n",
       "<span style=\"color: #008000; text-decoration-color: #008000\">│</span>  Discovered: 10 URLs                                                                                            <span style=\"color: #008000; text-decoration-color: #008000\">│</span>\n",
       "<span style=\"color: #008000; text-decoration-color: #008000\">│</span> Crawled: 10 pages                                                                                               <span style=\"color: #008000; text-decoration-color: #008000\">│</span>\n",
       "<span style=\"color: #008000; text-decoration-color: #008000\">│</span> Citations: 0 sources                                                                                            <span style=\"color: #008000; text-decoration-color: #008000\">│</span>\n",
       "<span style=\"color: #008000; text-decoration-color: #008000\">╰─────────────────────────────────────────────────────────────────────────────────────────────────────────────────╯</span>\n",
       "</pre>\n"
      ],
      "text/plain": [
       "\u001b[32m╭─\u001b[0m\u001b[32m─────────────────────────────────────────────\u001b[0m\u001b[32m  Pipeline Complete \u001b[0m\u001b[32m──────────────────────────────────────────────\u001b[0m\u001b[32m─╮\u001b[0m\n",
       "\u001b[32m│\u001b[0m \u001b[1;32m Research completed in 0:00:39.206597 \u001b[0m                                                                          \u001b[32m│\u001b[0m\n",
       "\u001b[32m│\u001b[0m  Discovered: 10 URLs                                                                                            \u001b[32m│\u001b[0m\n",
       "\u001b[32m│\u001b[0m Crawled: 10 pages                                                                                               \u001b[32m│\u001b[0m\n",
       "\u001b[32m│\u001b[0m Citations: 0 sources                                                                                            \u001b[32m│\u001b[0m\n",
       "\u001b[32m╰─────────────────────────────────────────────────────────────────────────────────────────────────────────────────╯\u001b[0m\n"
      ]
     },
     "metadata": {},
     "output_type": "display_data"
    }
   ],
   "source": [
    "async def research_pipeline(\n",
    "    query: str,\n",
    "    config: ResearchConfig = None\n",
    ") -> ResearchResult:\n",
    "    \"\"\"\n",
    "    Main research pipeline orchestrator\n",
    "    \n",
    "    This brings together all components:\n",
    "    1. Query enhancement (AI-powered)\n",
    "    2. URL discovery (AsyncUrlSeeder)\n",
    "    3. Smart crawling (AsyncWebCrawler)\n",
    "    4. AI synthesis (liteLLM)\n",
    "    \n",
    "    Returns a complete research result\n",
    "    \"\"\"\n",
    "    \n",
    "    if config is None:\n",
    "        config=ResearchConfig()\n",
    "    start_time = datetime.now()\n",
    "    \n",
    "    # Display pipeline header\n",
    "    console.print(Panel(\n",
    "        f\"[bold cyan]Research Pipeline [/bold cyan]\\n\\n\"\n",
    "        f\"[dim]Query:[/dim]{query}\\n\"\n",
    "        f\"[dim]Domain:[/dim]{config.domain}\",\n",
    "        title=\"Starting Research\",\n",
    "        border_style=\"cyan\"\n",
    "    ))\n",
    "    \n",
    "    # Step 1: Enhance query\n",
    "    console.print(f\"\\n[bold cyan] Step 1: Query Processing [/bold cyan]\")\n",
    "    if config.use_llm_enhancement:\n",
    "        research_query= await enhance_query_with_llm(query, config)\n",
    "    else:\n",
    "        # Simple fallback without AI\n",
    "        research_query = ResearchQuery(\n",
    "            original_query= query,\n",
    "            enhanced_query=query,\n",
    "            search_patterns=[f\"*{word}*\" for word in query.lower().split()],\n",
    "            timestamp= datetime.now().isoformat()\n",
    "        )\n",
    "    \n",
    "    # Step 2: Discover URLs\n",
    "    console.print(f\"\\n[bold cyan] Step 2: URL Discovery [/bold cyan]\")\n",
    "    discovered_urls= await discover_urls(\n",
    "        domain=config.domain,\n",
    "        query=research_query,\n",
    "        config=config\n",
    "    )\n",
    "    \n",
    "    if not discovered_urls:\n",
    "        # No URLs found - return empty result\n",
    "        return ResearchResult(\n",
    "            query=research_query,\n",
    "            discovered_urls=[],\n",
    "            crawled_content=[],\n",
    "            synthesis=\"No relevant URLs found for the given query.\",\n",
    "            citations=[],\n",
    "            metadata= {'duration': str(datetime.now() - start_time)}\n",
    "        )\n",
    "        \n",
    "    # Step 3: Crawl Selected URLs\n",
    "    console.print(f\"\\n[bold cyan] Step 3: Content Crawling [/bold cyan]\")\n",
    "    crawled_content = await crawl_selected_urls(\n",
    "        urls=discovered_urls,\n",
    "        query=research_query,\n",
    "        config=config\n",
    "    )\n",
    "    \n",
    "    # Step 4: Generate synthesis\n",
    "    console.print(f\"\\n [bold cyan] Step 4: Synthesis Generation [/bold cyan]\")\n",
    "    synthesis, citations = await generate_research_synthesis(\n",
    "        query=research_query,\n",
    "        crawled_content= crawled_content,\n",
    "        config= config\n",
    "    )\n",
    "    \n",
    "    # Create final result\n",
    "    result= ResearchResult(\n",
    "        query= research_query,\n",
    "        discovered_urls=discovered_urls,\n",
    "        crawled_content= crawled_content,\n",
    "        synthesis=synthesis,\n",
    "        citations=citations,\n",
    "        metadata={\n",
    "            'duration': str(datetime.now() - start_time),\n",
    "            'domain': config.domain,\n",
    "            'timestamp':datetime.now().isoformat(),\n",
    "            'total_discovered': len(discovered_urls),\n",
    "            'total_crawled': len(crawled_content),\n",
    "            'total_cited': len(citations)\n",
    "        }\n",
    "    )\n",
    "    \n",
    "    # Display summary\n",
    "    duration= datetime.now() - start_time\n",
    "    console.print(Panel(\n",
    "        f\"[bold green] Research completed in {duration} [/bold green]\\n\"\n",
    "        f\" Discovered: {len(discovered_urls)} URLs\\n\"\n",
    "        f\"Crawled: {len(crawled_content)} pages\\n\"\n",
    "        f\"Citations: {len(citations)} sources\",\n",
    "        title = \" Pipeline Complete\",\n",
    "        border_style=\"green\"\n",
    "    ))\n",
    "    return result\n",
    "\n",
    "#Example: Run complete pipeline\n",
    "result = await research_pipeline (\"Champions League latest result\", config)"
   ]
  },
  {
   "cell_type": "markdown",
   "id": "2629f580",
   "metadata": {},
   "source": [
    "## Step 7: Beutiful Output Formating\n",
    "\n",
    "A good research report need clear presentation. Here we format our results into a professional report with executive summary, key findings, and proper citations. This makes the research actionable and easy to share."
   ]
  },
  {
   "cell_type": "code",
   "execution_count": 43,
   "id": "c59aea16",
   "metadata": {},
   "outputs": [
    {
     "data": {
      "text/html": [
       "<pre style=\"white-space:pre;overflow-x:auto;line-height:normal;font-family:Menlo,'DejaVu Sans Mono',consolas,'Courier New',monospace\">\n",
       "============================================================\n",
       "</pre>\n"
      ],
      "text/plain": [
       "\n",
       "============================================================\n"
      ]
     },
     "metadata": {},
     "output_type": "display_data"
    },
    {
     "data": {
      "text/html": [
       "<pre style=\"white-space:pre;overflow-x:auto;line-height:normal;font-family:Menlo,'DejaVu Sans Mono',consolas,'Courier New',monospace\"><span style=\"color: #008080; text-decoration-color: #008080; font-weight: bold\"> RESEARCH REPORT </span>\n",
       "</pre>\n"
      ],
      "text/plain": [
       "\u001b[1;36m RESEARCH REPORT \u001b[0m\n"
      ]
     },
     "metadata": {},
     "output_type": "display_data"
    },
    {
     "data": {
      "text/html": [
       "<pre style=\"white-space:pre;overflow-x:auto;line-height:normal;font-family:Menlo,'DejaVu Sans Mono',consolas,'Courier New',monospace\">============================================================\n",
       "</pre>\n"
      ],
      "text/plain": [
       "============================================================\n"
      ]
     },
     "metadata": {},
     "output_type": "display_data"
    },
    {
     "data": {
      "text/html": [
       "<pre style=\"white-space:pre;overflow-x:auto;line-height:normal;font-family:Menlo,'DejaVu Sans Mono',consolas,'Courier New',monospace\">\n",
       "<span style=\"font-weight: bold\">Query: </span> Champions League latest result\n",
       "</pre>\n"
      ],
      "text/plain": [
       "\n",
       "\u001b[1mQuery: \u001b[0m Champions League latest result\n"
      ]
     },
     "metadata": {},
     "output_type": "display_data"
    },
    {
     "data": {
      "text/html": [
       "<pre style=\"white-space:pre;overflow-x:auto;line-height:normal;font-family:Menlo,'DejaVu Sans Mono',consolas,'Courier New',monospace\"><span style=\"color: #7f7f7f; text-decoration-color: #7f7f7f\">Enhanced: latest results and highlights from the UEFA Champions League </span>\n",
       "</pre>\n"
      ],
      "text/plain": [
       "\u001b[2mEnhanced: latest results and highlights from the UEFA Champions League \u001b[0m\n"
      ]
     },
     "metadata": {},
     "output_type": "display_data"
    },
    {
     "data": {
      "text/html": [
       "<pre style=\"white-space:pre;overflow-x:auto;line-height:normal;font-family:Menlo,'DejaVu Sans Mono',consolas,'Courier New',monospace\">\n",
       "<span style=\"font-weight: bold\"> Statistics: </span>\n",
       "</pre>\n"
      ],
      "text/plain": [
       "\n",
       "\u001b[1m Statistics: \u001b[0m\n"
      ]
     },
     "metadata": {},
     "output_type": "display_data"
    },
    {
     "data": {
      "text/html": [
       "<pre style=\"white-space:pre;overflow-x:auto;line-height:normal;font-family:Menlo,'DejaVu Sans Mono',consolas,'Courier New',monospace\"><span style=\"color: #008080; text-decoration-color: #008080\"> URLs Discovered </span> 10             \n",
       "<span style=\"color: #008080; text-decoration-color: #008080\"> Pages Crawled   </span> 10             \n",
       "<span style=\"color: #008080; text-decoration-color: #008080\"> Source Cited)   </span> 0              \n",
       "<span style=\"color: #008080; text-decoration-color: #008080\"> Processing Time </span> 0:00:39.206493 \n",
       "</pre>\n"
      ],
      "text/plain": [
       "\u001b[36m \u001b[0m\u001b[36mURLs Discovered\u001b[0m\u001b[36m \u001b[0m 10             \n",
       "\u001b[36m \u001b[0m\u001b[36mPages Crawled  \u001b[0m\u001b[36m \u001b[0m 10             \n",
       "\u001b[36m \u001b[0m\u001b[36mSource Cited)  \u001b[0m\u001b[36m \u001b[0m 0              \n",
       "\u001b[36m \u001b[0m\u001b[36mProcessing Time\u001b[0m\u001b[36m \u001b[0m 0:00:39.206493 \n"
      ]
     },
     "metadata": {},
     "output_type": "display_data"
    },
    {
     "data": {
      "text/html": [
       "<pre style=\"white-space:pre;overflow-x:auto;line-height:normal;font-family:Menlo,'DejaVu Sans Mono',consolas,'Courier New',monospace\">\n",
       "<span style=\"font-weight: bold\"> SYNTHESIS </span>\n",
       "</pre>\n"
      ],
      "text/plain": [
       "\n",
       "\u001b[1m SYNTHESIS \u001b[0m\n"
      ]
     },
     "metadata": {},
     "output_type": "display_data"
    },
    {
     "data": {
      "text/html": [
       "<pre style=\"white-space:pre;overflow-x:auto;line-height:normal;font-family:Menlo,'DejaVu Sans Mono',consolas,'Courier New',monospace\">------------------------------------------------------------\n",
       "</pre>\n"
      ],
      "text/plain": [
       "------------------------------------------------------------\n"
      ]
     },
     "metadata": {},
     "output_type": "display_data"
    },
    {
     "data": {
      "text/html": [
       "<pre style=\"white-space:pre;overflow-x:auto;line-height:normal;font-family:Menlo,'DejaVu Sans Mono',consolas,'Courier New',monospace\">### Executive Summary\n",
       "The latest UEFA Champions League results are not explicitly detailed in the provided resources, which predominantly\n",
       "focus on other sports. However, the broader context of ongoing competitive seasons in football, such as the Premier\n",
       "League and other tournaments, indicates a vibrant atmosphere in football, with significant matches impacting team \n",
       "standings and strategies.\n",
       "\n",
       "### Key Findings\n",
       "- No specific Champions League results were found in the resources, suggesting a need for direct sources for \n",
       "Champions League updates.\n",
       "- Other competitive football fixtures, such as the Premier League, are currently taking place, influencing team \n",
       "dynamics and fan engagement.\n",
       "- Major narratives in football include Manchester United's recent victory over Chelsea and Fulham's Premier League \n",
       "match against Brentford, showcasing the competitive landscape outside the Champions League.\n",
       "- The resources highlight ongoing developments in various sports, indicating a busy sports calendar that may divert\n",
       "attention from the Champions League.\n",
       "\n",
       "### Detailed Analysis\n",
       "The resources provided do not contain direct information regarding the latest UEFA Champions League results, which \n",
       "limits the ability to provide specific outcomes or analyses related to that tournament. However, they do reflect a \n",
       "broader engagement with football through Premier League matches, underlining that while Champions League games are \n",
       "significant, domestic leagues continue to capture a considerable amount of attention.\n",
       "\n",
       "For instance, the Premier League has seen intense competition, with Manchester United's recent victory over Chelsea\n",
       "being particularly noteworthy. This match not only affects the standings in the league but also has implications \n",
       "for team morale and future fixtures. Fulham's ongoing match against Brentford further illustrates the busy schedule\n",
       "of football, as teams gear up for critical encounters that can influence their overall performance in the league \n",
       "and indirectly affect their Champions League aspirations.\n",
       "\n",
       "Additionally, the absence of Champions League results highlights a potential gap in the resources regarding \n",
       "comprehensive football coverage. Fans and analysts alike often rely on real-time updates from dedicated sports news\n",
       "platforms, which might not always encompass all major tournaments simultaneously.\n",
       "\n",
       "### Future Implications or Trends\n",
       "As the football season progresses, the Champions League will likely remain a focal point for clubs aiming for \n",
       "European glory. The interplay between domestic league performance and Champions League aspirations will become \n",
       "increasingly pronounced as teams face pivotal matches that can determine their trajectories. Furthermore, the \n",
       "growing popularity of football analytics may lead to more rigorous coverage of team performance in major \n",
       "tournaments, enhancing the connection between domestic results and international competitions.\n",
       "\n",
       "With the ongoing development of football narratives and the potential for emerging rivalries, fans should expect a \n",
       "thrilling conclusion to the season. Moreover, as clubs navigate injuries, transfers, and tactical adjustments, the \n",
       "landscape of both domestic and European competitions will continue to evolve. This dynamic environment suggests \n",
       "that coverage of Champions League results and implications will become increasingly critical as the tournament \n",
       "progresses and approaches its climax. \n",
       "\n",
       "In summary, while specific Champions League results are not highlighted in the provided resources, the football \n",
       "landscape remains vibrant, with significant implications for teams engaged in both domestic and international \n",
       "competitions.\n",
       "</pre>\n"
      ],
      "text/plain": [
       "### Executive Summary\n",
       "The latest UEFA Champions League results are not explicitly detailed in the provided resources, which predominantly\n",
       "focus on other sports. However, the broader context of ongoing competitive seasons in football, such as the Premier\n",
       "League and other tournaments, indicates a vibrant atmosphere in football, with significant matches impacting team \n",
       "standings and strategies.\n",
       "\n",
       "### Key Findings\n",
       "- No specific Champions League results were found in the resources, suggesting a need for direct sources for \n",
       "Champions League updates.\n",
       "- Other competitive football fixtures, such as the Premier League, are currently taking place, influencing team \n",
       "dynamics and fan engagement.\n",
       "- Major narratives in football include Manchester United's recent victory over Chelsea and Fulham's Premier League \n",
       "match against Brentford, showcasing the competitive landscape outside the Champions League.\n",
       "- The resources highlight ongoing developments in various sports, indicating a busy sports calendar that may divert\n",
       "attention from the Champions League.\n",
       "\n",
       "### Detailed Analysis\n",
       "The resources provided do not contain direct information regarding the latest UEFA Champions League results, which \n",
       "limits the ability to provide specific outcomes or analyses related to that tournament. However, they do reflect a \n",
       "broader engagement with football through Premier League matches, underlining that while Champions League games are \n",
       "significant, domestic leagues continue to capture a considerable amount of attention.\n",
       "\n",
       "For instance, the Premier League has seen intense competition, with Manchester United's recent victory over Chelsea\n",
       "being particularly noteworthy. This match not only affects the standings in the league but also has implications \n",
       "for team morale and future fixtures. Fulham's ongoing match against Brentford further illustrates the busy schedule\n",
       "of football, as teams gear up for critical encounters that can influence their overall performance in the league \n",
       "and indirectly affect their Champions League aspirations.\n",
       "\n",
       "Additionally, the absence of Champions League results highlights a potential gap in the resources regarding \n",
       "comprehensive football coverage. Fans and analysts alike often rely on real-time updates from dedicated sports news\n",
       "platforms, which might not always encompass all major tournaments simultaneously.\n",
       "\n",
       "### Future Implications or Trends\n",
       "As the football season progresses, the Champions League will likely remain a focal point for clubs aiming for \n",
       "European glory. The interplay between domestic league performance and Champions League aspirations will become \n",
       "increasingly pronounced as teams face pivotal matches that can determine their trajectories. Furthermore, the \n",
       "growing popularity of football analytics may lead to more rigorous coverage of team performance in major \n",
       "tournaments, enhancing the connection between domestic results and international competitions.\n",
       "\n",
       "With the ongoing development of football narratives and the potential for emerging rivalries, fans should expect a \n",
       "thrilling conclusion to the season. Moreover, as clubs navigate injuries, transfers, and tactical adjustments, the \n",
       "landscape of both domestic and European competitions will continue to evolve. This dynamic environment suggests \n",
       "that coverage of Champions League results and implications will become increasingly critical as the tournament \n",
       "progresses and approaches its climax. \n",
       "\n",
       "In summary, while specific Champions League results are not highlighted in the provided resources, the football \n",
       "landscape remains vibrant, with significant implications for teams engaged in both domestic and international \n",
       "competitions.\n"
      ]
     },
     "metadata": {},
     "output_type": "display_data"
    },
    {
     "data": {
      "text/html": [
       "<pre style=\"white-space:pre;overflow-x:auto;line-height:normal;font-family:Menlo,'DejaVu Sans Mono',consolas,'Courier New',monospace\">\n",
       "<span style=\"font-weight: bold\"> TOP DISCOVERED URLS </span>\n",
       "</pre>\n"
      ],
      "text/plain": [
       "\n",
       "\u001b[1m TOP DISCOVERED URLS \u001b[0m\n"
      ]
     },
     "metadata": {},
     "output_type": "display_data"
    },
    {
     "data": {
      "text/html": [
       "<pre style=\"white-space:pre;overflow-x:auto;line-height:normal;font-family:Menlo,'DejaVu Sans Mono',consolas,'Courier New',monospace\">------------------------------------------------------------\n",
       "</pre>\n"
      ],
      "text/plain": [
       "------------------------------------------------------------\n"
      ]
     },
     "metadata": {},
     "output_type": "display_data"
    },
    {
     "data": {
      "text/html": [
       "<pre style=\"white-space:pre;overflow-x:auto;line-height:normal;font-family:Menlo,'DejaVu Sans Mono',consolas,'Courier New',monospace\">┏━━━━━━━┳━━━━━━━┳━━━━━━━━━━━━━━━━━━━━━━━━━━━━━━━━━━━━━━━━━━┓\n",
       "┃<span style=\"font-weight: bold\"> Score </span>┃<span style=\"font-weight: bold\"> Title </span>┃<span style=\"font-weight: bold\"> URL                                      </span>┃\n",
       "┡━━━━━━━╇━━━━━━━╇━━━━━━━━━━━━━━━━━━━━━━━━━━━━━━━━━━━━━━━━━━┩\n",
       "│<span style=\"color: #008080; text-decoration-color: #008080\"> 0.000 </span>│ N/A   │<span style=\"color: #7f7f7f; text-decoration-color: #7f7f7f\"> https://www.bbc.com/sport...             </span>│\n",
       "│<span style=\"color: #008080; text-decoration-color: #008080\"> 0.000 </span>│ N/A   │<span style=\"color: #7f7f7f; text-decoration-color: #7f7f7f\"> https://www.bbc.com/sport/football...    </span>│\n",
       "│<span style=\"color: #008080; text-decoration-color: #008080\"> 0.000 </span>│ N/A   │<span style=\"color: #7f7f7f; text-decoration-color: #7f7f7f\"> https://www.bbc.com/sport/formula1...    </span>│\n",
       "│<span style=\"color: #008080; text-decoration-color: #008080\"> 0.000 </span>│ N/A   │<span style=\"color: #7f7f7f; text-decoration-color: #7f7f7f\"> https://www.bbc.com/sport/cricket...     </span>│\n",
       "│<span style=\"color: #008080; text-decoration-color: #008080\"> 0.000 </span>│ N/A   │<span style=\"color: #7f7f7f; text-decoration-color: #7f7f7f\"> https://www.bbc.com/sport/rugby-union... </span>│\n",
       "└───────┴───────┴──────────────────────────────────────────┘\n",
       "</pre>\n"
      ],
      "text/plain": [
       "┏━━━━━━━┳━━━━━━━┳━━━━━━━━━━━━━━━━━━━━━━━━━━━━━━━━━━━━━━━━━━┓\n",
       "┃\u001b[1m \u001b[0m\u001b[1mScore\u001b[0m\u001b[1m \u001b[0m┃\u001b[1m \u001b[0m\u001b[1mTitle\u001b[0m\u001b[1m \u001b[0m┃\u001b[1m \u001b[0m\u001b[1mURL                                     \u001b[0m\u001b[1m \u001b[0m┃\n",
       "┡━━━━━━━╇━━━━━━━╇━━━━━━━━━━━━━━━━━━━━━━━━━━━━━━━━━━━━━━━━━━┩\n",
       "│\u001b[36m \u001b[0m\u001b[36m0.000\u001b[0m\u001b[36m \u001b[0m│ N/A   │\u001b[2m \u001b[0m\u001b[2mhttps://www.bbc.com/sport...            \u001b[0m\u001b[2m \u001b[0m│\n",
       "│\u001b[36m \u001b[0m\u001b[36m0.000\u001b[0m\u001b[36m \u001b[0m│ N/A   │\u001b[2m \u001b[0m\u001b[2mhttps://www.bbc.com/sport/football...   \u001b[0m\u001b[2m \u001b[0m│\n",
       "│\u001b[36m \u001b[0m\u001b[36m0.000\u001b[0m\u001b[36m \u001b[0m│ N/A   │\u001b[2m \u001b[0m\u001b[2mhttps://www.bbc.com/sport/formula1...   \u001b[0m\u001b[2m \u001b[0m│\n",
       "│\u001b[36m \u001b[0m\u001b[36m0.000\u001b[0m\u001b[36m \u001b[0m│ N/A   │\u001b[2m \u001b[0m\u001b[2mhttps://www.bbc.com/sport/cricket...    \u001b[0m\u001b[2m \u001b[0m│\n",
       "│\u001b[36m \u001b[0m\u001b[36m0.000\u001b[0m\u001b[36m \u001b[0m│ N/A   │\u001b[2m \u001b[0m\u001b[2mhttps://www.bbc.com/sport/rugby-union...\u001b[0m\u001b[2m \u001b[0m│\n",
       "└───────┴───────┴──────────────────────────────────────────┘\n"
      ]
     },
     "metadata": {},
     "output_type": "display_data"
    }
   ],
   "source": [
    "def format_research_output(result: ResearchResult) -> None:\n",
    "    \"\"\"\n",
    "    Create a beautifully formatted research report\n",
    "    Good formatting makes insights actionable:\n",
    "    - Clear structure with sections\n",
    "    - Highlighted key findings\n",
    "    - Proper source attribution\n",
    "    - Easy to scan and understand  \n",
    "    \"\"\"\n",
    "    \n",
    "    # Header\n",
    "    console.print(\"\\n\"+\"=\"*60)\n",
    "    console.print(\"[bold cyan] RESEARCH REPORT [/bold cyan]\")\n",
    "    console.print(\"=\"* 60)\n",
    "    \n",
    "    # Query information\n",
    "    console.print(f\"\\n[bold]Query: [/bold] {result.query.original_query}\")\n",
    "    if result.query.enhanced_query != result.query.original_query:\n",
    "        console.print(f\"[dim]Enhanced: {result.query.enhanced_query} [/dim]\")\n",
    "    \n",
    "    # Statistics\n",
    "    stats_table = Table(show_header=False, box=None)\n",
    "    stats_table.add_column(style=\"cyan\")\n",
    "    stats_table.add_column()\n",
    "    \n",
    "    stats_table.add_row(\"URLs Discovered\", str(result.metadata['total_discovered']))\n",
    "    stats_table.add_row(\"Pages Crawled\", str(result.metadata['total_crawled']))\n",
    "    stats_table.add_row(\"Source Cited)\", str(result.metadata['total_cited']))\n",
    "    stats_table.add_row(\"Processing Time\", result.metadata['duration'])\n",
    "    \n",
    "    console.print(\"\\n[bold] Statistics: [/bold]\")\n",
    "    console.print(stats_table)\n",
    "    \n",
    "    # Synthesis\n",
    "    console.print(\"\\n[bold] SYNTHESIS [/bold]\")\n",
    "    console.print(\"-\" * 60)\n",
    "    console.print(result.synthesis)\n",
    "    \n",
    "    # Citations\n",
    "    if result.citations:\n",
    "        console.print(\"\\n[bold] SOURCES [/bold]\")\n",
    "        console.print(\"-\"*60)\n",
    "        for citation in result.citations:\n",
    "            console.print(f\"\\n[{citation['source_id']}] [cyan]{citation['title']}[/cyan]\")\n",
    "            console.print(f\"   [dim]{citation['url']}[/dim]\")\n",
    "    \n",
    "    # Top discovered URLs\n",
    "    console.print(\"\\n[bold] TOP DISCOVERED URLS [/bold]\")\n",
    "    console.print(\"-\"*60)\n",
    "    \n",
    "    urls_table=Table()\n",
    "    urls_table.add_column(\"Score\",style=\"cyan\")\n",
    "    urls_table.add_column(\"Title\")\n",
    "    urls_table.add_column(\"URL\", style=\"dim\")\n",
    "    \n",
    "    for url_data in result.discovered_urls[:5]:\n",
    "        score=f\"{url_data.get('relevance_score',0):.3f}\"\n",
    "        title= \"N/A\"\n",
    "        if url_data.get('head_data') and url_data['head_data'].get('title'):\n",
    "            title=url_data['head_data']['title'][:40]+\"...\"\n",
    "        url = url_data['url'][:50]+\"...\"\n",
    "        \n",
    "        urls_table.add_row(score, title, url) \n",
    "    \n",
    "    console.print(urls_table) \n",
    "    \n",
    "# Display the formatted report\n",
    "format_research_output(result)                          "
   ]
  }
 ],
 "metadata": {
  "kernelspec": {
   "display_name": "venv (3.12.4)",
   "language": "python",
   "name": "python3"
  },
  "language_info": {
   "codemirror_mode": {
    "name": "ipython",
    "version": 3
   },
   "file_extension": ".py",
   "mimetype": "text/x-python",
   "name": "python",
   "nbconvert_exporter": "python",
   "pygments_lexer": "ipython3",
   "version": "3.12.4"
  }
 },
 "nbformat": 4,
 "nbformat_minor": 5
}
